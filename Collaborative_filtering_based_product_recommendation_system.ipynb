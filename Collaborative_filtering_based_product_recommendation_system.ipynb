{
  "nbformat": 4,
  "nbformat_minor": 0,
  "metadata": {
    "colab": {
      "name": "Collaborative filtering based product recommendation system.ipynb",
      "provenance": [],
      "collapsed_sections": []
    },
    "kernelspec": {
      "name": "python3",
      "display_name": "Python 3"
    }
  },
  "cells": [
    {
      "cell_type": "code",
      "metadata": {
        "colab": {
          "base_uri": "https://localhost:8080/"
        },
        "id": "IDvm2xcWqy8N",
        "outputId": "1822d053-4675-4b13-b460-f159382076e3"
      },
      "source": [
        "!pip install turicreate"
      ],
      "execution_count": null,
      "outputs": [
        {
          "output_type": "stream",
          "text": [
            "Collecting turicreate\n",
            "\u001b[?25l  Downloading https://files.pythonhosted.org/packages/ea/63/00ef7586c56a1aa48a7acabe20e1118cd82794785a56137e190fc6fb049c/turicreate-6.4.1-cp36-cp36m-manylinux1_x86_64.whl (92.0MB)\n",
            "\u001b[K     |████████████████████████████████| 92.0MB 64kB/s \n",
            "\u001b[?25hCollecting tensorflow<2.1.0,>=2.0.0\n",
            "\u001b[?25l  Downloading https://files.pythonhosted.org/packages/0a/3e/714b89b3c104695be38fbf372fb3a6220f8320bbb506899c74c254728d0f/tensorflow-2.0.4-cp36-cp36m-manylinux2010_x86_64.whl (86.4MB)\n",
            "\u001b[K     |████████████████████████████████| 86.4MB 48kB/s \n",
            "\u001b[?25hRequirement already satisfied: requests>=2.9.1 in /usr/local/lib/python3.6/dist-packages (from turicreate) (2.23.0)\n",
            "Requirement already satisfied: numpy in /usr/local/lib/python3.6/dist-packages (from turicreate) (1.19.5)\n",
            "Collecting prettytable==0.7.2\n",
            "  Downloading https://files.pythonhosted.org/packages/ef/30/4b0746848746ed5941f052479e7c23d2b56d174b82f4fd34a25e389831f5/prettytable-0.7.2.tar.bz2\n",
            "Requirement already satisfied: pillow>=5.2.0 in /usr/local/lib/python3.6/dist-packages (from turicreate) (7.0.0)\n",
            "Requirement already satisfied: scipy>=1.1.0 in /usr/local/lib/python3.6/dist-packages (from turicreate) (1.4.1)\n",
            "Requirement already satisfied: pandas>=0.23.2 in /usr/local/lib/python3.6/dist-packages (from turicreate) (1.1.5)\n",
            "Requirement already satisfied: decorator>=4.0.9 in /usr/local/lib/python3.6/dist-packages (from turicreate) (4.4.2)\n",
            "Collecting resampy==0.2.1\n",
            "\u001b[?25l  Downloading https://files.pythonhosted.org/packages/14/b6/66a06d85474190b50aee1a6c09cdc95bb405ac47338b27e9b21409da1760/resampy-0.2.1.tar.gz (322kB)\n",
            "\u001b[K     |████████████████████████████████| 327kB 39.6MB/s \n",
            "\u001b[?25hCollecting numba<0.51.0\n",
            "\u001b[?25l  Downloading https://files.pythonhosted.org/packages/ab/2a/c4c9f2ee4edb374af7faa407f66cdc3427489f1c4c4744aeab76230952b7/numba-0.50.1-cp36-cp36m-manylinux2014_x86_64.whl (3.6MB)\n",
            "\u001b[K     |████████████████████████████████| 3.6MB 42.7MB/s \n",
            "\u001b[?25hRequirement already satisfied: six>=1.10.0 in /usr/local/lib/python3.6/dist-packages (from turicreate) (1.15.0)\n",
            "Collecting coremltools==3.3\n",
            "\u001b[?25l  Downloading https://files.pythonhosted.org/packages/77/19/611916d1ef326d38857d93af5ba184f6ad7491642e0fa4f9082e7d82f034/coremltools-3.3-cp36-none-manylinux1_x86_64.whl (3.4MB)\n",
            "\u001b[K     |████████████████████████████████| 3.4MB 46.7MB/s \n",
            "\u001b[?25hRequirement already satisfied: astor>=0.6.0 in /usr/local/lib/python3.6/dist-packages (from tensorflow<2.1.0,>=2.0.0->turicreate) (0.8.1)\n",
            "Requirement already satisfied: termcolor>=1.1.0 in /usr/local/lib/python3.6/dist-packages (from tensorflow<2.1.0,>=2.0.0->turicreate) (1.1.0)\n",
            "Requirement already satisfied: wrapt>=1.11.1 in /usr/local/lib/python3.6/dist-packages (from tensorflow<2.1.0,>=2.0.0->turicreate) (1.12.1)\n",
            "Collecting tensorflow-estimator<2.1.0,>=2.0.0\n",
            "\u001b[?25l  Downloading https://files.pythonhosted.org/packages/fc/08/8b927337b7019c374719145d1dceba21a8bb909b93b1ad6f8fb7d22c1ca1/tensorflow_estimator-2.0.1-py2.py3-none-any.whl (449kB)\n",
            "\u001b[K     |████████████████████████████████| 450kB 46.2MB/s \n",
            "\u001b[?25hCollecting gast==0.2.2\n",
            "  Downloading https://files.pythonhosted.org/packages/4e/35/11749bf99b2d4e3cceb4d55ca22590b0d7c2c62b9de38ac4a4a7f4687421/gast-0.2.2.tar.gz\n",
            "Requirement already satisfied: google-pasta>=0.1.6 in /usr/local/lib/python3.6/dist-packages (from tensorflow<2.1.0,>=2.0.0->turicreate) (0.2.0)\n",
            "Requirement already satisfied: grpcio>=1.8.6 in /usr/local/lib/python3.6/dist-packages (from tensorflow<2.1.0,>=2.0.0->turicreate) (1.32.0)\n",
            "Collecting tensorboard<2.1.0,>=2.0.0\n",
            "\u001b[?25l  Downloading https://files.pythonhosted.org/packages/76/54/99b9d5d52d5cb732f099baaaf7740403e83fe6b0cedde940fabd2b13d75a/tensorboard-2.0.2-py3-none-any.whl (3.8MB)\n",
            "\u001b[K     |████████████████████████████████| 3.8MB 38.5MB/s \n",
            "\u001b[?25hRequirement already satisfied: h5py<=2.10.0 in /usr/local/lib/python3.6/dist-packages (from tensorflow<2.1.0,>=2.0.0->turicreate) (2.10.0)\n",
            "Requirement already satisfied: wheel>=0.26; python_version >= \"3\" in /usr/local/lib/python3.6/dist-packages (from tensorflow<2.1.0,>=2.0.0->turicreate) (0.36.2)\n",
            "Collecting keras-applications>=1.0.8\n",
            "\u001b[?25l  Downloading https://files.pythonhosted.org/packages/71/e3/19762fdfc62877ae9102edf6342d71b28fbfd9dea3d2f96a882ce099b03f/Keras_Applications-1.0.8-py3-none-any.whl (50kB)\n",
            "\u001b[K     |████████████████████████████████| 51kB 6.6MB/s \n",
            "\u001b[?25hRequirement already satisfied: protobuf>=3.6.1 in /usr/local/lib/python3.6/dist-packages (from tensorflow<2.1.0,>=2.0.0->turicreate) (3.12.4)\n",
            "Requirement already satisfied: absl-py>=0.7.0 in /usr/local/lib/python3.6/dist-packages (from tensorflow<2.1.0,>=2.0.0->turicreate) (0.10.0)\n",
            "Requirement already satisfied: keras-preprocessing>=1.0.5 in /usr/local/lib/python3.6/dist-packages (from tensorflow<2.1.0,>=2.0.0->turicreate) (1.1.2)\n",
            "Requirement already satisfied: opt-einsum>=2.3.2 in /usr/local/lib/python3.6/dist-packages (from tensorflow<2.1.0,>=2.0.0->turicreate) (3.3.0)\n",
            "Requirement already satisfied: certifi>=2017.4.17 in /usr/local/lib/python3.6/dist-packages (from requests>=2.9.1->turicreate) (2020.12.5)\n",
            "Requirement already satisfied: chardet<4,>=3.0.2 in /usr/local/lib/python3.6/dist-packages (from requests>=2.9.1->turicreate) (3.0.4)\n",
            "Requirement already satisfied: urllib3!=1.25.0,!=1.25.1,<1.26,>=1.21.1 in /usr/local/lib/python3.6/dist-packages (from requests>=2.9.1->turicreate) (1.24.3)\n",
            "Requirement already satisfied: idna<3,>=2.5 in /usr/local/lib/python3.6/dist-packages (from requests>=2.9.1->turicreate) (2.10)\n",
            "Requirement already satisfied: python-dateutil>=2.7.3 in /usr/local/lib/python3.6/dist-packages (from pandas>=0.23.2->turicreate) (2.8.1)\n",
            "Requirement already satisfied: pytz>=2017.2 in /usr/local/lib/python3.6/dist-packages (from pandas>=0.23.2->turicreate) (2018.9)\n",
            "Collecting llvmlite<0.34,>=0.33.0.dev0\n",
            "\u001b[?25l  Downloading https://files.pythonhosted.org/packages/d5/37/10d2c4ba0c131cf112d0a8fc97af7a77ca4a769aff626b2bfa2e57e679cf/llvmlite-0.33.0-cp36-cp36m-manylinux1_x86_64.whl (18.3MB)\n",
            "\u001b[K     |████████████████████████████████| 18.3MB 1.3MB/s \n",
            "\u001b[?25hRequirement already satisfied: setuptools in /usr/local/lib/python3.6/dist-packages (from numba<0.51.0->turicreate) (53.0.0)\n",
            "Requirement already satisfied: werkzeug>=0.11.15 in /usr/local/lib/python3.6/dist-packages (from tensorboard<2.1.0,>=2.0.0->tensorflow<2.1.0,>=2.0.0->turicreate) (1.0.1)\n",
            "Requirement already satisfied: google-auth-oauthlib<0.5,>=0.4.1 in /usr/local/lib/python3.6/dist-packages (from tensorboard<2.1.0,>=2.0.0->tensorflow<2.1.0,>=2.0.0->turicreate) (0.4.2)\n",
            "Requirement already satisfied: markdown>=2.6.8 in /usr/local/lib/python3.6/dist-packages (from tensorboard<2.1.0,>=2.0.0->tensorflow<2.1.0,>=2.0.0->turicreate) (3.3.3)\n",
            "Requirement already satisfied: google-auth<2,>=1.6.3 in /usr/local/lib/python3.6/dist-packages (from tensorboard<2.1.0,>=2.0.0->tensorflow<2.1.0,>=2.0.0->turicreate) (1.25.0)\n",
            "Requirement already satisfied: requests-oauthlib>=0.7.0 in /usr/local/lib/python3.6/dist-packages (from google-auth-oauthlib<0.5,>=0.4.1->tensorboard<2.1.0,>=2.0.0->tensorflow<2.1.0,>=2.0.0->turicreate) (1.3.0)\n",
            "Requirement already satisfied: importlib-metadata; python_version < \"3.8\" in /usr/local/lib/python3.6/dist-packages (from markdown>=2.6.8->tensorboard<2.1.0,>=2.0.0->tensorflow<2.1.0,>=2.0.0->turicreate) (3.4.0)\n",
            "Requirement already satisfied: pyasn1-modules>=0.2.1 in /usr/local/lib/python3.6/dist-packages (from google-auth<2,>=1.6.3->tensorboard<2.1.0,>=2.0.0->tensorflow<2.1.0,>=2.0.0->turicreate) (0.2.8)\n",
            "Requirement already satisfied: rsa<5,>=3.1.4; python_version >= \"3.6\" in /usr/local/lib/python3.6/dist-packages (from google-auth<2,>=1.6.3->tensorboard<2.1.0,>=2.0.0->tensorflow<2.1.0,>=2.0.0->turicreate) (4.7)\n",
            "Requirement already satisfied: cachetools<5.0,>=2.0.0 in /usr/local/lib/python3.6/dist-packages (from google-auth<2,>=1.6.3->tensorboard<2.1.0,>=2.0.0->tensorflow<2.1.0,>=2.0.0->turicreate) (4.2.1)\n",
            "Requirement already satisfied: oauthlib>=3.0.0 in /usr/local/lib/python3.6/dist-packages (from requests-oauthlib>=0.7.0->google-auth-oauthlib<0.5,>=0.4.1->tensorboard<2.1.0,>=2.0.0->tensorflow<2.1.0,>=2.0.0->turicreate) (3.1.0)\n",
            "Requirement already satisfied: zipp>=0.5 in /usr/local/lib/python3.6/dist-packages (from importlib-metadata; python_version < \"3.8\"->markdown>=2.6.8->tensorboard<2.1.0,>=2.0.0->tensorflow<2.1.0,>=2.0.0->turicreate) (3.4.0)\n",
            "Requirement already satisfied: typing-extensions>=3.6.4; python_version < \"3.8\" in /usr/local/lib/python3.6/dist-packages (from importlib-metadata; python_version < \"3.8\"->markdown>=2.6.8->tensorboard<2.1.0,>=2.0.0->tensorflow<2.1.0,>=2.0.0->turicreate) (3.7.4.3)\n",
            "Requirement already satisfied: pyasn1<0.5.0,>=0.4.6 in /usr/local/lib/python3.6/dist-packages (from pyasn1-modules>=0.2.1->google-auth<2,>=1.6.3->tensorboard<2.1.0,>=2.0.0->tensorflow<2.1.0,>=2.0.0->turicreate) (0.4.8)\n",
            "Building wheels for collected packages: prettytable, resampy, gast\n",
            "  Building wheel for prettytable (setup.py) ... \u001b[?25l\u001b[?25hdone\n",
            "  Created wheel for prettytable: filename=prettytable-0.7.2-cp36-none-any.whl size=13702 sha256=b2e858fdd9ca362bb0534b0fdd4a1505b0c561f76a96e9494ad62c81dacd6eb0\n",
            "  Stored in directory: /root/.cache/pip/wheels/80/34/1c/3967380d9676d162cb59513bd9dc862d0584e045a162095606\n",
            "  Building wheel for resampy (setup.py) ... \u001b[?25l\u001b[?25hdone\n",
            "  Created wheel for resampy: filename=resampy-0.2.1-cp36-none-any.whl size=320849 sha256=d6a0269b9da38b8cd282e0933f74783c15ba90869ee0cdc807c78c296c8b3969\n",
            "  Stored in directory: /root/.cache/pip/wheels/ff/4f/ed/2e6c676c23efe5394bb40ade50662e90eb46e29b48324c5f9b\n",
            "  Building wheel for gast (setup.py) ... \u001b[?25l\u001b[?25hdone\n",
            "  Created wheel for gast: filename=gast-0.2.2-cp36-none-any.whl size=7540 sha256=f71b0b9ff197e08d101dc9eca208a08e6cd9013c322d2dbc1d3158c80ba692c3\n",
            "  Stored in directory: /root/.cache/pip/wheels/5c/2e/7e/a1d4d4fcebe6c381f378ce7743a3ced3699feb89bcfbdadadd\n",
            "Successfully built prettytable resampy gast\n",
            "\u001b[31mERROR: tensorflow 2.0.4 has requirement numpy<1.19.0,>=1.16.0, but you'll have numpy 1.19.5 which is incompatible.\u001b[0m\n",
            "\u001b[31mERROR: tensorflow-probability 0.12.1 has requirement gast>=0.3.2, but you'll have gast 0.2.2 which is incompatible.\u001b[0m\n",
            "\u001b[31mERROR: pynndescent 0.5.1 has requirement numba>=0.51.2, but you'll have numba 0.50.1 which is incompatible.\u001b[0m\n",
            "\u001b[31mERROR: librosa 0.8.0 has requirement resampy>=0.2.2, but you'll have resampy 0.2.1 which is incompatible.\u001b[0m\n",
            "Installing collected packages: tensorflow-estimator, gast, tensorboard, keras-applications, tensorflow, prettytable, llvmlite, numba, resampy, coremltools, turicreate\n",
            "  Found existing installation: tensorflow-estimator 2.4.0\n",
            "    Uninstalling tensorflow-estimator-2.4.0:\n",
            "      Successfully uninstalled tensorflow-estimator-2.4.0\n",
            "  Found existing installation: gast 0.3.3\n",
            "    Uninstalling gast-0.3.3:\n",
            "      Successfully uninstalled gast-0.3.3\n",
            "  Found existing installation: tensorboard 2.4.1\n",
            "    Uninstalling tensorboard-2.4.1:\n",
            "      Successfully uninstalled tensorboard-2.4.1\n",
            "  Found existing installation: tensorflow 2.4.1\n",
            "    Uninstalling tensorflow-2.4.1:\n",
            "      Successfully uninstalled tensorflow-2.4.1\n",
            "  Found existing installation: prettytable 2.0.0\n",
            "    Uninstalling prettytable-2.0.0:\n",
            "      Successfully uninstalled prettytable-2.0.0\n",
            "  Found existing installation: llvmlite 0.34.0\n",
            "    Uninstalling llvmlite-0.34.0:\n",
            "      Successfully uninstalled llvmlite-0.34.0\n",
            "  Found existing installation: numba 0.51.2\n",
            "    Uninstalling numba-0.51.2:\n",
            "      Successfully uninstalled numba-0.51.2\n",
            "  Found existing installation: resampy 0.2.2\n",
            "    Uninstalling resampy-0.2.2:\n",
            "      Successfully uninstalled resampy-0.2.2\n",
            "Successfully installed coremltools-3.3 gast-0.2.2 keras-applications-1.0.8 llvmlite-0.33.0 numba-0.50.1 prettytable-0.7.2 resampy-0.2.1 tensorboard-2.0.2 tensorflow-2.0.4 tensorflow-estimator-2.0.1 turicreate-6.4.1\n"
          ],
          "name": "stdout"
        }
      ]
    },
    {
      "cell_type": "code",
      "metadata": {
        "colab": {
          "base_uri": "https://localhost:8080/"
        },
        "id": "WN-IA7iaq_vy",
        "outputId": "29167c5a-1fa6-47b6-e85e-08c249fd3f7a"
      },
      "source": [
        "!pip freeze"
      ],
      "execution_count": null,
      "outputs": [
        {
          "output_type": "stream",
          "text": [
            "absl-py==0.10.0\n",
            "alabaster==0.7.12\n",
            "albumentations==0.1.12\n",
            "altair==4.1.0\n",
            "appdirs==1.4.4\n",
            "argon2-cffi==20.1.0\n",
            "asgiref==3.3.1\n",
            "astor==0.8.1\n",
            "astropy==4.1\n",
            "astunparse==1.6.3\n",
            "async-generator==1.10\n",
            "atari-py==0.2.6\n",
            "atomicwrites==1.4.0\n",
            "attrs==20.3.0\n",
            "audioread==2.1.9\n",
            "autograd==1.3\n",
            "Babel==2.9.0\n",
            "backcall==0.2.0\n",
            "beautifulsoup4==4.6.3\n",
            "bleach==3.3.0\n",
            "blis==0.4.1\n",
            "bokeh==2.1.1\n",
            "Bottleneck==1.3.2\n",
            "branca==0.4.2\n",
            "bs4==0.0.1\n",
            "CacheControl==0.12.6\n",
            "cachetools==4.2.1\n",
            "catalogue==1.0.0\n",
            "certifi==2020.12.5\n",
            "cffi==1.14.4\n",
            "chainer==7.4.0\n",
            "chardet==3.0.4\n",
            "click==7.1.2\n",
            "cloudpickle==1.3.0\n",
            "cmake==3.12.0\n",
            "cmdstanpy==0.9.5\n",
            "colorlover==0.3.0\n",
            "community==1.0.0b1\n",
            "contextlib2==0.5.5\n",
            "convertdate==2.3.0\n",
            "coremltools==3.3\n",
            "coverage==3.7.1\n",
            "coveralls==0.5\n",
            "crcmod==1.7\n",
            "cufflinks==0.17.3\n",
            "cvxopt==1.2.5\n",
            "cvxpy==1.0.31\n",
            "cycler==0.10.0\n",
            "cymem==2.0.5\n",
            "Cython==0.29.21\n",
            "daft==0.0.4\n",
            "dask==2.12.0\n",
            "dataclasses==0.8\n",
            "datascience==0.10.6\n",
            "debugpy==1.0.0\n",
            "decorator==4.4.2\n",
            "defusedxml==0.6.0\n",
            "descartes==1.1.0\n",
            "dill==0.3.3\n",
            "distributed==1.25.3\n",
            "Django==3.1.6\n",
            "dlib==19.18.0\n",
            "dm-tree==0.1.5\n",
            "docopt==0.6.2\n",
            "docutils==0.16\n",
            "dopamine-rl==1.0.5\n",
            "earthengine-api==0.1.238\n",
            "easydict==1.9\n",
            "ecos==2.0.7.post1\n",
            "editdistance==0.5.3\n",
            "en-core-web-sm==2.2.5\n",
            "entrypoints==0.3\n",
            "ephem==3.7.7.1\n",
            "et-xmlfile==1.0.1\n",
            "fa2==0.3.5\n",
            "fancyimpute==0.4.3\n",
            "fastai==1.0.61\n",
            "fastdtw==0.3.4\n",
            "fastprogress==1.0.0\n",
            "fastrlock==0.5\n",
            "fbprophet==0.7.1\n",
            "feather-format==0.4.1\n",
            "filelock==3.0.12\n",
            "firebase-admin==4.4.0\n",
            "fix-yahoo-finance==0.0.22\n",
            "Flask==1.1.2\n",
            "flatbuffers==1.12\n",
            "folium==0.8.3\n",
            "future==0.16.0\n",
            "gast==0.2.2\n",
            "GDAL==2.2.2\n",
            "gdown==3.6.4\n",
            "gensim==3.6.0\n",
            "geographiclib==1.50\n",
            "geopy==1.17.0\n",
            "gin-config==0.4.0\n",
            "glob2==0.7\n",
            "google==2.0.3\n",
            "google-api-core==1.16.0\n",
            "google-api-python-client==1.7.12\n",
            "google-auth==1.25.0\n",
            "google-auth-httplib2==0.0.4\n",
            "google-auth-oauthlib==0.4.2\n",
            "google-cloud-bigquery==1.21.0\n",
            "google-cloud-bigquery-storage==1.1.0\n",
            "google-cloud-core==1.0.3\n",
            "google-cloud-datastore==1.8.0\n",
            "google-cloud-firestore==1.7.0\n",
            "google-cloud-language==1.2.0\n",
            "google-cloud-storage==1.18.1\n",
            "google-cloud-translate==1.5.0\n",
            "google-colab==1.0.0\n",
            "google-pasta==0.2.0\n",
            "google-resumable-media==0.4.1\n",
            "googleapis-common-protos==1.52.0\n",
            "googledrivedownloader==0.4\n",
            "graphviz==0.10.1\n",
            "grpcio==1.32.0\n",
            "gspread==3.0.1\n",
            "gspread-dataframe==3.0.8\n",
            "gym==0.17.3\n",
            "h5py==2.10.0\n",
            "HeapDict==1.0.1\n",
            "hijri-converter==2.1.1\n",
            "holidays==0.10.5.2\n",
            "holoviews==1.13.5\n",
            "html5lib==1.0.1\n",
            "httpimport==0.5.18\n",
            "httplib2==0.17.4\n",
            "httplib2shim==0.0.3\n",
            "humanize==0.5.1\n",
            "hyperopt==0.1.2\n",
            "ideep4py==2.0.0.post3\n",
            "idna==2.10\n",
            "image==1.5.33\n",
            "imageio==2.4.1\n",
            "imagesize==1.2.0\n",
            "imbalanced-learn==0.4.3\n",
            "imblearn==0.0\n",
            "imgaug==0.2.9\n",
            "importlib-metadata==3.4.0\n",
            "importlib-resources==5.1.0\n",
            "imutils==0.5.4\n",
            "inflect==2.1.0\n",
            "iniconfig==1.1.1\n",
            "intel-openmp==2021.1.2\n",
            "intervaltree==2.1.0\n",
            "ipykernel==4.10.1\n",
            "ipython==5.5.0\n",
            "ipython-genutils==0.2.0\n",
            "ipython-sql==0.3.9\n",
            "ipywidgets==7.6.3\n",
            "itsdangerous==1.1.0\n",
            "jax==0.2.9\n",
            "jaxlib==0.1.60+cuda101\n",
            "jdcal==1.4.1\n",
            "jedi==0.18.0\n",
            "jieba==0.42.1\n",
            "Jinja2==2.11.3\n",
            "joblib==1.0.0\n",
            "jpeg4py==0.1.4\n",
            "jsonschema==2.6.0\n",
            "jupyter==1.0.0\n",
            "jupyter-client==5.3.5\n",
            "jupyter-console==5.2.0\n",
            "jupyter-core==4.7.1\n",
            "jupyterlab-pygments==0.1.2\n",
            "jupyterlab-widgets==1.0.0\n",
            "kaggle==1.5.10\n",
            "kapre==0.1.3.1\n",
            "Keras==2.4.3\n",
            "Keras-Applications==1.0.8\n",
            "Keras-Preprocessing==1.1.2\n",
            "keras-vis==0.4.1\n",
            "kiwisolver==1.3.1\n",
            "knnimpute==0.1.0\n",
            "korean-lunar-calendar==0.2.1\n",
            "librosa==0.8.0\n",
            "lightgbm==2.2.3\n",
            "llvmlite==0.33.0\n",
            "lmdb==0.99\n",
            "lucid==0.3.8\n",
            "LunarCalendar==0.0.9\n",
            "lxml==4.2.6\n",
            "Markdown==3.3.3\n",
            "MarkupSafe==1.1.1\n",
            "matplotlib==3.2.2\n",
            "matplotlib-venn==0.11.6\n",
            "missingno==0.4.2\n",
            "mistune==0.8.4\n",
            "mizani==0.6.0\n",
            "mkl==2019.0\n",
            "mlxtend==0.14.0\n",
            "more-itertools==8.7.0\n",
            "moviepy==0.2.3.5\n",
            "mpmath==1.1.0\n",
            "msgpack==1.0.2\n",
            "multiprocess==0.70.11.1\n",
            "multitasking==0.0.9\n",
            "murmurhash==1.0.5\n",
            "music21==5.5.0\n",
            "natsort==5.5.0\n",
            "nbclient==0.5.2\n",
            "nbconvert==5.6.1\n",
            "nbformat==5.1.2\n",
            "nest-asyncio==1.5.1\n",
            "networkx==2.5\n",
            "nibabel==3.0.2\n",
            "nltk==3.2.5\n",
            "notebook==5.3.1\n",
            "np-utils==0.5.12.1\n",
            "numba==0.50.1\n",
            "numexpr==2.7.2\n",
            "numpy==1.19.5\n",
            "nvidia-ml-py3==7.352.0\n",
            "oauth2client==4.1.3\n",
            "oauthlib==3.1.0\n",
            "okgrade==0.4.3\n",
            "opencv-contrib-python==4.1.2.30\n",
            "opencv-python==4.1.2.30\n",
            "openpyxl==2.5.9\n",
            "opt-einsum==3.3.0\n",
            "osqp==0.6.2.post0\n",
            "packaging==20.9\n",
            "palettable==3.3.0\n",
            "pandas==1.1.5\n",
            "pandas-datareader==0.9.0\n",
            "pandas-gbq==0.13.3\n",
            "pandas-profiling==1.4.1\n",
            "pandocfilters==1.4.3\n",
            "panel==0.9.7\n",
            "param==1.10.1\n",
            "parso==0.8.1\n",
            "pathlib==1.0.1\n",
            "patsy==0.5.1\n",
            "pexpect==4.8.0\n",
            "pickleshare==0.7.5\n",
            "Pillow==7.0.0\n",
            "pip-tools==4.5.1\n",
            "plac==1.1.3\n",
            "plotly==4.4.1\n",
            "plotnine==0.6.0\n",
            "pluggy==0.7.1\n",
            "pooch==1.3.0\n",
            "portpicker==1.3.1\n",
            "prefetch-generator==1.0.1\n",
            "preshed==3.0.5\n",
            "prettytable==0.7.2\n",
            "progressbar2==3.38.0\n",
            "prometheus-client==0.9.0\n",
            "promise==2.3\n",
            "prompt-toolkit==1.0.18\n",
            "protobuf==3.12.4\n",
            "psutil==5.4.8\n",
            "psycopg2==2.7.6.1\n",
            "ptyprocess==0.7.0\n",
            "py==1.10.0\n",
            "pyarrow==0.14.1\n",
            "pyasn1==0.4.8\n",
            "pyasn1-modules==0.2.8\n",
            "pycocotools==2.0.2\n",
            "pycparser==2.20\n",
            "pyct==0.4.8\n",
            "pydata-google-auth==1.1.0\n",
            "pydot==1.3.0\n",
            "pydot-ng==2.0.0\n",
            "pydotplus==2.0.2\n",
            "PyDrive==1.3.1\n",
            "pyemd==0.5.1\n",
            "pyglet==1.5.0\n",
            "Pygments==2.6.1\n",
            "pygobject==3.26.1\n",
            "pymc3==3.7\n",
            "PyMeeus==0.3.7\n",
            "pymongo==3.11.3\n",
            "pymystem3==0.2.0\n",
            "pynndescent==0.5.1\n",
            "PyOpenGL==3.1.5\n",
            "pyparsing==2.4.7\n",
            "pyrsistent==0.17.3\n",
            "pysndfile==1.3.8\n",
            "PySocks==1.7.1\n",
            "pystan==2.19.1.1\n",
            "pytest==3.6.4\n",
            "python-apt==1.6.5+ubuntu0.5\n",
            "python-chess==0.23.11\n",
            "python-dateutil==2.8.1\n",
            "python-louvain==0.15\n",
            "python-slugify==4.0.1\n",
            "python-utils==2.5.6\n",
            "pytz==2018.9\n",
            "pyviz-comms==2.0.1\n",
            "PyWavelets==1.1.1\n",
            "PyYAML==3.13\n",
            "pyzmq==22.0.2\n",
            "qdldl==0.1.5.post0\n",
            "qtconsole==5.0.2\n",
            "QtPy==1.9.0\n",
            "regex==2019.12.20\n",
            "requests==2.23.0\n",
            "requests-oauthlib==1.3.0\n",
            "resampy==0.2.1\n",
            "retrying==1.3.3\n",
            "rpy2==3.2.7\n",
            "rsa==4.7\n",
            "scikit-image==0.16.2\n",
            "scikit-learn==0.22.2.post1\n",
            "scipy==1.4.1\n",
            "screen-resolution-extra==0.0.0\n",
            "scs==2.1.2\n",
            "seaborn==0.11.1\n",
            "Send2Trash==1.5.0\n",
            "setuptools-git==1.2\n",
            "Shapely==1.7.1\n",
            "simplegeneric==0.8.1\n",
            "six==1.15.0\n",
            "sklearn==0.0\n",
            "sklearn-pandas==1.8.0\n",
            "smart-open==4.1.2\n",
            "snowballstemmer==2.1.0\n",
            "sortedcontainers==2.3.0\n",
            "SoundFile==0.10.3.post1\n",
            "spacy==2.2.4\n",
            "Sphinx==1.8.5\n",
            "sphinxcontrib-serializinghtml==1.1.4\n",
            "sphinxcontrib-websupport==1.2.4\n",
            "SQLAlchemy==1.3.23\n",
            "sqlparse==0.4.1\n",
            "srsly==1.0.5\n",
            "statsmodels==0.10.2\n",
            "sympy==1.1.1\n",
            "tables==3.4.4\n",
            "tabulate==0.8.7\n",
            "tblib==1.7.0\n",
            "tensorboard==2.0.2\n",
            "tensorboard-plugin-wit==1.8.0\n",
            "tensorflow==2.0.4\n",
            "tensorflow-datasets==4.0.1\n",
            "tensorflow-estimator==2.0.1\n",
            "tensorflow-gcs-config==2.4.0\n",
            "tensorflow-hub==0.11.0\n",
            "tensorflow-metadata==0.27.0\n",
            "tensorflow-probability==0.12.1\n",
            "termcolor==1.1.0\n",
            "terminado==0.9.2\n",
            "testpath==0.4.4\n",
            "text-unidecode==1.3\n",
            "textblob==0.15.3\n",
            "textgenrnn==1.4.1\n",
            "Theano==1.0.5\n",
            "thinc==7.4.0\n",
            "tifffile==2020.9.3\n",
            "toml==0.10.2\n",
            "toolz==0.11.1\n",
            "torch==1.7.0+cu101\n",
            "torchsummary==1.5.1\n",
            "torchtext==0.3.1\n",
            "torchvision==0.8.1+cu101\n",
            "tornado==5.1.1\n",
            "tqdm==4.41.1\n",
            "traitlets==4.3.3\n",
            "turicreate==6.4.1\n",
            "tweepy==3.6.0\n",
            "typeguard==2.7.1\n",
            "typing-extensions==3.7.4.3\n",
            "tzlocal==1.5.1\n",
            "umap-learn==0.5.0\n",
            "uritemplate==3.0.1\n",
            "urllib3==1.24.3\n",
            "vega-datasets==0.9.0\n",
            "wasabi==0.8.2\n",
            "wcwidth==0.2.5\n",
            "webencodings==0.5.1\n",
            "Werkzeug==1.0.1\n",
            "widgetsnbextension==3.5.1\n",
            "wordcloud==1.5.0\n",
            "wrapt==1.12.1\n",
            "xarray==0.15.1\n",
            "xgboost==0.90\n",
            "xkit==0.0.0\n",
            "xlrd==1.1.0\n",
            "xlwt==1.3.0\n",
            "yellowbrick==0.9.1\n",
            "zict==2.0.0\n",
            "zipp==3.4.0\n"
          ],
          "name": "stdout"
        }
      ]
    },
    {
      "cell_type": "code",
      "metadata": {
        "id": "Ccjx3W80nTX5"
      },
      "source": [
        "%load_ext autoreload\n",
        "%autoreload 2\n",
        "\n",
        "import pandas as pd\n",
        "import numpy as np\n",
        "import time\n",
        "import turicreate as tc\n",
        "from sklearn.model_selection import train_test_split\n",
        "#from sklearn.cross_validation import train_test_split\n",
        "\n",
        "import sys\n",
        "sys.path.append(\"..\")\n",
        "\n"
      ],
      "execution_count": null,
      "outputs": []
    },
    {
      "cell_type": "code",
      "metadata": {
        "colab": {
          "base_uri": "https://localhost:8080/",
          "height": 241
        },
        "id": "_l4TcBzSnfeg",
        "outputId": "d4340651-83c1-48b7-8dbc-9a7719c25ccb"
      },
      "source": [
        "#customers = pd.read_csv('../data/recommend_1.csv') \n",
        "#transactions = pd.read_csv('../data/trx_data.csv')\n",
        "import pandas as pd\n",
        "#customers = pd.read_csv(\"/content/per_user_distance_purchase_count.csv\", encoding= 'unicode_escape')\n",
        "data = pd.read_csv(\"/content/root distance and count.csv\", encoding= 'unicode_escape')\n",
        "data.head()"
      ],
      "execution_count": null,
      "outputs": [
        {
          "output_type": "execute_result",
          "data": {
            "text/html": [
              "<div>\n",
              "<style scoped>\n",
              "    .dataframe tbody tr th:only-of-type {\n",
              "        vertical-align: middle;\n",
              "    }\n",
              "\n",
              "    .dataframe tbody tr th {\n",
              "        vertical-align: top;\n",
              "    }\n",
              "\n",
              "    .dataframe thead th {\n",
              "        text-align: right;\n",
              "    }\n",
              "</style>\n",
              "<table border=\"1\" class=\"dataframe\">\n",
              "  <thead>\n",
              "    <tr style=\"text-align: right;\">\n",
              "      <th></th>\n",
              "      <th>product_number</th>\n",
              "      <th>distance</th>\n",
              "      <th>user_id</th>\n",
              "      <th>product_purchase_count</th>\n",
              "      <th>multiplication_distance_Productcount</th>\n",
              "      <th>summation_distance_Productcount_demo</th>\n",
              "      <th>distance (root)</th>\n",
              "      <th>root value</th>\n",
              "      <th>summation_distance_Productcount</th>\n",
              "      <th>summation_distance_Productcount.1</th>\n",
              "    </tr>\n",
              "  </thead>\n",
              "  <tbody>\n",
              "    <tr>\n",
              "      <th>0</th>\n",
              "      <td>0</td>\n",
              "      <td>4.432207</td>\n",
              "      <td>1184</td>\n",
              "      <td>4</td>\n",
              "      <td>17.728828</td>\n",
              "      <td>8.432206982</td>\n",
              "      <td>4.432207</td>\n",
              "      <td>2.105281</td>\n",
              "      <td>6.105281</td>\n",
              "      <td>6.105281</td>\n",
              "    </tr>\n",
              "    <tr>\n",
              "      <th>1</th>\n",
              "      <td>1</td>\n",
              "      <td>1.252969</td>\n",
              "      <td>1184</td>\n",
              "      <td>0</td>\n",
              "      <td>0.000000</td>\n",
              "      <td>1.252968544</td>\n",
              "      <td>1.252969</td>\n",
              "      <td>1.119361</td>\n",
              "      <td>1.119361</td>\n",
              "      <td>1.119361</td>\n",
              "    </tr>\n",
              "    <tr>\n",
              "      <th>2</th>\n",
              "      <td>2</td>\n",
              "      <td>2.897255</td>\n",
              "      <td>1184</td>\n",
              "      <td>2</td>\n",
              "      <td>5.794509</td>\n",
              "      <td>4.897254663</td>\n",
              "      <td>2.897255</td>\n",
              "      <td>1.702132</td>\n",
              "      <td>3.702132</td>\n",
              "      <td>3.702132</td>\n",
              "    </tr>\n",
              "    <tr>\n",
              "      <th>3</th>\n",
              "      <td>3</td>\n",
              "      <td>4.207490</td>\n",
              "      <td>1184</td>\n",
              "      <td>6</td>\n",
              "      <td>25.244941</td>\n",
              "      <td>10.20749013</td>\n",
              "      <td>4.207490</td>\n",
              "      <td>2.051217</td>\n",
              "      <td>8.051217</td>\n",
              "      <td>8.051217</td>\n",
              "    </tr>\n",
              "    <tr>\n",
              "      <th>4</th>\n",
              "      <td>4</td>\n",
              "      <td>1.718175</td>\n",
              "      <td>1184</td>\n",
              "      <td>5</td>\n",
              "      <td>8.590875</td>\n",
              "      <td>6.718174966</td>\n",
              "      <td>1.718175</td>\n",
              "      <td>1.310792</td>\n",
              "      <td>6.310792</td>\n",
              "      <td>6.310792</td>\n",
              "    </tr>\n",
              "  </tbody>\n",
              "</table>\n",
              "</div>"
            ],
            "text/plain": [
              "   product_number  ...  summation_distance_Productcount.1\n",
              "0               0  ...                           6.105281\n",
              "1               1  ...                           1.119361\n",
              "2               2  ...                           3.702132\n",
              "3               3  ...                           8.051217\n",
              "4               4  ...                           6.310792\n",
              "\n",
              "[5 rows x 10 columns]"
            ]
          },
          "metadata": {
            "tags": []
          },
          "execution_count": 4
        }
      ]
    },
    {
      "cell_type": "code",
      "metadata": {
        "id": "Gz3H_8vT-b7M"
      },
      "source": [
        "#float(customers.user_id)"
      ],
      "execution_count": null,
      "outputs": []
    },
    {
      "cell_type": "code",
      "metadata": {
        "id": "WcdrTGqannS5",
        "colab": {
          "base_uri": "https://localhost:8080/",
          "height": 69
        },
        "outputId": "9d02370c-10c9-45bb-e03a-2c7be5a3ea8e"
      },
      "source": [
        "'''data = pd.melt(customers.set_index('user_id')['product_number'].apply(pd.Series).reset_index(), \n",
        "             id_vars=['user_id'],\n",
        "             value_name='product_number') \\\n",
        "    .dropna().drop(['variable'], axis=1) \\\n",
        "    .groupby(['user_id', 'product_number']) \\\n",
        "    .agg({'product_number': 'count'}) \\\n",
        "    .rename(columns={'product_number': 'purchase_count'}) \\\n",
        "    .reset_index() \\\n",
        "    .rename(columns={'product_number': 'productId'})\n",
        "data['product_number'] = data['product_number'].astype(np.int64)\n",
        "'''\n"
      ],
      "execution_count": null,
      "outputs": [
        {
          "output_type": "execute_result",
          "data": {
            "application/vnd.google.colaboratory.intrinsic+json": {
              "type": "string"
            },
            "text/plain": [
              "\"data = pd.melt(customers.set_index('user_id')['product_number'].apply(pd.Series).reset_index(), \\n             id_vars=['user_id'],\\n             value_name='product_number')     .dropna().drop(['variable'], axis=1)     .groupby(['user_id', 'product_number'])     .agg({'product_number': 'count'})     .rename(columns={'product_number': 'purchase_count'})     .reset_index()     .rename(columns={'product_number': 'productId'})\\ndata['product_number'] = data['product_number'].astype(np.int64)\\n\""
            ]
          },
          "metadata": {
            "tags": []
          },
          "execution_count": 6
        }
      ]
    },
    {
      "cell_type": "code",
      "metadata": {
        "colab": {
          "base_uri": "https://localhost:8080/"
        },
        "id": "_m_AQ31Fs4-F",
        "outputId": "35f46455-a465-4576-9711-708a7e0ff5ff"
      },
      "source": [
        "data.dtypes"
      ],
      "execution_count": null,
      "outputs": [
        {
          "output_type": "execute_result",
          "data": {
            "text/plain": [
              "product_number                            int64\n",
              "distance                                float64\n",
              "user_id                                   int64\n",
              "product_purchase_count                    int64\n",
              "multiplication_distance_Productcount    float64\n",
              "summation_distance_Productcount_demo     object\n",
              "distance (root)                         float64\n",
              "root value                              float64\n",
              "summation_distance_Productcount         float64\n",
              "summation_distance_Productcount.1       float64\n",
              "dtype: object"
            ]
          },
          "metadata": {
            "tags": []
          },
          "execution_count": 7
        }
      ]
    },
    {
      "cell_type": "code",
      "metadata": {
        "id": "_EpmSvIXn0pk"
      },
      "source": [
        "def create_data_dummy(data):\n",
        "    data_dummy = data.copy()\n",
        "    data_dummy['purchase_dummy'] = 1\n",
        "    return data_dummy\n",
        "data_dummy = create_data_dummy(data)"
      ],
      "execution_count": null,
      "outputs": []
    },
    {
      "cell_type": "code",
      "metadata": {
        "id": "Q-XKfV5pn1VS"
      },
      "source": [
        "df_matrix = pd.pivot_table(data, values='summation_distance_Productcount', columns='product_number', index='user_id')"
      ],
      "execution_count": null,
      "outputs": []
    },
    {
      "cell_type": "code",
      "metadata": {
        "colab": {
          "base_uri": "https://localhost:8080/",
          "height": 904
        },
        "id": "xfgra_wNtkZh",
        "outputId": "20b40cac-154f-4891-fb95-1ad51403fe3e"
      },
      "source": [
        "df_matrix "
      ],
      "execution_count": null,
      "outputs": [
        {
          "output_type": "execute_result",
          "data": {
            "text/html": [
              "<div>\n",
              "<style scoped>\n",
              "    .dataframe tbody tr th:only-of-type {\n",
              "        vertical-align: middle;\n",
              "    }\n",
              "\n",
              "    .dataframe tbody tr th {\n",
              "        vertical-align: top;\n",
              "    }\n",
              "\n",
              "    .dataframe thead th {\n",
              "        text-align: right;\n",
              "    }\n",
              "</style>\n",
              "<table border=\"1\" class=\"dataframe\">\n",
              "  <thead>\n",
              "    <tr style=\"text-align: right;\">\n",
              "      <th>product_number</th>\n",
              "      <th>0</th>\n",
              "      <th>1</th>\n",
              "      <th>2</th>\n",
              "      <th>3</th>\n",
              "      <th>4</th>\n",
              "      <th>5</th>\n",
              "      <th>6</th>\n",
              "      <th>7</th>\n",
              "      <th>8</th>\n",
              "      <th>9</th>\n",
              "      <th>10</th>\n",
              "      <th>11</th>\n",
              "      <th>12</th>\n",
              "      <th>13</th>\n",
              "      <th>14</th>\n",
              "      <th>15</th>\n",
              "      <th>16</th>\n",
              "      <th>17</th>\n",
              "      <th>18</th>\n",
              "      <th>19</th>\n",
              "      <th>20</th>\n",
              "      <th>21</th>\n",
              "      <th>22</th>\n",
              "      <th>23</th>\n",
              "      <th>24</th>\n",
              "      <th>25</th>\n",
              "      <th>26</th>\n",
              "      <th>27</th>\n",
              "      <th>28</th>\n",
              "      <th>29</th>\n",
              "      <th>30</th>\n",
              "      <th>31</th>\n",
              "      <th>32</th>\n",
              "      <th>33</th>\n",
              "      <th>34</th>\n",
              "      <th>35</th>\n",
              "      <th>36</th>\n",
              "      <th>37</th>\n",
              "      <th>38</th>\n",
              "      <th>39</th>\n",
              "      <th>...</th>\n",
              "      <th>1394</th>\n",
              "      <th>1395</th>\n",
              "      <th>1396</th>\n",
              "      <th>1397</th>\n",
              "      <th>1398</th>\n",
              "      <th>1399</th>\n",
              "      <th>1400</th>\n",
              "      <th>1401</th>\n",
              "      <th>1402</th>\n",
              "      <th>1403</th>\n",
              "      <th>1404</th>\n",
              "      <th>1405</th>\n",
              "      <th>1406</th>\n",
              "      <th>1407</th>\n",
              "      <th>1408</th>\n",
              "      <th>1409</th>\n",
              "      <th>1410</th>\n",
              "      <th>1411</th>\n",
              "      <th>1412</th>\n",
              "      <th>1413</th>\n",
              "      <th>1414</th>\n",
              "      <th>1415</th>\n",
              "      <th>1416</th>\n",
              "      <th>1417</th>\n",
              "      <th>1418</th>\n",
              "      <th>1419</th>\n",
              "      <th>1420</th>\n",
              "      <th>1421</th>\n",
              "      <th>1422</th>\n",
              "      <th>1423</th>\n",
              "      <th>1424</th>\n",
              "      <th>1425</th>\n",
              "      <th>1426</th>\n",
              "      <th>1427</th>\n",
              "      <th>1428</th>\n",
              "      <th>1429</th>\n",
              "      <th>1430</th>\n",
              "      <th>1431</th>\n",
              "      <th>1432</th>\n",
              "      <th>1433</th>\n",
              "    </tr>\n",
              "    <tr>\n",
              "      <th>user_id</th>\n",
              "      <th></th>\n",
              "      <th></th>\n",
              "      <th></th>\n",
              "      <th></th>\n",
              "      <th></th>\n",
              "      <th></th>\n",
              "      <th></th>\n",
              "      <th></th>\n",
              "      <th></th>\n",
              "      <th></th>\n",
              "      <th></th>\n",
              "      <th></th>\n",
              "      <th></th>\n",
              "      <th></th>\n",
              "      <th></th>\n",
              "      <th></th>\n",
              "      <th></th>\n",
              "      <th></th>\n",
              "      <th></th>\n",
              "      <th></th>\n",
              "      <th></th>\n",
              "      <th></th>\n",
              "      <th></th>\n",
              "      <th></th>\n",
              "      <th></th>\n",
              "      <th></th>\n",
              "      <th></th>\n",
              "      <th></th>\n",
              "      <th></th>\n",
              "      <th></th>\n",
              "      <th></th>\n",
              "      <th></th>\n",
              "      <th></th>\n",
              "      <th></th>\n",
              "      <th></th>\n",
              "      <th></th>\n",
              "      <th></th>\n",
              "      <th></th>\n",
              "      <th></th>\n",
              "      <th></th>\n",
              "      <th></th>\n",
              "      <th></th>\n",
              "      <th></th>\n",
              "      <th></th>\n",
              "      <th></th>\n",
              "      <th></th>\n",
              "      <th></th>\n",
              "      <th></th>\n",
              "      <th></th>\n",
              "      <th></th>\n",
              "      <th></th>\n",
              "      <th></th>\n",
              "      <th></th>\n",
              "      <th></th>\n",
              "      <th></th>\n",
              "      <th></th>\n",
              "      <th></th>\n",
              "      <th></th>\n",
              "      <th></th>\n",
              "      <th></th>\n",
              "      <th></th>\n",
              "      <th></th>\n",
              "      <th></th>\n",
              "      <th></th>\n",
              "      <th></th>\n",
              "      <th></th>\n",
              "      <th></th>\n",
              "      <th></th>\n",
              "      <th></th>\n",
              "      <th></th>\n",
              "      <th></th>\n",
              "      <th></th>\n",
              "      <th></th>\n",
              "      <th></th>\n",
              "      <th></th>\n",
              "      <th></th>\n",
              "      <th></th>\n",
              "      <th></th>\n",
              "      <th></th>\n",
              "      <th></th>\n",
              "      <th></th>\n",
              "    </tr>\n",
              "  </thead>\n",
              "  <tbody>\n",
              "    <tr>\n",
              "      <th>123</th>\n",
              "      <td>4.731345</td>\n",
              "      <td>0.705648</td>\n",
              "      <td>5.239253</td>\n",
              "      <td>7.695893</td>\n",
              "      <td>7.618551</td>\n",
              "      <td>2.815180</td>\n",
              "      <td>4.649125</td>\n",
              "      <td>6.689785</td>\n",
              "      <td>5.337842</td>\n",
              "      <td>5.759840</td>\n",
              "      <td>7.799970</td>\n",
              "      <td>5.341815</td>\n",
              "      <td>0.397909</td>\n",
              "      <td>6.858857</td>\n",
              "      <td>0.956772</td>\n",
              "      <td>7.382814</td>\n",
              "      <td>7.736409</td>\n",
              "      <td>3.559794</td>\n",
              "      <td>7.353251</td>\n",
              "      <td>5.288769</td>\n",
              "      <td>2.917978</td>\n",
              "      <td>3.714885</td>\n",
              "      <td>5.673894</td>\n",
              "      <td>7.338795</td>\n",
              "      <td>1.168411</td>\n",
              "      <td>7.201369</td>\n",
              "      <td>4.643748</td>\n",
              "      <td>3.651753</td>\n",
              "      <td>5.315492</td>\n",
              "      <td>4.715374</td>\n",
              "      <td>3.658123</td>\n",
              "      <td>5.924856</td>\n",
              "      <td>7.326385</td>\n",
              "      <td>7.352190</td>\n",
              "      <td>6.645986</td>\n",
              "      <td>7.738449</td>\n",
              "      <td>2.662032</td>\n",
              "      <td>3.458322</td>\n",
              "      <td>7.553103</td>\n",
              "      <td>3.999361</td>\n",
              "      <td>...</td>\n",
              "      <td>3.963000</td>\n",
              "      <td>7.348520</td>\n",
              "      <td>3.756838</td>\n",
              "      <td>6.878899</td>\n",
              "      <td>7.642076</td>\n",
              "      <td>5.711318</td>\n",
              "      <td>1.127877</td>\n",
              "      <td>20.562604</td>\n",
              "      <td>7.032876</td>\n",
              "      <td>7.199827</td>\n",
              "      <td>1.212316</td>\n",
              "      <td>3.890122</td>\n",
              "      <td>2.902823</td>\n",
              "      <td>5.560402</td>\n",
              "      <td>2.996104</td>\n",
              "      <td>3.602797</td>\n",
              "      <td>7.730849</td>\n",
              "      <td>0.951011</td>\n",
              "      <td>6.413277</td>\n",
              "      <td>10.976353</td>\n",
              "      <td>6.849349</td>\n",
              "      <td>5.601062</td>\n",
              "      <td>6.636836</td>\n",
              "      <td>5.680043</td>\n",
              "      <td>6.242644</td>\n",
              "      <td>7.584176</td>\n",
              "      <td>0.956950</td>\n",
              "      <td>5.700831</td>\n",
              "      <td>7.342910</td>\n",
              "      <td>2.242818</td>\n",
              "      <td>4.768068</td>\n",
              "      <td>NaN</td>\n",
              "      <td>NaN</td>\n",
              "      <td>NaN</td>\n",
              "      <td>NaN</td>\n",
              "      <td>NaN</td>\n",
              "      <td>NaN</td>\n",
              "      <td>NaN</td>\n",
              "      <td>NaN</td>\n",
              "      <td>NaN</td>\n",
              "    </tr>\n",
              "    <tr>\n",
              "      <th>124</th>\n",
              "      <td>4.732854</td>\n",
              "      <td>0.704650</td>\n",
              "      <td>7.241344</td>\n",
              "      <td>3.697006</td>\n",
              "      <td>4.617030</td>\n",
              "      <td>4.816001</td>\n",
              "      <td>4.649789</td>\n",
              "      <td>4.691301</td>\n",
              "      <td>4.338752</td>\n",
              "      <td>2.759559</td>\n",
              "      <td>7.799670</td>\n",
              "      <td>3.343058</td>\n",
              "      <td>0.391849</td>\n",
              "      <td>6.860146</td>\n",
              "      <td>0.954204</td>\n",
              "      <td>4.381061</td>\n",
              "      <td>2.735973</td>\n",
              "      <td>5.561484</td>\n",
              "      <td>3.353358</td>\n",
              "      <td>5.286833</td>\n",
              "      <td>2.917558</td>\n",
              "      <td>5.716157</td>\n",
              "      <td>3.674613</td>\n",
              "      <td>5.338715</td>\n",
              "      <td>1.166247</td>\n",
              "      <td>4.201888</td>\n",
              "      <td>3.644931</td>\n",
              "      <td>4.652415</td>\n",
              "      <td>5.316589</td>\n",
              "      <td>6.714168</td>\n",
              "      <td>7.657869</td>\n",
              "      <td>7.924655</td>\n",
              "      <td>3.324752</td>\n",
              "      <td>6.351420</td>\n",
              "      <td>8.646153</td>\n",
              "      <td>3.739070</td>\n",
              "      <td>2.662730</td>\n",
              "      <td>7.457114</td>\n",
              "      <td>2.554801</td>\n",
              "      <td>5.000604</td>\n",
              "      <td>...</td>\n",
              "      <td>4.962713</td>\n",
              "      <td>7.350256</td>\n",
              "      <td>5.757877</td>\n",
              "      <td>5.879223</td>\n",
              "      <td>6.642235</td>\n",
              "      <td>2.711157</td>\n",
              "      <td>1.126317</td>\n",
              "      <td>19.562436</td>\n",
              "      <td>4.032472</td>\n",
              "      <td>8.200351</td>\n",
              "      <td>1.210874</td>\n",
              "      <td>7.891365</td>\n",
              "      <td>3.904189</td>\n",
              "      <td>7.560068</td>\n",
              "      <td>4.995762</td>\n",
              "      <td>6.604409</td>\n",
              "      <td>4.730160</td>\n",
              "      <td>0.948554</td>\n",
              "      <td>4.414936</td>\n",
              "      <td>9.976183</td>\n",
              "      <td>6.849122</td>\n",
              "      <td>5.600594</td>\n",
              "      <td>5.635387</td>\n",
              "      <td>4.679080</td>\n",
              "      <td>7.240588</td>\n",
              "      <td>3.584195</td>\n",
              "      <td>0.954388</td>\n",
              "      <td>6.701502</td>\n",
              "      <td>7.343788</td>\n",
              "      <td>7.241037</td>\n",
              "      <td>5.769031</td>\n",
              "      <td>NaN</td>\n",
              "      <td>NaN</td>\n",
              "      <td>NaN</td>\n",
              "      <td>NaN</td>\n",
              "      <td>NaN</td>\n",
              "      <td>NaN</td>\n",
              "      <td>NaN</td>\n",
              "      <td>NaN</td>\n",
              "      <td>NaN</td>\n",
              "    </tr>\n",
              "    <tr>\n",
              "      <th>135</th>\n",
              "      <td>0.812118</td>\n",
              "      <td>7.898398</td>\n",
              "      <td>3.396110</td>\n",
              "      <td>5.574467</td>\n",
              "      <td>4.442849</td>\n",
              "      <td>3.764146</td>\n",
              "      <td>4.849903</td>\n",
              "      <td>0.995677</td>\n",
              "      <td>7.756533</td>\n",
              "      <td>7.251961</td>\n",
              "      <td>7.283708</td>\n",
              "      <td>6.635030</td>\n",
              "      <td>3.894139</td>\n",
              "      <td>1.198747</td>\n",
              "      <td>3.074449</td>\n",
              "      <td>6.293137</td>\n",
              "      <td>3.282847</td>\n",
              "      <td>1.006555</td>\n",
              "      <td>6.957631</td>\n",
              "      <td>5.246183</td>\n",
              "      <td>7.404423</td>\n",
              "      <td>4.405620</td>\n",
              "      <td>4.826452</td>\n",
              "      <td>7.991578</td>\n",
              "      <td>5.182096</td>\n",
              "      <td>4.128186</td>\n",
              "      <td>2.516823</td>\n",
              "      <td>4.851440</td>\n",
              "      <td>7.705839</td>\n",
              "      <td>3.458469</td>\n",
              "      <td>6.182454</td>\n",
              "      <td>4.333509</td>\n",
              "      <td>4.231455</td>\n",
              "      <td>4.123023</td>\n",
              "      <td>5.688551</td>\n",
              "      <td>7.889064</td>\n",
              "      <td>2.835667</td>\n",
              "      <td>5.264155</td>\n",
              "      <td>1.015210</td>\n",
              "      <td>1.159000</td>\n",
              "      <td>...</td>\n",
              "      <td>6.391244</td>\n",
              "      <td>2.412351</td>\n",
              "      <td>6.596312</td>\n",
              "      <td>8.072215</td>\n",
              "      <td>3.690138</td>\n",
              "      <td>4.185172</td>\n",
              "      <td>4.094131</td>\n",
              "      <td>16.672194</td>\n",
              "      <td>4.485021</td>\n",
              "      <td>6.124437</td>\n",
              "      <td>4.135776</td>\n",
              "      <td>7.266541</td>\n",
              "      <td>0.769807</td>\n",
              "      <td>5.148331</td>\n",
              "      <td>4.435292</td>\n",
              "      <td>1.039564</td>\n",
              "      <td>7.338915</td>\n",
              "      <td>6.063775</td>\n",
              "      <td>5.372670</td>\n",
              "      <td>13.095618</td>\n",
              "      <td>6.291905</td>\n",
              "      <td>7.205437</td>\n",
              "      <td>6.444242</td>\n",
              "      <td>3.376934</td>\n",
              "      <td>5.224331</td>\n",
              "      <td>5.723702</td>\n",
              "      <td>8.074158</td>\n",
              "      <td>4.855137</td>\n",
              "      <td>6.765053</td>\n",
              "      <td>5.195200</td>\n",
              "      <td>5.679569</td>\n",
              "      <td>NaN</td>\n",
              "      <td>NaN</td>\n",
              "      <td>NaN</td>\n",
              "      <td>NaN</td>\n",
              "      <td>NaN</td>\n",
              "      <td>NaN</td>\n",
              "      <td>NaN</td>\n",
              "      <td>NaN</td>\n",
              "      <td>NaN</td>\n",
              "    </tr>\n",
              "    <tr>\n",
              "      <th>355</th>\n",
              "      <td>6.425167</td>\n",
              "      <td>3.901628</td>\n",
              "      <td>5.106286</td>\n",
              "      <td>4.590617</td>\n",
              "      <td>4.279042</td>\n",
              "      <td>2.745169</td>\n",
              "      <td>7.607341</td>\n",
              "      <td>5.442313</td>\n",
              "      <td>3.421127</td>\n",
              "      <td>7.657487</td>\n",
              "      <td>6.681078</td>\n",
              "      <td>2.821166</td>\n",
              "      <td>5.036885</td>\n",
              "      <td>5.187376</td>\n",
              "      <td>4.917533</td>\n",
              "      <td>3.202081</td>\n",
              "      <td>4.627033</td>\n",
              "      <td>8.266476</td>\n",
              "      <td>6.434517</td>\n",
              "      <td>6.146558</td>\n",
              "      <td>6.742162</td>\n",
              "      <td>6.564141</td>\n",
              "      <td>8.619595</td>\n",
              "      <td>7.421307</td>\n",
              "      <td>3.907725</td>\n",
              "      <td>4.737764</td>\n",
              "      <td>4.903702</td>\n",
              "      <td>7.609051</td>\n",
              "      <td>7.401393</td>\n",
              "      <td>4.451398</td>\n",
              "      <td>7.596659</td>\n",
              "      <td>8.772417</td>\n",
              "      <td>3.748133</td>\n",
              "      <td>7.386552</td>\n",
              "      <td>4.884887</td>\n",
              "      <td>8.664750</td>\n",
              "      <td>3.613572</td>\n",
              "      <td>4.370918</td>\n",
              "      <td>4.272062</td>\n",
              "      <td>3.317866</td>\n",
              "      <td>...</td>\n",
              "      <td>4.788915</td>\n",
              "      <td>4.012228</td>\n",
              "      <td>6.876178</td>\n",
              "      <td>5.343789</td>\n",
              "      <td>5.873296</td>\n",
              "      <td>4.636489</td>\n",
              "      <td>5.751164</td>\n",
              "      <td>17.550332</td>\n",
              "      <td>6.819501</td>\n",
              "      <td>3.740631</td>\n",
              "      <td>8.261619</td>\n",
              "      <td>8.174610</td>\n",
              "      <td>5.368289</td>\n",
              "      <td>3.532558</td>\n",
              "      <td>8.804036</td>\n",
              "      <td>4.381897</td>\n",
              "      <td>1.190292</td>\n",
              "      <td>5.895618</td>\n",
              "      <td>4.022458</td>\n",
              "      <td>8.205242</td>\n",
              "      <td>5.719986</td>\n",
              "      <td>7.544204</td>\n",
              "      <td>8.325125</td>\n",
              "      <td>8.509648</td>\n",
              "      <td>7.915119</td>\n",
              "      <td>4.689018</td>\n",
              "      <td>7.916289</td>\n",
              "      <td>3.638732</td>\n",
              "      <td>6.424920</td>\n",
              "      <td>8.207183</td>\n",
              "      <td>3.652563</td>\n",
              "      <td>NaN</td>\n",
              "      <td>NaN</td>\n",
              "      <td>NaN</td>\n",
              "      <td>NaN</td>\n",
              "      <td>NaN</td>\n",
              "      <td>NaN</td>\n",
              "      <td>NaN</td>\n",
              "      <td>NaN</td>\n",
              "      <td>NaN</td>\n",
              "    </tr>\n",
              "    <tr>\n",
              "      <th>428</th>\n",
              "      <td>5.246292</td>\n",
              "      <td>2.356316</td>\n",
              "      <td>6.853530</td>\n",
              "      <td>3.253438</td>\n",
              "      <td>5.542794</td>\n",
              "      <td>7.969126</td>\n",
              "      <td>7.186824</td>\n",
              "      <td>3.228354</td>\n",
              "      <td>6.975956</td>\n",
              "      <td>3.129081</td>\n",
              "      <td>7.153546</td>\n",
              "      <td>3.703243</td>\n",
              "      <td>7.463367</td>\n",
              "      <td>5.214189</td>\n",
              "      <td>1.162917</td>\n",
              "      <td>5.447361</td>\n",
              "      <td>6.077701</td>\n",
              "      <td>6.090835</td>\n",
              "      <td>6.915916</td>\n",
              "      <td>4.374980</td>\n",
              "      <td>7.209003</td>\n",
              "      <td>3.269627</td>\n",
              "      <td>8.211183</td>\n",
              "      <td>5.884893</td>\n",
              "      <td>1.021667</td>\n",
              "      <td>6.216026</td>\n",
              "      <td>6.945749</td>\n",
              "      <td>4.188632</td>\n",
              "      <td>5.970956</td>\n",
              "      <td>3.791764</td>\n",
              "      <td>4.063668</td>\n",
              "      <td>5.268428</td>\n",
              "      <td>0.677654</td>\n",
              "      <td>7.785758</td>\n",
              "      <td>6.508410</td>\n",
              "      <td>4.252483</td>\n",
              "      <td>8.199979</td>\n",
              "      <td>7.714352</td>\n",
              "      <td>8.089826</td>\n",
              "      <td>7.351026</td>\n",
              "      <td>...</td>\n",
              "      <td>5.277056</td>\n",
              "      <td>5.847469</td>\n",
              "      <td>7.999797</td>\n",
              "      <td>2.822817</td>\n",
              "      <td>3.500926</td>\n",
              "      <td>7.118889</td>\n",
              "      <td>0.996727</td>\n",
              "      <td>21.511521</td>\n",
              "      <td>6.298487</td>\n",
              "      <td>6.216257</td>\n",
              "      <td>6.600251</td>\n",
              "      <td>6.225643</td>\n",
              "      <td>7.319053</td>\n",
              "      <td>7.983987</td>\n",
              "      <td>3.287823</td>\n",
              "      <td>6.159453</td>\n",
              "      <td>1.182232</td>\n",
              "      <td>1.152258</td>\n",
              "      <td>7.887275</td>\n",
              "      <td>10.008388</td>\n",
              "      <td>3.205956</td>\n",
              "      <td>3.982565</td>\n",
              "      <td>7.610784</td>\n",
              "      <td>4.888143</td>\n",
              "      <td>0.989520</td>\n",
              "      <td>8.380085</td>\n",
              "      <td>1.161848</td>\n",
              "      <td>8.227833</td>\n",
              "      <td>2.977475</td>\n",
              "      <td>3.492347</td>\n",
              "      <td>3.303477</td>\n",
              "      <td>NaN</td>\n",
              "      <td>NaN</td>\n",
              "      <td>NaN</td>\n",
              "      <td>NaN</td>\n",
              "      <td>NaN</td>\n",
              "      <td>NaN</td>\n",
              "      <td>NaN</td>\n",
              "      <td>NaN</td>\n",
              "      <td>NaN</td>\n",
              "    </tr>\n",
              "    <tr>\n",
              "      <th>462</th>\n",
              "      <td>0.904760</td>\n",
              "      <td>3.605302</td>\n",
              "      <td>0.960334</td>\n",
              "      <td>4.496601</td>\n",
              "      <td>8.236401</td>\n",
              "      <td>6.608622</td>\n",
              "      <td>5.724125</td>\n",
              "      <td>0.974294</td>\n",
              "      <td>7.549091</td>\n",
              "      <td>4.102647</td>\n",
              "      <td>3.138158</td>\n",
              "      <td>5.327016</td>\n",
              "      <td>2.607366</td>\n",
              "      <td>1.199356</td>\n",
              "      <td>7.811178</td>\n",
              "      <td>4.071002</td>\n",
              "      <td>6.124256</td>\n",
              "      <td>0.306508</td>\n",
              "      <td>7.756762</td>\n",
              "      <td>3.015796</td>\n",
              "      <td>8.264452</td>\n",
              "      <td>5.360776</td>\n",
              "      <td>5.710782</td>\n",
              "      <td>3.787429</td>\n",
              "      <td>5.933343</td>\n",
              "      <td>5.045471</td>\n",
              "      <td>2.299161</td>\n",
              "      <td>4.726286</td>\n",
              "      <td>3.488481</td>\n",
              "      <td>4.268617</td>\n",
              "      <td>6.021537</td>\n",
              "      <td>7.207501</td>\n",
              "      <td>2.988245</td>\n",
              "      <td>7.914662</td>\n",
              "      <td>4.612240</td>\n",
              "      <td>6.785581</td>\n",
              "      <td>3.715288</td>\n",
              "      <td>4.058615</td>\n",
              "      <td>0.379479</td>\n",
              "      <td>6.328115</td>\n",
              "      <td>...</td>\n",
              "      <td>3.263664</td>\n",
              "      <td>1.017853</td>\n",
              "      <td>7.433041</td>\n",
              "      <td>6.902527</td>\n",
              "      <td>5.612316</td>\n",
              "      <td>8.034915</td>\n",
              "      <td>2.833042</td>\n",
              "      <td>18.640559</td>\n",
              "      <td>8.355853</td>\n",
              "      <td>5.042055</td>\n",
              "      <td>3.907679</td>\n",
              "      <td>5.271165</td>\n",
              "      <td>1.103318</td>\n",
              "      <td>4.972344</td>\n",
              "      <td>3.307154</td>\n",
              "      <td>0.847398</td>\n",
              "      <td>5.125872</td>\n",
              "      <td>7.798388</td>\n",
              "      <td>0.986270</td>\n",
              "      <td>10.069606</td>\n",
              "      <td>8.155829</td>\n",
              "      <td>6.030770</td>\n",
              "      <td>3.241480</td>\n",
              "      <td>6.193915</td>\n",
              "      <td>2.980964</td>\n",
              "      <td>5.622482</td>\n",
              "      <td>4.810809</td>\n",
              "      <td>3.744505</td>\n",
              "      <td>6.559343</td>\n",
              "      <td>3.965559</td>\n",
              "      <td>7.618590</td>\n",
              "      <td>NaN</td>\n",
              "      <td>NaN</td>\n",
              "      <td>NaN</td>\n",
              "      <td>NaN</td>\n",
              "      <td>NaN</td>\n",
              "      <td>NaN</td>\n",
              "      <td>NaN</td>\n",
              "      <td>NaN</td>\n",
              "      <td>NaN</td>\n",
              "    </tr>\n",
              "    <tr>\n",
              "      <th>669</th>\n",
              "      <td>4.591597</td>\n",
              "      <td>6.483072</td>\n",
              "      <td>6.417460</td>\n",
              "      <td>1.194135</td>\n",
              "      <td>3.790496</td>\n",
              "      <td>3.104161</td>\n",
              "      <td>1.006811</td>\n",
              "      <td>4.496883</td>\n",
              "      <td>0.351913</td>\n",
              "      <td>6.402982</td>\n",
              "      <td>5.455981</td>\n",
              "      <td>2.726602</td>\n",
              "      <td>6.308754</td>\n",
              "      <td>6.965426</td>\n",
              "      <td>4.564766</td>\n",
              "      <td>3.607669</td>\n",
              "      <td>4.435986</td>\n",
              "      <td>6.546684</td>\n",
              "      <td>0.816455</td>\n",
              "      <td>7.577087</td>\n",
              "      <td>3.634972</td>\n",
              "      <td>2.314961</td>\n",
              "      <td>1.049171</td>\n",
              "      <td>0.902925</td>\n",
              "      <td>3.673777</td>\n",
              "      <td>4.466439</td>\n",
              "      <td>2.901835</td>\n",
              "      <td>1.011110</td>\n",
              "      <td>0.510661</td>\n",
              "      <td>3.738463</td>\n",
              "      <td>5.277363</td>\n",
              "      <td>7.566524</td>\n",
              "      <td>3.828002</td>\n",
              "      <td>1.197346</td>\n",
              "      <td>4.910236</td>\n",
              "      <td>1.147313</td>\n",
              "      <td>1.028658</td>\n",
              "      <td>5.457596</td>\n",
              "      <td>6.531090</td>\n",
              "      <td>8.053110</td>\n",
              "      <td>...</td>\n",
              "      <td>4.639554</td>\n",
              "      <td>2.599780</td>\n",
              "      <td>5.011008</td>\n",
              "      <td>5.233954</td>\n",
              "      <td>5.907806</td>\n",
              "      <td>3.302001</td>\n",
              "      <td>4.715899</td>\n",
              "      <td>17.579319</td>\n",
              "      <td>3.760478</td>\n",
              "      <td>8.464391</td>\n",
              "      <td>2.318573</td>\n",
              "      <td>8.007414</td>\n",
              "      <td>5.896038</td>\n",
              "      <td>1.204257</td>\n",
              "      <td>2.696743</td>\n",
              "      <td>2.445023</td>\n",
              "      <td>8.168124</td>\n",
              "      <td>4.575811</td>\n",
              "      <td>5.641035</td>\n",
              "      <td>10.900525</td>\n",
              "      <td>3.486800</td>\n",
              "      <td>6.302300</td>\n",
              "      <td>6.770146</td>\n",
              "      <td>2.589841</td>\n",
              "      <td>4.713673</td>\n",
              "      <td>3.872448</td>\n",
              "      <td>6.565635</td>\n",
              "      <td>1.089836</td>\n",
              "      <td>0.340854</td>\n",
              "      <td>4.456895</td>\n",
              "      <td>3.246668</td>\n",
              "      <td>NaN</td>\n",
              "      <td>NaN</td>\n",
              "      <td>NaN</td>\n",
              "      <td>NaN</td>\n",
              "      <td>NaN</td>\n",
              "      <td>NaN</td>\n",
              "      <td>NaN</td>\n",
              "      <td>NaN</td>\n",
              "      <td>NaN</td>\n",
              "    </tr>\n",
              "    <tr>\n",
              "      <th>819</th>\n",
              "      <td>1.094715</td>\n",
              "      <td>4.924815</td>\n",
              "      <td>6.444066</td>\n",
              "      <td>3.742685</td>\n",
              "      <td>7.492191</td>\n",
              "      <td>3.645357</td>\n",
              "      <td>3.986060</td>\n",
              "      <td>4.237768</td>\n",
              "      <td>7.877100</td>\n",
              "      <td>8.352879</td>\n",
              "      <td>8.383953</td>\n",
              "      <td>4.597021</td>\n",
              "      <td>2.942708</td>\n",
              "      <td>0.964373</td>\n",
              "      <td>4.104100</td>\n",
              "      <td>5.344809</td>\n",
              "      <td>4.378051</td>\n",
              "      <td>1.117602</td>\n",
              "      <td>8.060930</td>\n",
              "      <td>8.294938</td>\n",
              "      <td>5.499341</td>\n",
              "      <td>5.595114</td>\n",
              "      <td>7.966667</td>\n",
              "      <td>5.090141</td>\n",
              "      <td>5.208695</td>\n",
              "      <td>7.005862</td>\n",
              "      <td>2.408803</td>\n",
              "      <td>2.987621</td>\n",
              "      <td>3.828223</td>\n",
              "      <td>3.522459</td>\n",
              "      <td>6.283743</td>\n",
              "      <td>3.437370</td>\n",
              "      <td>8.241601</td>\n",
              "      <td>6.206437</td>\n",
              "      <td>3.593158</td>\n",
              "      <td>6.027068</td>\n",
              "      <td>3.974147</td>\n",
              "      <td>5.335039</td>\n",
              "      <td>1.134723</td>\n",
              "      <td>0.866685</td>\n",
              "      <td>...</td>\n",
              "      <td>6.491318</td>\n",
              "      <td>4.402011</td>\n",
              "      <td>2.467442</td>\n",
              "      <td>4.984683</td>\n",
              "      <td>4.595324</td>\n",
              "      <td>6.290225</td>\n",
              "      <td>6.104234</td>\n",
              "      <td>18.678338</td>\n",
              "      <td>3.579384</td>\n",
              "      <td>8.001765</td>\n",
              "      <td>3.203752</td>\n",
              "      <td>1.036819</td>\n",
              "      <td>0.000000</td>\n",
              "      <td>5.245985</td>\n",
              "      <td>5.532729</td>\n",
              "      <td>4.244238</td>\n",
              "      <td>7.309086</td>\n",
              "      <td>4.090851</td>\n",
              "      <td>3.348147</td>\n",
              "      <td>12.135237</td>\n",
              "      <td>4.394963</td>\n",
              "      <td>3.299236</td>\n",
              "      <td>4.497690</td>\n",
              "      <td>7.452808</td>\n",
              "      <td>3.250570</td>\n",
              "      <td>5.639359</td>\n",
              "      <td>4.103661</td>\n",
              "      <td>3.994209</td>\n",
              "      <td>7.885367</td>\n",
              "      <td>3.253316</td>\n",
              "      <td>2.840880</td>\n",
              "      <td>NaN</td>\n",
              "      <td>NaN</td>\n",
              "      <td>NaN</td>\n",
              "      <td>NaN</td>\n",
              "      <td>NaN</td>\n",
              "      <td>NaN</td>\n",
              "      <td>NaN</td>\n",
              "      <td>NaN</td>\n",
              "      <td>NaN</td>\n",
              "    </tr>\n",
              "    <tr>\n",
              "      <th>893</th>\n",
              "      <td>8.264698</td>\n",
              "      <td>4.532107</td>\n",
              "      <td>6.882217</td>\n",
              "      <td>5.370996</td>\n",
              "      <td>3.931296</td>\n",
              "      <td>7.749846</td>\n",
              "      <td>5.357319</td>\n",
              "      <td>6.266594</td>\n",
              "      <td>4.150884</td>\n",
              "      <td>3.376185</td>\n",
              "      <td>7.401359</td>\n",
              "      <td>7.617406</td>\n",
              "      <td>6.685389</td>\n",
              "      <td>5.116978</td>\n",
              "      <td>7.503689</td>\n",
              "      <td>4.837486</td>\n",
              "      <td>8.338522</td>\n",
              "      <td>7.095375</td>\n",
              "      <td>3.141760</td>\n",
              "      <td>5.771418</td>\n",
              "      <td>5.464525</td>\n",
              "      <td>5.360480</td>\n",
              "      <td>8.374536</td>\n",
              "      <td>3.122394</td>\n",
              "      <td>3.475317</td>\n",
              "      <td>7.938310</td>\n",
              "      <td>3.810058</td>\n",
              "      <td>4.359155</td>\n",
              "      <td>3.134797</td>\n",
              "      <td>5.129935</td>\n",
              "      <td>5.310517</td>\n",
              "      <td>6.503933</td>\n",
              "      <td>5.258309</td>\n",
              "      <td>3.068070</td>\n",
              "      <td>7.221936</td>\n",
              "      <td>3.420621</td>\n",
              "      <td>8.366339</td>\n",
              "      <td>7.039677</td>\n",
              "      <td>8.098276</td>\n",
              "      <td>4.261200</td>\n",
              "      <td>...</td>\n",
              "      <td>8.519153</td>\n",
              "      <td>NaN</td>\n",
              "      <td>4.817724</td>\n",
              "      <td>6.830936</td>\n",
              "      <td>3.479673</td>\n",
              "      <td>4.213326</td>\n",
              "      <td>NaN</td>\n",
              "      <td>4.356954</td>\n",
              "      <td>2.288841</td>\n",
              "      <td>19.534587</td>\n",
              "      <td>3.549115</td>\n",
              "      <td>6.939320</td>\n",
              "      <td>2.917993</td>\n",
              "      <td>NaN</td>\n",
              "      <td>4.117273</td>\n",
              "      <td>NaN</td>\n",
              "      <td>NaN</td>\n",
              "      <td>4.269476</td>\n",
              "      <td>4.238148</td>\n",
              "      <td>6.533958</td>\n",
              "      <td>8.198087</td>\n",
              "      <td>0.429631</td>\n",
              "      <td>7.478604</td>\n",
              "      <td>3.844623</td>\n",
              "      <td>8.104604</td>\n",
              "      <td>7.446033</td>\n",
              "      <td>NaN</td>\n",
              "      <td>NaN</td>\n",
              "      <td>8.247220</td>\n",
              "      <td>2.984580</td>\n",
              "      <td>3.197686</td>\n",
              "      <td>7.481995</td>\n",
              "      <td>3.481995</td>\n",
              "      <td>7.076969</td>\n",
              "      <td>8.076969</td>\n",
              "      <td>5.502195</td>\n",
              "      <td>7.393778</td>\n",
              "      <td>6.154175</td>\n",
              "      <td>4.847769</td>\n",
              "      <td>5.431454</td>\n",
              "    </tr>\n",
              "    <tr>\n",
              "      <th>1072</th>\n",
              "      <td>5.225394</td>\n",
              "      <td>2.816781</td>\n",
              "      <td>2.336601</td>\n",
              "      <td>6.807137</td>\n",
              "      <td>4.431261</td>\n",
              "      <td>7.437385</td>\n",
              "      <td>6.017747</td>\n",
              "      <td>5.340963</td>\n",
              "      <td>4.874518</td>\n",
              "      <td>4.352378</td>\n",
              "      <td>3.384267</td>\n",
              "      <td>2.413927</td>\n",
              "      <td>5.857391</td>\n",
              "      <td>0.607883</td>\n",
              "      <td>5.007617</td>\n",
              "      <td>3.280579</td>\n",
              "      <td>7.370098</td>\n",
              "      <td>1.090405</td>\n",
              "      <td>3.046156</td>\n",
              "      <td>7.225573</td>\n",
              "      <td>3.497755</td>\n",
              "      <td>4.678255</td>\n",
              "      <td>7.004090</td>\n",
              "      <td>3.070591</td>\n",
              "      <td>3.114024</td>\n",
              "      <td>6.855153</td>\n",
              "      <td>1.160873</td>\n",
              "      <td>5.019520</td>\n",
              "      <td>7.824744</td>\n",
              "      <td>5.479245</td>\n",
              "      <td>5.279598</td>\n",
              "      <td>5.447268</td>\n",
              "      <td>7.134082</td>\n",
              "      <td>8.173168</td>\n",
              "      <td>5.478052</td>\n",
              "      <td>6.067099</td>\n",
              "      <td>6.009006</td>\n",
              "      <td>3.292244</td>\n",
              "      <td>1.113817</td>\n",
              "      <td>0.840303</td>\n",
              "      <td>...</td>\n",
              "      <td>6.497980</td>\n",
              "      <td>5.231373</td>\n",
              "      <td>7.228571</td>\n",
              "      <td>3.814800</td>\n",
              "      <td>6.479805</td>\n",
              "      <td>4.292442</td>\n",
              "      <td>4.990392</td>\n",
              "      <td>20.665645</td>\n",
              "      <td>8.581399</td>\n",
              "      <td>3.850857</td>\n",
              "      <td>7.151607</td>\n",
              "      <td>0.742621</td>\n",
              "      <td>0.803436</td>\n",
              "      <td>3.234163</td>\n",
              "      <td>5.537319</td>\n",
              "      <td>3.304235</td>\n",
              "      <td>6.177494</td>\n",
              "      <td>7.991362</td>\n",
              "      <td>1.160350</td>\n",
              "      <td>10.147221</td>\n",
              "      <td>7.400657</td>\n",
              "      <td>3.284835</td>\n",
              "      <td>8.441420</td>\n",
              "      <td>5.421479</td>\n",
              "      <td>6.157360</td>\n",
              "      <td>5.519133</td>\n",
              "      <td>5.007020</td>\n",
              "      <td>7.032543</td>\n",
              "      <td>5.883010</td>\n",
              "      <td>3.192236</td>\n",
              "      <td>7.907343</td>\n",
              "      <td>NaN</td>\n",
              "      <td>NaN</td>\n",
              "      <td>NaN</td>\n",
              "      <td>NaN</td>\n",
              "      <td>NaN</td>\n",
              "      <td>NaN</td>\n",
              "      <td>NaN</td>\n",
              "      <td>NaN</td>\n",
              "      <td>NaN</td>\n",
              "    </tr>\n",
              "    <tr>\n",
              "      <th>1141</th>\n",
              "      <td>0.625729</td>\n",
              "      <td>2.730944</td>\n",
              "      <td>1.161431</td>\n",
              "      <td>6.447877</td>\n",
              "      <td>5.308690</td>\n",
              "      <td>3.714066</td>\n",
              "      <td>6.717281</td>\n",
              "      <td>0.794675</td>\n",
              "      <td>3.584467</td>\n",
              "      <td>5.126266</td>\n",
              "      <td>7.160588</td>\n",
              "      <td>6.489365</td>\n",
              "      <td>5.719453</td>\n",
              "      <td>3.240571</td>\n",
              "      <td>7.919581</td>\n",
              "      <td>4.149650</td>\n",
              "      <td>4.154652</td>\n",
              "      <td>0.643436</td>\n",
              "      <td>7.800444</td>\n",
              "      <td>4.099631</td>\n",
              "      <td>3.287290</td>\n",
              "      <td>5.281605</td>\n",
              "      <td>7.697371</td>\n",
              "      <td>5.835210</td>\n",
              "      <td>3.035605</td>\n",
              "      <td>8.117171</td>\n",
              "      <td>5.433949</td>\n",
              "      <td>5.719195</td>\n",
              "      <td>2.526537</td>\n",
              "      <td>3.327103</td>\n",
              "      <td>7.049720</td>\n",
              "      <td>6.220123</td>\n",
              "      <td>8.094400</td>\n",
              "      <td>2.972319</td>\n",
              "      <td>6.674432</td>\n",
              "      <td>2.769269</td>\n",
              "      <td>6.704826</td>\n",
              "      <td>5.121049</td>\n",
              "      <td>0.644992</td>\n",
              "      <td>5.302286</td>\n",
              "      <td>...</td>\n",
              "      <td>6.278860</td>\n",
              "      <td>1.223592</td>\n",
              "      <td>2.544443</td>\n",
              "      <td>5.006517</td>\n",
              "      <td>7.675032</td>\n",
              "      <td>8.056712</td>\n",
              "      <td>5.948524</td>\n",
              "      <td>17.651859</td>\n",
              "      <td>4.374524</td>\n",
              "      <td>8.113679</td>\n",
              "      <td>3.981784</td>\n",
              "      <td>2.312484</td>\n",
              "      <td>1.007518</td>\n",
              "      <td>6.008720</td>\n",
              "      <td>5.323897</td>\n",
              "      <td>0.738536</td>\n",
              "      <td>3.231969</td>\n",
              "      <td>5.908991</td>\n",
              "      <td>1.193743</td>\n",
              "      <td>13.067338</td>\n",
              "      <td>7.172938</td>\n",
              "      <td>7.068610</td>\n",
              "      <td>5.310340</td>\n",
              "      <td>4.244060</td>\n",
              "      <td>8.080654</td>\n",
              "      <td>6.692880</td>\n",
              "      <td>3.919315</td>\n",
              "      <td>5.730071</td>\n",
              "      <td>7.594200</td>\n",
              "      <td>6.044917</td>\n",
              "      <td>7.570309</td>\n",
              "      <td>NaN</td>\n",
              "      <td>NaN</td>\n",
              "      <td>NaN</td>\n",
              "      <td>NaN</td>\n",
              "      <td>NaN</td>\n",
              "      <td>NaN</td>\n",
              "      <td>NaN</td>\n",
              "      <td>NaN</td>\n",
              "      <td>NaN</td>\n",
              "    </tr>\n",
              "    <tr>\n",
              "      <th>1148</th>\n",
              "      <td>4.245904</td>\n",
              "      <td>6.607950</td>\n",
              "      <td>6.276632</td>\n",
              "      <td>0.874079</td>\n",
              "      <td>7.042873</td>\n",
              "      <td>5.013165</td>\n",
              "      <td>1.135216</td>\n",
              "      <td>1.112568</td>\n",
              "      <td>0.962593</td>\n",
              "      <td>4.692537</td>\n",
              "      <td>7.734418</td>\n",
              "      <td>2.668940</td>\n",
              "      <td>3.498573</td>\n",
              "      <td>6.766447</td>\n",
              "      <td>7.748611</td>\n",
              "      <td>4.874571</td>\n",
              "      <td>4.736227</td>\n",
              "      <td>4.265656</td>\n",
              "      <td>6.300238</td>\n",
              "      <td>7.836820</td>\n",
              "      <td>3.890567</td>\n",
              "      <td>0.888090</td>\n",
              "      <td>1.115631</td>\n",
              "      <td>7.358892</td>\n",
              "      <td>4.864809</td>\n",
              "      <td>8.389559</td>\n",
              "      <td>5.780032</td>\n",
              "      <td>1.138452</td>\n",
              "      <td>0.882043</td>\n",
              "      <td>3.012115</td>\n",
              "      <td>7.600556</td>\n",
              "      <td>7.802616</td>\n",
              "      <td>6.981402</td>\n",
              "      <td>7.568788</td>\n",
              "      <td>8.872358</td>\n",
              "      <td>4.228434</td>\n",
              "      <td>1.121655</td>\n",
              "      <td>2.772748</td>\n",
              "      <td>3.244627</td>\n",
              "      <td>5.836127</td>\n",
              "      <td>...</td>\n",
              "      <td>4.875333</td>\n",
              "      <td>4.473220</td>\n",
              "      <td>2.892998</td>\n",
              "      <td>5.202165</td>\n",
              "      <td>7.871157</td>\n",
              "      <td>7.602435</td>\n",
              "      <td>2.851216</td>\n",
              "      <td>17.612238</td>\n",
              "      <td>7.992343</td>\n",
              "      <td>5.386987</td>\n",
              "      <td>3.642030</td>\n",
              "      <td>4.816382</td>\n",
              "      <td>6.640550</td>\n",
              "      <td>3.560932</td>\n",
              "      <td>3.930544</td>\n",
              "      <td>1.069419</td>\n",
              "      <td>4.245371</td>\n",
              "      <td>5.750024</td>\n",
              "      <td>3.499357</td>\n",
              "      <td>8.949769</td>\n",
              "      <td>5.745968</td>\n",
              "      <td>7.640437</td>\n",
              "      <td>5.030168</td>\n",
              "      <td>2.886598</td>\n",
              "      <td>5.907762</td>\n",
              "      <td>8.856972</td>\n",
              "      <td>2.748987</td>\n",
              "      <td>1.167029</td>\n",
              "      <td>0.976053</td>\n",
              "      <td>5.745520</td>\n",
              "      <td>1.050474</td>\n",
              "      <td>NaN</td>\n",
              "      <td>NaN</td>\n",
              "      <td>NaN</td>\n",
              "      <td>NaN</td>\n",
              "      <td>NaN</td>\n",
              "      <td>NaN</td>\n",
              "      <td>NaN</td>\n",
              "      <td>NaN</td>\n",
              "      <td>NaN</td>\n",
              "    </tr>\n",
              "    <tr>\n",
              "      <th>1184</th>\n",
              "      <td>6.105281</td>\n",
              "      <td>1.119361</td>\n",
              "      <td>3.702132</td>\n",
              "      <td>8.051217</td>\n",
              "      <td>6.310792</td>\n",
              "      <td>7.995941</td>\n",
              "      <td>7.955697</td>\n",
              "      <td>5.073572</td>\n",
              "      <td>2.725977</td>\n",
              "      <td>7.882138</td>\n",
              "      <td>2.910848</td>\n",
              "      <td>6.646020</td>\n",
              "      <td>2.153168</td>\n",
              "      <td>5.154439</td>\n",
              "      <td>0.734770</td>\n",
              "      <td>2.106884</td>\n",
              "      <td>7.826740</td>\n",
              "      <td>2.956842</td>\n",
              "      <td>3.638542</td>\n",
              "      <td>0.985616</td>\n",
              "      <td>4.979905</td>\n",
              "      <td>8.083112</td>\n",
              "      <td>6.984721</td>\n",
              "      <td>2.600215</td>\n",
              "      <td>0.284402</td>\n",
              "      <td>6.296631</td>\n",
              "      <td>2.913730</td>\n",
              "      <td>6.957640</td>\n",
              "      <td>7.726588</td>\n",
              "      <td>6.555391</td>\n",
              "      <td>1.806034</td>\n",
              "      <td>8.039367</td>\n",
              "      <td>0.774706</td>\n",
              "      <td>4.480134</td>\n",
              "      <td>8.641648</td>\n",
              "      <td>5.027407</td>\n",
              "      <td>2.971478</td>\n",
              "      <td>5.411621</td>\n",
              "      <td>4.953031</td>\n",
              "      <td>8.287945</td>\n",
              "      <td>...</td>\n",
              "      <td>5.051947</td>\n",
              "      <td>2.740767</td>\n",
              "      <td>5.990862</td>\n",
              "      <td>2.933995</td>\n",
              "      <td>6.635581</td>\n",
              "      <td>3.868547</td>\n",
              "      <td>0.872267</td>\n",
              "      <td>18.519908</td>\n",
              "      <td>6.082393</td>\n",
              "      <td>8.296157</td>\n",
              "      <td>3.250961</td>\n",
              "      <td>8.174139</td>\n",
              "      <td>5.226597</td>\n",
              "      <td>4.714045</td>\n",
              "      <td>8.066688</td>\n",
              "      <td>3.002717</td>\n",
              "      <td>7.504417</td>\n",
              "      <td>0.765653</td>\n",
              "      <td>2.789075</td>\n",
              "      <td>9.959333</td>\n",
              "      <td>7.969060</td>\n",
              "      <td>4.714652</td>\n",
              "      <td>6.373603</td>\n",
              "      <td>2.631230</td>\n",
              "      <td>0.328312</td>\n",
              "      <td>6.539103</td>\n",
              "      <td>0.735394</td>\n",
              "      <td>5.001639</td>\n",
              "      <td>6.726707</td>\n",
              "      <td>1.119892</td>\n",
              "      <td>4.098708</td>\n",
              "      <td>NaN</td>\n",
              "      <td>NaN</td>\n",
              "      <td>NaN</td>\n",
              "      <td>NaN</td>\n",
              "      <td>NaN</td>\n",
              "      <td>NaN</td>\n",
              "      <td>NaN</td>\n",
              "      <td>NaN</td>\n",
              "      <td>NaN</td>\n",
              "    </tr>\n",
              "    <tr>\n",
              "      <th>1309</th>\n",
              "      <td>6.581516</td>\n",
              "      <td>3.520370</td>\n",
              "      <td>5.434830</td>\n",
              "      <td>1.149474</td>\n",
              "      <td>2.817656</td>\n",
              "      <td>5.119196</td>\n",
              "      <td>0.949434</td>\n",
              "      <td>2.483618</td>\n",
              "      <td>0.250438</td>\n",
              "      <td>6.400096</td>\n",
              "      <td>6.452673</td>\n",
              "      <td>5.748291</td>\n",
              "      <td>2.352483</td>\n",
              "      <td>6.969838</td>\n",
              "      <td>2.602438</td>\n",
              "      <td>2.640181</td>\n",
              "      <td>2.439490</td>\n",
              "      <td>6.547873</td>\n",
              "      <td>0.845427</td>\n",
              "      <td>2.611839</td>\n",
              "      <td>6.633671</td>\n",
              "      <td>7.282147</td>\n",
              "      <td>0.992071</td>\n",
              "      <td>0.935592</td>\n",
              "      <td>5.709102</td>\n",
              "      <td>7.479865</td>\n",
              "      <td>6.915830</td>\n",
              "      <td>0.954044</td>\n",
              "      <td>0.496613</td>\n",
              "      <td>2.760037</td>\n",
              "      <td>7.277593</td>\n",
              "      <td>3.556940</td>\n",
              "      <td>7.860369</td>\n",
              "      <td>6.229197</td>\n",
              "      <td>4.924391</td>\n",
              "      <td>1.097513</td>\n",
              "      <td>0.971118</td>\n",
              "      <td>6.485737</td>\n",
              "      <td>3.531940</td>\n",
              "      <td>6.053514</td>\n",
              "      <td>...</td>\n",
              "      <td>3.632848</td>\n",
              "      <td>3.616605</td>\n",
              "      <td>3.024261</td>\n",
              "      <td>6.253053</td>\n",
              "      <td>3.922075</td>\n",
              "      <td>7.295771</td>\n",
              "      <td>2.749726</td>\n",
              "      <td>19.581632</td>\n",
              "      <td>2.757296</td>\n",
              "      <td>7.477781</td>\n",
              "      <td>5.357113</td>\n",
              "      <td>8.012285</td>\n",
              "      <td>5.893120</td>\n",
              "      <td>1.213478</td>\n",
              "      <td>6.691729</td>\n",
              "      <td>4.436340</td>\n",
              "      <td>4.194300</td>\n",
              "      <td>6.613106</td>\n",
              "      <td>3.655948</td>\n",
              "      <td>12.897828</td>\n",
              "      <td>7.479437</td>\n",
              "      <td>3.312787</td>\n",
              "      <td>6.796225</td>\n",
              "      <td>2.608059</td>\n",
              "      <td>3.748096</td>\n",
              "      <td>6.888540</td>\n",
              "      <td>3.603282</td>\n",
              "      <td>1.036070</td>\n",
              "      <td>0.175608</td>\n",
              "      <td>5.493263</td>\n",
              "      <td>1.199328</td>\n",
              "      <td>NaN</td>\n",
              "      <td>NaN</td>\n",
              "      <td>NaN</td>\n",
              "      <td>NaN</td>\n",
              "      <td>NaN</td>\n",
              "      <td>NaN</td>\n",
              "      <td>NaN</td>\n",
              "      <td>NaN</td>\n",
              "      <td>NaN</td>\n",
              "    </tr>\n",
              "    <tr>\n",
              "      <th>1365</th>\n",
              "      <td>7.086447</td>\n",
              "      <td>1.205881</td>\n",
              "      <td>7.715778</td>\n",
              "      <td>6.963199</td>\n",
              "      <td>1.121809</td>\n",
              "      <td>5.099712</td>\n",
              "      <td>2.827705</td>\n",
              "      <td>5.043208</td>\n",
              "      <td>5.603353</td>\n",
              "      <td>7.698682</td>\n",
              "      <td>3.728923</td>\n",
              "      <td>6.737692</td>\n",
              "      <td>1.120171</td>\n",
              "      <td>4.198801</td>\n",
              "      <td>0.897562</td>\n",
              "      <td>0.785021</td>\n",
              "      <td>7.633708</td>\n",
              "      <td>5.957325</td>\n",
              "      <td>5.466382</td>\n",
              "      <td>0.577613</td>\n",
              "      <td>5.801112</td>\n",
              "      <td>3.014298</td>\n",
              "      <td>4.862007</td>\n",
              "      <td>6.416441</td>\n",
              "      <td>0.818524</td>\n",
              "      <td>6.407905</td>\n",
              "      <td>3.992694</td>\n",
              "      <td>5.829589</td>\n",
              "      <td>7.615343</td>\n",
              "      <td>6.346412</td>\n",
              "      <td>3.618369</td>\n",
              "      <td>6.870074</td>\n",
              "      <td>1.129799</td>\n",
              "      <td>7.247759</td>\n",
              "      <td>6.758908</td>\n",
              "      <td>3.900299</td>\n",
              "      <td>6.846575</td>\n",
              "      <td>1.146907</td>\n",
              "      <td>3.951273</td>\n",
              "      <td>7.322421</td>\n",
              "      <td>...</td>\n",
              "      <td>4.881366</td>\n",
              "      <td>7.787148</td>\n",
              "      <td>3.076946</td>\n",
              "      <td>6.074869</td>\n",
              "      <td>6.753411</td>\n",
              "      <td>6.689137</td>\n",
              "      <td>1.152395</td>\n",
              "      <td>19.517417</td>\n",
              "      <td>7.912834</td>\n",
              "      <td>4.407173</td>\n",
              "      <td>0.962760</td>\n",
              "      <td>5.222867</td>\n",
              "      <td>7.242475</td>\n",
              "      <td>7.516971</td>\n",
              "      <td>2.896319</td>\n",
              "      <td>7.976554</td>\n",
              "      <td>6.714850</td>\n",
              "      <td>0.950282</td>\n",
              "      <td>3.836264</td>\n",
              "      <td>10.915272</td>\n",
              "      <td>6.793905</td>\n",
              "      <td>6.511109</td>\n",
              "      <td>1.170336</td>\n",
              "      <td>7.411276</td>\n",
              "      <td>0.819806</td>\n",
              "      <td>6.665838</td>\n",
              "      <td>0.900133</td>\n",
              "      <td>4.876562</td>\n",
              "      <td>7.602201</td>\n",
              "      <td>0.761525</td>\n",
              "      <td>6.001227</td>\n",
              "      <td>NaN</td>\n",
              "      <td>NaN</td>\n",
              "      <td>NaN</td>\n",
              "      <td>NaN</td>\n",
              "      <td>NaN</td>\n",
              "      <td>NaN</td>\n",
              "      <td>NaN</td>\n",
              "      <td>NaN</td>\n",
              "      <td>NaN</td>\n",
              "    </tr>\n",
              "    <tr>\n",
              "      <th>1452</th>\n",
              "      <td>3.568161</td>\n",
              "      <td>4.869674</td>\n",
              "      <td>7.674107</td>\n",
              "      <td>0.790222</td>\n",
              "      <td>8.099365</td>\n",
              "      <td>6.287776</td>\n",
              "      <td>0.744033</td>\n",
              "      <td>2.457779</td>\n",
              "      <td>1.120615</td>\n",
              "      <td>3.524172</td>\n",
              "      <td>4.560424</td>\n",
              "      <td>7.985704</td>\n",
              "      <td>5.745868</td>\n",
              "      <td>3.053613</td>\n",
              "      <td>6.951316</td>\n",
              "      <td>6.962870</td>\n",
              "      <td>7.604099</td>\n",
              "      <td>7.648912</td>\n",
              "      <td>3.311679</td>\n",
              "      <td>4.947958</td>\n",
              "      <td>7.724265</td>\n",
              "      <td>1.067358</td>\n",
              "      <td>0.634008</td>\n",
              "      <td>3.376411</td>\n",
              "      <td>6.040961</td>\n",
              "      <td>5.624955</td>\n",
              "      <td>8.085226</td>\n",
              "      <td>0.742833</td>\n",
              "      <td>1.135127</td>\n",
              "      <td>7.010027</td>\n",
              "      <td>2.459503</td>\n",
              "      <td>3.583078</td>\n",
              "      <td>5.168212</td>\n",
              "      <td>2.593892</td>\n",
              "      <td>4.070308</td>\n",
              "      <td>0.714641</td>\n",
              "      <td>0.683707</td>\n",
              "      <td>7.797972</td>\n",
              "      <td>2.632822</td>\n",
              "      <td>5.093890</td>\n",
              "      <td>...</td>\n",
              "      <td>5.673099</td>\n",
              "      <td>6.830109</td>\n",
              "      <td>6.181992</td>\n",
              "      <td>6.451196</td>\n",
              "      <td>9.069062</td>\n",
              "      <td>3.423704</td>\n",
              "      <td>6.069279</td>\n",
              "      <td>21.606949</td>\n",
              "      <td>5.813155</td>\n",
              "      <td>8.622598</td>\n",
              "      <td>3.732786</td>\n",
              "      <td>5.097581</td>\n",
              "      <td>3.912374</td>\n",
              "      <td>3.470862</td>\n",
              "      <td>6.739006</td>\n",
              "      <td>2.470825</td>\n",
              "      <td>6.450258</td>\n",
              "      <td>7.959131</td>\n",
              "      <td>7.851802</td>\n",
              "      <td>7.874240</td>\n",
              "      <td>3.544839</td>\n",
              "      <td>5.551983</td>\n",
              "      <td>4.072486</td>\n",
              "      <td>2.849270</td>\n",
              "      <td>8.073511</td>\n",
              "      <td>8.052403</td>\n",
              "      <td>3.951971</td>\n",
              "      <td>0.663704</td>\n",
              "      <td>1.118502</td>\n",
              "      <td>3.846183</td>\n",
              "      <td>0.597628</td>\n",
              "      <td>NaN</td>\n",
              "      <td>NaN</td>\n",
              "      <td>NaN</td>\n",
              "      <td>NaN</td>\n",
              "      <td>NaN</td>\n",
              "      <td>NaN</td>\n",
              "      <td>NaN</td>\n",
              "      <td>NaN</td>\n",
              "      <td>NaN</td>\n",
              "    </tr>\n",
              "    <tr>\n",
              "      <th>1465</th>\n",
              "      <td>2.994302</td>\n",
              "      <td>0.865305</td>\n",
              "      <td>5.549732</td>\n",
              "      <td>5.985055</td>\n",
              "      <td>7.492409</td>\n",
              "      <td>7.853730</td>\n",
              "      <td>2.921082</td>\n",
              "      <td>6.967501</td>\n",
              "      <td>7.670455</td>\n",
              "      <td>4.918913</td>\n",
              "      <td>4.950849</td>\n",
              "      <td>3.465285</td>\n",
              "      <td>1.002212</td>\n",
              "      <td>5.022137</td>\n",
              "      <td>0.541452</td>\n",
              "      <td>5.283666</td>\n",
              "      <td>6.875436</td>\n",
              "      <td>4.827914</td>\n",
              "      <td>3.625254</td>\n",
              "      <td>1.169504</td>\n",
              "      <td>8.034712</td>\n",
              "      <td>6.003344</td>\n",
              "      <td>6.946658</td>\n",
              "      <td>5.595997</td>\n",
              "      <td>0.703943</td>\n",
              "      <td>5.184715</td>\n",
              "      <td>5.760603</td>\n",
              "      <td>6.923222</td>\n",
              "      <td>3.661053</td>\n",
              "      <td>3.687469</td>\n",
              "      <td>2.835805</td>\n",
              "      <td>3.075155</td>\n",
              "      <td>0.828767</td>\n",
              "      <td>5.521019</td>\n",
              "      <td>5.568198</td>\n",
              "      <td>5.996898</td>\n",
              "      <td>7.934759</td>\n",
              "      <td>3.510215</td>\n",
              "      <td>6.824955</td>\n",
              "      <td>3.165099</td>\n",
              "      <td>...</td>\n",
              "      <td>7.096172</td>\n",
              "      <td>7.578255</td>\n",
              "      <td>5.844633</td>\n",
              "      <td>7.808437</td>\n",
              "      <td>6.562586</td>\n",
              "      <td>4.893647</td>\n",
              "      <td>0.564303</td>\n",
              "      <td>19.537312</td>\n",
              "      <td>4.139027</td>\n",
              "      <td>3.184016</td>\n",
              "      <td>3.316668</td>\n",
              "      <td>5.042241</td>\n",
              "      <td>3.106102</td>\n",
              "      <td>2.743823</td>\n",
              "      <td>3.116735</td>\n",
              "      <td>4.890467</td>\n",
              "      <td>3.448907</td>\n",
              "      <td>0.468005</td>\n",
              "      <td>4.630400</td>\n",
              "      <td>7.989481</td>\n",
              "      <td>4.004711</td>\n",
              "      <td>4.757807</td>\n",
              "      <td>7.540596</td>\n",
              "      <td>3.728134</td>\n",
              "      <td>0.816836</td>\n",
              "      <td>7.475458</td>\n",
              "      <td>0.537111</td>\n",
              "      <td>5.967172</td>\n",
              "      <td>6.672942</td>\n",
              "      <td>5.237795</td>\n",
              "      <td>8.043369</td>\n",
              "      <td>NaN</td>\n",
              "      <td>NaN</td>\n",
              "      <td>NaN</td>\n",
              "      <td>NaN</td>\n",
              "      <td>NaN</td>\n",
              "      <td>NaN</td>\n",
              "      <td>NaN</td>\n",
              "      <td>NaN</td>\n",
              "      <td>NaN</td>\n",
              "    </tr>\n",
              "    <tr>\n",
              "      <th>1467</th>\n",
              "      <td>7.936399</td>\n",
              "      <td>2.240285</td>\n",
              "      <td>7.601038</td>\n",
              "      <td>7.732406</td>\n",
              "      <td>2.302908</td>\n",
              "      <td>4.118142</td>\n",
              "      <td>5.557207</td>\n",
              "      <td>4.877591</td>\n",
              "      <td>7.304073</td>\n",
              "      <td>2.454254</td>\n",
              "      <td>7.496427</td>\n",
              "      <td>7.730479</td>\n",
              "      <td>1.027242</td>\n",
              "      <td>6.134114</td>\n",
              "      <td>1.128835</td>\n",
              "      <td>1.012000</td>\n",
              "      <td>4.399482</td>\n",
              "      <td>2.827796</td>\n",
              "      <td>1.109124</td>\n",
              "      <td>0.953979</td>\n",
              "      <td>2.611661</td>\n",
              "      <td>6.804840</td>\n",
              "      <td>4.598246</td>\n",
              "      <td>1.043414</td>\n",
              "      <td>1.201336</td>\n",
              "      <td>5.452690</td>\n",
              "      <td>4.971352</td>\n",
              "      <td>2.559358</td>\n",
              "      <td>7.329326</td>\n",
              "      <td>6.341141</td>\n",
              "      <td>4.343942</td>\n",
              "      <td>6.654966</td>\n",
              "      <td>6.435561</td>\n",
              "      <td>0.864136</td>\n",
              "      <td>4.840097</td>\n",
              "      <td>5.640809</td>\n",
              "      <td>3.579857</td>\n",
              "      <td>0.967956</td>\n",
              "      <td>3.818647</td>\n",
              "      <td>7.247812</td>\n",
              "      <td>...</td>\n",
              "      <td>6.682947</td>\n",
              "      <td>2.717615</td>\n",
              "      <td>8.068129</td>\n",
              "      <td>3.153526</td>\n",
              "      <td>4.835733</td>\n",
              "      <td>7.423721</td>\n",
              "      <td>3.372290</td>\n",
              "      <td>16.535283</td>\n",
              "      <td>7.744279</td>\n",
              "      <td>3.451452</td>\n",
              "      <td>0.532415</td>\n",
              "      <td>4.164865</td>\n",
              "      <td>8.141041</td>\n",
              "      <td>1.215472</td>\n",
              "      <td>5.711508</td>\n",
              "      <td>2.813476</td>\n",
              "      <td>5.912048</td>\n",
              "      <td>1.164307</td>\n",
              "      <td>3.768100</td>\n",
              "      <td>11.892150</td>\n",
              "      <td>7.565724</td>\n",
              "      <td>6.234642</td>\n",
              "      <td>5.295655</td>\n",
              "      <td>4.276178</td>\n",
              "      <td>4.234153</td>\n",
              "      <td>5.767499</td>\n",
              "      <td>1.130891</td>\n",
              "      <td>5.614079</td>\n",
              "      <td>7.300966</td>\n",
              "      <td>0.746279</td>\n",
              "      <td>4.766667</td>\n",
              "      <td>NaN</td>\n",
              "      <td>NaN</td>\n",
              "      <td>NaN</td>\n",
              "      <td>NaN</td>\n",
              "      <td>NaN</td>\n",
              "      <td>NaN</td>\n",
              "      <td>NaN</td>\n",
              "      <td>NaN</td>\n",
              "      <td>NaN</td>\n",
              "    </tr>\n",
              "    <tr>\n",
              "      <th>1486</th>\n",
              "      <td>3.632952</td>\n",
              "      <td>3.463448</td>\n",
              "      <td>5.460775</td>\n",
              "      <td>5.894533</td>\n",
              "      <td>5.872851</td>\n",
              "      <td>3.909689</td>\n",
              "      <td>5.970521</td>\n",
              "      <td>7.675328</td>\n",
              "      <td>4.820465</td>\n",
              "      <td>4.098016</td>\n",
              "      <td>7.121121</td>\n",
              "      <td>6.226042</td>\n",
              "      <td>7.568812</td>\n",
              "      <td>5.277201</td>\n",
              "      <td>4.534558</td>\n",
              "      <td>4.789856</td>\n",
              "      <td>6.084115</td>\n",
              "      <td>4.513925</td>\n",
              "      <td>3.877359</td>\n",
              "      <td>5.740823</td>\n",
              "      <td>7.189207</td>\n",
              "      <td>3.839066</td>\n",
              "      <td>5.972984</td>\n",
              "      <td>6.876017</td>\n",
              "      <td>3.558267</td>\n",
              "      <td>3.444131</td>\n",
              "      <td>3.133137</td>\n",
              "      <td>5.972015</td>\n",
              "      <td>4.794289</td>\n",
              "      <td>3.997423</td>\n",
              "      <td>8.040995</td>\n",
              "      <td>7.193810</td>\n",
              "      <td>6.461750</td>\n",
              "      <td>5.881966</td>\n",
              "      <td>0.786589</td>\n",
              "      <td>9.017362</td>\n",
              "      <td>5.971236</td>\n",
              "      <td>7.902176</td>\n",
              "      <td>6.523016</td>\n",
              "      <td>7.348370</td>\n",
              "      <td>...</td>\n",
              "      <td>7.217928</td>\n",
              "      <td>3.346663</td>\n",
              "      <td>8.042881</td>\n",
              "      <td>7.723912</td>\n",
              "      <td>0.797941</td>\n",
              "      <td>8.068679</td>\n",
              "      <td>7.419998</td>\n",
              "      <td>19.634713</td>\n",
              "      <td>4.259260</td>\n",
              "      <td>3.449708</td>\n",
              "      <td>4.796735</td>\n",
              "      <td>8.243342</td>\n",
              "      <td>5.471340</td>\n",
              "      <td>7.989340</td>\n",
              "      <td>7.237914</td>\n",
              "      <td>6.635176</td>\n",
              "      <td>7.146419</td>\n",
              "      <td>4.515311</td>\n",
              "      <td>8.331426</td>\n",
              "      <td>12.416202</td>\n",
              "      <td>6.149226</td>\n",
              "      <td>7.010144</td>\n",
              "      <td>6.905615</td>\n",
              "      <td>8.022614</td>\n",
              "      <td>8.574381</td>\n",
              "      <td>1.161178</td>\n",
              "      <td>5.533566</td>\n",
              "      <td>4.992337</td>\n",
              "      <td>8.825185</td>\n",
              "      <td>5.771959</td>\n",
              "      <td>8.958532</td>\n",
              "      <td>NaN</td>\n",
              "      <td>NaN</td>\n",
              "      <td>NaN</td>\n",
              "      <td>NaN</td>\n",
              "      <td>NaN</td>\n",
              "      <td>NaN</td>\n",
              "      <td>NaN</td>\n",
              "      <td>NaN</td>\n",
              "      <td>NaN</td>\n",
              "    </tr>\n",
              "    <tr>\n",
              "      <th>1538</th>\n",
              "      <td>3.400167</td>\n",
              "      <td>6.402909</td>\n",
              "      <td>0.919795</td>\n",
              "      <td>4.770031</td>\n",
              "      <td>4.156461</td>\n",
              "      <td>6.273588</td>\n",
              "      <td>7.905524</td>\n",
              "      <td>2.439365</td>\n",
              "      <td>6.685858</td>\n",
              "      <td>8.179022</td>\n",
              "      <td>5.213814</td>\n",
              "      <td>0.813692</td>\n",
              "      <td>4.486656</td>\n",
              "      <td>1.203285</td>\n",
              "      <td>7.641265</td>\n",
              "      <td>2.988180</td>\n",
              "      <td>5.182447</td>\n",
              "      <td>1.105203</td>\n",
              "      <td>6.832213</td>\n",
              "      <td>4.920732</td>\n",
              "      <td>5.328093</td>\n",
              "      <td>2.687147</td>\n",
              "      <td>7.904549</td>\n",
              "      <td>7.847216</td>\n",
              "      <td>5.765938</td>\n",
              "      <td>4.812296</td>\n",
              "      <td>0.876482</td>\n",
              "      <td>2.907776</td>\n",
              "      <td>4.634863</td>\n",
              "      <td>8.233678</td>\n",
              "      <td>3.095980</td>\n",
              "      <td>7.298838</td>\n",
              "      <td>6.782047</td>\n",
              "      <td>6.926389</td>\n",
              "      <td>8.413831</td>\n",
              "      <td>5.973765</td>\n",
              "      <td>5.903785</td>\n",
              "      <td>3.035018</td>\n",
              "      <td>1.118807</td>\n",
              "      <td>4.430773</td>\n",
              "      <td>...</td>\n",
              "      <td>6.344854</td>\n",
              "      <td>0.538547</td>\n",
              "      <td>1.093374</td>\n",
              "      <td>2.583283</td>\n",
              "      <td>7.412807</td>\n",
              "      <td>5.122444</td>\n",
              "      <td>2.607700</td>\n",
              "      <td>19.621983</td>\n",
              "      <td>3.422282</td>\n",
              "      <td>7.809063</td>\n",
              "      <td>5.868080</td>\n",
              "      <td>3.241433</td>\n",
              "      <td>3.377741</td>\n",
              "      <td>8.033054</td>\n",
              "      <td>8.381554</td>\n",
              "      <td>6.341715</td>\n",
              "      <td>7.860513</td>\n",
              "      <td>3.619140</td>\n",
              "      <td>0.436762</td>\n",
              "      <td>8.102462</td>\n",
              "      <td>8.241827</td>\n",
              "      <td>8.080662</td>\n",
              "      <td>7.173739</td>\n",
              "      <td>6.192271</td>\n",
              "      <td>5.816957</td>\n",
              "      <td>6.408367</td>\n",
              "      <td>5.640399</td>\n",
              "      <td>7.935151</td>\n",
              "      <td>2.694784</td>\n",
              "      <td>6.896786</td>\n",
              "      <td>2.872458</td>\n",
              "      <td>NaN</td>\n",
              "      <td>NaN</td>\n",
              "      <td>NaN</td>\n",
              "      <td>NaN</td>\n",
              "      <td>NaN</td>\n",
              "      <td>NaN</td>\n",
              "      <td>NaN</td>\n",
              "      <td>NaN</td>\n",
              "      <td>NaN</td>\n",
              "    </tr>\n",
              "    <tr>\n",
              "      <th>1587</th>\n",
              "      <td>6.107796</td>\n",
              "      <td>1.129291</td>\n",
              "      <td>5.707274</td>\n",
              "      <td>7.048759</td>\n",
              "      <td>7.292649</td>\n",
              "      <td>6.006381</td>\n",
              "      <td>6.950261</td>\n",
              "      <td>8.075310</td>\n",
              "      <td>2.721412</td>\n",
              "      <td>7.871620</td>\n",
              "      <td>4.900264</td>\n",
              "      <td>3.656441</td>\n",
              "      <td>1.154303</td>\n",
              "      <td>5.161122</td>\n",
              "      <td>0.744851</td>\n",
              "      <td>1.084649</td>\n",
              "      <td>3.815352</td>\n",
              "      <td>5.960846</td>\n",
              "      <td>2.630366</td>\n",
              "      <td>0.961053</td>\n",
              "      <td>5.968850</td>\n",
              "      <td>4.082056</td>\n",
              "      <td>4.979653</td>\n",
              "      <td>3.591234</td>\n",
              "      <td>0.323257</td>\n",
              "      <td>7.306725</td>\n",
              "      <td>7.922906</td>\n",
              "      <td>2.952194</td>\n",
              "      <td>6.722867</td>\n",
              "      <td>7.539573</td>\n",
              "      <td>5.795623</td>\n",
              "      <td>4.029482</td>\n",
              "      <td>0.802291</td>\n",
              "      <td>7.467591</td>\n",
              "      <td>4.650895</td>\n",
              "      <td>3.021880</td>\n",
              "      <td>4.966260</td>\n",
              "      <td>6.395477</td>\n",
              "      <td>6.956886</td>\n",
              "      <td>4.293838</td>\n",
              "      <td>...</td>\n",
              "      <td>6.041670</td>\n",
              "      <td>7.748095</td>\n",
              "      <td>4.000326</td>\n",
              "      <td>6.946291</td>\n",
              "      <td>6.644848</td>\n",
              "      <td>2.858658</td>\n",
              "      <td>0.898025</td>\n",
              "      <td>18.519122</td>\n",
              "      <td>5.071656</td>\n",
              "      <td>5.306242</td>\n",
              "      <td>6.235610</td>\n",
              "      <td>7.181070</td>\n",
              "      <td>7.231349</td>\n",
              "      <td>6.703259</td>\n",
              "      <td>8.056184</td>\n",
              "      <td>6.004827</td>\n",
              "      <td>6.519439</td>\n",
              "      <td>0.779691</td>\n",
              "      <td>2.796402</td>\n",
              "      <td>10.955817</td>\n",
              "      <td>7.958932</td>\n",
              "      <td>5.703076</td>\n",
              "      <td>3.355936</td>\n",
              "      <td>4.616714</td>\n",
              "      <td>0.304731</td>\n",
              "      <td>7.548598</td>\n",
              "      <td>0.745746</td>\n",
              "      <td>5.996339</td>\n",
              "      <td>3.722000</td>\n",
              "      <td>1.100354</td>\n",
              "      <td>7.095445</td>\n",
              "      <td>NaN</td>\n",
              "      <td>NaN</td>\n",
              "      <td>NaN</td>\n",
              "      <td>NaN</td>\n",
              "      <td>NaN</td>\n",
              "      <td>NaN</td>\n",
              "      <td>NaN</td>\n",
              "      <td>NaN</td>\n",
              "      <td>NaN</td>\n",
              "    </tr>\n",
              "    <tr>\n",
              "      <th>1682</th>\n",
              "      <td>2.669411</td>\n",
              "      <td>2.839713</td>\n",
              "      <td>3.705583</td>\n",
              "      <td>1.001783</td>\n",
              "      <td>7.012235</td>\n",
              "      <td>6.316326</td>\n",
              "      <td>0.426479</td>\n",
              "      <td>7.565901</td>\n",
              "      <td>1.051367</td>\n",
              "      <td>2.372078</td>\n",
              "      <td>4.412443</td>\n",
              "      <td>8.001793</td>\n",
              "      <td>2.702920</td>\n",
              "      <td>8.115350</td>\n",
              "      <td>5.902134</td>\n",
              "      <td>7.878145</td>\n",
              "      <td>5.460953</td>\n",
              "      <td>3.720117</td>\n",
              "      <td>1.179333</td>\n",
              "      <td>7.868883</td>\n",
              "      <td>7.592424</td>\n",
              "      <td>5.232697</td>\n",
              "      <td>0.343754</td>\n",
              "      <td>6.247598</td>\n",
              "      <td>7.986288</td>\n",
              "      <td>6.651222</td>\n",
              "      <td>4.120928</td>\n",
              "      <td>0.417745</td>\n",
              "      <td>1.094790</td>\n",
              "      <td>6.907386</td>\n",
              "      <td>2.301741</td>\n",
              "      <td>7.442989</td>\n",
              "      <td>8.123128</td>\n",
              "      <td>7.476589</td>\n",
              "      <td>6.084339</td>\n",
              "      <td>0.388549</td>\n",
              "      <td>0.363581</td>\n",
              "      <td>4.690745</td>\n",
              "      <td>7.704645</td>\n",
              "      <td>3.165170</td>\n",
              "      <td>...</td>\n",
              "      <td>3.540520</td>\n",
              "      <td>2.862196</td>\n",
              "      <td>8.217969</td>\n",
              "      <td>3.461949</td>\n",
              "      <td>4.082654</td>\n",
              "      <td>7.259628</td>\n",
              "      <td>7.032074</td>\n",
              "      <td>16.592933</td>\n",
              "      <td>2.690834</td>\n",
              "      <td>5.649032</td>\n",
              "      <td>5.638955</td>\n",
              "      <td>5.157540</td>\n",
              "      <td>4.994209</td>\n",
              "      <td>4.321056</td>\n",
              "      <td>5.611568</td>\n",
              "      <td>7.564574</td>\n",
              "      <td>4.426577</td>\n",
              "      <td>6.912736</td>\n",
              "      <td>5.888532</td>\n",
              "      <td>9.852432</td>\n",
              "      <td>3.396971</td>\n",
              "      <td>3.408864</td>\n",
              "      <td>2.981123</td>\n",
              "      <td>6.733031</td>\n",
              "      <td>8.016622</td>\n",
              "      <td>8.058488</td>\n",
              "      <td>5.902923</td>\n",
              "      <td>0.000000</td>\n",
              "      <td>1.044034</td>\n",
              "      <td>6.759927</td>\n",
              "      <td>0.892435</td>\n",
              "      <td>NaN</td>\n",
              "      <td>NaN</td>\n",
              "      <td>NaN</td>\n",
              "      <td>NaN</td>\n",
              "      <td>NaN</td>\n",
              "      <td>NaN</td>\n",
              "      <td>NaN</td>\n",
              "      <td>NaN</td>\n",
              "      <td>NaN</td>\n",
              "    </tr>\n",
              "    <tr>\n",
              "      <th>1853</th>\n",
              "      <td>3.667927</td>\n",
              "      <td>6.603637</td>\n",
              "      <td>6.552305</td>\n",
              "      <td>1.182044</td>\n",
              "      <td>3.806986</td>\n",
              "      <td>3.199775</td>\n",
              "      <td>0.831003</td>\n",
              "      <td>4.571608</td>\n",
              "      <td>0.641968</td>\n",
              "      <td>4.281639</td>\n",
              "      <td>7.337812</td>\n",
              "      <td>6.843053</td>\n",
              "      <td>7.436488</td>\n",
              "      <td>6.054033</td>\n",
              "      <td>7.659647</td>\n",
              "      <td>2.642703</td>\n",
              "      <td>7.335043</td>\n",
              "      <td>6.650710</td>\n",
              "      <td>0.760038</td>\n",
              "      <td>7.625539</td>\n",
              "      <td>5.534061</td>\n",
              "      <td>3.341513</td>\n",
              "      <td>0.901220</td>\n",
              "      <td>0.868642</td>\n",
              "      <td>7.753203</td>\n",
              "      <td>7.548811</td>\n",
              "      <td>7.005266</td>\n",
              "      <td>0.835498</td>\n",
              "      <td>0.768366</td>\n",
              "      <td>2.722374</td>\n",
              "      <td>1.153469</td>\n",
              "      <td>3.442873</td>\n",
              "      <td>3.908125</td>\n",
              "      <td>1.188042</td>\n",
              "      <td>5.980727</td>\n",
              "      <td>0.989220</td>\n",
              "      <td>0.869412</td>\n",
              "      <td>7.453667</td>\n",
              "      <td>5.635497</td>\n",
              "      <td>4.130994</td>\n",
              "      <td>...</td>\n",
              "      <td>6.526524</td>\n",
              "      <td>4.721606</td>\n",
              "      <td>3.109107</td>\n",
              "      <td>3.324842</td>\n",
              "      <td>3.978326</td>\n",
              "      <td>1.163040</td>\n",
              "      <td>6.811378</td>\n",
              "      <td>20.576364</td>\n",
              "      <td>6.662135</td>\n",
              "      <td>3.546807</td>\n",
              "      <td>6.359375</td>\n",
              "      <td>5.095134</td>\n",
              "      <td>3.973210</td>\n",
              "      <td>1.102534</td>\n",
              "      <td>5.590773</td>\n",
              "      <td>2.535482</td>\n",
              "      <td>5.248757</td>\n",
              "      <td>5.672926</td>\n",
              "      <td>2.758725</td>\n",
              "      <td>12.872531</td>\n",
              "      <td>5.361600</td>\n",
              "      <td>1.213648</td>\n",
              "      <td>3.778871</td>\n",
              "      <td>4.550359</td>\n",
              "      <td>5.787266</td>\n",
              "      <td>6.942840</td>\n",
              "      <td>5.660599</td>\n",
              "      <td>0.934050</td>\n",
              "      <td>0.617456</td>\n",
              "      <td>7.501387</td>\n",
              "      <td>1.191843</td>\n",
              "      <td>NaN</td>\n",
              "      <td>NaN</td>\n",
              "      <td>NaN</td>\n",
              "      <td>NaN</td>\n",
              "      <td>NaN</td>\n",
              "      <td>NaN</td>\n",
              "      <td>NaN</td>\n",
              "      <td>NaN</td>\n",
              "      <td>NaN</td>\n",
              "    </tr>\n",
              "    <tr>\n",
              "      <th>1892</th>\n",
              "      <td>5.664253</td>\n",
              "      <td>4.794843</td>\n",
              "      <td>6.673024</td>\n",
              "      <td>1.020809</td>\n",
              "      <td>3.971549</td>\n",
              "      <td>6.292863</td>\n",
              "      <td>0.095005</td>\n",
              "      <td>2.560916</td>\n",
              "      <td>0.972420</td>\n",
              "      <td>3.341062</td>\n",
              "      <td>5.385262</td>\n",
              "      <td>3.970039</td>\n",
              "      <td>4.652993</td>\n",
              "      <td>5.101523</td>\n",
              "      <td>3.856299</td>\n",
              "      <td>7.832567</td>\n",
              "      <td>7.426265</td>\n",
              "      <td>3.702337</td>\n",
              "      <td>1.104646</td>\n",
              "      <td>2.822262</td>\n",
              "      <td>6.571771</td>\n",
              "      <td>4.243450</td>\n",
              "      <td>0.387134</td>\n",
              "      <td>1.177992</td>\n",
              "      <td>6.941982</td>\n",
              "      <td>6.630864</td>\n",
              "      <td>7.097112</td>\n",
              "      <td>0.000000</td>\n",
              "      <td>1.024993</td>\n",
              "      <td>7.869049</td>\n",
              "      <td>6.259241</td>\n",
              "      <td>2.430732</td>\n",
              "      <td>5.082027</td>\n",
              "      <td>7.420403</td>\n",
              "      <td>9.064035</td>\n",
              "      <td>0.542548</td>\n",
              "      <td>0.290845</td>\n",
              "      <td>7.643415</td>\n",
              "      <td>6.686763</td>\n",
              "      <td>5.156735</td>\n",
              "      <td>...</td>\n",
              "      <td>7.527454</td>\n",
              "      <td>6.832878</td>\n",
              "      <td>5.195669</td>\n",
              "      <td>7.434993</td>\n",
              "      <td>5.062212</td>\n",
              "      <td>1.223751</td>\n",
              "      <td>3.990016</td>\n",
              "      <td>16.589468</td>\n",
              "      <td>2.677137</td>\n",
              "      <td>4.628707</td>\n",
              "      <td>2.585978</td>\n",
              "      <td>8.143661</td>\n",
              "      <td>6.987621</td>\n",
              "      <td>7.269523</td>\n",
              "      <td>5.598325</td>\n",
              "      <td>4.552604</td>\n",
              "      <td>8.392229</td>\n",
              "      <td>7.867366</td>\n",
              "      <td>4.861218</td>\n",
              "      <td>7.855970</td>\n",
              "      <td>6.376618</td>\n",
              "      <td>6.362733</td>\n",
              "      <td>7.940698</td>\n",
              "      <td>2.693651</td>\n",
              "      <td>3.972909</td>\n",
              "      <td>5.035883</td>\n",
              "      <td>3.857117</td>\n",
              "      <td>0.417745</td>\n",
              "      <td>0.963532</td>\n",
              "      <td>4.710579</td>\n",
              "      <td>0.944967</td>\n",
              "      <td>NaN</td>\n",
              "      <td>NaN</td>\n",
              "      <td>NaN</td>\n",
              "      <td>NaN</td>\n",
              "      <td>NaN</td>\n",
              "      <td>NaN</td>\n",
              "      <td>NaN</td>\n",
              "      <td>NaN</td>\n",
              "      <td>NaN</td>\n",
              "    </tr>\n",
              "    <tr>\n",
              "      <th>1935</th>\n",
              "      <td>6.617414</td>\n",
              "      <td>0.807376</td>\n",
              "      <td>1.006725</td>\n",
              "      <td>2.715135</td>\n",
              "      <td>7.814284</td>\n",
              "      <td>7.612121</td>\n",
              "      <td>6.741501</td>\n",
              "      <td>4.595700</td>\n",
              "      <td>5.451480</td>\n",
              "      <td>7.924537</td>\n",
              "      <td>5.962602</td>\n",
              "      <td>1.045919</td>\n",
              "      <td>0.930874</td>\n",
              "      <td>4.669974</td>\n",
              "      <td>1.173317</td>\n",
              "      <td>2.610842</td>\n",
              "      <td>2.911786</td>\n",
              "      <td>7.397895</td>\n",
              "      <td>2.536641</td>\n",
              "      <td>2.526582</td>\n",
              "      <td>6.078797</td>\n",
              "      <td>7.696748</td>\n",
              "      <td>4.756315</td>\n",
              "      <td>7.536638</td>\n",
              "      <td>3.351032</td>\n",
              "      <td>6.045381</td>\n",
              "      <td>6.409495</td>\n",
              "      <td>5.744087</td>\n",
              "      <td>6.411325</td>\n",
              "      <td>5.911923</td>\n",
              "      <td>5.830009</td>\n",
              "      <td>6.072040</td>\n",
              "      <td>3.423060</td>\n",
              "      <td>2.582090</td>\n",
              "      <td>8.537932</td>\n",
              "      <td>6.825515</td>\n",
              "      <td>3.748665</td>\n",
              "      <td>5.685417</td>\n",
              "      <td>6.394947</td>\n",
              "      <td>5.832247</td>\n",
              "      <td>...</td>\n",
              "      <td>6.113149</td>\n",
              "      <td>1.072181</td>\n",
              "      <td>4.540089</td>\n",
              "      <td>5.719138</td>\n",
              "      <td>8.534616</td>\n",
              "      <td>7.872418</td>\n",
              "      <td>1.199280</td>\n",
              "      <td>19.580972</td>\n",
              "      <td>5.185396</td>\n",
              "      <td>3.043489</td>\n",
              "      <td>7.477682</td>\n",
              "      <td>3.701393</td>\n",
              "      <td>2.747322</td>\n",
              "      <td>5.746400</td>\n",
              "      <td>6.147451</td>\n",
              "      <td>4.497036</td>\n",
              "      <td>2.694296</td>\n",
              "      <td>1.148310</td>\n",
              "      <td>1.151786</td>\n",
              "      <td>9.024568</td>\n",
              "      <td>4.003624</td>\n",
              "      <td>2.790191</td>\n",
              "      <td>6.835174</td>\n",
              "      <td>6.879333</td>\n",
              "      <td>5.418442</td>\n",
              "      <td>8.488822</td>\n",
              "      <td>1.172432</td>\n",
              "      <td>6.786000</td>\n",
              "      <td>2.459108</td>\n",
              "      <td>3.500481</td>\n",
              "      <td>3.803132</td>\n",
              "      <td>NaN</td>\n",
              "      <td>NaN</td>\n",
              "      <td>NaN</td>\n",
              "      <td>NaN</td>\n",
              "      <td>NaN</td>\n",
              "      <td>NaN</td>\n",
              "      <td>NaN</td>\n",
              "      <td>NaN</td>\n",
              "      <td>NaN</td>\n",
              "    </tr>\n",
              "  </tbody>\n",
              "</table>\n",
              "<p>25 rows × 1434 columns</p>\n",
              "</div>"
            ],
            "text/plain": [
              "product_number      0         1         2     ...      1431      1432      1433\n",
              "user_id                                       ...                              \n",
              "123             4.731345  0.705648  5.239253  ...       NaN       NaN       NaN\n",
              "124             4.732854  0.704650  7.241344  ...       NaN       NaN       NaN\n",
              "135             0.812118  7.898398  3.396110  ...       NaN       NaN       NaN\n",
              "355             6.425167  3.901628  5.106286  ...       NaN       NaN       NaN\n",
              "428             5.246292  2.356316  6.853530  ...       NaN       NaN       NaN\n",
              "462             0.904760  3.605302  0.960334  ...       NaN       NaN       NaN\n",
              "669             4.591597  6.483072  6.417460  ...       NaN       NaN       NaN\n",
              "819             1.094715  4.924815  6.444066  ...       NaN       NaN       NaN\n",
              "893             8.264698  4.532107  6.882217  ...  6.154175  4.847769  5.431454\n",
              "1072            5.225394  2.816781  2.336601  ...       NaN       NaN       NaN\n",
              "1141            0.625729  2.730944  1.161431  ...       NaN       NaN       NaN\n",
              "1148            4.245904  6.607950  6.276632  ...       NaN       NaN       NaN\n",
              "1184            6.105281  1.119361  3.702132  ...       NaN       NaN       NaN\n",
              "1309            6.581516  3.520370  5.434830  ...       NaN       NaN       NaN\n",
              "1365            7.086447  1.205881  7.715778  ...       NaN       NaN       NaN\n",
              "1452            3.568161  4.869674  7.674107  ...       NaN       NaN       NaN\n",
              "1465            2.994302  0.865305  5.549732  ...       NaN       NaN       NaN\n",
              "1467            7.936399  2.240285  7.601038  ...       NaN       NaN       NaN\n",
              "1486            3.632952  3.463448  5.460775  ...       NaN       NaN       NaN\n",
              "1538            3.400167  6.402909  0.919795  ...       NaN       NaN       NaN\n",
              "1587            6.107796  1.129291  5.707274  ...       NaN       NaN       NaN\n",
              "1682            2.669411  2.839713  3.705583  ...       NaN       NaN       NaN\n",
              "1853            3.667927  6.603637  6.552305  ...       NaN       NaN       NaN\n",
              "1892            5.664253  4.794843  6.673024  ...       NaN       NaN       NaN\n",
              "1935            6.617414  0.807376  1.006725  ...       NaN       NaN       NaN\n",
              "\n",
              "[25 rows x 1434 columns]"
            ]
          },
          "metadata": {
            "tags": []
          },
          "execution_count": 10
        }
      ]
    },
    {
      "cell_type": "code",
      "metadata": {
        "id": "swq1b7Sgn3yC"
      },
      "source": [
        "df_matrix_norm = (df_matrix-df_matrix.min())/(df_matrix.max()-df_matrix.min())"
      ],
      "execution_count": null,
      "outputs": []
    },
    {
      "cell_type": "code",
      "metadata": {
        "colab": {
          "base_uri": "https://localhost:8080/"
        },
        "id": "Mya-97BTGaDS",
        "outputId": "1e1ecf40-fdd1-43c2-f170-7f42cb950814"
      },
      "source": [
        "df_matrix_norm.dtypes"
      ],
      "execution_count": null,
      "outputs": [
        {
          "output_type": "execute_result",
          "data": {
            "text/plain": [
              "product_number\n",
              "0       float64\n",
              "1       float64\n",
              "2       float64\n",
              "3       float64\n",
              "4       float64\n",
              "         ...   \n",
              "1429    float64\n",
              "1430    float64\n",
              "1431    float64\n",
              "1432    float64\n",
              "1433    float64\n",
              "Length: 1434, dtype: object"
            ]
          },
          "metadata": {
            "tags": []
          },
          "execution_count": 12
        }
      ]
    },
    {
      "cell_type": "code",
      "metadata": {
        "id": "LJpVoc42Gl_E"
      },
      "source": [
        "#df_matrix_norm = df_matrix_norm.astype('category')"
      ],
      "execution_count": null,
      "outputs": []
    },
    {
      "cell_type": "code",
      "metadata": {
        "colab": {
          "base_uri": "https://localhost:8080/",
          "height": 904
        },
        "id": "Df02v7Mmtn15",
        "outputId": "979accf5-7c07-43a5-820e-4f4c2f501f96"
      },
      "source": [
        "df_matrix_norm"
      ],
      "execution_count": null,
      "outputs": [
        {
          "output_type": "execute_result",
          "data": {
            "text/html": [
              "<div>\n",
              "<style scoped>\n",
              "    .dataframe tbody tr th:only-of-type {\n",
              "        vertical-align: middle;\n",
              "    }\n",
              "\n",
              "    .dataframe tbody tr th {\n",
              "        vertical-align: top;\n",
              "    }\n",
              "\n",
              "    .dataframe thead th {\n",
              "        text-align: right;\n",
              "    }\n",
              "</style>\n",
              "<table border=\"1\" class=\"dataframe\">\n",
              "  <thead>\n",
              "    <tr style=\"text-align: right;\">\n",
              "      <th>product_number</th>\n",
              "      <th>0</th>\n",
              "      <th>1</th>\n",
              "      <th>2</th>\n",
              "      <th>3</th>\n",
              "      <th>4</th>\n",
              "      <th>5</th>\n",
              "      <th>6</th>\n",
              "      <th>7</th>\n",
              "      <th>8</th>\n",
              "      <th>9</th>\n",
              "      <th>10</th>\n",
              "      <th>11</th>\n",
              "      <th>12</th>\n",
              "      <th>13</th>\n",
              "      <th>14</th>\n",
              "      <th>15</th>\n",
              "      <th>16</th>\n",
              "      <th>17</th>\n",
              "      <th>18</th>\n",
              "      <th>19</th>\n",
              "      <th>20</th>\n",
              "      <th>21</th>\n",
              "      <th>22</th>\n",
              "      <th>23</th>\n",
              "      <th>24</th>\n",
              "      <th>25</th>\n",
              "      <th>26</th>\n",
              "      <th>27</th>\n",
              "      <th>28</th>\n",
              "      <th>29</th>\n",
              "      <th>30</th>\n",
              "      <th>31</th>\n",
              "      <th>32</th>\n",
              "      <th>33</th>\n",
              "      <th>34</th>\n",
              "      <th>35</th>\n",
              "      <th>36</th>\n",
              "      <th>37</th>\n",
              "      <th>38</th>\n",
              "      <th>39</th>\n",
              "      <th>...</th>\n",
              "      <th>1394</th>\n",
              "      <th>1395</th>\n",
              "      <th>1396</th>\n",
              "      <th>1397</th>\n",
              "      <th>1398</th>\n",
              "      <th>1399</th>\n",
              "      <th>1400</th>\n",
              "      <th>1401</th>\n",
              "      <th>1402</th>\n",
              "      <th>1403</th>\n",
              "      <th>1404</th>\n",
              "      <th>1405</th>\n",
              "      <th>1406</th>\n",
              "      <th>1407</th>\n",
              "      <th>1408</th>\n",
              "      <th>1409</th>\n",
              "      <th>1410</th>\n",
              "      <th>1411</th>\n",
              "      <th>1412</th>\n",
              "      <th>1413</th>\n",
              "      <th>1414</th>\n",
              "      <th>1415</th>\n",
              "      <th>1416</th>\n",
              "      <th>1417</th>\n",
              "      <th>1418</th>\n",
              "      <th>1419</th>\n",
              "      <th>1420</th>\n",
              "      <th>1421</th>\n",
              "      <th>1422</th>\n",
              "      <th>1423</th>\n",
              "      <th>1424</th>\n",
              "      <th>1425</th>\n",
              "      <th>1426</th>\n",
              "      <th>1427</th>\n",
              "      <th>1428</th>\n",
              "      <th>1429</th>\n",
              "      <th>1430</th>\n",
              "      <th>1431</th>\n",
              "      <th>1432</th>\n",
              "      <th>1433</th>\n",
              "    </tr>\n",
              "    <tr>\n",
              "      <th>user_id</th>\n",
              "      <th></th>\n",
              "      <th></th>\n",
              "      <th></th>\n",
              "      <th></th>\n",
              "      <th></th>\n",
              "      <th></th>\n",
              "      <th></th>\n",
              "      <th></th>\n",
              "      <th></th>\n",
              "      <th></th>\n",
              "      <th></th>\n",
              "      <th></th>\n",
              "      <th></th>\n",
              "      <th></th>\n",
              "      <th></th>\n",
              "      <th></th>\n",
              "      <th></th>\n",
              "      <th></th>\n",
              "      <th></th>\n",
              "      <th></th>\n",
              "      <th></th>\n",
              "      <th></th>\n",
              "      <th></th>\n",
              "      <th></th>\n",
              "      <th></th>\n",
              "      <th></th>\n",
              "      <th></th>\n",
              "      <th></th>\n",
              "      <th></th>\n",
              "      <th></th>\n",
              "      <th></th>\n",
              "      <th></th>\n",
              "      <th></th>\n",
              "      <th></th>\n",
              "      <th></th>\n",
              "      <th></th>\n",
              "      <th></th>\n",
              "      <th></th>\n",
              "      <th></th>\n",
              "      <th></th>\n",
              "      <th></th>\n",
              "      <th></th>\n",
              "      <th></th>\n",
              "      <th></th>\n",
              "      <th></th>\n",
              "      <th></th>\n",
              "      <th></th>\n",
              "      <th></th>\n",
              "      <th></th>\n",
              "      <th></th>\n",
              "      <th></th>\n",
              "      <th></th>\n",
              "      <th></th>\n",
              "      <th></th>\n",
              "      <th></th>\n",
              "      <th></th>\n",
              "      <th></th>\n",
              "      <th></th>\n",
              "      <th></th>\n",
              "      <th></th>\n",
              "      <th></th>\n",
              "      <th></th>\n",
              "      <th></th>\n",
              "      <th></th>\n",
              "      <th></th>\n",
              "      <th></th>\n",
              "      <th></th>\n",
              "      <th></th>\n",
              "      <th></th>\n",
              "      <th></th>\n",
              "      <th></th>\n",
              "      <th></th>\n",
              "      <th></th>\n",
              "      <th></th>\n",
              "      <th></th>\n",
              "      <th></th>\n",
              "      <th></th>\n",
              "      <th></th>\n",
              "      <th></th>\n",
              "      <th></th>\n",
              "      <th></th>\n",
              "    </tr>\n",
              "  </thead>\n",
              "  <tbody>\n",
              "    <tr>\n",
              "      <th>123</th>\n",
              "      <td>0.537457</td>\n",
              "      <td>0.000139</td>\n",
              "      <td>0.635590</td>\n",
              "      <td>0.951064</td>\n",
              "      <td>0.913157</td>\n",
              "      <td>0.013333</td>\n",
              "      <td>0.579354</td>\n",
              "      <td>0.809697</td>\n",
              "      <td>0.667055</td>\n",
              "      <td>0.566440</td>\n",
              "      <td>0.893299</td>\n",
              "      <td>0.629947</td>\n",
              "      <td>0.000844</td>\n",
              "      <td>0.832634</td>\n",
              "      <td>0.056291</td>\n",
              "      <td>0.930167</td>\n",
              "      <td>0.897930</td>\n",
              "      <td>0.408706</td>\n",
              "      <td>0.903069</td>\n",
              "      <td>0.610465</td>\n",
              "      <td>0.054189</td>\n",
              "      <td>0.392882</td>\n",
              "      <td>0.644060</td>\n",
              "      <td>0.908355</td>\n",
              "      <td>0.114778</td>\n",
              "      <td>0.759740</td>\n",
              "      <td>0.522597</td>\n",
              "      <td>0.479922</td>\n",
              "      <td>0.657586</td>\n",
              "      <td>0.361620</td>\n",
              "      <td>0.363651</td>\n",
              "      <td>0.550977</td>\n",
              "      <td>0.879003</td>\n",
              "      <td>0.887676</td>\n",
              "      <td>0.707875</td>\n",
              "      <td>0.851786</td>\n",
              "      <td>0.293627</td>\n",
              "      <td>0.359141</td>\n",
              "      <td>0.929371</td>\n",
              "      <td>0.424169</td>\n",
              "      <td>...</td>\n",
              "      <td>0.133068</td>\n",
              "      <td>0.939488</td>\n",
              "      <td>0.373841</td>\n",
              "      <td>0.782596</td>\n",
              "      <td>0.827474</td>\n",
              "      <td>0.658633</td>\n",
              "      <td>0.082205</td>\n",
              "      <td>0.939458</td>\n",
              "      <td>0.753912</td>\n",
              "      <td>0.252035</td>\n",
              "      <td>0.087965</td>\n",
              "      <td>0.419626</td>\n",
              "      <td>0.356567</td>\n",
              "      <td>0.643223</td>\n",
              "      <td>0.049017</td>\n",
              "      <td>0.395724</td>\n",
              "      <td>0.908269</td>\n",
              "      <td>0.064201</td>\n",
              "      <td>0.757032</td>\n",
              "      <td>0.677023</td>\n",
              "      <td>0.723488</td>\n",
              "      <td>0.675913</td>\n",
              "      <td>0.751814</td>\n",
              "      <td>0.522011</td>\n",
              "      <td>0.718037</td>\n",
              "      <td>0.834611</td>\n",
              "      <td>0.055703</td>\n",
              "      <td>0.692871</td>\n",
              "      <td>0.828630</td>\n",
              "      <td>0.200584</td>\n",
              "      <td>0.498802</td>\n",
              "      <td>NaN</td>\n",
              "      <td>NaN</td>\n",
              "      <td>NaN</td>\n",
              "      <td>NaN</td>\n",
              "      <td>NaN</td>\n",
              "      <td>NaN</td>\n",
              "      <td>NaN</td>\n",
              "      <td>NaN</td>\n",
              "      <td>NaN</td>\n",
              "    </tr>\n",
              "    <tr>\n",
              "      <th>124</th>\n",
              "      <td>0.537654</td>\n",
              "      <td>0.000000</td>\n",
              "      <td>0.930189</td>\n",
              "      <td>0.400329</td>\n",
              "      <td>0.491275</td>\n",
              "      <td>0.394386</td>\n",
              "      <td>0.579438</td>\n",
              "      <td>0.535204</td>\n",
              "      <td>0.536055</td>\n",
              "      <td>0.064787</td>\n",
              "      <td>0.893245</td>\n",
              "      <td>0.351882</td>\n",
              "      <td>0.000000</td>\n",
              "      <td>0.832806</td>\n",
              "      <td>0.055943</td>\n",
              "      <td>0.506975</td>\n",
              "      <td>0.050260</td>\n",
              "      <td>0.660176</td>\n",
              "      <td>0.355206</td>\n",
              "      <td>0.610214</td>\n",
              "      <td>0.054114</td>\n",
              "      <td>0.671029</td>\n",
              "      <td>0.402480</td>\n",
              "      <td>0.627560</td>\n",
              "      <td>0.114497</td>\n",
              "      <td>0.153224</td>\n",
              "      <td>0.384040</td>\n",
              "      <td>0.611432</td>\n",
              "      <td>0.657736</td>\n",
              "      <td>0.724292</td>\n",
              "      <td>0.944374</td>\n",
              "      <td>0.866319</td>\n",
              "      <td>0.349963</td>\n",
              "      <td>0.750754</td>\n",
              "      <td>0.949516</td>\n",
              "      <td>0.388294</td>\n",
              "      <td>0.293714</td>\n",
              "      <td>0.935817</td>\n",
              "      <td>0.281821</td>\n",
              "      <td>0.558607</td>\n",
              "      <td>...</td>\n",
              "      <td>0.323290</td>\n",
              "      <td>0.939727</td>\n",
              "      <td>0.654704</td>\n",
              "      <td>0.600470</td>\n",
              "      <td>0.706590</td>\n",
              "      <td>0.224182</td>\n",
              "      <td>0.081978</td>\n",
              "      <td>0.881477</td>\n",
              "      <td>0.277094</td>\n",
              "      <td>0.312706</td>\n",
              "      <td>0.087779</td>\n",
              "      <td>0.953074</td>\n",
              "      <td>0.479569</td>\n",
              "      <td>0.931753</td>\n",
              "      <td>0.376438</td>\n",
              "      <td>0.810425</td>\n",
              "      <td>0.492084</td>\n",
              "      <td>0.063874</td>\n",
              "      <td>0.503907</td>\n",
              "      <td>0.524597</td>\n",
              "      <td>0.723443</td>\n",
              "      <td>0.675852</td>\n",
              "      <td>0.614083</td>\n",
              "      <td>0.352924</td>\n",
              "      <td>0.838712</td>\n",
              "      <td>0.314850</td>\n",
              "      <td>0.055363</td>\n",
              "      <td>0.814492</td>\n",
              "      <td>0.828732</td>\n",
              "      <td>0.870505</td>\n",
              "      <td>0.618522</td>\n",
              "      <td>NaN</td>\n",
              "      <td>NaN</td>\n",
              "      <td>NaN</td>\n",
              "      <td>NaN</td>\n",
              "      <td>NaN</td>\n",
              "      <td>NaN</td>\n",
              "      <td>NaN</td>\n",
              "      <td>NaN</td>\n",
              "      <td>NaN</td>\n",
              "    </tr>\n",
              "    <tr>\n",
              "      <th>135</th>\n",
              "      <td>0.024400</td>\n",
              "      <td>1.000000</td>\n",
              "      <td>0.364379</td>\n",
              "      <td>0.658897</td>\n",
              "      <td>0.466793</td>\n",
              "      <td>0.194062</td>\n",
              "      <td>0.604896</td>\n",
              "      <td>0.027608</td>\n",
              "      <td>0.984191</td>\n",
              "      <td>0.815925</td>\n",
              "      <td>0.798972</td>\n",
              "      <td>0.809858</td>\n",
              "      <td>0.487991</td>\n",
              "      <td>0.078704</td>\n",
              "      <td>0.343312</td>\n",
              "      <td>0.776543</td>\n",
              "      <td>0.142965</td>\n",
              "      <td>0.087946</td>\n",
              "      <td>0.848882</td>\n",
              "      <td>0.604947</td>\n",
              "      <td>0.847857</td>\n",
              "      <td>0.488884</td>\n",
              "      <td>0.541661</td>\n",
              "      <td>1.000000</td>\n",
              "      <td>0.635908</td>\n",
              "      <td>0.138321</td>\n",
              "      <td>0.227549</td>\n",
              "      <td>0.637588</td>\n",
              "      <td>0.983774</td>\n",
              "      <td>0.133561</td>\n",
              "      <td>0.730158</td>\n",
              "      <td>0.300043</td>\n",
              "      <td>0.469834</td>\n",
              "      <td>0.445871</td>\n",
              "      <td>0.592207</td>\n",
              "      <td>0.869241</td>\n",
              "      <td>0.315129</td>\n",
              "      <td>0.619565</td>\n",
              "      <td>0.082361</td>\n",
              "      <td>0.042792</td>\n",
              "      <td>...</td>\n",
              "      <td>0.595107</td>\n",
              "      <td>0.258506</td>\n",
              "      <td>0.772386</td>\n",
              "      <td>1.000000</td>\n",
              "      <td>0.349674</td>\n",
              "      <td>0.437632</td>\n",
              "      <td>0.514875</td>\n",
              "      <td>0.713927</td>\n",
              "      <td>0.349012</td>\n",
              "      <td>0.186825</td>\n",
              "      <td>0.466201</td>\n",
              "      <td>0.869772</td>\n",
              "      <td>0.094559</td>\n",
              "      <td>0.583765</td>\n",
              "      <td>0.284668</td>\n",
              "      <td>0.041590</td>\n",
              "      <td>0.853909</td>\n",
              "      <td>0.743786</td>\n",
              "      <td>0.625221</td>\n",
              "      <td>1.000000</td>\n",
              "      <td>0.612793</td>\n",
              "      <td>0.885607</td>\n",
              "      <td>0.725326</td>\n",
              "      <td>0.132959</td>\n",
              "      <td>0.594898</td>\n",
              "      <td>0.592859</td>\n",
              "      <td>1.000000</td>\n",
              "      <td>0.590087</td>\n",
              "      <td>0.761823</td>\n",
              "      <td>0.596298</td>\n",
              "      <td>0.607822</td>\n",
              "      <td>NaN</td>\n",
              "      <td>NaN</td>\n",
              "      <td>NaN</td>\n",
              "      <td>NaN</td>\n",
              "      <td>NaN</td>\n",
              "      <td>NaN</td>\n",
              "      <td>NaN</td>\n",
              "      <td>NaN</td>\n",
              "      <td>NaN</td>\n",
              "    </tr>\n",
              "    <tr>\n",
              "      <th>355</th>\n",
              "      <td>0.759191</td>\n",
              "      <td>0.444411</td>\n",
              "      <td>0.616024</td>\n",
              "      <td>0.523399</td>\n",
              "      <td>0.443769</td>\n",
              "      <td>0.000000</td>\n",
              "      <td>0.955684</td>\n",
              "      <td>0.638356</td>\n",
              "      <td>0.415737</td>\n",
              "      <td>0.883729</td>\n",
              "      <td>0.688865</td>\n",
              "      <td>0.279277</td>\n",
              "      <td>0.647215</td>\n",
              "      <td>0.609992</td>\n",
              "      <td>0.593115</td>\n",
              "      <td>0.340761</td>\n",
              "      <td>0.370831</td>\n",
              "      <td>1.000000</td>\n",
              "      <td>0.777231</td>\n",
              "      <td>0.721616</td>\n",
              "      <td>0.730701</td>\n",
              "      <td>0.788886</td>\n",
              "      <td>1.000000</td>\n",
              "      <td>0.919939</td>\n",
              "      <td>0.470446</td>\n",
              "      <td>0.261582</td>\n",
              "      <td>0.558658</td>\n",
              "      <td>1.000000</td>\n",
              "      <td>0.942229</td>\n",
              "      <td>0.313723</td>\n",
              "      <td>0.935487</td>\n",
              "      <td>1.000000</td>\n",
              "      <td>0.405936</td>\n",
              "      <td>0.892378</td>\n",
              "      <td>0.495116</td>\n",
              "      <td>0.959136</td>\n",
              "      <td>0.411458</td>\n",
              "      <td>0.490749</td>\n",
              "      <td>0.504299</td>\n",
              "      <td>0.332664</td>\n",
              "      <td>...</td>\n",
              "      <td>0.290221</td>\n",
              "      <td>0.479221</td>\n",
              "      <td>0.811668</td>\n",
              "      <td>0.502922</td>\n",
              "      <td>0.613624</td>\n",
              "      <td>0.502987</td>\n",
              "      <td>0.756577</td>\n",
              "      <td>0.764834</td>\n",
              "      <td>0.720003</td>\n",
              "      <td>0.042274</td>\n",
              "      <td>1.000000</td>\n",
              "      <td>0.990837</td>\n",
              "      <td>0.659411</td>\n",
              "      <td>0.350627</td>\n",
              "      <td>1.000000</td>\n",
              "      <td>0.503364</td>\n",
              "      <td>0.001118</td>\n",
              "      <td>0.721435</td>\n",
              "      <td>0.454192</td>\n",
              "      <td>0.254704</td>\n",
              "      <td>0.499224</td>\n",
              "      <td>0.929884</td>\n",
              "      <td>0.984006</td>\n",
              "      <td>1.000000</td>\n",
              "      <td>0.920279</td>\n",
              "      <td>0.458411</td>\n",
              "      <td>0.979054</td>\n",
              "      <td>0.442247</td>\n",
              "      <td>0.722499</td>\n",
              "      <td>1.000000</td>\n",
              "      <td>0.365383</td>\n",
              "      <td>NaN</td>\n",
              "      <td>NaN</td>\n",
              "      <td>NaN</td>\n",
              "      <td>NaN</td>\n",
              "      <td>NaN</td>\n",
              "      <td>NaN</td>\n",
              "      <td>NaN</td>\n",
              "      <td>NaN</td>\n",
              "      <td>NaN</td>\n",
              "    </tr>\n",
              "    <tr>\n",
              "      <th>428</th>\n",
              "      <td>0.604867</td>\n",
              "      <td>0.229597</td>\n",
              "      <td>0.873124</td>\n",
              "      <td>0.339240</td>\n",
              "      <td>0.621397</td>\n",
              "      <td>0.994893</td>\n",
              "      <td>0.902188</td>\n",
              "      <td>0.334267</td>\n",
              "      <td>0.881843</td>\n",
              "      <td>0.126572</td>\n",
              "      <td>0.775190</td>\n",
              "      <td>0.401991</td>\n",
              "      <td>0.985308</td>\n",
              "      <td>0.613563</td>\n",
              "      <td>0.084231</td>\n",
              "      <td>0.657304</td>\n",
              "      <td>0.616747</td>\n",
              "      <td>0.726677</td>\n",
              "      <td>0.843168</td>\n",
              "      <td>0.492057</td>\n",
              "      <td>0.813287</td>\n",
              "      <td>0.330998</td>\n",
              "      <td>0.950650</td>\n",
              "      <td>0.704239</td>\n",
              "      <td>0.095725</td>\n",
              "      <td>0.560496</td>\n",
              "      <td>0.841931</td>\n",
              "      <td>0.550480</td>\n",
              "      <td>0.747031</td>\n",
              "      <td>0.194036</td>\n",
              "      <td>0.422532</td>\n",
              "      <td>0.447467</td>\n",
              "      <td>0.000000</td>\n",
              "      <td>0.946996</td>\n",
              "      <td>0.691254</td>\n",
              "      <td>0.447794</td>\n",
              "      <td>0.979399</td>\n",
              "      <td>0.972913</td>\n",
              "      <td>0.998905</td>\n",
              "      <td>0.874199</td>\n",
              "      <td>...</td>\n",
              "      <td>0.383103</td>\n",
              "      <td>0.732406</td>\n",
              "      <td>0.969378</td>\n",
              "      <td>0.043639</td>\n",
              "      <td>0.326798</td>\n",
              "      <td>0.862462</td>\n",
              "      <td>0.063075</td>\n",
              "      <td>0.994468</td>\n",
              "      <td>0.637205</td>\n",
              "      <td>0.192393</td>\n",
              "      <td>0.785053</td>\n",
              "      <td>0.730999</td>\n",
              "      <td>0.899032</td>\n",
              "      <td>0.992920</td>\n",
              "      <td>0.096783</td>\n",
              "      <td>0.748951</td>\n",
              "      <td>0.000000</td>\n",
              "      <td>0.090950</td>\n",
              "      <td>0.943740</td>\n",
              "      <td>0.529505</td>\n",
              "      <td>0.000000</td>\n",
              "      <td>0.464373</td>\n",
              "      <td>0.885762</td>\n",
              "      <td>0.388239</td>\n",
              "      <td>0.082808</td>\n",
              "      <td>0.938033</td>\n",
              "      <td>0.082889</td>\n",
              "      <td>1.000000</td>\n",
              "      <td>0.323931</td>\n",
              "      <td>0.368061</td>\n",
              "      <td>0.323631</td>\n",
              "      <td>NaN</td>\n",
              "      <td>NaN</td>\n",
              "      <td>NaN</td>\n",
              "      <td>NaN</td>\n",
              "      <td>NaN</td>\n",
              "      <td>NaN</td>\n",
              "      <td>NaN</td>\n",
              "      <td>NaN</td>\n",
              "      <td>NaN</td>\n",
              "    </tr>\n",
              "    <tr>\n",
              "      <th>462</th>\n",
              "      <td>0.036527</td>\n",
              "      <td>0.403219</td>\n",
              "      <td>0.005965</td>\n",
              "      <td>0.510451</td>\n",
              "      <td>1.000000</td>\n",
              "      <td>0.735788</td>\n",
              "      <td>0.716110</td>\n",
              "      <td>0.024671</td>\n",
              "      <td>0.956992</td>\n",
              "      <td>0.289354</td>\n",
              "      <td>0.041532</td>\n",
              "      <td>0.627888</td>\n",
              "      <td>0.308698</td>\n",
              "      <td>0.078785</td>\n",
              "      <td>0.985308</td>\n",
              "      <td>0.463263</td>\n",
              "      <td>0.624639</td>\n",
              "      <td>0.000000</td>\n",
              "      <td>0.958338</td>\n",
              "      <td>0.315936</td>\n",
              "      <td>1.000000</td>\n",
              "      <td>0.621636</td>\n",
              "      <td>0.648518</td>\n",
              "      <td>0.409773</td>\n",
              "      <td>0.733449</td>\n",
              "      <td>0.323802</td>\n",
              "      <td>0.197355</td>\n",
              "      <td>0.621140</td>\n",
              "      <td>0.408272</td>\n",
              "      <td>0.280558</td>\n",
              "      <td>0.706795</td>\n",
              "      <td>0.753233</td>\n",
              "      <td>0.305474</td>\n",
              "      <td>0.964632</td>\n",
              "      <td>0.462178</td>\n",
              "      <td>0.741357</td>\n",
              "      <td>0.424054</td>\n",
              "      <td>0.445711</td>\n",
              "      <td>0.000000</td>\n",
              "      <td>0.736852</td>\n",
              "      <td>...</td>\n",
              "      <td>0.000000</td>\n",
              "      <td>0.066124</td>\n",
              "      <td>0.889828</td>\n",
              "      <td>0.786901</td>\n",
              "      <td>0.582070</td>\n",
              "      <td>0.995111</td>\n",
              "      <td>0.330928</td>\n",
              "      <td>0.828035</td>\n",
              "      <td>0.964157</td>\n",
              "      <td>0.121191</td>\n",
              "      <td>0.436690</td>\n",
              "      <td>0.603748</td>\n",
              "      <td>0.135525</td>\n",
              "      <td>0.558372</td>\n",
              "      <td>0.099948</td>\n",
              "      <td>0.015040</td>\n",
              "      <td>0.546968</td>\n",
              "      <td>0.974350</td>\n",
              "      <td>0.069605</td>\n",
              "      <td>0.538834</td>\n",
              "      <td>0.982923</td>\n",
              "      <td>0.732076</td>\n",
              "      <td>0.284847</td>\n",
              "      <td>0.608816</td>\n",
              "      <td>0.323621</td>\n",
              "      <td>0.579707</td>\n",
              "      <td>0.567026</td>\n",
              "      <td>0.455102</td>\n",
              "      <td>0.738040</td>\n",
              "      <td>0.431487</td>\n",
              "      <td>0.839737</td>\n",
              "      <td>NaN</td>\n",
              "      <td>NaN</td>\n",
              "      <td>NaN</td>\n",
              "      <td>NaN</td>\n",
              "      <td>NaN</td>\n",
              "      <td>NaN</td>\n",
              "      <td>NaN</td>\n",
              "      <td>NaN</td>\n",
              "      <td>NaN</td>\n",
              "    </tr>\n",
              "    <tr>\n",
              "      <th>669</th>\n",
              "      <td>0.519163</td>\n",
              "      <td>0.803256</td>\n",
              "      <td>0.808958</td>\n",
              "      <td>0.055628</td>\n",
              "      <td>0.375101</td>\n",
              "      <td>0.068369</td>\n",
              "      <td>0.115996</td>\n",
              "      <td>0.508501</td>\n",
              "      <td>0.013305</td>\n",
              "      <td>0.673974</td>\n",
              "      <td>0.465025</td>\n",
              "      <td>0.266122</td>\n",
              "      <td>0.824430</td>\n",
              "      <td>0.846829</td>\n",
              "      <td>0.545303</td>\n",
              "      <td>0.397941</td>\n",
              "      <td>0.338445</td>\n",
              "      <td>0.783945</td>\n",
              "      <td>0.007727</td>\n",
              "      <td>0.906982</td>\n",
              "      <td>0.181028</td>\n",
              "      <td>0.198314</td>\n",
              "      <td>0.085238</td>\n",
              "      <td>0.004813</td>\n",
              "      <td>0.440071</td>\n",
              "      <td>0.206718</td>\n",
              "      <td>0.280958</td>\n",
              "      <td>0.132882</td>\n",
              "      <td>0.001917</td>\n",
              "      <td>0.184365</td>\n",
              "      <td>0.598748</td>\n",
              "      <td>0.809847</td>\n",
              "      <td>0.416495</td>\n",
              "      <td>0.045589</td>\n",
              "      <td>0.498179</td>\n",
              "      <td>0.087934</td>\n",
              "      <td>0.091364</td>\n",
              "      <td>0.647461</td>\n",
              "      <td>0.796965</td>\n",
              "      <td>0.968469</td>\n",
              "      <td>...</td>\n",
              "      <td>0.261800</td>\n",
              "      <td>0.284363</td>\n",
              "      <td>0.549875</td>\n",
              "      <td>0.482912</td>\n",
              "      <td>0.617796</td>\n",
              "      <td>0.309741</td>\n",
              "      <td>0.605569</td>\n",
              "      <td>0.766514</td>\n",
              "      <td>0.233870</td>\n",
              "      <td>0.328717</td>\n",
              "      <td>0.231092</td>\n",
              "      <td>0.968546</td>\n",
              "      <td>0.724236</td>\n",
              "      <td>0.014678</td>\n",
              "      <td>0.000000</td>\n",
              "      <td>0.235767</td>\n",
              "      <td>0.968917</td>\n",
              "      <td>0.546007</td>\n",
              "      <td>0.659214</td>\n",
              "      <td>0.665467</td>\n",
              "      <td>0.055769</td>\n",
              "      <td>0.767566</td>\n",
              "      <td>0.770148</td>\n",
              "      <td>0.000000</td>\n",
              "      <td>0.533147</td>\n",
              "      <td>0.352305</td>\n",
              "      <td>0.799852</td>\n",
              "      <td>0.132457</td>\n",
              "      <td>0.019104</td>\n",
              "      <td>0.497341</td>\n",
              "      <td>0.316836</td>\n",
              "      <td>NaN</td>\n",
              "      <td>NaN</td>\n",
              "      <td>NaN</td>\n",
              "      <td>NaN</td>\n",
              "      <td>NaN</td>\n",
              "      <td>NaN</td>\n",
              "      <td>NaN</td>\n",
              "      <td>NaN</td>\n",
              "      <td>NaN</td>\n",
              "    </tr>\n",
              "    <tr>\n",
              "      <th>819</th>\n",
              "      <td>0.061394</td>\n",
              "      <td>0.586644</td>\n",
              "      <td>0.812873</td>\n",
              "      <td>0.406620</td>\n",
              "      <td>0.895397</td>\n",
              "      <td>0.171439</td>\n",
              "      <td>0.495002</td>\n",
              "      <td>0.472911</td>\n",
              "      <td>1.000000</td>\n",
              "      <td>1.000000</td>\n",
              "      <td>1.000000</td>\n",
              "      <td>0.526332</td>\n",
              "      <td>0.355423</td>\n",
              "      <td>0.047485</td>\n",
              "      <td>0.482866</td>\n",
              "      <td>0.642846</td>\n",
              "      <td>0.328624</td>\n",
              "      <td>0.101897</td>\n",
              "      <td>1.000000</td>\n",
              "      <td>1.000000</td>\n",
              "      <td>0.510841</td>\n",
              "      <td>0.654206</td>\n",
              "      <td>0.921104</td>\n",
              "      <td>0.592663</td>\n",
              "      <td>0.639362</td>\n",
              "      <td>0.720207</td>\n",
              "      <td>0.212564</td>\n",
              "      <td>0.392640</td>\n",
              "      <td>0.454633</td>\n",
              "      <td>0.145172</td>\n",
              "      <td>0.744865</td>\n",
              "      <td>0.158734</td>\n",
              "      <td>1.000000</td>\n",
              "      <td>0.730918</td>\n",
              "      <td>0.339062</td>\n",
              "      <td>0.653452</td>\n",
              "      <td>0.456109</td>\n",
              "      <td>0.629787</td>\n",
              "      <td>0.097845</td>\n",
              "      <td>0.003542</td>\n",
              "      <td>...</td>\n",
              "      <td>0.614149</td>\n",
              "      <td>0.532994</td>\n",
              "      <td>0.192863</td>\n",
              "      <td>0.437499</td>\n",
              "      <td>0.459113</td>\n",
              "      <td>0.742464</td>\n",
              "      <td>0.808077</td>\n",
              "      <td>0.830225</td>\n",
              "      <td>0.205090</td>\n",
              "      <td>0.300664</td>\n",
              "      <td>0.345616</td>\n",
              "      <td>0.039223</td>\n",
              "      <td>0.000000</td>\n",
              "      <td>0.597856</td>\n",
              "      <td>0.464361</td>\n",
              "      <td>0.484346</td>\n",
              "      <td>0.849772</td>\n",
              "      <td>0.481546</td>\n",
              "      <td>0.368779</td>\n",
              "      <td>0.853637</td>\n",
              "      <td>0.236107</td>\n",
              "      <td>0.375061</td>\n",
              "      <td>0.457615</td>\n",
              "      <td>0.821474</td>\n",
              "      <td>0.356223</td>\n",
              "      <td>0.581900</td>\n",
              "      <td>0.473203</td>\n",
              "      <td>0.485451</td>\n",
              "      <td>0.891345</td>\n",
              "      <td>0.336023</td>\n",
              "      <td>0.268303</td>\n",
              "      <td>NaN</td>\n",
              "      <td>NaN</td>\n",
              "      <td>NaN</td>\n",
              "      <td>NaN</td>\n",
              "      <td>NaN</td>\n",
              "      <td>NaN</td>\n",
              "      <td>NaN</td>\n",
              "      <td>NaN</td>\n",
              "      <td>NaN</td>\n",
              "    </tr>\n",
              "    <tr>\n",
              "      <th>893</th>\n",
              "      <td>1.000000</td>\n",
              "      <td>0.532053</td>\n",
              "      <td>0.877345</td>\n",
              "      <td>0.630874</td>\n",
              "      <td>0.394891</td>\n",
              "      <td>0.953132</td>\n",
              "      <td>0.669447</td>\n",
              "      <td>0.751572</td>\n",
              "      <td>0.511422</td>\n",
              "      <td>0.167888</td>\n",
              "      <td>0.820469</td>\n",
              "      <td>0.946525</td>\n",
              "      <td>0.876909</td>\n",
              "      <td>0.600615</td>\n",
              "      <td>0.943632</td>\n",
              "      <td>0.571323</td>\n",
              "      <td>1.000000</td>\n",
              "      <td>0.852876</td>\n",
              "      <td>0.326223</td>\n",
              "      <td>0.673006</td>\n",
              "      <td>0.504682</td>\n",
              "      <td>0.621595</td>\n",
              "      <td>0.970389</td>\n",
              "      <td>0.316408</td>\n",
              "      <td>0.414303</td>\n",
              "      <td>0.908754</td>\n",
              "      <td>0.406947</td>\n",
              "      <td>0.572891</td>\n",
              "      <td>0.360008</td>\n",
              "      <td>0.436841</td>\n",
              "      <td>0.603562</td>\n",
              "      <td>0.642290</td>\n",
              "      <td>0.605590</td>\n",
              "      <td>0.301536</td>\n",
              "      <td>0.777456</td>\n",
              "      <td>0.351389</td>\n",
              "      <td>1.000000</td>\n",
              "      <td>0.875617</td>\n",
              "      <td>1.000000</td>\n",
              "      <td>0.459326</td>\n",
              "      <td>...</td>\n",
              "      <td>1.000000</td>\n",
              "      <td>NaN</td>\n",
              "      <td>0.522745</td>\n",
              "      <td>0.773858</td>\n",
              "      <td>0.324228</td>\n",
              "      <td>0.441709</td>\n",
              "      <td>NaN</td>\n",
              "      <td>0.000000</td>\n",
              "      <td>0.000000</td>\n",
              "      <td>1.000000</td>\n",
              "      <td>0.390299</td>\n",
              "      <td>0.826147</td>\n",
              "      <td>0.358430</td>\n",
              "      <td>NaN</td>\n",
              "      <td>0.232596</td>\n",
              "      <td>NaN</td>\n",
              "      <td>NaN</td>\n",
              "      <td>0.505289</td>\n",
              "      <td>0.481513</td>\n",
              "      <td>0.000000</td>\n",
              "      <td>0.991314</td>\n",
              "      <td>0.000000</td>\n",
              "      <td>0.867583</td>\n",
              "      <td>0.211963</td>\n",
              "      <td>0.943193</td>\n",
              "      <td>0.816661</td>\n",
              "      <td>NaN</td>\n",
              "      <td>NaN</td>\n",
              "      <td>0.933180</td>\n",
              "      <td>0.300004</td>\n",
              "      <td>0.310978</td>\n",
              "      <td>NaN</td>\n",
              "      <td>NaN</td>\n",
              "      <td>NaN</td>\n",
              "      <td>NaN</td>\n",
              "      <td>NaN</td>\n",
              "      <td>NaN</td>\n",
              "      <td>NaN</td>\n",
              "      <td>NaN</td>\n",
              "      <td>NaN</td>\n",
              "    </tr>\n",
              "    <tr>\n",
              "      <th>1072</th>\n",
              "      <td>0.602132</td>\n",
              "      <td>0.293606</td>\n",
              "      <td>0.208477</td>\n",
              "      <td>0.828663</td>\n",
              "      <td>0.465164</td>\n",
              "      <td>0.893624</td>\n",
              "      <td>0.753463</td>\n",
              "      <td>0.624436</td>\n",
              "      <td>0.606305</td>\n",
              "      <td>0.331110</td>\n",
              "      <td>0.086499</td>\n",
              "      <td>0.222623</td>\n",
              "      <td>0.761540</td>\n",
              "      <td>0.000000</td>\n",
              "      <td>0.605325</td>\n",
              "      <td>0.351828</td>\n",
              "      <td>0.835833</td>\n",
              "      <td>0.098480</td>\n",
              "      <td>0.313129</td>\n",
              "      <td>0.861433</td>\n",
              "      <td>0.156753</td>\n",
              "      <td>0.526776</td>\n",
              "      <td>0.804793</td>\n",
              "      <td>0.309135</td>\n",
              "      <td>0.367393</td>\n",
              "      <td>0.689733</td>\n",
              "      <td>0.039451</td>\n",
              "      <td>0.659678</td>\n",
              "      <td>1.000000</td>\n",
              "      <td>0.500221</td>\n",
              "      <td>0.599073</td>\n",
              "      <td>0.475668</td>\n",
              "      <td>0.853579</td>\n",
              "      <td>1.000000</td>\n",
              "      <td>0.566777</td>\n",
              "      <td>0.658092</td>\n",
              "      <td>0.708088</td>\n",
              "      <td>0.335191</td>\n",
              "      <td>0.095136</td>\n",
              "      <td>0.000000</td>\n",
              "      <td>...</td>\n",
              "      <td>0.615417</td>\n",
              "      <td>0.647411</td>\n",
              "      <td>0.861129</td>\n",
              "      <td>0.224364</td>\n",
              "      <td>0.686952</td>\n",
              "      <td>0.453166</td>\n",
              "      <td>0.645608</td>\n",
              "      <td>0.945432</td>\n",
              "      <td>1.000000</td>\n",
              "      <td>0.048958</td>\n",
              "      <td>0.856387</td>\n",
              "      <td>0.000000</td>\n",
              "      <td>0.098690</td>\n",
              "      <td>0.307571</td>\n",
              "      <td>0.465112</td>\n",
              "      <td>0.354475</td>\n",
              "      <td>0.692824</td>\n",
              "      <td>1.000000</td>\n",
              "      <td>0.091655</td>\n",
              "      <td>0.550663</td>\n",
              "      <td>0.832964</td>\n",
              "      <td>0.373179</td>\n",
              "      <td>1.000000</td>\n",
              "      <td>0.478333</td>\n",
              "      <td>0.707724</td>\n",
              "      <td>0.566277</td>\n",
              "      <td>0.593058</td>\n",
              "      <td>0.854726</td>\n",
              "      <td>0.659848</td>\n",
              "      <td>0.327837</td>\n",
              "      <td>0.874273</td>\n",
              "      <td>NaN</td>\n",
              "      <td>NaN</td>\n",
              "      <td>NaN</td>\n",
              "      <td>NaN</td>\n",
              "      <td>NaN</td>\n",
              "      <td>NaN</td>\n",
              "      <td>NaN</td>\n",
              "      <td>NaN</td>\n",
              "      <td>NaN</td>\n",
              "    </tr>\n",
              "    <tr>\n",
              "      <th>1141</th>\n",
              "      <td>0.000000</td>\n",
              "      <td>0.281674</td>\n",
              "      <td>0.035556</td>\n",
              "      <td>0.779185</td>\n",
              "      <td>0.588492</td>\n",
              "      <td>0.184525</td>\n",
              "      <td>0.842455</td>\n",
              "      <td>0.000000</td>\n",
              "      <td>0.437154</td>\n",
              "      <td>0.460505</td>\n",
              "      <td>0.776477</td>\n",
              "      <td>0.789593</td>\n",
              "      <td>0.742320</td>\n",
              "      <td>0.350676</td>\n",
              "      <td>1.000000</td>\n",
              "      <td>0.474351</td>\n",
              "      <td>0.290753</td>\n",
              "      <td>0.042328</td>\n",
              "      <td>0.964321</td>\n",
              "      <td>0.456378</td>\n",
              "      <td>0.119521</td>\n",
              "      <td>0.610633</td>\n",
              "      <td>0.888564</td>\n",
              "      <td>0.697264</td>\n",
              "      <td>0.357212</td>\n",
              "      <td>0.944921</td>\n",
              "      <td>0.632214</td>\n",
              "      <td>0.751631</td>\n",
              "      <td>0.277004</td>\n",
              "      <td>0.109725</td>\n",
              "      <td>0.856077</td>\n",
              "      <td>0.597537</td>\n",
              "      <td>0.980539</td>\n",
              "      <td>0.288435</td>\n",
              "      <td>0.711312</td>\n",
              "      <td>0.275904</td>\n",
              "      <td>0.794252</td>\n",
              "      <td>0.598927</td>\n",
              "      <td>0.034398</td>\n",
              "      <td>0.599113</td>\n",
              "      <td>...</td>\n",
              "      <td>0.573723</td>\n",
              "      <td>0.094507</td>\n",
              "      <td>0.203670</td>\n",
              "      <td>0.441476</td>\n",
              "      <td>0.831458</td>\n",
              "      <td>0.998267</td>\n",
              "      <td>0.785365</td>\n",
              "      <td>0.770719</td>\n",
              "      <td>0.331452</td>\n",
              "      <td>0.307450</td>\n",
              "      <td>0.446277</td>\n",
              "      <td>0.209295</td>\n",
              "      <td>0.123758</td>\n",
              "      <td>0.707910</td>\n",
              "      <td>0.430167</td>\n",
              "      <td>0.000000</td>\n",
              "      <td>0.284291</td>\n",
              "      <td>0.723213</td>\n",
              "      <td>0.095885</td>\n",
              "      <td>0.995690</td>\n",
              "      <td>0.787745</td>\n",
              "      <td>0.867723</td>\n",
              "      <td>0.569379</td>\n",
              "      <td>0.279438</td>\n",
              "      <td>0.940297</td>\n",
              "      <td>0.718795</td>\n",
              "      <td>0.448744</td>\n",
              "      <td>0.696425</td>\n",
              "      <td>0.857683</td>\n",
              "      <td>0.710187</td>\n",
              "      <td>0.833963</td>\n",
              "      <td>NaN</td>\n",
              "      <td>NaN</td>\n",
              "      <td>NaN</td>\n",
              "      <td>NaN</td>\n",
              "      <td>NaN</td>\n",
              "      <td>NaN</td>\n",
              "      <td>NaN</td>\n",
              "      <td>NaN</td>\n",
              "      <td>NaN</td>\n",
              "    </tr>\n",
              "    <tr>\n",
              "      <th>1148</th>\n",
              "      <td>0.473909</td>\n",
              "      <td>0.820615</td>\n",
              "      <td>0.788236</td>\n",
              "      <td>0.011549</td>\n",
              "      <td>0.832242</td>\n",
              "      <td>0.431936</td>\n",
              "      <td>0.132331</td>\n",
              "      <td>0.043663</td>\n",
              "      <td>0.093377</td>\n",
              "      <td>0.387985</td>\n",
              "      <td>0.881322</td>\n",
              "      <td>0.258100</td>\n",
              "      <td>0.432874</td>\n",
              "      <td>0.820325</td>\n",
              "      <td>0.976827</td>\n",
              "      <td>0.576551</td>\n",
              "      <td>0.389341</td>\n",
              "      <td>0.497382</td>\n",
              "      <td>0.758839</td>\n",
              "      <td>0.940638</td>\n",
              "      <td>0.226243</td>\n",
              "      <td>0.000000</td>\n",
              "      <td>0.093269</td>\n",
              "      <td>0.911176</td>\n",
              "      <td>0.594712</td>\n",
              "      <td>1.000000</td>\n",
              "      <td>0.680222</td>\n",
              "      <td>0.149618</td>\n",
              "      <td>0.052596</td>\n",
              "      <td>0.052572</td>\n",
              "      <td>0.936053</td>\n",
              "      <td>0.847075</td>\n",
              "      <td>0.833394</td>\n",
              "      <td>0.917310</td>\n",
              "      <td>0.976843</td>\n",
              "      <td>0.445007</td>\n",
              "      <td>0.102880</td>\n",
              "      <td>0.260273</td>\n",
              "      <td>0.371191</td>\n",
              "      <td>0.670793</td>\n",
              "      <td>...</td>\n",
              "      <td>0.306664</td>\n",
              "      <td>0.542818</td>\n",
              "      <td>0.252593</td>\n",
              "      <td>0.477120</td>\n",
              "      <td>0.855170</td>\n",
              "      <td>0.932484</td>\n",
              "      <td>0.333579</td>\n",
              "      <td>0.768422</td>\n",
              "      <td>0.906389</td>\n",
              "      <td>0.142107</td>\n",
              "      <td>0.402320</td>\n",
              "      <td>0.543116</td>\n",
              "      <td>0.815688</td>\n",
              "      <td>0.354721</td>\n",
              "      <td>0.202021</td>\n",
              "      <td>0.045715</td>\n",
              "      <td>0.424846</td>\n",
              "      <td>0.702083</td>\n",
              "      <td>0.387932</td>\n",
              "      <td>0.368171</td>\n",
              "      <td>0.504384</td>\n",
              "      <td>0.942462</td>\n",
              "      <td>0.530847</td>\n",
              "      <td>0.050129</td>\n",
              "      <td>0.677542</td>\n",
              "      <td>1.000000</td>\n",
              "      <td>0.293467</td>\n",
              "      <td>0.141839</td>\n",
              "      <td>0.092542</td>\n",
              "      <td>0.670058</td>\n",
              "      <td>0.054162</td>\n",
              "      <td>NaN</td>\n",
              "      <td>NaN</td>\n",
              "      <td>NaN</td>\n",
              "      <td>NaN</td>\n",
              "      <td>NaN</td>\n",
              "      <td>NaN</td>\n",
              "      <td>NaN</td>\n",
              "      <td>NaN</td>\n",
              "      <td>NaN</td>\n",
              "    </tr>\n",
              "    <tr>\n",
              "      <th>1184</th>\n",
              "      <td>0.717316</td>\n",
              "      <td>0.057649</td>\n",
              "      <td>0.409409</td>\n",
              "      <td>1.000000</td>\n",
              "      <td>0.729344</td>\n",
              "      <td>1.000000</td>\n",
              "      <td>1.000000</td>\n",
              "      <td>0.587709</td>\n",
              "      <td>0.324590</td>\n",
              "      <td>0.921291</td>\n",
              "      <td>0.000000</td>\n",
              "      <td>0.811387</td>\n",
              "      <td>0.245413</td>\n",
              "      <td>0.605605</td>\n",
              "      <td>0.026202</td>\n",
              "      <td>0.186358</td>\n",
              "      <td>0.913243</td>\n",
              "      <td>0.332958</td>\n",
              "      <td>0.394267</td>\n",
              "      <td>0.052868</td>\n",
              "      <td>0.418951</td>\n",
              "      <td>1.000000</td>\n",
              "      <td>0.802452</td>\n",
              "      <td>0.243098</td>\n",
              "      <td>0.000000</td>\n",
              "      <td>0.576795</td>\n",
              "      <td>0.282608</td>\n",
              "      <td>0.914390</td>\n",
              "      <td>0.986606</td>\n",
              "      <td>0.695483</td>\n",
              "      <td>0.094746</td>\n",
              "      <td>0.884408</td>\n",
              "      <td>0.012831</td>\n",
              "      <td>0.494730</td>\n",
              "      <td>0.948971</td>\n",
              "      <td>0.537601</td>\n",
              "      <td>0.331947</td>\n",
              "      <td>0.640831</td>\n",
              "      <td>0.592521</td>\n",
              "      <td>1.000000</td>\n",
              "      <td>...</td>\n",
              "      <td>0.340270</td>\n",
              "      <td>0.303813</td>\n",
              "      <td>0.687406</td>\n",
              "      <td>0.063894</td>\n",
              "      <td>0.705786</td>\n",
              "      <td>0.391782</td>\n",
              "      <td>0.044921</td>\n",
              "      <td>0.821041</td>\n",
              "      <td>0.602863</td>\n",
              "      <td>0.318515</td>\n",
              "      <td>0.351724</td>\n",
              "      <td>0.990774</td>\n",
              "      <td>0.642006</td>\n",
              "      <td>0.521103</td>\n",
              "      <td>0.879268</td>\n",
              "      <td>0.312818</td>\n",
              "      <td>0.876864</td>\n",
              "      <td>0.039563</td>\n",
              "      <td>0.297962</td>\n",
              "      <td>0.522029</td>\n",
              "      <td>0.945835</td>\n",
              "      <td>0.560058</td>\n",
              "      <td>0.715611</td>\n",
              "      <td>0.006992</td>\n",
              "      <td>0.002852</td>\n",
              "      <td>0.698814</td>\n",
              "      <td>0.026308</td>\n",
              "      <td>0.607893</td>\n",
              "      <td>0.757390</td>\n",
              "      <td>0.050076</td>\n",
              "      <td>0.418744</td>\n",
              "      <td>NaN</td>\n",
              "      <td>NaN</td>\n",
              "      <td>NaN</td>\n",
              "      <td>NaN</td>\n",
              "      <td>NaN</td>\n",
              "      <td>NaN</td>\n",
              "      <td>NaN</td>\n",
              "      <td>NaN</td>\n",
              "      <td>NaN</td>\n",
              "    </tr>\n",
              "    <tr>\n",
              "      <th>1309</th>\n",
              "      <td>0.779659</td>\n",
              "      <td>0.391412</td>\n",
              "      <td>0.664368</td>\n",
              "      <td>0.049477</td>\n",
              "      <td>0.238362</td>\n",
              "      <td>0.452129</td>\n",
              "      <td>0.108696</td>\n",
              "      <td>0.231977</td>\n",
              "      <td>0.000000</td>\n",
              "      <td>0.673491</td>\n",
              "      <td>0.647133</td>\n",
              "      <td>0.686496</td>\n",
              "      <td>0.273184</td>\n",
              "      <td>0.847417</td>\n",
              "      <td>0.279337</td>\n",
              "      <td>0.261543</td>\n",
              "      <td>0.000000</td>\n",
              "      <td>0.784094</td>\n",
              "      <td>0.011696</td>\n",
              "      <td>0.263592</td>\n",
              "      <td>0.711509</td>\n",
              "      <td>0.888678</td>\n",
              "      <td>0.078338</td>\n",
              "      <td>0.009399</td>\n",
              "      <td>0.704334</td>\n",
              "      <td>0.816053</td>\n",
              "      <td>0.837781</td>\n",
              "      <td>0.125383</td>\n",
              "      <td>0.000000</td>\n",
              "      <td>0.006834</td>\n",
              "      <td>0.889162</td>\n",
              "      <td>0.177588</td>\n",
              "      <td>0.949599</td>\n",
              "      <td>0.734032</td>\n",
              "      <td>0.499889</td>\n",
              "      <td>0.082162</td>\n",
              "      <td>0.084239</td>\n",
              "      <td>0.795732</td>\n",
              "      <td>0.408414</td>\n",
              "      <td>0.699981</td>\n",
              "      <td>...</td>\n",
              "      <td>0.070247</td>\n",
              "      <td>0.424642</td>\n",
              "      <td>0.271017</td>\n",
              "      <td>0.668576</td>\n",
              "      <td>0.377716</td>\n",
              "      <td>0.888076</td>\n",
              "      <td>0.318775</td>\n",
              "      <td>0.882590</td>\n",
              "      <td>0.074446</td>\n",
              "      <td>0.268890</td>\n",
              "      <td>0.624217</td>\n",
              "      <td>0.969195</td>\n",
              "      <td>0.723878</td>\n",
              "      <td>0.016008</td>\n",
              "      <td>0.654134</td>\n",
              "      <td>0.510886</td>\n",
              "      <td>0.417763</td>\n",
              "      <td>0.816803</td>\n",
              "      <td>0.407767</td>\n",
              "      <td>0.969857</td>\n",
              "      <td>0.848608</td>\n",
              "      <td>0.376832</td>\n",
              "      <td>0.773734</td>\n",
              "      <td>0.003077</td>\n",
              "      <td>0.416386</td>\n",
              "      <td>0.744220</td>\n",
              "      <td>0.406813</td>\n",
              "      <td>0.125923</td>\n",
              "      <td>0.000000</td>\n",
              "      <td>0.636248</td>\n",
              "      <td>0.071966</td>\n",
              "      <td>NaN</td>\n",
              "      <td>NaN</td>\n",
              "      <td>NaN</td>\n",
              "      <td>NaN</td>\n",
              "      <td>NaN</td>\n",
              "      <td>NaN</td>\n",
              "      <td>NaN</td>\n",
              "      <td>NaN</td>\n",
              "      <td>NaN</td>\n",
              "    </tr>\n",
              "    <tr>\n",
              "      <th>1365</th>\n",
              "      <td>0.845758</td>\n",
              "      <td>0.069676</td>\n",
              "      <td>1.000000</td>\n",
              "      <td>0.850156</td>\n",
              "      <td>0.000000</td>\n",
              "      <td>0.448418</td>\n",
              "      <td>0.347641</td>\n",
              "      <td>0.583539</td>\n",
              "      <td>0.701869</td>\n",
              "      <td>0.890617</td>\n",
              "      <td>0.149472</td>\n",
              "      <td>0.824140</td>\n",
              "      <td>0.101481</td>\n",
              "      <td>0.478313</td>\n",
              "      <td>0.048266</td>\n",
              "      <td>0.000000</td>\n",
              "      <td>0.880520</td>\n",
              "      <td>0.709904</td>\n",
              "      <td>0.644626</td>\n",
              "      <td>0.000000</td>\n",
              "      <td>0.564226</td>\n",
              "      <td>0.295511</td>\n",
              "      <td>0.545957</td>\n",
              "      <td>0.778864</td>\n",
              "      <td>0.069350</td>\n",
              "      <td>0.599296</td>\n",
              "      <td>0.432282</td>\n",
              "      <td>0.766139</td>\n",
              "      <td>0.971425</td>\n",
              "      <td>0.657565</td>\n",
              "      <td>0.357879</td>\n",
              "      <td>0.700026</td>\n",
              "      <td>0.059776</td>\n",
              "      <td>0.873388</td>\n",
              "      <td>0.721517</td>\n",
              "      <td>0.406980</td>\n",
              "      <td>0.811805</td>\n",
              "      <td>0.025807</td>\n",
              "      <td>0.462740</td>\n",
              "      <td>0.870358</td>\n",
              "      <td>...</td>\n",
              "      <td>0.307812</td>\n",
              "      <td>1.000000</td>\n",
              "      <td>0.278412</td>\n",
              "      <td>0.636114</td>\n",
              "      <td>0.720032</td>\n",
              "      <td>0.800230</td>\n",
              "      <td>0.085782</td>\n",
              "      <td>0.878868</td>\n",
              "      <td>0.893753</td>\n",
              "      <td>0.082692</td>\n",
              "      <td>0.055678</td>\n",
              "      <td>0.597309</td>\n",
              "      <td>0.889625</td>\n",
              "      <td>0.925535</td>\n",
              "      <td>0.032678</td>\n",
              "      <td>1.000000</td>\n",
              "      <td>0.767354</td>\n",
              "      <td>0.064104</td>\n",
              "      <td>0.430608</td>\n",
              "      <td>0.667714</td>\n",
              "      <td>0.712478</td>\n",
              "      <td>0.794857</td>\n",
              "      <td>0.000000</td>\n",
              "      <td>0.814458</td>\n",
              "      <td>0.062285</td>\n",
              "      <td>0.715282</td>\n",
              "      <td>0.048165</td>\n",
              "      <td>0.592691</td>\n",
              "      <td>0.858608</td>\n",
              "      <td>0.002043</td>\n",
              "      <td>0.646294</td>\n",
              "      <td>NaN</td>\n",
              "      <td>NaN</td>\n",
              "      <td>NaN</td>\n",
              "      <td>NaN</td>\n",
              "      <td>NaN</td>\n",
              "      <td>NaN</td>\n",
              "      <td>NaN</td>\n",
              "      <td>NaN</td>\n",
              "      <td>NaN</td>\n",
              "    </tr>\n",
              "    <tr>\n",
              "      <th>1452</th>\n",
              "      <td>0.385187</td>\n",
              "      <td>0.578978</td>\n",
              "      <td>0.993868</td>\n",
              "      <td>0.000000</td>\n",
              "      <td>0.980739</td>\n",
              "      <td>0.674683</td>\n",
              "      <td>0.082566</td>\n",
              "      <td>0.228428</td>\n",
              "      <td>0.114097</td>\n",
              "      <td>0.192632</td>\n",
              "      <td>0.301397</td>\n",
              "      <td>0.997762</td>\n",
              "      <td>0.746001</td>\n",
              "      <td>0.325773</td>\n",
              "      <td>0.868766</td>\n",
              "      <td>0.870963</td>\n",
              "      <td>0.875501</td>\n",
              "      <td>0.922416</td>\n",
              "      <td>0.349497</td>\n",
              "      <td>0.566303</td>\n",
              "      <td>0.904439</td>\n",
              "      <td>0.024916</td>\n",
              "      <td>0.035072</td>\n",
              "      <td>0.352070</td>\n",
              "      <td>0.747422</td>\n",
              "      <td>0.440978</td>\n",
              "      <td>1.000000</td>\n",
              "      <td>0.097625</td>\n",
              "      <td>0.087132</td>\n",
              "      <td>0.777974</td>\n",
              "      <td>0.189623</td>\n",
              "      <td>0.181710</td>\n",
              "      <td>0.593679</td>\n",
              "      <td>0.236660</td>\n",
              "      <td>0.396707</td>\n",
              "      <td>0.037791</td>\n",
              "      <td>0.048649</td>\n",
              "      <td>0.984972</td>\n",
              "      <td>0.291929</td>\n",
              "      <td>0.571132</td>\n",
              "      <td>...</td>\n",
              "      <td>0.458461</td>\n",
              "      <td>0.867969</td>\n",
              "      <td>0.714233</td>\n",
              "      <td>0.704675</td>\n",
              "      <td>1.000000</td>\n",
              "      <td>0.327365</td>\n",
              "      <td>0.802978</td>\n",
              "      <td>1.000000</td>\n",
              "      <td>0.560077</td>\n",
              "      <td>0.338310</td>\n",
              "      <td>0.414062</td>\n",
              "      <td>0.580606</td>\n",
              "      <td>0.480574</td>\n",
              "      <td>0.341725</td>\n",
              "      <td>0.661875</td>\n",
              "      <td>0.239332</td>\n",
              "      <td>0.730656</td>\n",
              "      <td>0.995716</td>\n",
              "      <td>0.939247</td>\n",
              "      <td>0.204260</td>\n",
              "      <td>0.067294</td>\n",
              "      <td>0.669498</td>\n",
              "      <td>0.399136</td>\n",
              "      <td>0.043824</td>\n",
              "      <td>0.939433</td>\n",
              "      <td>0.895453</td>\n",
              "      <td>0.453077</td>\n",
              "      <td>0.080666</td>\n",
              "      <td>0.109010</td>\n",
              "      <td>0.415486</td>\n",
              "      <td>0.000000</td>\n",
              "      <td>NaN</td>\n",
              "      <td>NaN</td>\n",
              "      <td>NaN</td>\n",
              "      <td>NaN</td>\n",
              "      <td>NaN</td>\n",
              "      <td>NaN</td>\n",
              "      <td>NaN</td>\n",
              "      <td>NaN</td>\n",
              "      <td>NaN</td>\n",
              "    </tr>\n",
              "    <tr>\n",
              "      <th>1465</th>\n",
              "      <td>0.310064</td>\n",
              "      <td>0.022333</td>\n",
              "      <td>0.681275</td>\n",
              "      <td>0.715444</td>\n",
              "      <td>0.895427</td>\n",
              "      <td>0.972916</td>\n",
              "      <td>0.359520</td>\n",
              "      <td>0.847842</td>\n",
              "      <td>0.972905</td>\n",
              "      <td>0.425835</td>\n",
              "      <td>0.372732</td>\n",
              "      <td>0.368886</td>\n",
              "      <td>0.085045</td>\n",
              "      <td>0.587982</td>\n",
              "      <td>0.000000</td>\n",
              "      <td>0.634226</td>\n",
              "      <td>0.751979</td>\n",
              "      <td>0.568018</td>\n",
              "      <td>0.392447</td>\n",
              "      <td>0.076696</td>\n",
              "      <td>0.959358</td>\n",
              "      <td>0.710944</td>\n",
              "      <td>0.797853</td>\n",
              "      <td>0.663681</td>\n",
              "      <td>0.054473</td>\n",
              "      <td>0.351958</td>\n",
              "      <td>0.677527</td>\n",
              "      <td>0.909867</td>\n",
              "      <td>0.431821</td>\n",
              "      <td>0.175112</td>\n",
              "      <td>0.244258</td>\n",
              "      <td>0.101617</td>\n",
              "      <td>0.019978</td>\n",
              "      <td>0.637141</td>\n",
              "      <td>0.577667</td>\n",
              "      <td>0.649956</td>\n",
              "      <td>0.946557</td>\n",
              "      <td>0.366625</td>\n",
              "      <td>0.835036</td>\n",
              "      <td>0.312152</td>\n",
              "      <td>...</td>\n",
              "      <td>0.729239</td>\n",
              "      <td>0.971182</td>\n",
              "      <td>0.666881</td>\n",
              "      <td>0.951944</td>\n",
              "      <td>0.696960</td>\n",
              "      <td>0.540226</td>\n",
              "      <td>0.000000</td>\n",
              "      <td>0.880021</td>\n",
              "      <td>0.294028</td>\n",
              "      <td>0.008521</td>\n",
              "      <td>0.360225</td>\n",
              "      <td>0.573228</td>\n",
              "      <td>0.381536</td>\n",
              "      <td>0.236821</td>\n",
              "      <td>0.068769</td>\n",
              "      <td>0.573628</td>\n",
              "      <td>0.314379</td>\n",
              "      <td>0.000000</td>\n",
              "      <td>0.531199</td>\n",
              "      <td>0.221822</td>\n",
              "      <td>0.158613</td>\n",
              "      <td>0.565698</td>\n",
              "      <td>0.876109</td>\n",
              "      <td>0.192286</td>\n",
              "      <td>0.061926</td>\n",
              "      <td>0.820485</td>\n",
              "      <td>0.000000</td>\n",
              "      <td>0.725242</td>\n",
              "      <td>0.751174</td>\n",
              "      <td>0.602007</td>\n",
              "      <td>0.890542</td>\n",
              "      <td>NaN</td>\n",
              "      <td>NaN</td>\n",
              "      <td>NaN</td>\n",
              "      <td>NaN</td>\n",
              "      <td>NaN</td>\n",
              "      <td>NaN</td>\n",
              "      <td>NaN</td>\n",
              "      <td>NaN</td>\n",
              "      <td>NaN</td>\n",
              "    </tr>\n",
              "    <tr>\n",
              "      <th>1467</th>\n",
              "      <td>0.957023</td>\n",
              "      <td>0.213468</td>\n",
              "      <td>0.983117</td>\n",
              "      <td>0.956093</td>\n",
              "      <td>0.166011</td>\n",
              "      <td>0.261480</td>\n",
              "      <td>0.694875</td>\n",
              "      <td>0.560791</td>\n",
              "      <td>0.924865</td>\n",
              "      <td>0.013740</td>\n",
              "      <td>0.837839</td>\n",
              "      <td>0.962255</td>\n",
              "      <td>0.088532</td>\n",
              "      <td>0.736098</td>\n",
              "      <td>0.079611</td>\n",
              "      <td>0.032000</td>\n",
              "      <td>0.332256</td>\n",
              "      <td>0.316746</td>\n",
              "      <td>0.047814</td>\n",
              "      <td>0.048769</td>\n",
              "      <td>0.000000</td>\n",
              "      <td>0.822339</td>\n",
              "      <td>0.514086</td>\n",
              "      <td>0.024536</td>\n",
              "      <td>0.119053</td>\n",
              "      <td>0.406145</td>\n",
              "      <td>0.568042</td>\n",
              "      <td>0.336357</td>\n",
              "      <td>0.932395</td>\n",
              "      <td>0.656608</td>\n",
              "      <td>0.463225</td>\n",
              "      <td>0.666106</td>\n",
              "      <td>0.761231</td>\n",
              "      <td>0.000000</td>\n",
              "      <td>0.489705</td>\n",
              "      <td>0.608689</td>\n",
              "      <td>0.407283</td>\n",
              "      <td>0.000000</td>\n",
              "      <td>0.445558</td>\n",
              "      <td>0.860341</td>\n",
              "      <td>...</td>\n",
              "      <td>0.650612</td>\n",
              "      <td>0.300619</td>\n",
              "      <td>0.978969</td>\n",
              "      <td>0.103889</td>\n",
              "      <td>0.488180</td>\n",
              "      <td>0.906604</td>\n",
              "      <td>0.409585</td>\n",
              "      <td>0.705990</td>\n",
              "      <td>0.866967</td>\n",
              "      <td>0.024738</td>\n",
              "      <td>0.000000</td>\n",
              "      <td>0.456255</td>\n",
              "      <td>1.000000</td>\n",
              "      <td>0.016296</td>\n",
              "      <td>0.493634</td>\n",
              "      <td>0.286673</td>\n",
              "      <td>0.656008</td>\n",
              "      <td>0.092552</td>\n",
              "      <td>0.421973</td>\n",
              "      <td>0.816591</td>\n",
              "      <td>0.865743</td>\n",
              "      <td>0.758723</td>\n",
              "      <td>0.567360</td>\n",
              "      <td>0.284863</td>\n",
              "      <td>0.475162</td>\n",
              "      <td>0.598550</td>\n",
              "      <td>0.078782</td>\n",
              "      <td>0.682328</td>\n",
              "      <td>0.823781</td>\n",
              "      <td>0.000000</td>\n",
              "      <td>0.498635</td>\n",
              "      <td>NaN</td>\n",
              "      <td>NaN</td>\n",
              "      <td>NaN</td>\n",
              "      <td>NaN</td>\n",
              "      <td>NaN</td>\n",
              "      <td>NaN</td>\n",
              "      <td>NaN</td>\n",
              "      <td>NaN</td>\n",
              "      <td>NaN</td>\n",
              "    </tr>\n",
              "    <tr>\n",
              "      <th>1486</th>\n",
              "      <td>0.393669</td>\n",
              "      <td>0.383499</td>\n",
              "      <td>0.668186</td>\n",
              "      <td>0.702977</td>\n",
              "      <td>0.667788</td>\n",
              "      <td>0.221781</td>\n",
              "      <td>0.747455</td>\n",
              "      <td>0.945062</td>\n",
              "      <td>0.599217</td>\n",
              "      <td>0.288580</td>\n",
              "      <td>0.769266</td>\n",
              "      <td>0.752960</td>\n",
              "      <td>1.000000</td>\n",
              "      <td>0.621957</td>\n",
              "      <td>0.541209</td>\n",
              "      <td>0.564608</td>\n",
              "      <td>0.617834</td>\n",
              "      <td>0.528572</td>\n",
              "      <td>0.426978</td>\n",
              "      <td>0.669041</td>\n",
              "      <td>0.809785</td>\n",
              "      <td>0.410141</td>\n",
              "      <td>0.680200</td>\n",
              "      <td>0.843385</td>\n",
              "      <td>0.425073</td>\n",
              "      <td>0.000000</td>\n",
              "      <td>0.313044</td>\n",
              "      <td>0.784857</td>\n",
              "      <td>0.586463</td>\n",
              "      <td>0.231352</td>\n",
              "      <td>1.000000</td>\n",
              "      <td>0.751075</td>\n",
              "      <td>0.764693</td>\n",
              "      <td>0.686525</td>\n",
              "      <td>0.000000</td>\n",
              "      <td>1.000000</td>\n",
              "      <td>0.703411</td>\n",
              "      <td>1.000000</td>\n",
              "      <td>0.795919</td>\n",
              "      <td>0.873843</td>\n",
              "      <td>...</td>\n",
              "      <td>0.752407</td>\n",
              "      <td>0.387401</td>\n",
              "      <td>0.975425</td>\n",
              "      <td>0.936544</td>\n",
              "      <td>0.000000</td>\n",
              "      <td>1.000000</td>\n",
              "      <td>1.000000</td>\n",
              "      <td>0.885667</td>\n",
              "      <td>0.313135</td>\n",
              "      <td>0.024633</td>\n",
              "      <td>0.551715</td>\n",
              "      <td>1.000000</td>\n",
              "      <td>0.672069</td>\n",
              "      <td>0.993693</td>\n",
              "      <td>0.743565</td>\n",
              "      <td>0.814676</td>\n",
              "      <td>0.827211</td>\n",
              "      <td>0.537965</td>\n",
              "      <td>1.000000</td>\n",
              "      <td>0.896457</td>\n",
              "      <td>0.584461</td>\n",
              "      <td>0.860082</td>\n",
              "      <td>0.788779</td>\n",
              "      <td>0.917728</td>\n",
              "      <td>1.000000</td>\n",
              "      <td>0.000000</td>\n",
              "      <td>0.662920</td>\n",
              "      <td>0.606762</td>\n",
              "      <td>1.000000</td>\n",
              "      <td>0.673602</td>\n",
              "      <td>1.000000</td>\n",
              "      <td>NaN</td>\n",
              "      <td>NaN</td>\n",
              "      <td>NaN</td>\n",
              "      <td>NaN</td>\n",
              "      <td>NaN</td>\n",
              "      <td>NaN</td>\n",
              "      <td>NaN</td>\n",
              "      <td>NaN</td>\n",
              "      <td>NaN</td>\n",
              "    </tr>\n",
              "    <tr>\n",
              "      <th>1538</th>\n",
              "      <td>0.363195</td>\n",
              "      <td>0.792113</td>\n",
              "      <td>0.000000</td>\n",
              "      <td>0.548108</td>\n",
              "      <td>0.426539</td>\n",
              "      <td>0.671981</td>\n",
              "      <td>0.993617</td>\n",
              "      <td>0.225899</td>\n",
              "      <td>0.843806</td>\n",
              "      <td>0.970931</td>\n",
              "      <td>0.420779</td>\n",
              "      <td>0.000000</td>\n",
              "      <td>0.570549</td>\n",
              "      <td>0.079308</td>\n",
              "      <td>0.962278</td>\n",
              "      <td>0.310605</td>\n",
              "      <td>0.464984</td>\n",
              "      <td>0.100339</td>\n",
              "      <td>0.831703</td>\n",
              "      <td>0.562775</td>\n",
              "      <td>0.480547</td>\n",
              "      <td>0.250042</td>\n",
              "      <td>0.913598</td>\n",
              "      <td>0.979733</td>\n",
              "      <td>0.711713</td>\n",
              "      <td>0.276653</td>\n",
              "      <td>0.000000</td>\n",
              "      <td>0.382147</td>\n",
              "      <td>0.564708</td>\n",
              "      <td>1.000000</td>\n",
              "      <td>0.282033</td>\n",
              "      <td>0.767636</td>\n",
              "      <td>0.807038</td>\n",
              "      <td>0.829419</td>\n",
              "      <td>0.921449</td>\n",
              "      <td>0.647275</td>\n",
              "      <td>0.695058</td>\n",
              "      <td>0.298096</td>\n",
              "      <td>0.095783</td>\n",
              "      <td>0.482095</td>\n",
              "      <td>...</td>\n",
              "      <td>0.586280</td>\n",
              "      <td>0.000000</td>\n",
              "      <td>0.000000</td>\n",
              "      <td>0.000000</td>\n",
              "      <td>0.799754</td>\n",
              "      <td>0.573358</td>\n",
              "      <td>0.298058</td>\n",
              "      <td>0.884930</td>\n",
              "      <td>0.180124</td>\n",
              "      <td>0.288979</td>\n",
              "      <td>0.690325</td>\n",
              "      <td>0.333143</td>\n",
              "      <td>0.414903</td>\n",
              "      <td>1.000000</td>\n",
              "      <td>0.930823</td>\n",
              "      <td>0.774132</td>\n",
              "      <td>0.926253</td>\n",
              "      <td>0.418847</td>\n",
              "      <td>0.000000</td>\n",
              "      <td>0.239041</td>\n",
              "      <td>1.000000</td>\n",
              "      <td>1.000000</td>\n",
              "      <td>0.825654</td>\n",
              "      <td>0.608538</td>\n",
              "      <td>0.666561</td>\n",
              "      <td>0.681826</td>\n",
              "      <td>0.677094</td>\n",
              "      <td>0.964428</td>\n",
              "      <td>0.291248</td>\n",
              "      <td>0.824365</td>\n",
              "      <td>0.272079</td>\n",
              "      <td>NaN</td>\n",
              "      <td>NaN</td>\n",
              "      <td>NaN</td>\n",
              "      <td>NaN</td>\n",
              "      <td>NaN</td>\n",
              "      <td>NaN</td>\n",
              "      <td>NaN</td>\n",
              "      <td>NaN</td>\n",
              "      <td>NaN</td>\n",
              "    </tr>\n",
              "    <tr>\n",
              "      <th>1587</th>\n",
              "      <td>0.717645</td>\n",
              "      <td>0.059029</td>\n",
              "      <td>0.704457</td>\n",
              "      <td>0.861939</td>\n",
              "      <td>0.867350</td>\n",
              "      <td>0.621092</td>\n",
              "      <td>0.872093</td>\n",
              "      <td>1.000000</td>\n",
              "      <td>0.323991</td>\n",
              "      <td>0.919533</td>\n",
              "      <td>0.363489</td>\n",
              "      <td>0.395480</td>\n",
              "      <td>0.106236</td>\n",
              "      <td>0.606495</td>\n",
              "      <td>0.027568</td>\n",
              "      <td>0.042242</td>\n",
              "      <td>0.233235</td>\n",
              "      <td>0.710347</td>\n",
              "      <td>0.256178</td>\n",
              "      <td>0.049686</td>\n",
              "      <td>0.593899</td>\n",
              "      <td>0.443913</td>\n",
              "      <td>0.560172</td>\n",
              "      <td>0.382229</td>\n",
              "      <td>0.005045</td>\n",
              "      <td>0.781043</td>\n",
              "      <td>0.977483</td>\n",
              "      <td>0.387985</td>\n",
              "      <td>0.849637</td>\n",
              "      <td>0.874058</td>\n",
              "      <td>0.673994</td>\n",
              "      <td>0.252102</td>\n",
              "      <td>0.016478</td>\n",
              "      <td>0.903465</td>\n",
              "      <td>0.466848</td>\n",
              "      <td>0.305179</td>\n",
              "      <td>0.578963</td>\n",
              "      <td>0.782715</td>\n",
              "      <td>0.852129</td>\n",
              "      <td>0.463708</td>\n",
              "      <td>...</td>\n",
              "      <td>0.528591</td>\n",
              "      <td>0.994612</td>\n",
              "      <td>0.408016</td>\n",
              "      <td>0.794874</td>\n",
              "      <td>0.706906</td>\n",
              "      <td>0.245541</td>\n",
              "      <td>0.048678</td>\n",
              "      <td>0.820996</td>\n",
              "      <td>0.442239</td>\n",
              "      <td>0.137211</td>\n",
              "      <td>0.737876</td>\n",
              "      <td>0.858377</td>\n",
              "      <td>0.888259</td>\n",
              "      <td>0.808125</td>\n",
              "      <td>0.877548</td>\n",
              "      <td>0.727587</td>\n",
              "      <td>0.740251</td>\n",
              "      <td>0.041429</td>\n",
              "      <td>0.298890</td>\n",
              "      <td>0.673893</td>\n",
              "      <td>0.943824</td>\n",
              "      <td>0.689246</td>\n",
              "      <td>0.300588</td>\n",
              "      <td>0.342388</td>\n",
              "      <td>0.000000</td>\n",
              "      <td>0.829988</td>\n",
              "      <td>0.027681</td>\n",
              "      <td>0.728787</td>\n",
              "      <td>0.410008</td>\n",
              "      <td>0.047457</td>\n",
              "      <td>0.777167</td>\n",
              "      <td>NaN</td>\n",
              "      <td>NaN</td>\n",
              "      <td>NaN</td>\n",
              "      <td>NaN</td>\n",
              "      <td>NaN</td>\n",
              "      <td>NaN</td>\n",
              "      <td>NaN</td>\n",
              "      <td>NaN</td>\n",
              "      <td>NaN</td>\n",
              "    </tr>\n",
              "    <tr>\n",
              "      <th>1682</th>\n",
              "      <td>0.267534</td>\n",
              "      <td>0.296794</td>\n",
              "      <td>0.409917</td>\n",
              "      <td>0.029137</td>\n",
              "      <td>0.827936</td>\n",
              "      <td>0.680120</td>\n",
              "      <td>0.042169</td>\n",
              "      <td>0.930032</td>\n",
              "      <td>0.105017</td>\n",
              "      <td>0.000000</td>\n",
              "      <td>0.274359</td>\n",
              "      <td>1.000000</td>\n",
              "      <td>0.322012</td>\n",
              "      <td>1.000000</td>\n",
              "      <td>0.726564</td>\n",
              "      <td>1.000000</td>\n",
              "      <td>0.512196</td>\n",
              "      <td>0.428847</td>\n",
              "      <td>0.057431</td>\n",
              "      <td>0.944792</td>\n",
              "      <td>0.881116</td>\n",
              "      <td>0.603835</td>\n",
              "      <td>0.000000</td>\n",
              "      <td>0.755160</td>\n",
              "      <td>1.000000</td>\n",
              "      <td>0.648496</td>\n",
              "      <td>0.450071</td>\n",
              "      <td>0.054901</td>\n",
              "      <td>0.081628</td>\n",
              "      <td>0.759351</td>\n",
              "      <td>0.166718</td>\n",
              "      <td>0.790367</td>\n",
              "      <td>0.984337</td>\n",
              "      <td>0.904696</td>\n",
              "      <td>0.640022</td>\n",
              "      <td>0.000000</td>\n",
              "      <td>0.009007</td>\n",
              "      <td>0.536872</td>\n",
              "      <td>0.949004</td>\n",
              "      <td>0.312161</td>\n",
              "      <td>...</td>\n",
              "      <td>0.052679</td>\n",
              "      <td>0.320565</td>\n",
              "      <td>1.000000</td>\n",
              "      <td>0.160080</td>\n",
              "      <td>0.397130</td>\n",
              "      <td>0.882842</td>\n",
              "      <td>0.943416</td>\n",
              "      <td>0.709332</td>\n",
              "      <td>0.063884</td>\n",
              "      <td>0.157997</td>\n",
              "      <td>0.660681</td>\n",
              "      <td>0.588599</td>\n",
              "      <td>0.613461</td>\n",
              "      <td>0.464398</td>\n",
              "      <td>0.477269</td>\n",
              "      <td>0.943081</td>\n",
              "      <td>0.449979</td>\n",
              "      <td>0.856630</td>\n",
              "      <td>0.690564</td>\n",
              "      <td>0.505737</td>\n",
              "      <td>0.037931</td>\n",
              "      <td>0.389390</td>\n",
              "      <td>0.249039</td>\n",
              "      <td>0.699886</td>\n",
              "      <td>0.932553</td>\n",
              "      <td>0.896244</td>\n",
              "      <td>0.711925</td>\n",
              "      <td>0.000000</td>\n",
              "      <td>0.100401</td>\n",
              "      <td>0.806021</td>\n",
              "      <td>0.035260</td>\n",
              "      <td>NaN</td>\n",
              "      <td>NaN</td>\n",
              "      <td>NaN</td>\n",
              "      <td>NaN</td>\n",
              "      <td>NaN</td>\n",
              "      <td>NaN</td>\n",
              "      <td>NaN</td>\n",
              "      <td>NaN</td>\n",
              "      <td>NaN</td>\n",
              "    </tr>\n",
              "    <tr>\n",
              "      <th>1853</th>\n",
              "      <td>0.398247</td>\n",
              "      <td>0.820016</td>\n",
              "      <td>0.828800</td>\n",
              "      <td>0.053963</td>\n",
              "      <td>0.377418</td>\n",
              "      <td>0.086579</td>\n",
              "      <td>0.093630</td>\n",
              "      <td>0.518764</td>\n",
              "      <td>0.051337</td>\n",
              "      <td>0.319282</td>\n",
              "      <td>0.808858</td>\n",
              "      <td>0.838798</td>\n",
              "      <td>0.981563</td>\n",
              "      <td>0.725431</td>\n",
              "      <td>0.964770</td>\n",
              "      <td>0.261899</td>\n",
              "      <td>0.829891</td>\n",
              "      <td>0.797013</td>\n",
              "      <td>0.000000</td>\n",
              "      <td>0.913260</td>\n",
              "      <td>0.516983</td>\n",
              "      <td>0.340989</td>\n",
              "      <td>0.067361</td>\n",
              "      <td>0.000000</td>\n",
              "      <td>0.969737</td>\n",
              "      <td>0.829995</td>\n",
              "      <td>0.850187</td>\n",
              "      <td>0.109803</td>\n",
              "      <td>0.037084</td>\n",
              "      <td>0.000000</td>\n",
              "      <td>0.000000</td>\n",
              "      <td>0.159601</td>\n",
              "      <td>0.427088</td>\n",
              "      <td>0.044316</td>\n",
              "      <td>0.627505</td>\n",
              "      <td>0.069612</td>\n",
              "      <td>0.071645</td>\n",
              "      <td>0.935319</td>\n",
              "      <td>0.680937</td>\n",
              "      <td>0.441843</td>\n",
              "      <td>...</td>\n",
              "      <td>0.620848</td>\n",
              "      <td>0.577085</td>\n",
              "      <td>0.282926</td>\n",
              "      <td>0.135101</td>\n",
              "      <td>0.384517</td>\n",
              "      <td>0.000000</td>\n",
              "      <td>0.911224</td>\n",
              "      <td>0.940256</td>\n",
              "      <td>0.694995</td>\n",
              "      <td>0.030521</td>\n",
              "      <td>0.753889</td>\n",
              "      <td>0.580279</td>\n",
              "      <td>0.488047</td>\n",
              "      <td>0.000000</td>\n",
              "      <td>0.473865</td>\n",
              "      <td>0.248265</td>\n",
              "      <td>0.564012</td>\n",
              "      <td>0.691835</td>\n",
              "      <td>0.294118</td>\n",
              "      <td>0.966001</td>\n",
              "      <td>0.428058</td>\n",
              "      <td>0.102472</td>\n",
              "      <td>0.358755</td>\n",
              "      <td>0.331179</td>\n",
              "      <td>0.662971</td>\n",
              "      <td>0.751276</td>\n",
              "      <td>0.679774</td>\n",
              "      <td>0.113523</td>\n",
              "      <td>0.051083</td>\n",
              "      <td>0.905401</td>\n",
              "      <td>0.071071</td>\n",
              "      <td>NaN</td>\n",
              "      <td>NaN</td>\n",
              "      <td>NaN</td>\n",
              "      <td>NaN</td>\n",
              "      <td>NaN</td>\n",
              "      <td>NaN</td>\n",
              "      <td>NaN</td>\n",
              "      <td>NaN</td>\n",
              "      <td>NaN</td>\n",
              "    </tr>\n",
              "    <tr>\n",
              "      <th>1892</th>\n",
              "      <td>0.659582</td>\n",
              "      <td>0.568576</td>\n",
              "      <td>0.846563</td>\n",
              "      <td>0.031757</td>\n",
              "      <td>0.400549</td>\n",
              "      <td>0.675652</td>\n",
              "      <td>0.000000</td>\n",
              "      <td>0.242594</td>\n",
              "      <td>0.094666</td>\n",
              "      <td>0.162016</td>\n",
              "      <td>0.452104</td>\n",
              "      <td>0.439107</td>\n",
              "      <td>0.593725</td>\n",
              "      <td>0.598556</td>\n",
              "      <td>0.449280</td>\n",
              "      <td>0.993574</td>\n",
              "      <td>0.845355</td>\n",
              "      <td>0.426613</td>\n",
              "      <td>0.047201</td>\n",
              "      <td>0.290858</td>\n",
              "      <td>0.700558</td>\n",
              "      <td>0.466345</td>\n",
              "      <td>0.005242</td>\n",
              "      <td>0.043430</td>\n",
              "      <td>0.864409</td>\n",
              "      <td>0.644380</td>\n",
              "      <td>0.862928</td>\n",
              "      <td>0.000000</td>\n",
              "      <td>0.072103</td>\n",
              "      <td>0.933840</td>\n",
              "      <td>0.741307</td>\n",
              "      <td>0.000000</td>\n",
              "      <td>0.582285</td>\n",
              "      <td>0.897009</td>\n",
              "      <td>1.000000</td>\n",
              "      <td>0.017847</td>\n",
              "      <td>0.000000</td>\n",
              "      <td>0.962684</td>\n",
              "      <td>0.817133</td>\n",
              "      <td>0.579570</td>\n",
              "      <td>...</td>\n",
              "      <td>0.811302</td>\n",
              "      <td>0.868351</td>\n",
              "      <td>0.575793</td>\n",
              "      <td>0.883908</td>\n",
              "      <td>0.515561</td>\n",
              "      <td>0.008791</td>\n",
              "      <td>0.499689</td>\n",
              "      <td>0.709131</td>\n",
              "      <td>0.061707</td>\n",
              "      <td>0.096126</td>\n",
              "      <td>0.265689</td>\n",
              "      <td>0.986711</td>\n",
              "      <td>0.858320</td>\n",
              "      <td>0.889831</td>\n",
              "      <td>0.475101</td>\n",
              "      <td>0.526949</td>\n",
              "      <td>1.000000</td>\n",
              "      <td>0.983519</td>\n",
              "      <td>0.560436</td>\n",
              "      <td>0.201475</td>\n",
              "      <td>0.629615</td>\n",
              "      <td>0.775464</td>\n",
              "      <td>0.931135</td>\n",
              "      <td>0.017536</td>\n",
              "      <td>0.443571</td>\n",
              "      <td>0.503483</td>\n",
              "      <td>0.440492</td>\n",
              "      <td>0.050772</td>\n",
              "      <td>0.091094</td>\n",
              "      <td>0.531343</td>\n",
              "      <td>0.041543</td>\n",
              "      <td>NaN</td>\n",
              "      <td>NaN</td>\n",
              "      <td>NaN</td>\n",
              "      <td>NaN</td>\n",
              "      <td>NaN</td>\n",
              "      <td>NaN</td>\n",
              "      <td>NaN</td>\n",
              "      <td>NaN</td>\n",
              "      <td>NaN</td>\n",
              "    </tr>\n",
              "    <tr>\n",
              "      <th>1935</th>\n",
              "      <td>0.784358</td>\n",
              "      <td>0.014280</td>\n",
              "      <td>0.012791</td>\n",
              "      <td>0.265103</td>\n",
              "      <td>0.940669</td>\n",
              "      <td>0.926902</td>\n",
              "      <td>0.845536</td>\n",
              "      <td>0.522073</td>\n",
              "      <td>0.681955</td>\n",
              "      <td>0.928380</td>\n",
              "      <td>0.557591</td>\n",
              "      <td>0.032307</td>\n",
              "      <td>0.075105</td>\n",
              "      <td>0.541073</td>\n",
              "      <td>0.085640</td>\n",
              "      <td>0.257407</td>\n",
              "      <td>0.080063</td>\n",
              "      <td>0.890881</td>\n",
              "      <td>0.243341</td>\n",
              "      <td>0.252545</td>\n",
              "      <td>0.613349</td>\n",
              "      <td>0.946301</td>\n",
              "      <td>0.533186</td>\n",
              "      <td>0.936130</td>\n",
              "      <td>0.398166</td>\n",
              "      <td>0.525991</td>\n",
              "      <td>0.767542</td>\n",
              "      <td>0.754902</td>\n",
              "      <td>0.807124</td>\n",
              "      <td>0.578729</td>\n",
              "      <td>0.678987</td>\n",
              "      <td>0.574186</td>\n",
              "      <td>0.362959</td>\n",
              "      <td>0.235045</td>\n",
              "      <td>0.936441</td>\n",
              "      <td>0.745985</td>\n",
              "      <td>0.428187</td>\n",
              "      <td>0.680316</td>\n",
              "      <td>0.779327</td>\n",
              "      <td>0.670272</td>\n",
              "      <td>...</td>\n",
              "      <td>0.542192</td>\n",
              "      <td>0.073619</td>\n",
              "      <td>0.483777</td>\n",
              "      <td>0.571305</td>\n",
              "      <td>0.935384</td>\n",
              "      <td>0.971580</td>\n",
              "      <td>0.092620</td>\n",
              "      <td>0.882552</td>\n",
              "      <td>0.460314</td>\n",
              "      <td>0.000000</td>\n",
              "      <td>0.898575</td>\n",
              "      <td>0.394465</td>\n",
              "      <td>0.337466</td>\n",
              "      <td>0.670060</td>\n",
              "      <td>0.565014</td>\n",
              "      <td>0.519272</td>\n",
              "      <td>0.209718</td>\n",
              "      <td>0.090426</td>\n",
              "      <td>0.090571</td>\n",
              "      <td>0.379570</td>\n",
              "      <td>0.158397</td>\n",
              "      <td>0.308528</td>\n",
              "      <td>0.779091</td>\n",
              "      <td>0.724600</td>\n",
              "      <td>0.618371</td>\n",
              "      <td>0.952162</td>\n",
              "      <td>0.084293</td>\n",
              "      <td>0.824761</td>\n",
              "      <td>0.264001</td>\n",
              "      <td>0.369151</td>\n",
              "      <td>0.383392</td>\n",
              "      <td>NaN</td>\n",
              "      <td>NaN</td>\n",
              "      <td>NaN</td>\n",
              "      <td>NaN</td>\n",
              "      <td>NaN</td>\n",
              "      <td>NaN</td>\n",
              "      <td>NaN</td>\n",
              "      <td>NaN</td>\n",
              "      <td>NaN</td>\n",
              "    </tr>\n",
              "  </tbody>\n",
              "</table>\n",
              "<p>25 rows × 1434 columns</p>\n",
              "</div>"
            ],
            "text/plain": [
              "product_number      0         1         2         3     ...  1430  1431  1432  1433\n",
              "user_id                                                 ...                        \n",
              "123             0.537457  0.000139  0.635590  0.951064  ...   NaN   NaN   NaN   NaN\n",
              "124             0.537654  0.000000  0.930189  0.400329  ...   NaN   NaN   NaN   NaN\n",
              "135             0.024400  1.000000  0.364379  0.658897  ...   NaN   NaN   NaN   NaN\n",
              "355             0.759191  0.444411  0.616024  0.523399  ...   NaN   NaN   NaN   NaN\n",
              "428             0.604867  0.229597  0.873124  0.339240  ...   NaN   NaN   NaN   NaN\n",
              "462             0.036527  0.403219  0.005965  0.510451  ...   NaN   NaN   NaN   NaN\n",
              "669             0.519163  0.803256  0.808958  0.055628  ...   NaN   NaN   NaN   NaN\n",
              "819             0.061394  0.586644  0.812873  0.406620  ...   NaN   NaN   NaN   NaN\n",
              "893             1.000000  0.532053  0.877345  0.630874  ...   NaN   NaN   NaN   NaN\n",
              "1072            0.602132  0.293606  0.208477  0.828663  ...   NaN   NaN   NaN   NaN\n",
              "1141            0.000000  0.281674  0.035556  0.779185  ...   NaN   NaN   NaN   NaN\n",
              "1148            0.473909  0.820615  0.788236  0.011549  ...   NaN   NaN   NaN   NaN\n",
              "1184            0.717316  0.057649  0.409409  1.000000  ...   NaN   NaN   NaN   NaN\n",
              "1309            0.779659  0.391412  0.664368  0.049477  ...   NaN   NaN   NaN   NaN\n",
              "1365            0.845758  0.069676  1.000000  0.850156  ...   NaN   NaN   NaN   NaN\n",
              "1452            0.385187  0.578978  0.993868  0.000000  ...   NaN   NaN   NaN   NaN\n",
              "1465            0.310064  0.022333  0.681275  0.715444  ...   NaN   NaN   NaN   NaN\n",
              "1467            0.957023  0.213468  0.983117  0.956093  ...   NaN   NaN   NaN   NaN\n",
              "1486            0.393669  0.383499  0.668186  0.702977  ...   NaN   NaN   NaN   NaN\n",
              "1538            0.363195  0.792113  0.000000  0.548108  ...   NaN   NaN   NaN   NaN\n",
              "1587            0.717645  0.059029  0.704457  0.861939  ...   NaN   NaN   NaN   NaN\n",
              "1682            0.267534  0.296794  0.409917  0.029137  ...   NaN   NaN   NaN   NaN\n",
              "1853            0.398247  0.820016  0.828800  0.053963  ...   NaN   NaN   NaN   NaN\n",
              "1892            0.659582  0.568576  0.846563  0.031757  ...   NaN   NaN   NaN   NaN\n",
              "1935            0.784358  0.014280  0.012791  0.265103  ...   NaN   NaN   NaN   NaN\n",
              "\n",
              "[25 rows x 1434 columns]"
            ]
          },
          "metadata": {
            "tags": []
          },
          "execution_count": 14
        }
      ]
    },
    {
      "cell_type": "code",
      "metadata": {
        "id": "gj5AqTesn6J5",
        "colab": {
          "base_uri": "https://localhost:8080/",
          "height": 436
        },
        "outputId": "7d5b59aa-0048-4243-9115-edd89bf077e6"
      },
      "source": [
        "# create a table for input to the modeling  \n",
        "d = df_matrix_norm.reset_index() \n",
        "d.index.names = ['scaled_distance _purchase_freq'] \n",
        "data_norm = pd.melt(d, id_vars=['user_id'], value_name='scaled_distance_purchase_freq').dropna()\n",
        "print(data_norm.shape)\n",
        "data_norm"
      ],
      "execution_count": null,
      "outputs": [
        {
          "output_type": "stream",
          "text": [
            "(35618, 3)\n"
          ],
          "name": "stdout"
        },
        {
          "output_type": "execute_result",
          "data": {
            "text/html": [
              "<div>\n",
              "<style scoped>\n",
              "    .dataframe tbody tr th:only-of-type {\n",
              "        vertical-align: middle;\n",
              "    }\n",
              "\n",
              "    .dataframe tbody tr th {\n",
              "        vertical-align: top;\n",
              "    }\n",
              "\n",
              "    .dataframe thead th {\n",
              "        text-align: right;\n",
              "    }\n",
              "</style>\n",
              "<table border=\"1\" class=\"dataframe\">\n",
              "  <thead>\n",
              "    <tr style=\"text-align: right;\">\n",
              "      <th></th>\n",
              "      <th>user_id</th>\n",
              "      <th>product_number</th>\n",
              "      <th>scaled_distance_purchase_freq</th>\n",
              "    </tr>\n",
              "  </thead>\n",
              "  <tbody>\n",
              "    <tr>\n",
              "      <th>0</th>\n",
              "      <td>123</td>\n",
              "      <td>0</td>\n",
              "      <td>0.537457</td>\n",
              "    </tr>\n",
              "    <tr>\n",
              "      <th>1</th>\n",
              "      <td>124</td>\n",
              "      <td>0</td>\n",
              "      <td>0.537654</td>\n",
              "    </tr>\n",
              "    <tr>\n",
              "      <th>2</th>\n",
              "      <td>135</td>\n",
              "      <td>0</td>\n",
              "      <td>0.024400</td>\n",
              "    </tr>\n",
              "    <tr>\n",
              "      <th>3</th>\n",
              "      <td>355</td>\n",
              "      <td>0</td>\n",
              "      <td>0.759191</td>\n",
              "    </tr>\n",
              "    <tr>\n",
              "      <th>4</th>\n",
              "      <td>428</td>\n",
              "      <td>0</td>\n",
              "      <td>0.604867</td>\n",
              "    </tr>\n",
              "    <tr>\n",
              "      <th>...</th>\n",
              "      <td>...</td>\n",
              "      <td>...</td>\n",
              "      <td>...</td>\n",
              "    </tr>\n",
              "    <tr>\n",
              "      <th>35620</th>\n",
              "      <td>1587</td>\n",
              "      <td>1424</td>\n",
              "      <td>0.777167</td>\n",
              "    </tr>\n",
              "    <tr>\n",
              "      <th>35621</th>\n",
              "      <td>1682</td>\n",
              "      <td>1424</td>\n",
              "      <td>0.035260</td>\n",
              "    </tr>\n",
              "    <tr>\n",
              "      <th>35622</th>\n",
              "      <td>1853</td>\n",
              "      <td>1424</td>\n",
              "      <td>0.071071</td>\n",
              "    </tr>\n",
              "    <tr>\n",
              "      <th>35623</th>\n",
              "      <td>1892</td>\n",
              "      <td>1424</td>\n",
              "      <td>0.041543</td>\n",
              "    </tr>\n",
              "    <tr>\n",
              "      <th>35624</th>\n",
              "      <td>1935</td>\n",
              "      <td>1424</td>\n",
              "      <td>0.383392</td>\n",
              "    </tr>\n",
              "  </tbody>\n",
              "</table>\n",
              "<p>35618 rows × 3 columns</p>\n",
              "</div>"
            ],
            "text/plain": [
              "       user_id product_number  scaled_distance_purchase_freq\n",
              "0          123              0                       0.537457\n",
              "1          124              0                       0.537654\n",
              "2          135              0                       0.024400\n",
              "3          355              0                       0.759191\n",
              "4          428              0                       0.604867\n",
              "...        ...            ...                            ...\n",
              "35620     1587           1424                       0.777167\n",
              "35621     1682           1424                       0.035260\n",
              "35622     1853           1424                       0.071071\n",
              "35623     1892           1424                       0.041543\n",
              "35624     1935           1424                       0.383392\n",
              "\n",
              "[35618 rows x 3 columns]"
            ]
          },
          "metadata": {
            "tags": []
          },
          "execution_count": 15
        }
      ]
    },
    {
      "cell_type": "code",
      "metadata": {
        "id": "AHlWkiwpn8nS",
        "colab": {
          "base_uri": "https://localhost:8080/",
          "height": 69
        },
        "outputId": "67ef34fe-7d63-45ff-85ab-2786a1b774a9"
      },
      "source": [
        "'''def normalize_data(data):\n",
        "    df_matrix = pd.pivot_table(data, values='purchase_count', index='customerId', columns='productId')\n",
        "    df_matrix_norm = (df_matrix-df_matrix.min())/(df_matrix.max()-df_matrix.min())\n",
        "    d = df_matrix_norm.reset_index()\n",
        "    d.index.names = ['scaled_purchase_freq']\n",
        "    return pd.melt(d, id_vars=['customerId'], value_name='scaled_purchase_freq').dropna()\n",
        "    '''"
      ],
      "execution_count": null,
      "outputs": [
        {
          "output_type": "execute_result",
          "data": {
            "application/vnd.google.colaboratory.intrinsic+json": {
              "type": "string"
            },
            "text/plain": [
              "\"def normalize_data(data):\\n    df_matrix = pd.pivot_table(data, values='purchase_count', index='customerId', columns='productId')\\n    df_matrix_norm = (df_matrix-df_matrix.min())/(df_matrix.max()-df_matrix.min())\\n    d = df_matrix_norm.reset_index()\\n    d.index.names = ['scaled_purchase_freq']\\n    return pd.melt(d, id_vars=['customerId'], value_name='scaled_purchase_freq').dropna()\\n    \""
            ]
          },
          "metadata": {
            "tags": []
          },
          "execution_count": 16
        }
      ]
    },
    {
      "cell_type": "code",
      "metadata": {
        "id": "eRU_U_vcLFBU"
      },
      "source": [
        "data=data.dropna()\n",
        "data['user_id']=data['user_id'].astype(np.int64)\n",
        "data['product_number']=data['product_number'].astype(np.int64)\n",
        "data_dummy=data_dummy.dropna()\n",
        "data_dummy['user_id']=data_dummy['user_id'].astype(np.int64)\n",
        "data_dummy['product_number']=data_dummy['product_number'].astype(np.int64)\n",
        "data_norm=data_norm.dropna()\n",
        "data_norm['user_id']=data_norm['user_id'].astype(np.int64)\n",
        "data_norm['product_number']=data_norm['product_number'].astype(np.int64)"
      ],
      "execution_count": null,
      "outputs": []
    },
    {
      "cell_type": "code",
      "metadata": {
        "id": "aWaq1-daoBec"
      },
      "source": [
        "def split_data(data):\n",
        "    '''\n",
        "    Splits dataset into training and test set.\n",
        "    \n",
        "    Args:\n",
        "        data (pandas.DataFrame)\n",
        "        \n",
        "    Returns\n",
        "        train_data (tc.SFrame)\n",
        "        test_data (tc.SFrame)\n",
        "    '''\n",
        "    train, test = train_test_split(data, test_size = .2)\n",
        "    train_data = tc.SFrame(train)\n",
        "    test_data = tc.SFrame(test)\n",
        "    return train_data, test_data"
      ],
      "execution_count": null,
      "outputs": []
    },
    {
      "cell_type": "code",
      "metadata": {
        "id": "6aAGZ-djoEdK"
      },
      "source": [
        "train_data, test_data = split_data(data)\n",
        "train_data_dummy, test_data_dummy = split_data(data_dummy)\n",
        "train_data_norm, test_data_norm = split_data(data_norm)"
      ],
      "execution_count": null,
      "outputs": []
    },
    {
      "cell_type": "code",
      "metadata": {
        "id": "uQl7Sa_eoHIZ"
      },
      "source": [
        "# constant variables to define field names include:\n",
        "user_id = 'user_id'\n",
        "item_id = 'product_number'\n",
        "users_to_recommend = list(data[user_id])\n",
        "n_rec = 10 # number of items to recommend\n",
        "n_display = 10 # to display the first few rows in an output dataset"
      ],
      "execution_count": null,
      "outputs": []
    },
    {
      "cell_type": "code",
      "metadata": {
        "id": "jghmog8-oKHs"
      },
      "source": [
        "def model(train_data, name, user_id, item_id, target, users_to_recommend, n_rec, n_display):\n",
        "    if name == 'popularity':\n",
        "        model = tc.popularity_recommender.create(train_data, \n",
        "                                                    user_id=user_id, \n",
        "                                                    item_id=item_id, \n",
        "                                                    target=target)\n",
        "    elif name == 'cosine':\n",
        "        model = tc.item_similarity_recommender.create(train_data, \n",
        "                                                    user_id=user_id, \n",
        "                                                    item_id=item_id, \n",
        "                                                    target=target, \n",
        "                                                    similarity_type='cosine')\n",
        "    elif name == 'pearson':\n",
        "        model = tc.item_similarity_recommender.create(train_data, \n",
        "                                                    user_id=user_id, \n",
        "                                                    item_id=item_id, \n",
        "                                                    target=target, \n",
        "                                                    similarity_type='pearson')\n",
        "        \n",
        "    recom = model.recommend(users=users_to_recommend, k=n_rec)\n",
        "    recom.print_rows(n_display)\n",
        "    return model"
      ],
      "execution_count": null,
      "outputs": []
    },
    {
      "cell_type": "code",
      "metadata": {
        "id": "XCN9OCHUD_zx"
      },
      "source": [
        "data = data.astype('category')\n",
        "data[\"user_id\"] = data[\"user_id\"].astype(\"category\")"
      ],
      "execution_count": null,
      "outputs": []
    },
    {
      "cell_type": "code",
      "metadata": {
        "id": "k55d0CDEE812"
      },
      "source": [
        ""
      ],
      "execution_count": null,
      "outputs": []
    },
    {
      "cell_type": "code",
      "metadata": {
        "id": "fKF-8YmAJt-T",
        "colab": {
          "base_uri": "https://localhost:8080/"
        },
        "outputId": "73e35c99-820e-4c6c-c21a-42abd945ffeb"
      },
      "source": [
        "data.dtypes"
      ],
      "execution_count": null,
      "outputs": [
        {
          "output_type": "execute_result",
          "data": {
            "text/plain": [
              "product_number                          category\n",
              "distance                                category\n",
              "user_id                                 category\n",
              "product_purchase_count                  category\n",
              "multiplication_distance_Productcount    category\n",
              "summation_distance_Productcount_demo    category\n",
              "distance (root)                         category\n",
              "root value                              category\n",
              "summation_distance_Productcount         category\n",
              "summation_distance_Productcount.1       category\n",
              "dtype: object"
            ]
          },
          "metadata": {
            "tags": []
          },
          "execution_count": 23
        }
      ]
    },
    {
      "cell_type": "code",
      "metadata": {
        "id": "gRn69YNHKUXp"
      },
      "source": [
        "#data=data.dropna()"
      ],
      "execution_count": null,
      "outputs": []
    },
    {
      "cell_type": "code",
      "metadata": {
        "id": "5LjUbW9xJ5bv"
      },
      "source": [
        "#data['user_id']=data['user_id'].astype(np.int64)"
      ],
      "execution_count": null,
      "outputs": []
    },
    {
      "cell_type": "code",
      "metadata": {
        "id": "jn2ZDCX_KwJB",
        "colab": {
          "base_uri": "https://localhost:8080/"
        },
        "outputId": "d3bff607-56d3-4a67-d734-8e30120d88f9"
      },
      "source": [
        "data.dtypes"
      ],
      "execution_count": null,
      "outputs": [
        {
          "output_type": "execute_result",
          "data": {
            "text/plain": [
              "product_number                          category\n",
              "distance                                category\n",
              "user_id                                 category\n",
              "product_purchase_count                  category\n",
              "multiplication_distance_Productcount    category\n",
              "summation_distance_Productcount_demo    category\n",
              "distance (root)                         category\n",
              "root value                              category\n",
              "summation_distance_Productcount         category\n",
              "summation_distance_Productcount.1       category\n",
              "dtype: object"
            ]
          },
          "metadata": {
            "tags": []
          },
          "execution_count": 26
        }
      ]
    },
    {
      "cell_type": "code",
      "metadata": {
        "id": "5tqVy-HBoNAp",
        "colab": {
          "base_uri": "https://localhost:8080/",
          "height": 1000
        },
        "outputId": "6c9078d4-d90d-43f9-b017-855771cc7294"
      },
      "source": [
        "name = 'popularity'\n",
        "target = 'summation_distance_Productcount'\n",
        "popularity = model(train_data, name, user_id, item_id, target, users_to_recommend, n_rec, n_display)"
      ],
      "execution_count": null,
      "outputs": [
        {
          "output_type": "display_data",
          "data": {
            "text/html": [
              "<pre>Warning: Ignoring columns distance, product_purchase_count, multiplication_distance_Productcount, summation_distance_Productcount_demo, distance (root), root value, summation_distance_Productcount.1;</pre>"
            ],
            "text/plain": [
              "Warning: Ignoring columns distance, product_purchase_count, multiplication_distance_Productcount, summation_distance_Productcount_demo, distance (root), root value, summation_distance_Productcount.1;"
            ]
          },
          "metadata": {
            "tags": []
          }
        },
        {
          "output_type": "display_data",
          "data": {
            "text/html": [
              "<pre>    To use these columns in scoring predictions, use a model that allows the use of additional features.</pre>"
            ],
            "text/plain": [
              "    To use these columns in scoring predictions, use a model that allows the use of additional features."
            ]
          },
          "metadata": {
            "tags": []
          }
        },
        {
          "output_type": "display_data",
          "data": {
            "text/html": [
              "<pre>Preparing data set.</pre>"
            ],
            "text/plain": [
              "Preparing data set."
            ]
          },
          "metadata": {
            "tags": []
          }
        },
        {
          "output_type": "display_data",
          "data": {
            "text/html": [
              "<pre>    Data has 28501 observations with 25 users and 1434 items.</pre>"
            ],
            "text/plain": [
              "    Data has 28501 observations with 25 users and 1434 items."
            ]
          },
          "metadata": {
            "tags": []
          }
        },
        {
          "output_type": "display_data",
          "data": {
            "text/html": [
              "<pre>    Data prepared in: 0.0482s</pre>"
            ],
            "text/plain": [
              "    Data prepared in: 0.0482s"
            ]
          },
          "metadata": {
            "tags": []
          }
        },
        {
          "output_type": "display_data",
          "data": {
            "text/html": [
              "<pre>28501 observations to process; with 1434 unique items.</pre>"
            ],
            "text/plain": [
              "28501 observations to process; with 1434 unique items."
            ]
          },
          "metadata": {
            "tags": []
          }
        },
        {
          "output_type": "display_data",
          "data": {
            "text/html": [
              "<pre>recommendations finished on 1000/35627 queries. users per second: 3833.14</pre>"
            ],
            "text/plain": [
              "recommendations finished on 1000/35627 queries. users per second: 3833.14"
            ]
          },
          "metadata": {
            "tags": []
          }
        },
        {
          "output_type": "display_data",
          "data": {
            "text/html": [
              "<pre>recommendations finished on 2000/35627 queries. users per second: 5078.19</pre>"
            ],
            "text/plain": [
              "recommendations finished on 2000/35627 queries. users per second: 5078.19"
            ]
          },
          "metadata": {
            "tags": []
          }
        },
        {
          "output_type": "display_data",
          "data": {
            "text/html": [
              "<pre>recommendations finished on 3000/35627 queries. users per second: 6797.17</pre>"
            ],
            "text/plain": [
              "recommendations finished on 3000/35627 queries. users per second: 6797.17"
            ]
          },
          "metadata": {
            "tags": []
          }
        },
        {
          "output_type": "display_data",
          "data": {
            "text/html": [
              "<pre>recommendations finished on 4000/35627 queries. users per second: 5664.74</pre>"
            ],
            "text/plain": [
              "recommendations finished on 4000/35627 queries. users per second: 5664.74"
            ]
          },
          "metadata": {
            "tags": []
          }
        },
        {
          "output_type": "display_data",
          "data": {
            "text/html": [
              "<pre>recommendations finished on 5000/35627 queries. users per second: 6353.52</pre>"
            ],
            "text/plain": [
              "recommendations finished on 5000/35627 queries. users per second: 6353.52"
            ]
          },
          "metadata": {
            "tags": []
          }
        },
        {
          "output_type": "display_data",
          "data": {
            "text/html": [
              "<pre>recommendations finished on 6000/35627 queries. users per second: 7444.69</pre>"
            ],
            "text/plain": [
              "recommendations finished on 6000/35627 queries. users per second: 7444.69"
            ]
          },
          "metadata": {
            "tags": []
          }
        },
        {
          "output_type": "display_data",
          "data": {
            "text/html": [
              "<pre>recommendations finished on 7000/35627 queries. users per second: 8506.64</pre>"
            ],
            "text/plain": [
              "recommendations finished on 7000/35627 queries. users per second: 8506.64"
            ]
          },
          "metadata": {
            "tags": []
          }
        },
        {
          "output_type": "display_data",
          "data": {
            "text/html": [
              "<pre>recommendations finished on 8000/35627 queries. users per second: 9504.85</pre>"
            ],
            "text/plain": [
              "recommendations finished on 8000/35627 queries. users per second: 9504.85"
            ]
          },
          "metadata": {
            "tags": []
          }
        },
        {
          "output_type": "display_data",
          "data": {
            "text/html": [
              "<pre>recommendations finished on 9000/35627 queries. users per second: 10437.5</pre>"
            ],
            "text/plain": [
              "recommendations finished on 9000/35627 queries. users per second: 10437.5"
            ]
          },
          "metadata": {
            "tags": []
          }
        },
        {
          "output_type": "display_data",
          "data": {
            "text/html": [
              "<pre>recommendations finished on 10000/35627 queries. users per second: 8778.7</pre>"
            ],
            "text/plain": [
              "recommendations finished on 10000/35627 queries. users per second: 8778.7"
            ]
          },
          "metadata": {
            "tags": []
          }
        },
        {
          "output_type": "display_data",
          "data": {
            "text/html": [
              "<pre>recommendations finished on 11000/35627 queries. users per second: 7699.11</pre>"
            ],
            "text/plain": [
              "recommendations finished on 11000/35627 queries. users per second: 7699.11"
            ]
          },
          "metadata": {
            "tags": []
          }
        },
        {
          "output_type": "display_data",
          "data": {
            "text/html": [
              "<pre>recommendations finished on 12000/35627 queries. users per second: 7106.42</pre>"
            ],
            "text/plain": [
              "recommendations finished on 12000/35627 queries. users per second: 7106.42"
            ]
          },
          "metadata": {
            "tags": []
          }
        },
        {
          "output_type": "display_data",
          "data": {
            "text/html": [
              "<pre>recommendations finished on 13000/35627 queries. users per second: 7586.5</pre>"
            ],
            "text/plain": [
              "recommendations finished on 13000/35627 queries. users per second: 7586.5"
            ]
          },
          "metadata": {
            "tags": []
          }
        },
        {
          "output_type": "display_data",
          "data": {
            "text/html": [
              "<pre>recommendations finished on 14000/35627 queries. users per second: 8077.52</pre>"
            ],
            "text/plain": [
              "recommendations finished on 14000/35627 queries. users per second: 8077.52"
            ]
          },
          "metadata": {
            "tags": []
          }
        },
        {
          "output_type": "display_data",
          "data": {
            "text/html": [
              "<pre>recommendations finished on 15000/35627 queries. users per second: 8568.77</pre>"
            ],
            "text/plain": [
              "recommendations finished on 15000/35627 queries. users per second: 8568.77"
            ]
          },
          "metadata": {
            "tags": []
          }
        },
        {
          "output_type": "display_data",
          "data": {
            "text/html": [
              "<pre>recommendations finished on 16000/35627 queries. users per second: 9047.75</pre>"
            ],
            "text/plain": [
              "recommendations finished on 16000/35627 queries. users per second: 9047.75"
            ]
          },
          "metadata": {
            "tags": []
          }
        },
        {
          "output_type": "display_data",
          "data": {
            "text/html": [
              "<pre>recommendations finished on 17000/35627 queries. users per second: 9519.27</pre>"
            ],
            "text/plain": [
              "recommendations finished on 17000/35627 queries. users per second: 9519.27"
            ]
          },
          "metadata": {
            "tags": []
          }
        },
        {
          "output_type": "display_data",
          "data": {
            "text/html": [
              "<pre>recommendations finished on 18000/35627 queries. users per second: 9977.84</pre>"
            ],
            "text/plain": [
              "recommendations finished on 18000/35627 queries. users per second: 9977.84"
            ]
          },
          "metadata": {
            "tags": []
          }
        },
        {
          "output_type": "display_data",
          "data": {
            "text/html": [
              "<pre>recommendations finished on 19000/35627 queries. users per second: 10430</pre>"
            ],
            "text/plain": [
              "recommendations finished on 19000/35627 queries. users per second: 10430"
            ]
          },
          "metadata": {
            "tags": []
          }
        },
        {
          "output_type": "display_data",
          "data": {
            "text/html": [
              "<pre>recommendations finished on 20000/35627 queries. users per second: 10872.6</pre>"
            ],
            "text/plain": [
              "recommendations finished on 20000/35627 queries. users per second: 10872.6"
            ]
          },
          "metadata": {
            "tags": []
          }
        },
        {
          "output_type": "display_data",
          "data": {
            "text/html": [
              "<pre>recommendations finished on 21000/35627 queries. users per second: 11308.4</pre>"
            ],
            "text/plain": [
              "recommendations finished on 21000/35627 queries. users per second: 11308.4"
            ]
          },
          "metadata": {
            "tags": []
          }
        },
        {
          "output_type": "display_data",
          "data": {
            "text/html": [
              "<pre>recommendations finished on 22000/35627 queries. users per second: 11724.9</pre>"
            ],
            "text/plain": [
              "recommendations finished on 22000/35627 queries. users per second: 11724.9"
            ]
          },
          "metadata": {
            "tags": []
          }
        },
        {
          "output_type": "display_data",
          "data": {
            "text/html": [
              "<pre>recommendations finished on 23000/35627 queries. users per second: 12141.1</pre>"
            ],
            "text/plain": [
              "recommendations finished on 23000/35627 queries. users per second: 12141.1"
            ]
          },
          "metadata": {
            "tags": []
          }
        },
        {
          "output_type": "display_data",
          "data": {
            "text/html": [
              "<pre>recommendations finished on 24000/35627 queries. users per second: 12549.9</pre>"
            ],
            "text/plain": [
              "recommendations finished on 24000/35627 queries. users per second: 12549.9"
            ]
          },
          "metadata": {
            "tags": []
          }
        },
        {
          "output_type": "display_data",
          "data": {
            "text/html": [
              "<pre>recommendations finished on 25000/35627 queries. users per second: 12947.8</pre>"
            ],
            "text/plain": [
              "recommendations finished on 25000/35627 queries. users per second: 12947.8"
            ]
          },
          "metadata": {
            "tags": []
          }
        },
        {
          "output_type": "display_data",
          "data": {
            "text/html": [
              "<pre>recommendations finished on 26000/35627 queries. users per second: 13303.7</pre>"
            ],
            "text/plain": [
              "recommendations finished on 26000/35627 queries. users per second: 13303.7"
            ]
          },
          "metadata": {
            "tags": []
          }
        },
        {
          "output_type": "display_data",
          "data": {
            "text/html": [
              "<pre>recommendations finished on 27000/35627 queries. users per second: 13660.6</pre>"
            ],
            "text/plain": [
              "recommendations finished on 27000/35627 queries. users per second: 13660.6"
            ]
          },
          "metadata": {
            "tags": []
          }
        },
        {
          "output_type": "display_data",
          "data": {
            "text/html": [
              "<pre>recommendations finished on 28000/35627 queries. users per second: 14042</pre>"
            ],
            "text/plain": [
              "recommendations finished on 28000/35627 queries. users per second: 14042"
            ]
          },
          "metadata": {
            "tags": []
          }
        },
        {
          "output_type": "display_data",
          "data": {
            "text/html": [
              "<pre>recommendations finished on 29000/35627 queries. users per second: 14408.8</pre>"
            ],
            "text/plain": [
              "recommendations finished on 29000/35627 queries. users per second: 14408.8"
            ]
          },
          "metadata": {
            "tags": []
          }
        },
        {
          "output_type": "display_data",
          "data": {
            "text/html": [
              "<pre>recommendations finished on 30000/35627 queries. users per second: 14775.6</pre>"
            ],
            "text/plain": [
              "recommendations finished on 30000/35627 queries. users per second: 14775.6"
            ]
          },
          "metadata": {
            "tags": []
          }
        },
        {
          "output_type": "display_data",
          "data": {
            "text/html": [
              "<pre>recommendations finished on 31000/35627 queries. users per second: 15143.5</pre>"
            ],
            "text/plain": [
              "recommendations finished on 31000/35627 queries. users per second: 15143.5"
            ]
          },
          "metadata": {
            "tags": []
          }
        },
        {
          "output_type": "display_data",
          "data": {
            "text/html": [
              "<pre>recommendations finished on 32000/35627 queries. users per second: 15488.7</pre>"
            ],
            "text/plain": [
              "recommendations finished on 32000/35627 queries. users per second: 15488.7"
            ]
          },
          "metadata": {
            "tags": []
          }
        },
        {
          "output_type": "display_data",
          "data": {
            "text/html": [
              "<pre>recommendations finished on 33000/35627 queries. users per second: 15836.7</pre>"
            ],
            "text/plain": [
              "recommendations finished on 33000/35627 queries. users per second: 15836.7"
            ]
          },
          "metadata": {
            "tags": []
          }
        },
        {
          "output_type": "display_data",
          "data": {
            "text/html": [
              "<pre>recommendations finished on 34000/35627 queries. users per second: 16159.5</pre>"
            ],
            "text/plain": [
              "recommendations finished on 34000/35627 queries. users per second: 16159.5"
            ]
          },
          "metadata": {
            "tags": []
          }
        },
        {
          "output_type": "display_data",
          "data": {
            "text/html": [
              "<pre>recommendations finished on 35000/35627 queries. users per second: 16478.2</pre>"
            ],
            "text/plain": [
              "recommendations finished on 35000/35627 queries. users per second: 16478.2"
            ]
          },
          "metadata": {
            "tags": []
          }
        },
        {
          "output_type": "stream",
          "text": [
            "+---------+----------------+--------------------+------+\n",
            "| user_id | product_number |       score        | rank |\n",
            "+---------+----------------+--------------------+------+\n",
            "|   1184  |      940       | 53.07342585399999  |  1   |\n",
            "|   1184  |      1079      | 37.63710318263158  |  2   |\n",
            "|   1184  |      1271      |    33.080926925    |  3   |\n",
            "|   1184  |      1284      | 27.452828166666666 |  4   |\n",
            "|   1184  |      1265      | 9.724044961272726  |  5   |\n",
            "|   1184  |      1428      |    8.076969219     |  6   |\n",
            "|   1184  |      301       | 7.596097274473685  |  7   |\n",
            "|   1184  |      1425      |    7.481994656     |  8   |\n",
            "|   1184  |      1051      | 7.431159159318182  |  9   |\n",
            "|   1184  |      1430      | 7.393778212000001  |  10  |\n",
            "+---------+----------------+--------------------+------+\n",
            "[356270 rows x 4 columns]\n",
            "\n"
          ],
          "name": "stdout"
        }
      ]
    },
    {
      "cell_type": "code",
      "metadata": {
        "id": "PrWFHh6FoPU8",
        "colab": {
          "base_uri": "https://localhost:8080/",
          "height": 1000
        },
        "outputId": "71eecc9a-a214-4fcb-ef09-332371589b79"
      },
      "source": [
        "name = 'popularity'\n",
        "target = 'purchase_dummy'\n",
        "pop_dummy = model(train_data_dummy, name, user_id, item_id, target, users_to_recommend, n_rec, n_display)"
      ],
      "execution_count": null,
      "outputs": [
        {
          "output_type": "display_data",
          "data": {
            "text/html": [
              "<pre>Warning: Ignoring columns distance, product_purchase_count, multiplication_distance_Productcount, summation_distance_Productcount_demo, distance (root), root value, summation_distance_Productcount, summation_distance_Productcount.1;</pre>"
            ],
            "text/plain": [
              "Warning: Ignoring columns distance, product_purchase_count, multiplication_distance_Productcount, summation_distance_Productcount_demo, distance (root), root value, summation_distance_Productcount, summation_distance_Productcount.1;"
            ]
          },
          "metadata": {
            "tags": []
          }
        },
        {
          "output_type": "display_data",
          "data": {
            "text/html": [
              "<pre>    To use these columns in scoring predictions, use a model that allows the use of additional features.</pre>"
            ],
            "text/plain": [
              "    To use these columns in scoring predictions, use a model that allows the use of additional features."
            ]
          },
          "metadata": {
            "tags": []
          }
        },
        {
          "output_type": "display_data",
          "data": {
            "text/html": [
              "<pre>Preparing data set.</pre>"
            ],
            "text/plain": [
              "Preparing data set."
            ]
          },
          "metadata": {
            "tags": []
          }
        },
        {
          "output_type": "display_data",
          "data": {
            "text/html": [
              "<pre>    Data has 28501 observations with 25 users and 1431 items.</pre>"
            ],
            "text/plain": [
              "    Data has 28501 observations with 25 users and 1431 items."
            ]
          },
          "metadata": {
            "tags": []
          }
        },
        {
          "output_type": "display_data",
          "data": {
            "text/html": [
              "<pre>    Data prepared in: 0.042647s</pre>"
            ],
            "text/plain": [
              "    Data prepared in: 0.042647s"
            ]
          },
          "metadata": {
            "tags": []
          }
        },
        {
          "output_type": "display_data",
          "data": {
            "text/html": [
              "<pre>28501 observations to process; with 1431 unique items.</pre>"
            ],
            "text/plain": [
              "28501 observations to process; with 1431 unique items."
            ]
          },
          "metadata": {
            "tags": []
          }
        },
        {
          "output_type": "display_data",
          "data": {
            "text/html": [
              "<pre>recommendations finished on 1000/35627 queries. users per second: 63795.9</pre>"
            ],
            "text/plain": [
              "recommendations finished on 1000/35627 queries. users per second: 63795.9"
            ]
          },
          "metadata": {
            "tags": []
          }
        },
        {
          "output_type": "display_data",
          "data": {
            "text/html": [
              "<pre>recommendations finished on 2000/35627 queries. users per second: 59812.2</pre>"
            ],
            "text/plain": [
              "recommendations finished on 2000/35627 queries. users per second: 59812.2"
            ]
          },
          "metadata": {
            "tags": []
          }
        },
        {
          "output_type": "display_data",
          "data": {
            "text/html": [
              "<pre>recommendations finished on 3000/35627 queries. users per second: 58906.7</pre>"
            ],
            "text/plain": [
              "recommendations finished on 3000/35627 queries. users per second: 58906.7"
            ]
          },
          "metadata": {
            "tags": []
          }
        },
        {
          "output_type": "display_data",
          "data": {
            "text/html": [
              "<pre>recommendations finished on 4000/35627 queries. users per second: 58778.6</pre>"
            ],
            "text/plain": [
              "recommendations finished on 4000/35627 queries. users per second: 58778.6"
            ]
          },
          "metadata": {
            "tags": []
          }
        },
        {
          "output_type": "display_data",
          "data": {
            "text/html": [
              "<pre>recommendations finished on 5000/35627 queries. users per second: 58433.7</pre>"
            ],
            "text/plain": [
              "recommendations finished on 5000/35627 queries. users per second: 58433.7"
            ]
          },
          "metadata": {
            "tags": []
          }
        },
        {
          "output_type": "display_data",
          "data": {
            "text/html": [
              "<pre>recommendations finished on 6000/35627 queries. users per second: 58340.2</pre>"
            ],
            "text/plain": [
              "recommendations finished on 6000/35627 queries. users per second: 58340.2"
            ]
          },
          "metadata": {
            "tags": []
          }
        },
        {
          "output_type": "display_data",
          "data": {
            "text/html": [
              "<pre>recommendations finished on 7000/35627 queries. users per second: 57681.5</pre>"
            ],
            "text/plain": [
              "recommendations finished on 7000/35627 queries. users per second: 57681.5"
            ]
          },
          "metadata": {
            "tags": []
          }
        },
        {
          "output_type": "display_data",
          "data": {
            "text/html": [
              "<pre>recommendations finished on 8000/35627 queries. users per second: 57365.8</pre>"
            ],
            "text/plain": [
              "recommendations finished on 8000/35627 queries. users per second: 57365.8"
            ]
          },
          "metadata": {
            "tags": []
          }
        },
        {
          "output_type": "display_data",
          "data": {
            "text/html": [
              "<pre>recommendations finished on 9000/35627 queries. users per second: 56808.5</pre>"
            ],
            "text/plain": [
              "recommendations finished on 9000/35627 queries. users per second: 56808.5"
            ]
          },
          "metadata": {
            "tags": []
          }
        },
        {
          "output_type": "display_data",
          "data": {
            "text/html": [
              "<pre>recommendations finished on 10000/35627 queries. users per second: 56789.1</pre>"
            ],
            "text/plain": [
              "recommendations finished on 10000/35627 queries. users per second: 56789.1"
            ]
          },
          "metadata": {
            "tags": []
          }
        },
        {
          "output_type": "display_data",
          "data": {
            "text/html": [
              "<pre>recommendations finished on 11000/35627 queries. users per second: 56405.6</pre>"
            ],
            "text/plain": [
              "recommendations finished on 11000/35627 queries. users per second: 56405.6"
            ]
          },
          "metadata": {
            "tags": []
          }
        },
        {
          "output_type": "display_data",
          "data": {
            "text/html": [
              "<pre>recommendations finished on 12000/35627 queries. users per second: 55838.6</pre>"
            ],
            "text/plain": [
              "recommendations finished on 12000/35627 queries. users per second: 55838.6"
            ]
          },
          "metadata": {
            "tags": []
          }
        },
        {
          "output_type": "display_data",
          "data": {
            "text/html": [
              "<pre>recommendations finished on 13000/35627 queries. users per second: 55946</pre>"
            ],
            "text/plain": [
              "recommendations finished on 13000/35627 queries. users per second: 55946"
            ]
          },
          "metadata": {
            "tags": []
          }
        },
        {
          "output_type": "display_data",
          "data": {
            "text/html": [
              "<pre>recommendations finished on 14000/35627 queries. users per second: 55642.6</pre>"
            ],
            "text/plain": [
              "recommendations finished on 14000/35627 queries. users per second: 55642.6"
            ]
          },
          "metadata": {
            "tags": []
          }
        },
        {
          "output_type": "display_data",
          "data": {
            "text/html": [
              "<pre>recommendations finished on 15000/35627 queries. users per second: 55030.9</pre>"
            ],
            "text/plain": [
              "recommendations finished on 15000/35627 queries. users per second: 55030.9"
            ]
          },
          "metadata": {
            "tags": []
          }
        },
        {
          "output_type": "display_data",
          "data": {
            "text/html": [
              "<pre>recommendations finished on 16000/35627 queries. users per second: 55136.7</pre>"
            ],
            "text/plain": [
              "recommendations finished on 16000/35627 queries. users per second: 55136.7"
            ]
          },
          "metadata": {
            "tags": []
          }
        },
        {
          "output_type": "display_data",
          "data": {
            "text/html": [
              "<pre>recommendations finished on 17000/35627 queries. users per second: 55447.6</pre>"
            ],
            "text/plain": [
              "recommendations finished on 17000/35627 queries. users per second: 55447.6"
            ]
          },
          "metadata": {
            "tags": []
          }
        },
        {
          "output_type": "display_data",
          "data": {
            "text/html": [
              "<pre>recommendations finished on 18000/35627 queries. users per second: 55395.2</pre>"
            ],
            "text/plain": [
              "recommendations finished on 18000/35627 queries. users per second: 55395.2"
            ]
          },
          "metadata": {
            "tags": []
          }
        },
        {
          "output_type": "display_data",
          "data": {
            "text/html": [
              "<pre>recommendations finished on 19000/35627 queries. users per second: 55417.8</pre>"
            ],
            "text/plain": [
              "recommendations finished on 19000/35627 queries. users per second: 55417.8"
            ]
          },
          "metadata": {
            "tags": []
          }
        },
        {
          "output_type": "display_data",
          "data": {
            "text/html": [
              "<pre>recommendations finished on 20000/35627 queries. users per second: 47270</pre>"
            ],
            "text/plain": [
              "recommendations finished on 20000/35627 queries. users per second: 47270"
            ]
          },
          "metadata": {
            "tags": []
          }
        },
        {
          "output_type": "display_data",
          "data": {
            "text/html": [
              "<pre>recommendations finished on 21000/35627 queries. users per second: 33114.2</pre>"
            ],
            "text/plain": [
              "recommendations finished on 21000/35627 queries. users per second: 33114.2"
            ]
          },
          "metadata": {
            "tags": []
          }
        },
        {
          "output_type": "display_data",
          "data": {
            "text/html": [
              "<pre>recommendations finished on 22000/35627 queries. users per second: 26652.7</pre>"
            ],
            "text/plain": [
              "recommendations finished on 22000/35627 queries. users per second: 26652.7"
            ]
          },
          "metadata": {
            "tags": []
          }
        },
        {
          "output_type": "display_data",
          "data": {
            "text/html": [
              "<pre>recommendations finished on 23000/35627 queries. users per second: 24073.9</pre>"
            ],
            "text/plain": [
              "recommendations finished on 23000/35627 queries. users per second: 24073.9"
            ]
          },
          "metadata": {
            "tags": []
          }
        },
        {
          "output_type": "display_data",
          "data": {
            "text/html": [
              "<pre>recommendations finished on 24000/35627 queries. users per second: 24664.6</pre>"
            ],
            "text/plain": [
              "recommendations finished on 24000/35627 queries. users per second: 24664.6"
            ]
          },
          "metadata": {
            "tags": []
          }
        },
        {
          "output_type": "display_data",
          "data": {
            "text/html": [
              "<pre>recommendations finished on 25000/35627 queries. users per second: 25239.9</pre>"
            ],
            "text/plain": [
              "recommendations finished on 25000/35627 queries. users per second: 25239.9"
            ]
          },
          "metadata": {
            "tags": []
          }
        },
        {
          "output_type": "display_data",
          "data": {
            "text/html": [
              "<pre>recommendations finished on 26000/35627 queries. users per second: 25760.8</pre>"
            ],
            "text/plain": [
              "recommendations finished on 26000/35627 queries. users per second: 25760.8"
            ]
          },
          "metadata": {
            "tags": []
          }
        },
        {
          "output_type": "display_data",
          "data": {
            "text/html": [
              "<pre>recommendations finished on 27000/35627 queries. users per second: 26293.2</pre>"
            ],
            "text/plain": [
              "recommendations finished on 27000/35627 queries. users per second: 26293.2"
            ]
          },
          "metadata": {
            "tags": []
          }
        },
        {
          "output_type": "display_data",
          "data": {
            "text/html": [
              "<pre>recommendations finished on 28000/35627 queries. users per second: 26617.9</pre>"
            ],
            "text/plain": [
              "recommendations finished on 28000/35627 queries. users per second: 26617.9"
            ]
          },
          "metadata": {
            "tags": []
          }
        },
        {
          "output_type": "display_data",
          "data": {
            "text/html": [
              "<pre>recommendations finished on 29000/35627 queries. users per second: 26840.9</pre>"
            ],
            "text/plain": [
              "recommendations finished on 29000/35627 queries. users per second: 26840.9"
            ]
          },
          "metadata": {
            "tags": []
          }
        },
        {
          "output_type": "display_data",
          "data": {
            "text/html": [
              "<pre>recommendations finished on 30000/35627 queries. users per second: 26974.5</pre>"
            ],
            "text/plain": [
              "recommendations finished on 30000/35627 queries. users per second: 26974.5"
            ]
          },
          "metadata": {
            "tags": []
          }
        },
        {
          "output_type": "display_data",
          "data": {
            "text/html": [
              "<pre>recommendations finished on 31000/35627 queries. users per second: 26547.1</pre>"
            ],
            "text/plain": [
              "recommendations finished on 31000/35627 queries. users per second: 26547.1"
            ]
          },
          "metadata": {
            "tags": []
          }
        },
        {
          "output_type": "display_data",
          "data": {
            "text/html": [
              "<pre>recommendations finished on 32000/35627 queries. users per second: 23731.9</pre>"
            ],
            "text/plain": [
              "recommendations finished on 32000/35627 queries. users per second: 23731.9"
            ]
          },
          "metadata": {
            "tags": []
          }
        },
        {
          "output_type": "display_data",
          "data": {
            "text/html": [
              "<pre>recommendations finished on 33000/35627 queries. users per second: 21469.1</pre>"
            ],
            "text/plain": [
              "recommendations finished on 33000/35627 queries. users per second: 21469.1"
            ]
          },
          "metadata": {
            "tags": []
          }
        },
        {
          "output_type": "display_data",
          "data": {
            "text/html": [
              "<pre>recommendations finished on 34000/35627 queries. users per second: 21078.8</pre>"
            ],
            "text/plain": [
              "recommendations finished on 34000/35627 queries. users per second: 21078.8"
            ]
          },
          "metadata": {
            "tags": []
          }
        },
        {
          "output_type": "display_data",
          "data": {
            "text/html": [
              "<pre>recommendations finished on 35000/35627 queries. users per second: 21419.6</pre>"
            ],
            "text/plain": [
              "recommendations finished on 35000/35627 queries. users per second: 21419.6"
            ]
          },
          "metadata": {
            "tags": []
          }
        },
        {
          "output_type": "stream",
          "text": [
            "+---------+----------------+-------+------+\n",
            "| user_id | product_number | score | rank |\n",
            "+---------+----------------+-------+------+\n",
            "|   1184  |      1416      |  1.0  |  1   |\n",
            "|   1184  |      1342      |  1.0  |  2   |\n",
            "|   1184  |      961       |  1.0  |  3   |\n",
            "|   1184  |      1067      |  1.0  |  4   |\n",
            "|   1184  |      841       |  1.0  |  5   |\n",
            "|   1184  |       43       |  1.0  |  6   |\n",
            "|   1184  |      450       |  1.0  |  7   |\n",
            "|   1184  |      565       |  1.0  |  8   |\n",
            "|   1184  |      814       |  1.0  |  9   |\n",
            "|   1184  |      736       |  1.0  |  10  |\n",
            "+---------+----------------+-------+------+\n",
            "[356270 rows x 4 columns]\n",
            "\n"
          ],
          "name": "stdout"
        }
      ]
    },
    {
      "cell_type": "code",
      "metadata": {
        "id": "t1QW0EzGoSOl",
        "colab": {
          "base_uri": "https://localhost:8080/",
          "height": 952
        },
        "outputId": "da4dbc69-fe13-4fd1-f966-ff52c81a2ce7"
      },
      "source": [
        "name = 'popularity'\n",
        "target = 'scaled_distance_purchase_freq'\n",
        "pop_norm = model(train_data_norm, name, user_id, item_id, target, users_to_recommend, n_rec, n_display)"
      ],
      "execution_count": null,
      "outputs": [
        {
          "output_type": "display_data",
          "data": {
            "text/html": [
              "<pre>Preparing data set.</pre>"
            ],
            "text/plain": [
              "Preparing data set."
            ]
          },
          "metadata": {
            "tags": []
          }
        },
        {
          "output_type": "display_data",
          "data": {
            "text/html": [
              "<pre>    Data has 28494 observations with 25 users and 1425 items.</pre>"
            ],
            "text/plain": [
              "    Data has 28494 observations with 25 users and 1425 items."
            ]
          },
          "metadata": {
            "tags": []
          }
        },
        {
          "output_type": "display_data",
          "data": {
            "text/html": [
              "<pre>    Data prepared in: 0.036835s</pre>"
            ],
            "text/plain": [
              "    Data prepared in: 0.036835s"
            ]
          },
          "metadata": {
            "tags": []
          }
        },
        {
          "output_type": "display_data",
          "data": {
            "text/html": [
              "<pre>28494 observations to process; with 1425 unique items.</pre>"
            ],
            "text/plain": [
              "28494 observations to process; with 1425 unique items."
            ]
          },
          "metadata": {
            "tags": []
          }
        },
        {
          "output_type": "display_data",
          "data": {
            "text/html": [
              "<pre>recommendations finished on 1000/35627 queries. users per second: 44587.1</pre>"
            ],
            "text/plain": [
              "recommendations finished on 1000/35627 queries. users per second: 44587.1"
            ]
          },
          "metadata": {
            "tags": []
          }
        },
        {
          "output_type": "display_data",
          "data": {
            "text/html": [
              "<pre>recommendations finished on 2000/35627 queries. users per second: 48448.4</pre>"
            ],
            "text/plain": [
              "recommendations finished on 2000/35627 queries. users per second: 48448.4"
            ]
          },
          "metadata": {
            "tags": []
          }
        },
        {
          "output_type": "display_data",
          "data": {
            "text/html": [
              "<pre>recommendations finished on 3000/35627 queries. users per second: 51020.4</pre>"
            ],
            "text/plain": [
              "recommendations finished on 3000/35627 queries. users per second: 51020.4"
            ]
          },
          "metadata": {
            "tags": []
          }
        },
        {
          "output_type": "display_data",
          "data": {
            "text/html": [
              "<pre>recommendations finished on 4000/35627 queries. users per second: 52754.4</pre>"
            ],
            "text/plain": [
              "recommendations finished on 4000/35627 queries. users per second: 52754.4"
            ]
          },
          "metadata": {
            "tags": []
          }
        },
        {
          "output_type": "display_data",
          "data": {
            "text/html": [
              "<pre>recommendations finished on 5000/35627 queries. users per second: 52624.9</pre>"
            ],
            "text/plain": [
              "recommendations finished on 5000/35627 queries. users per second: 52624.9"
            ]
          },
          "metadata": {
            "tags": []
          }
        },
        {
          "output_type": "display_data",
          "data": {
            "text/html": [
              "<pre>recommendations finished on 6000/35627 queries. users per second: 53261.4</pre>"
            ],
            "text/plain": [
              "recommendations finished on 6000/35627 queries. users per second: 53261.4"
            ]
          },
          "metadata": {
            "tags": []
          }
        },
        {
          "output_type": "display_data",
          "data": {
            "text/html": [
              "<pre>recommendations finished on 7000/35627 queries. users per second: 53699.5</pre>"
            ],
            "text/plain": [
              "recommendations finished on 7000/35627 queries. users per second: 53699.5"
            ]
          },
          "metadata": {
            "tags": []
          }
        },
        {
          "output_type": "display_data",
          "data": {
            "text/html": [
              "<pre>recommendations finished on 8000/35627 queries. users per second: 53813.7</pre>"
            ],
            "text/plain": [
              "recommendations finished on 8000/35627 queries. users per second: 53813.7"
            ]
          },
          "metadata": {
            "tags": []
          }
        },
        {
          "output_type": "display_data",
          "data": {
            "text/html": [
              "<pre>recommendations finished on 9000/35627 queries. users per second: 54193.4</pre>"
            ],
            "text/plain": [
              "recommendations finished on 9000/35627 queries. users per second: 54193.4"
            ]
          },
          "metadata": {
            "tags": []
          }
        },
        {
          "output_type": "display_data",
          "data": {
            "text/html": [
              "<pre>recommendations finished on 10000/35627 queries. users per second: 54635.9</pre>"
            ],
            "text/plain": [
              "recommendations finished on 10000/35627 queries. users per second: 54635.9"
            ]
          },
          "metadata": {
            "tags": []
          }
        },
        {
          "output_type": "display_data",
          "data": {
            "text/html": [
              "<pre>recommendations finished on 11000/35627 queries. users per second: 54989.6</pre>"
            ],
            "text/plain": [
              "recommendations finished on 11000/35627 queries. users per second: 54989.6"
            ]
          },
          "metadata": {
            "tags": []
          }
        },
        {
          "output_type": "display_data",
          "data": {
            "text/html": [
              "<pre>recommendations finished on 12000/35627 queries. users per second: 55190.4</pre>"
            ],
            "text/plain": [
              "recommendations finished on 12000/35627 queries. users per second: 55190.4"
            ]
          },
          "metadata": {
            "tags": []
          }
        },
        {
          "output_type": "display_data",
          "data": {
            "text/html": [
              "<pre>recommendations finished on 13000/35627 queries. users per second: 55400.2</pre>"
            ],
            "text/plain": [
              "recommendations finished on 13000/35627 queries. users per second: 55400.2"
            ]
          },
          "metadata": {
            "tags": []
          }
        },
        {
          "output_type": "display_data",
          "data": {
            "text/html": [
              "<pre>recommendations finished on 14000/35627 queries. users per second: 55166.3</pre>"
            ],
            "text/plain": [
              "recommendations finished on 14000/35627 queries. users per second: 55166.3"
            ]
          },
          "metadata": {
            "tags": []
          }
        },
        {
          "output_type": "display_data",
          "data": {
            "text/html": [
              "<pre>recommendations finished on 15000/35627 queries. users per second: 55274.3</pre>"
            ],
            "text/plain": [
              "recommendations finished on 15000/35627 queries. users per second: 55274.3"
            ]
          },
          "metadata": {
            "tags": []
          }
        },
        {
          "output_type": "display_data",
          "data": {
            "text/html": [
              "<pre>recommendations finished on 16000/35627 queries. users per second: 55389</pre>"
            ],
            "text/plain": [
              "recommendations finished on 16000/35627 queries. users per second: 55389"
            ]
          },
          "metadata": {
            "tags": []
          }
        },
        {
          "output_type": "display_data",
          "data": {
            "text/html": [
              "<pre>recommendations finished on 17000/35627 queries. users per second: 55735.5</pre>"
            ],
            "text/plain": [
              "recommendations finished on 17000/35627 queries. users per second: 55735.5"
            ]
          },
          "metadata": {
            "tags": []
          }
        },
        {
          "output_type": "display_data",
          "data": {
            "text/html": [
              "<pre>recommendations finished on 18000/35627 queries. users per second: 55653.1</pre>"
            ],
            "text/plain": [
              "recommendations finished on 18000/35627 queries. users per second: 55653.1"
            ]
          },
          "metadata": {
            "tags": []
          }
        },
        {
          "output_type": "display_data",
          "data": {
            "text/html": [
              "<pre>recommendations finished on 19000/35627 queries. users per second: 55709.7</pre>"
            ],
            "text/plain": [
              "recommendations finished on 19000/35627 queries. users per second: 55709.7"
            ]
          },
          "metadata": {
            "tags": []
          }
        },
        {
          "output_type": "display_data",
          "data": {
            "text/html": [
              "<pre>recommendations finished on 20000/35627 queries. users per second: 55441.3</pre>"
            ],
            "text/plain": [
              "recommendations finished on 20000/35627 queries. users per second: 55441.3"
            ]
          },
          "metadata": {
            "tags": []
          }
        },
        {
          "output_type": "display_data",
          "data": {
            "text/html": [
              "<pre>recommendations finished on 21000/35627 queries. users per second: 55703.4</pre>"
            ],
            "text/plain": [
              "recommendations finished on 21000/35627 queries. users per second: 55703.4"
            ]
          },
          "metadata": {
            "tags": []
          }
        },
        {
          "output_type": "display_data",
          "data": {
            "text/html": [
              "<pre>recommendations finished on 22000/35627 queries. users per second: 55085.5</pre>"
            ],
            "text/plain": [
              "recommendations finished on 22000/35627 queries. users per second: 55085.5"
            ]
          },
          "metadata": {
            "tags": []
          }
        },
        {
          "output_type": "display_data",
          "data": {
            "text/html": [
              "<pre>recommendations finished on 23000/35627 queries. users per second: 55086.9</pre>"
            ],
            "text/plain": [
              "recommendations finished on 23000/35627 queries. users per second: 55086.9"
            ]
          },
          "metadata": {
            "tags": []
          }
        },
        {
          "output_type": "display_data",
          "data": {
            "text/html": [
              "<pre>recommendations finished on 24000/35627 queries. users per second: 49098</pre>"
            ],
            "text/plain": [
              "recommendations finished on 24000/35627 queries. users per second: 49098"
            ]
          },
          "metadata": {
            "tags": []
          }
        },
        {
          "output_type": "display_data",
          "data": {
            "text/html": [
              "<pre>recommendations finished on 25000/35627 queries. users per second: 33738.6</pre>"
            ],
            "text/plain": [
              "recommendations finished on 25000/35627 queries. users per second: 33738.6"
            ]
          },
          "metadata": {
            "tags": []
          }
        },
        {
          "output_type": "display_data",
          "data": {
            "text/html": [
              "<pre>recommendations finished on 26000/35627 queries. users per second: 25586.5</pre>"
            ],
            "text/plain": [
              "recommendations finished on 26000/35627 queries. users per second: 25586.5"
            ]
          },
          "metadata": {
            "tags": []
          }
        },
        {
          "output_type": "display_data",
          "data": {
            "text/html": [
              "<pre>recommendations finished on 27000/35627 queries. users per second: 20501.2</pre>"
            ],
            "text/plain": [
              "recommendations finished on 27000/35627 queries. users per second: 20501.2"
            ]
          },
          "metadata": {
            "tags": []
          }
        },
        {
          "output_type": "display_data",
          "data": {
            "text/html": [
              "<pre>recommendations finished on 28000/35627 queries. users per second: 20613.8</pre>"
            ],
            "text/plain": [
              "recommendations finished on 28000/35627 queries. users per second: 20613.8"
            ]
          },
          "metadata": {
            "tags": []
          }
        },
        {
          "output_type": "display_data",
          "data": {
            "text/html": [
              "<pre>recommendations finished on 29000/35627 queries. users per second: 19145.9</pre>"
            ],
            "text/plain": [
              "recommendations finished on 29000/35627 queries. users per second: 19145.9"
            ]
          },
          "metadata": {
            "tags": []
          }
        },
        {
          "output_type": "display_data",
          "data": {
            "text/html": [
              "<pre>recommendations finished on 30000/35627 queries. users per second: 17058.3</pre>"
            ],
            "text/plain": [
              "recommendations finished on 30000/35627 queries. users per second: 17058.3"
            ]
          },
          "metadata": {
            "tags": []
          }
        },
        {
          "output_type": "display_data",
          "data": {
            "text/html": [
              "<pre>recommendations finished on 31000/35627 queries. users per second: 17412.5</pre>"
            ],
            "text/plain": [
              "recommendations finished on 31000/35627 queries. users per second: 17412.5"
            ]
          },
          "metadata": {
            "tags": []
          }
        },
        {
          "output_type": "display_data",
          "data": {
            "text/html": [
              "<pre>recommendations finished on 32000/35627 queries. users per second: 17800</pre>"
            ],
            "text/plain": [
              "recommendations finished on 32000/35627 queries. users per second: 17800"
            ]
          },
          "metadata": {
            "tags": []
          }
        },
        {
          "output_type": "display_data",
          "data": {
            "text/html": [
              "<pre>recommendations finished on 33000/35627 queries. users per second: 18175.8</pre>"
            ],
            "text/plain": [
              "recommendations finished on 33000/35627 queries. users per second: 18175.8"
            ]
          },
          "metadata": {
            "tags": []
          }
        },
        {
          "output_type": "display_data",
          "data": {
            "text/html": [
              "<pre>recommendations finished on 34000/35627 queries. users per second: 18505.2</pre>"
            ],
            "text/plain": [
              "recommendations finished on 34000/35627 queries. users per second: 18505.2"
            ]
          },
          "metadata": {
            "tags": []
          }
        },
        {
          "output_type": "display_data",
          "data": {
            "text/html": [
              "<pre>recommendations finished on 35000/35627 queries. users per second: 18839.6</pre>"
            ],
            "text/plain": [
              "recommendations finished on 35000/35627 queries. users per second: 18839.6"
            ]
          },
          "metadata": {
            "tags": []
          }
        },
        {
          "output_type": "stream",
          "text": [
            "+---------+----------------+--------------------+------+\n",
            "| user_id | product_number |       score        | rank |\n",
            "+---------+----------------+--------------------+------+\n",
            "|   1184  |      406       | 0.7083701952555245 |  1   |\n",
            "|   1184  |      1263      | 0.6939718213153533 |  2   |\n",
            "|   1184  |      303       | 0.6782245211255432 |  3   |\n",
            "|   1184  |      471       | 0.6709385816337134 |  4   |\n",
            "|   1184  |      1123      | 0.6708987356789882 |  5   |\n",
            "|   1184  |      765       | 0.6707330524757137 |  6   |\n",
            "|   1184  |      355       | 0.6677736775451802 |  7   |\n",
            "|   1184  |       53       | 0.6658360751627784 |  8   |\n",
            "|   1184  |      481       | 0.6640682465212218 |  9   |\n",
            "|   1184  |      321       | 0.6590527650848742 |  10  |\n",
            "+---------+----------------+--------------------+------+\n",
            "[356270 rows x 4 columns]\n",
            "\n"
          ],
          "name": "stdout"
        }
      ]
    },
    {
      "cell_type": "code",
      "metadata": {
        "id": "U2TC011M6idB"
      },
      "source": [
        "#train_data_norm.groupby(by=item_id)['distance_Productcount'].mean().sort_values(ascending=False).head(20)\n"
      ],
      "execution_count": null,
      "outputs": []
    },
    {
      "cell_type": "code",
      "metadata": {
        "id": "ppRqlZwEotnz",
        "colab": {
          "base_uri": "https://localhost:8080/",
          "height": 1000
        },
        "outputId": "5cf106d2-6f53-412d-e8c9-a78f4d51d1c3"
      },
      "source": [
        "name = 'cosine'\n",
        "target = 'summation_distance_Productcount'\n",
        "cos = model(train_data, name, user_id, item_id, target, users_to_recommend, n_rec, n_display)"
      ],
      "execution_count": null,
      "outputs": [
        {
          "output_type": "display_data",
          "data": {
            "text/html": [
              "<pre>Warning: Ignoring columns distance, product_purchase_count, multiplication_distance_Productcount, summation_distance_Productcount_demo, distance (root), root value, summation_distance_Productcount.1;</pre>"
            ],
            "text/plain": [
              "Warning: Ignoring columns distance, product_purchase_count, multiplication_distance_Productcount, summation_distance_Productcount_demo, distance (root), root value, summation_distance_Productcount.1;"
            ]
          },
          "metadata": {
            "tags": []
          }
        },
        {
          "output_type": "display_data",
          "data": {
            "text/html": [
              "<pre>    To use these columns in scoring predictions, use a model that allows the use of additional features.</pre>"
            ],
            "text/plain": [
              "    To use these columns in scoring predictions, use a model that allows the use of additional features."
            ]
          },
          "metadata": {
            "tags": []
          }
        },
        {
          "output_type": "display_data",
          "data": {
            "text/html": [
              "<pre>Preparing data set.</pre>"
            ],
            "text/plain": [
              "Preparing data set."
            ]
          },
          "metadata": {
            "tags": []
          }
        },
        {
          "output_type": "display_data",
          "data": {
            "text/html": [
              "<pre>    Data has 28501 observations with 25 users and 1434 items.</pre>"
            ],
            "text/plain": [
              "    Data has 28501 observations with 25 users and 1434 items."
            ]
          },
          "metadata": {
            "tags": []
          }
        },
        {
          "output_type": "display_data",
          "data": {
            "text/html": [
              "<pre>    Data prepared in: 0.040221s</pre>"
            ],
            "text/plain": [
              "    Data prepared in: 0.040221s"
            ]
          },
          "metadata": {
            "tags": []
          }
        },
        {
          "output_type": "display_data",
          "data": {
            "text/html": [
              "<pre>Training model from provided data.</pre>"
            ],
            "text/plain": [
              "Training model from provided data."
            ]
          },
          "metadata": {
            "tags": []
          }
        },
        {
          "output_type": "display_data",
          "data": {
            "text/html": [
              "<pre>Gathering per-item and per-user statistics.</pre>"
            ],
            "text/plain": [
              "Gathering per-item and per-user statistics."
            ]
          },
          "metadata": {
            "tags": []
          }
        },
        {
          "output_type": "display_data",
          "data": {
            "text/html": [
              "<pre>+--------------------------------+------------+</pre>"
            ],
            "text/plain": [
              "+--------------------------------+------------+"
            ]
          },
          "metadata": {
            "tags": []
          }
        },
        {
          "output_type": "display_data",
          "data": {
            "text/html": [
              "<pre>| Elapsed Time (Item Statistics) | % Complete |</pre>"
            ],
            "text/plain": [
              "| Elapsed Time (Item Statistics) | % Complete |"
            ]
          },
          "metadata": {
            "tags": []
          }
        },
        {
          "output_type": "display_data",
          "data": {
            "text/html": [
              "<pre>+--------------------------------+------------+</pre>"
            ],
            "text/plain": [
              "+--------------------------------+------------+"
            ]
          },
          "metadata": {
            "tags": []
          }
        },
        {
          "output_type": "display_data",
          "data": {
            "text/html": [
              "<pre>| 2.535ms                        | 100        |</pre>"
            ],
            "text/plain": [
              "| 2.535ms                        | 100        |"
            ]
          },
          "metadata": {
            "tags": []
          }
        },
        {
          "output_type": "display_data",
          "data": {
            "text/html": [
              "<pre>+--------------------------------+------------+</pre>"
            ],
            "text/plain": [
              "+--------------------------------+------------+"
            ]
          },
          "metadata": {
            "tags": []
          }
        },
        {
          "output_type": "display_data",
          "data": {
            "text/html": [
              "<pre>Setting up lookup tables.</pre>"
            ],
            "text/plain": [
              "Setting up lookup tables."
            ]
          },
          "metadata": {
            "tags": []
          }
        },
        {
          "output_type": "display_data",
          "data": {
            "text/html": [
              "<pre>Processing data in one pass using dense lookup tables.</pre>"
            ],
            "text/plain": [
              "Processing data in one pass using dense lookup tables."
            ]
          },
          "metadata": {
            "tags": []
          }
        },
        {
          "output_type": "display_data",
          "data": {
            "text/html": [
              "<pre>+-------------------------------------+------------------+-----------------+</pre>"
            ],
            "text/plain": [
              "+-------------------------------------+------------------+-----------------+"
            ]
          },
          "metadata": {
            "tags": []
          }
        },
        {
          "output_type": "display_data",
          "data": {
            "text/html": [
              "<pre>| Elapsed Time (Constructing Lookups) | Total % Complete | Items Processed |</pre>"
            ],
            "text/plain": [
              "| Elapsed Time (Constructing Lookups) | Total % Complete | Items Processed |"
            ]
          },
          "metadata": {
            "tags": []
          }
        },
        {
          "output_type": "display_data",
          "data": {
            "text/html": [
              "<pre>+-------------------------------------+------------------+-----------------+</pre>"
            ],
            "text/plain": [
              "+-------------------------------------+------------------+-----------------+"
            ]
          },
          "metadata": {
            "tags": []
          }
        },
        {
          "output_type": "display_data",
          "data": {
            "text/html": [
              "<pre>| 6.467ms                             | 4                | 58              |</pre>"
            ],
            "text/plain": [
              "| 6.467ms                             | 4                | 58              |"
            ]
          },
          "metadata": {
            "tags": []
          }
        },
        {
          "output_type": "display_data",
          "data": {
            "text/html": [
              "<pre>| 313.372ms                           | 100              | 1434            |</pre>"
            ],
            "text/plain": [
              "| 313.372ms                           | 100              | 1434            |"
            ]
          },
          "metadata": {
            "tags": []
          }
        },
        {
          "output_type": "display_data",
          "data": {
            "text/html": [
              "<pre>+-------------------------------------+------------------+-----------------+</pre>"
            ],
            "text/plain": [
              "+-------------------------------------+------------------+-----------------+"
            ]
          },
          "metadata": {
            "tags": []
          }
        },
        {
          "output_type": "display_data",
          "data": {
            "text/html": [
              "<pre>Finalizing lookup tables.</pre>"
            ],
            "text/plain": [
              "Finalizing lookup tables."
            ]
          },
          "metadata": {
            "tags": []
          }
        },
        {
          "output_type": "display_data",
          "data": {
            "text/html": [
              "<pre>Generating candidate set for working with new users.</pre>"
            ],
            "text/plain": [
              "Generating candidate set for working with new users."
            ]
          },
          "metadata": {
            "tags": []
          }
        },
        {
          "output_type": "display_data",
          "data": {
            "text/html": [
              "<pre>Finished training in 1.32607s</pre>"
            ],
            "text/plain": [
              "Finished training in 1.32607s"
            ]
          },
          "metadata": {
            "tags": []
          }
        },
        {
          "output_type": "display_data",
          "data": {
            "text/html": [
              "<pre>recommendations finished on 1000/35627 queries. users per second: 1262.72</pre>"
            ],
            "text/plain": [
              "recommendations finished on 1000/35627 queries. users per second: 1262.72"
            ]
          },
          "metadata": {
            "tags": []
          }
        },
        {
          "output_type": "display_data",
          "data": {
            "text/html": [
              "<pre>recommendations finished on 2000/35627 queries. users per second: 1308.66</pre>"
            ],
            "text/plain": [
              "recommendations finished on 2000/35627 queries. users per second: 1308.66"
            ]
          },
          "metadata": {
            "tags": []
          }
        },
        {
          "output_type": "display_data",
          "data": {
            "text/html": [
              "<pre>recommendations finished on 3000/35627 queries. users per second: 1354.35</pre>"
            ],
            "text/plain": [
              "recommendations finished on 3000/35627 queries. users per second: 1354.35"
            ]
          },
          "metadata": {
            "tags": []
          }
        },
        {
          "output_type": "display_data",
          "data": {
            "text/html": [
              "<pre>recommendations finished on 4000/35627 queries. users per second: 1397.43</pre>"
            ],
            "text/plain": [
              "recommendations finished on 4000/35627 queries. users per second: 1397.43"
            ]
          },
          "metadata": {
            "tags": []
          }
        },
        {
          "output_type": "display_data",
          "data": {
            "text/html": [
              "<pre>recommendations finished on 5000/35627 queries. users per second: 1435.74</pre>"
            ],
            "text/plain": [
              "recommendations finished on 5000/35627 queries. users per second: 1435.74"
            ]
          },
          "metadata": {
            "tags": []
          }
        },
        {
          "output_type": "display_data",
          "data": {
            "text/html": [
              "<pre>recommendations finished on 6000/35627 queries. users per second: 1461.06</pre>"
            ],
            "text/plain": [
              "recommendations finished on 6000/35627 queries. users per second: 1461.06"
            ]
          },
          "metadata": {
            "tags": []
          }
        },
        {
          "output_type": "display_data",
          "data": {
            "text/html": [
              "<pre>recommendations finished on 7000/35627 queries. users per second: 1481.14</pre>"
            ],
            "text/plain": [
              "recommendations finished on 7000/35627 queries. users per second: 1481.14"
            ]
          },
          "metadata": {
            "tags": []
          }
        },
        {
          "output_type": "display_data",
          "data": {
            "text/html": [
              "<pre>recommendations finished on 8000/35627 queries. users per second: 1497.78</pre>"
            ],
            "text/plain": [
              "recommendations finished on 8000/35627 queries. users per second: 1497.78"
            ]
          },
          "metadata": {
            "tags": []
          }
        },
        {
          "output_type": "display_data",
          "data": {
            "text/html": [
              "<pre>recommendations finished on 9000/35627 queries. users per second: 1509.93</pre>"
            ],
            "text/plain": [
              "recommendations finished on 9000/35627 queries. users per second: 1509.93"
            ]
          },
          "metadata": {
            "tags": []
          }
        },
        {
          "output_type": "display_data",
          "data": {
            "text/html": [
              "<pre>recommendations finished on 10000/35627 queries. users per second: 1489.49</pre>"
            ],
            "text/plain": [
              "recommendations finished on 10000/35627 queries. users per second: 1489.49"
            ]
          },
          "metadata": {
            "tags": []
          }
        },
        {
          "output_type": "display_data",
          "data": {
            "text/html": [
              "<pre>recommendations finished on 11000/35627 queries. users per second: 1475.63</pre>"
            ],
            "text/plain": [
              "recommendations finished on 11000/35627 queries. users per second: 1475.63"
            ]
          },
          "metadata": {
            "tags": []
          }
        },
        {
          "output_type": "display_data",
          "data": {
            "text/html": [
              "<pre>recommendations finished on 12000/35627 queries. users per second: 1465.51</pre>"
            ],
            "text/plain": [
              "recommendations finished on 12000/35627 queries. users per second: 1465.51"
            ]
          },
          "metadata": {
            "tags": []
          }
        },
        {
          "output_type": "display_data",
          "data": {
            "text/html": [
              "<pre>recommendations finished on 13000/35627 queries. users per second: 1460.28</pre>"
            ],
            "text/plain": [
              "recommendations finished on 13000/35627 queries. users per second: 1460.28"
            ]
          },
          "metadata": {
            "tags": []
          }
        },
        {
          "output_type": "display_data",
          "data": {
            "text/html": [
              "<pre>recommendations finished on 14000/35627 queries. users per second: 1470.8</pre>"
            ],
            "text/plain": [
              "recommendations finished on 14000/35627 queries. users per second: 1470.8"
            ]
          },
          "metadata": {
            "tags": []
          }
        },
        {
          "output_type": "display_data",
          "data": {
            "text/html": [
              "<pre>recommendations finished on 15000/35627 queries. users per second: 1478.5</pre>"
            ],
            "text/plain": [
              "recommendations finished on 15000/35627 queries. users per second: 1478.5"
            ]
          },
          "metadata": {
            "tags": []
          }
        },
        {
          "output_type": "display_data",
          "data": {
            "text/html": [
              "<pre>recommendations finished on 16000/35627 queries. users per second: 1485.83</pre>"
            ],
            "text/plain": [
              "recommendations finished on 16000/35627 queries. users per second: 1485.83"
            ]
          },
          "metadata": {
            "tags": []
          }
        },
        {
          "output_type": "display_data",
          "data": {
            "text/html": [
              "<pre>recommendations finished on 17000/35627 queries. users per second: 1493.21</pre>"
            ],
            "text/plain": [
              "recommendations finished on 17000/35627 queries. users per second: 1493.21"
            ]
          },
          "metadata": {
            "tags": []
          }
        },
        {
          "output_type": "display_data",
          "data": {
            "text/html": [
              "<pre>recommendations finished on 18000/35627 queries. users per second: 1498.99</pre>"
            ],
            "text/plain": [
              "recommendations finished on 18000/35627 queries. users per second: 1498.99"
            ]
          },
          "metadata": {
            "tags": []
          }
        },
        {
          "output_type": "display_data",
          "data": {
            "text/html": [
              "<pre>recommendations finished on 19000/35627 queries. users per second: 1504.17</pre>"
            ],
            "text/plain": [
              "recommendations finished on 19000/35627 queries. users per second: 1504.17"
            ]
          },
          "metadata": {
            "tags": []
          }
        },
        {
          "output_type": "display_data",
          "data": {
            "text/html": [
              "<pre>recommendations finished on 20000/35627 queries. users per second: 1509.32</pre>"
            ],
            "text/plain": [
              "recommendations finished on 20000/35627 queries. users per second: 1509.32"
            ]
          },
          "metadata": {
            "tags": []
          }
        },
        {
          "output_type": "display_data",
          "data": {
            "text/html": [
              "<pre>recommendations finished on 21000/35627 queries. users per second: 1514.96</pre>"
            ],
            "text/plain": [
              "recommendations finished on 21000/35627 queries. users per second: 1514.96"
            ]
          },
          "metadata": {
            "tags": []
          }
        },
        {
          "output_type": "display_data",
          "data": {
            "text/html": [
              "<pre>recommendations finished on 22000/35627 queries. users per second: 1520.11</pre>"
            ],
            "text/plain": [
              "recommendations finished on 22000/35627 queries. users per second: 1520.11"
            ]
          },
          "metadata": {
            "tags": []
          }
        },
        {
          "output_type": "display_data",
          "data": {
            "text/html": [
              "<pre>recommendations finished on 23000/35627 queries. users per second: 1524.92</pre>"
            ],
            "text/plain": [
              "recommendations finished on 23000/35627 queries. users per second: 1524.92"
            ]
          },
          "metadata": {
            "tags": []
          }
        },
        {
          "output_type": "display_data",
          "data": {
            "text/html": [
              "<pre>recommendations finished on 24000/35627 queries. users per second: 1530.12</pre>"
            ],
            "text/plain": [
              "recommendations finished on 24000/35627 queries. users per second: 1530.12"
            ]
          },
          "metadata": {
            "tags": []
          }
        },
        {
          "output_type": "display_data",
          "data": {
            "text/html": [
              "<pre>recommendations finished on 25000/35627 queries. users per second: 1534.66</pre>"
            ],
            "text/plain": [
              "recommendations finished on 25000/35627 queries. users per second: 1534.66"
            ]
          },
          "metadata": {
            "tags": []
          }
        },
        {
          "output_type": "display_data",
          "data": {
            "text/html": [
              "<pre>recommendations finished on 26000/35627 queries. users per second: 1538.79</pre>"
            ],
            "text/plain": [
              "recommendations finished on 26000/35627 queries. users per second: 1538.79"
            ]
          },
          "metadata": {
            "tags": []
          }
        },
        {
          "output_type": "display_data",
          "data": {
            "text/html": [
              "<pre>recommendations finished on 27000/35627 queries. users per second: 1541.62</pre>"
            ],
            "text/plain": [
              "recommendations finished on 27000/35627 queries. users per second: 1541.62"
            ]
          },
          "metadata": {
            "tags": []
          }
        },
        {
          "output_type": "display_data",
          "data": {
            "text/html": [
              "<pre>recommendations finished on 28000/35627 queries. users per second: 1544.16</pre>"
            ],
            "text/plain": [
              "recommendations finished on 28000/35627 queries. users per second: 1544.16"
            ]
          },
          "metadata": {
            "tags": []
          }
        },
        {
          "output_type": "display_data",
          "data": {
            "text/html": [
              "<pre>recommendations finished on 29000/35627 queries. users per second: 1546.47</pre>"
            ],
            "text/plain": [
              "recommendations finished on 29000/35627 queries. users per second: 1546.47"
            ]
          },
          "metadata": {
            "tags": []
          }
        },
        {
          "output_type": "display_data",
          "data": {
            "text/html": [
              "<pre>recommendations finished on 30000/35627 queries. users per second: 1547.92</pre>"
            ],
            "text/plain": [
              "recommendations finished on 30000/35627 queries. users per second: 1547.92"
            ]
          },
          "metadata": {
            "tags": []
          }
        },
        {
          "output_type": "display_data",
          "data": {
            "text/html": [
              "<pre>recommendations finished on 31000/35627 queries. users per second: 1550.27</pre>"
            ],
            "text/plain": [
              "recommendations finished on 31000/35627 queries. users per second: 1550.27"
            ]
          },
          "metadata": {
            "tags": []
          }
        },
        {
          "output_type": "display_data",
          "data": {
            "text/html": [
              "<pre>recommendations finished on 32000/35627 queries. users per second: 1552.97</pre>"
            ],
            "text/plain": [
              "recommendations finished on 32000/35627 queries. users per second: 1552.97"
            ]
          },
          "metadata": {
            "tags": []
          }
        },
        {
          "output_type": "display_data",
          "data": {
            "text/html": [
              "<pre>recommendations finished on 33000/35627 queries. users per second: 1555.31</pre>"
            ],
            "text/plain": [
              "recommendations finished on 33000/35627 queries. users per second: 1555.31"
            ]
          },
          "metadata": {
            "tags": []
          }
        },
        {
          "output_type": "display_data",
          "data": {
            "text/html": [
              "<pre>recommendations finished on 34000/35627 queries. users per second: 1558.01</pre>"
            ],
            "text/plain": [
              "recommendations finished on 34000/35627 queries. users per second: 1558.01"
            ]
          },
          "metadata": {
            "tags": []
          }
        },
        {
          "output_type": "display_data",
          "data": {
            "text/html": [
              "<pre>recommendations finished on 35000/35627 queries. users per second: 1556.62</pre>"
            ],
            "text/plain": [
              "recommendations finished on 35000/35627 queries. users per second: 1556.62"
            ]
          },
          "metadata": {
            "tags": []
          }
        },
        {
          "output_type": "stream",
          "text": [
            "+---------+----------------+---------------------+------+\n",
            "| user_id | product_number |        score        | rank |\n",
            "+---------+----------------+---------------------+------+\n",
            "|   1184  |      1265      |  0.642876852690486  |  1   |\n",
            "|   1184  |      139       |  0.4725423753526006 |  2   |\n",
            "|   1184  |      843       |  0.4611611359396548 |  3   |\n",
            "|   1184  |      1100      |  0.4195681486176302 |  4   |\n",
            "|   1184  |      124       |  0.3957644214964378 |  5   |\n",
            "|   1184  |      1389      |  0.3783012057366155 |  6   |\n",
            "|   1184  |      1284      |  0.3762207078849095 |  7   |\n",
            "|   1184  |      317       | 0.35697358185565886 |  8   |\n",
            "|   1184  |      940       | 0.33469219121027544 |  9   |\n",
            "|   1184  |      1058      | 0.32208701267428597 |  10  |\n",
            "+---------+----------------+---------------------+------+\n",
            "[356270 rows x 4 columns]\n",
            "\n"
          ],
          "name": "stdout"
        }
      ]
    },
    {
      "cell_type": "code",
      "metadata": {
        "id": "m5-vCOwXox8Z",
        "colab": {
          "base_uri": "https://localhost:8080/",
          "height": 1000
        },
        "outputId": "9a7b115b-765c-4e30-ab9f-1256e1fbd676"
      },
      "source": [
        "name = 'cosine'\n",
        "target = 'purchase_dummy'\n",
        "cos_dummy = model(train_data_dummy, name, user_id, item_id, target, users_to_recommend, n_rec, n_display)"
      ],
      "execution_count": null,
      "outputs": [
        {
          "output_type": "display_data",
          "data": {
            "text/html": [
              "<pre>Warning: Ignoring columns distance, product_purchase_count, multiplication_distance_Productcount, summation_distance_Productcount_demo, distance (root), root value, summation_distance_Productcount, summation_distance_Productcount.1;</pre>"
            ],
            "text/plain": [
              "Warning: Ignoring columns distance, product_purchase_count, multiplication_distance_Productcount, summation_distance_Productcount_demo, distance (root), root value, summation_distance_Productcount, summation_distance_Productcount.1;"
            ]
          },
          "metadata": {
            "tags": []
          }
        },
        {
          "output_type": "display_data",
          "data": {
            "text/html": [
              "<pre>    To use these columns in scoring predictions, use a model that allows the use of additional features.</pre>"
            ],
            "text/plain": [
              "    To use these columns in scoring predictions, use a model that allows the use of additional features."
            ]
          },
          "metadata": {
            "tags": []
          }
        },
        {
          "output_type": "display_data",
          "data": {
            "text/html": [
              "<pre>Preparing data set.</pre>"
            ],
            "text/plain": [
              "Preparing data set."
            ]
          },
          "metadata": {
            "tags": []
          }
        },
        {
          "output_type": "display_data",
          "data": {
            "text/html": [
              "<pre>    Data has 28501 observations with 25 users and 1431 items.</pre>"
            ],
            "text/plain": [
              "    Data has 28501 observations with 25 users and 1431 items."
            ]
          },
          "metadata": {
            "tags": []
          }
        },
        {
          "output_type": "display_data",
          "data": {
            "text/html": [
              "<pre>    Data prepared in: 0.04174s</pre>"
            ],
            "text/plain": [
              "    Data prepared in: 0.04174s"
            ]
          },
          "metadata": {
            "tags": []
          }
        },
        {
          "output_type": "display_data",
          "data": {
            "text/html": [
              "<pre>Training model from provided data.</pre>"
            ],
            "text/plain": [
              "Training model from provided data."
            ]
          },
          "metadata": {
            "tags": []
          }
        },
        {
          "output_type": "display_data",
          "data": {
            "text/html": [
              "<pre>Gathering per-item and per-user statistics.</pre>"
            ],
            "text/plain": [
              "Gathering per-item and per-user statistics."
            ]
          },
          "metadata": {
            "tags": []
          }
        },
        {
          "output_type": "display_data",
          "data": {
            "text/html": [
              "<pre>+--------------------------------+------------+</pre>"
            ],
            "text/plain": [
              "+--------------------------------+------------+"
            ]
          },
          "metadata": {
            "tags": []
          }
        },
        {
          "output_type": "display_data",
          "data": {
            "text/html": [
              "<pre>| Elapsed Time (Item Statistics) | % Complete |</pre>"
            ],
            "text/plain": [
              "| Elapsed Time (Item Statistics) | % Complete |"
            ]
          },
          "metadata": {
            "tags": []
          }
        },
        {
          "output_type": "display_data",
          "data": {
            "text/html": [
              "<pre>+--------------------------------+------------+</pre>"
            ],
            "text/plain": [
              "+--------------------------------+------------+"
            ]
          },
          "metadata": {
            "tags": []
          }
        },
        {
          "output_type": "display_data",
          "data": {
            "text/html": [
              "<pre>| 1.514ms                        | 100        |</pre>"
            ],
            "text/plain": [
              "| 1.514ms                        | 100        |"
            ]
          },
          "metadata": {
            "tags": []
          }
        },
        {
          "output_type": "display_data",
          "data": {
            "text/html": [
              "<pre>+--------------------------------+------------+</pre>"
            ],
            "text/plain": [
              "+--------------------------------+------------+"
            ]
          },
          "metadata": {
            "tags": []
          }
        },
        {
          "output_type": "display_data",
          "data": {
            "text/html": [
              "<pre>Setting up lookup tables.</pre>"
            ],
            "text/plain": [
              "Setting up lookup tables."
            ]
          },
          "metadata": {
            "tags": []
          }
        },
        {
          "output_type": "display_data",
          "data": {
            "text/html": [
              "<pre>Processing data in one pass using dense lookup tables.</pre>"
            ],
            "text/plain": [
              "Processing data in one pass using dense lookup tables."
            ]
          },
          "metadata": {
            "tags": []
          }
        },
        {
          "output_type": "display_data",
          "data": {
            "text/html": [
              "<pre>+-------------------------------------+------------------+-----------------+</pre>"
            ],
            "text/plain": [
              "+-------------------------------------+------------------+-----------------+"
            ]
          },
          "metadata": {
            "tags": []
          }
        },
        {
          "output_type": "display_data",
          "data": {
            "text/html": [
              "<pre>| Elapsed Time (Constructing Lookups) | Total % Complete | Items Processed |</pre>"
            ],
            "text/plain": [
              "| Elapsed Time (Constructing Lookups) | Total % Complete | Items Processed |"
            ]
          },
          "metadata": {
            "tags": []
          }
        },
        {
          "output_type": "display_data",
          "data": {
            "text/html": [
              "<pre>+-------------------------------------+------------------+-----------------+</pre>"
            ],
            "text/plain": [
              "+-------------------------------------+------------------+-----------------+"
            ]
          },
          "metadata": {
            "tags": []
          }
        },
        {
          "output_type": "display_data",
          "data": {
            "text/html": [
              "<pre>| 11.693ms                            | 3.75             | 56              |</pre>"
            ],
            "text/plain": [
              "| 11.693ms                            | 3.75             | 56              |"
            ]
          },
          "metadata": {
            "tags": []
          }
        },
        {
          "output_type": "display_data",
          "data": {
            "text/html": [
              "<pre>| 299.294ms                           | 100              | 1431            |</pre>"
            ],
            "text/plain": [
              "| 299.294ms                           | 100              | 1431            |"
            ]
          },
          "metadata": {
            "tags": []
          }
        },
        {
          "output_type": "display_data",
          "data": {
            "text/html": [
              "<pre>+-------------------------------------+------------------+-----------------+</pre>"
            ],
            "text/plain": [
              "+-------------------------------------+------------------+-----------------+"
            ]
          },
          "metadata": {
            "tags": []
          }
        },
        {
          "output_type": "display_data",
          "data": {
            "text/html": [
              "<pre>Finalizing lookup tables.</pre>"
            ],
            "text/plain": [
              "Finalizing lookup tables."
            ]
          },
          "metadata": {
            "tags": []
          }
        },
        {
          "output_type": "display_data",
          "data": {
            "text/html": [
              "<pre>Generating candidate set for working with new users.</pre>"
            ],
            "text/plain": [
              "Generating candidate set for working with new users."
            ]
          },
          "metadata": {
            "tags": []
          }
        },
        {
          "output_type": "display_data",
          "data": {
            "text/html": [
              "<pre>Finished training in 0.313447s</pre>"
            ],
            "text/plain": [
              "Finished training in 0.313447s"
            ]
          },
          "metadata": {
            "tags": []
          }
        },
        {
          "output_type": "display_data",
          "data": {
            "text/html": [
              "<pre>recommendations finished on 1000/35627 queries. users per second: 1615.33</pre>"
            ],
            "text/plain": [
              "recommendations finished on 1000/35627 queries. users per second: 1615.33"
            ]
          },
          "metadata": {
            "tags": []
          }
        },
        {
          "output_type": "display_data",
          "data": {
            "text/html": [
              "<pre>recommendations finished on 2000/35627 queries. users per second: 1629.06</pre>"
            ],
            "text/plain": [
              "recommendations finished on 2000/35627 queries. users per second: 1629.06"
            ]
          },
          "metadata": {
            "tags": []
          }
        },
        {
          "output_type": "display_data",
          "data": {
            "text/html": [
              "<pre>recommendations finished on 3000/35627 queries. users per second: 1632.45</pre>"
            ],
            "text/plain": [
              "recommendations finished on 3000/35627 queries. users per second: 1632.45"
            ]
          },
          "metadata": {
            "tags": []
          }
        },
        {
          "output_type": "display_data",
          "data": {
            "text/html": [
              "<pre>recommendations finished on 4000/35627 queries. users per second: 1636.72</pre>"
            ],
            "text/plain": [
              "recommendations finished on 4000/35627 queries. users per second: 1636.72"
            ]
          },
          "metadata": {
            "tags": []
          }
        },
        {
          "output_type": "display_data",
          "data": {
            "text/html": [
              "<pre>recommendations finished on 5000/35627 queries. users per second: 1635.68</pre>"
            ],
            "text/plain": [
              "recommendations finished on 5000/35627 queries. users per second: 1635.68"
            ]
          },
          "metadata": {
            "tags": []
          }
        },
        {
          "output_type": "display_data",
          "data": {
            "text/html": [
              "<pre>recommendations finished on 6000/35627 queries. users per second: 1631.84</pre>"
            ],
            "text/plain": [
              "recommendations finished on 6000/35627 queries. users per second: 1631.84"
            ]
          },
          "metadata": {
            "tags": []
          }
        },
        {
          "output_type": "display_data",
          "data": {
            "text/html": [
              "<pre>recommendations finished on 7000/35627 queries. users per second: 1630.07</pre>"
            ],
            "text/plain": [
              "recommendations finished on 7000/35627 queries. users per second: 1630.07"
            ]
          },
          "metadata": {
            "tags": []
          }
        },
        {
          "output_type": "display_data",
          "data": {
            "text/html": [
              "<pre>recommendations finished on 8000/35627 queries. users per second: 1630.6</pre>"
            ],
            "text/plain": [
              "recommendations finished on 8000/35627 queries. users per second: 1630.6"
            ]
          },
          "metadata": {
            "tags": []
          }
        },
        {
          "output_type": "display_data",
          "data": {
            "text/html": [
              "<pre>recommendations finished on 9000/35627 queries. users per second: 1631.79</pre>"
            ],
            "text/plain": [
              "recommendations finished on 9000/35627 queries. users per second: 1631.79"
            ]
          },
          "metadata": {
            "tags": []
          }
        },
        {
          "output_type": "display_data",
          "data": {
            "text/html": [
              "<pre>recommendations finished on 10000/35627 queries. users per second: 1627.61</pre>"
            ],
            "text/plain": [
              "recommendations finished on 10000/35627 queries. users per second: 1627.61"
            ]
          },
          "metadata": {
            "tags": []
          }
        },
        {
          "output_type": "display_data",
          "data": {
            "text/html": [
              "<pre>recommendations finished on 11000/35627 queries. users per second: 1629.45</pre>"
            ],
            "text/plain": [
              "recommendations finished on 11000/35627 queries. users per second: 1629.45"
            ]
          },
          "metadata": {
            "tags": []
          }
        },
        {
          "output_type": "display_data",
          "data": {
            "text/html": [
              "<pre>recommendations finished on 12000/35627 queries. users per second: 1631.72</pre>"
            ],
            "text/plain": [
              "recommendations finished on 12000/35627 queries. users per second: 1631.72"
            ]
          },
          "metadata": {
            "tags": []
          }
        },
        {
          "output_type": "display_data",
          "data": {
            "text/html": [
              "<pre>recommendations finished on 13000/35627 queries. users per second: 1630.54</pre>"
            ],
            "text/plain": [
              "recommendations finished on 13000/35627 queries. users per second: 1630.54"
            ]
          },
          "metadata": {
            "tags": []
          }
        },
        {
          "output_type": "display_data",
          "data": {
            "text/html": [
              "<pre>recommendations finished on 14000/35627 queries. users per second: 1629.04</pre>"
            ],
            "text/plain": [
              "recommendations finished on 14000/35627 queries. users per second: 1629.04"
            ]
          },
          "metadata": {
            "tags": []
          }
        },
        {
          "output_type": "display_data",
          "data": {
            "text/html": [
              "<pre>recommendations finished on 15000/35627 queries. users per second: 1628.11</pre>"
            ],
            "text/plain": [
              "recommendations finished on 15000/35627 queries. users per second: 1628.11"
            ]
          },
          "metadata": {
            "tags": []
          }
        },
        {
          "output_type": "display_data",
          "data": {
            "text/html": [
              "<pre>recommendations finished on 16000/35627 queries. users per second: 1627.07</pre>"
            ],
            "text/plain": [
              "recommendations finished on 16000/35627 queries. users per second: 1627.07"
            ]
          },
          "metadata": {
            "tags": []
          }
        },
        {
          "output_type": "display_data",
          "data": {
            "text/html": [
              "<pre>recommendations finished on 17000/35627 queries. users per second: 1628.3</pre>"
            ],
            "text/plain": [
              "recommendations finished on 17000/35627 queries. users per second: 1628.3"
            ]
          },
          "metadata": {
            "tags": []
          }
        },
        {
          "output_type": "display_data",
          "data": {
            "text/html": [
              "<pre>recommendations finished on 18000/35627 queries. users per second: 1628.06</pre>"
            ],
            "text/plain": [
              "recommendations finished on 18000/35627 queries. users per second: 1628.06"
            ]
          },
          "metadata": {
            "tags": []
          }
        },
        {
          "output_type": "display_data",
          "data": {
            "text/html": [
              "<pre>recommendations finished on 19000/35627 queries. users per second: 1624.53</pre>"
            ],
            "text/plain": [
              "recommendations finished on 19000/35627 queries. users per second: 1624.53"
            ]
          },
          "metadata": {
            "tags": []
          }
        },
        {
          "output_type": "display_data",
          "data": {
            "text/html": [
              "<pre>recommendations finished on 20000/35627 queries. users per second: 1617.16</pre>"
            ],
            "text/plain": [
              "recommendations finished on 20000/35627 queries. users per second: 1617.16"
            ]
          },
          "metadata": {
            "tags": []
          }
        },
        {
          "output_type": "display_data",
          "data": {
            "text/html": [
              "<pre>recommendations finished on 21000/35627 queries. users per second: 1600.73</pre>"
            ],
            "text/plain": [
              "recommendations finished on 21000/35627 queries. users per second: 1600.73"
            ]
          },
          "metadata": {
            "tags": []
          }
        },
        {
          "output_type": "display_data",
          "data": {
            "text/html": [
              "<pre>recommendations finished on 22000/35627 queries. users per second: 1591.27</pre>"
            ],
            "text/plain": [
              "recommendations finished on 22000/35627 queries. users per second: 1591.27"
            ]
          },
          "metadata": {
            "tags": []
          }
        },
        {
          "output_type": "display_data",
          "data": {
            "text/html": [
              "<pre>recommendations finished on 23000/35627 queries. users per second: 1593.28</pre>"
            ],
            "text/plain": [
              "recommendations finished on 23000/35627 queries. users per second: 1593.28"
            ]
          },
          "metadata": {
            "tags": []
          }
        },
        {
          "output_type": "display_data",
          "data": {
            "text/html": [
              "<pre>recommendations finished on 24000/35627 queries. users per second: 1594.61</pre>"
            ],
            "text/plain": [
              "recommendations finished on 24000/35627 queries. users per second: 1594.61"
            ]
          },
          "metadata": {
            "tags": []
          }
        },
        {
          "output_type": "display_data",
          "data": {
            "text/html": [
              "<pre>recommendations finished on 25000/35627 queries. users per second: 1596.15</pre>"
            ],
            "text/plain": [
              "recommendations finished on 25000/35627 queries. users per second: 1596.15"
            ]
          },
          "metadata": {
            "tags": []
          }
        },
        {
          "output_type": "display_data",
          "data": {
            "text/html": [
              "<pre>recommendations finished on 26000/35627 queries. users per second: 1596.28</pre>"
            ],
            "text/plain": [
              "recommendations finished on 26000/35627 queries. users per second: 1596.28"
            ]
          },
          "metadata": {
            "tags": []
          }
        },
        {
          "output_type": "display_data",
          "data": {
            "text/html": [
              "<pre>recommendations finished on 27000/35627 queries. users per second: 1595.16</pre>"
            ],
            "text/plain": [
              "recommendations finished on 27000/35627 queries. users per second: 1595.16"
            ]
          },
          "metadata": {
            "tags": []
          }
        },
        {
          "output_type": "display_data",
          "data": {
            "text/html": [
              "<pre>recommendations finished on 28000/35627 queries. users per second: 1595.98</pre>"
            ],
            "text/plain": [
              "recommendations finished on 28000/35627 queries. users per second: 1595.98"
            ]
          },
          "metadata": {
            "tags": []
          }
        },
        {
          "output_type": "display_data",
          "data": {
            "text/html": [
              "<pre>recommendations finished on 29000/35627 queries. users per second: 1593.95</pre>"
            ],
            "text/plain": [
              "recommendations finished on 29000/35627 queries. users per second: 1593.95"
            ]
          },
          "metadata": {
            "tags": []
          }
        },
        {
          "output_type": "display_data",
          "data": {
            "text/html": [
              "<pre>recommendations finished on 30000/35627 queries. users per second: 1591.47</pre>"
            ],
            "text/plain": [
              "recommendations finished on 30000/35627 queries. users per second: 1591.47"
            ]
          },
          "metadata": {
            "tags": []
          }
        },
        {
          "output_type": "display_data",
          "data": {
            "text/html": [
              "<pre>recommendations finished on 31000/35627 queries. users per second: 1589.4</pre>"
            ],
            "text/plain": [
              "recommendations finished on 31000/35627 queries. users per second: 1589.4"
            ]
          },
          "metadata": {
            "tags": []
          }
        },
        {
          "output_type": "display_data",
          "data": {
            "text/html": [
              "<pre>recommendations finished on 32000/35627 queries. users per second: 1588.38</pre>"
            ],
            "text/plain": [
              "recommendations finished on 32000/35627 queries. users per second: 1588.38"
            ]
          },
          "metadata": {
            "tags": []
          }
        },
        {
          "output_type": "display_data",
          "data": {
            "text/html": [
              "<pre>recommendations finished on 33000/35627 queries. users per second: 1589.98</pre>"
            ],
            "text/plain": [
              "recommendations finished on 33000/35627 queries. users per second: 1589.98"
            ]
          },
          "metadata": {
            "tags": []
          }
        },
        {
          "output_type": "display_data",
          "data": {
            "text/html": [
              "<pre>recommendations finished on 34000/35627 queries. users per second: 1591.16</pre>"
            ],
            "text/plain": [
              "recommendations finished on 34000/35627 queries. users per second: 1591.16"
            ]
          },
          "metadata": {
            "tags": []
          }
        },
        {
          "output_type": "display_data",
          "data": {
            "text/html": [
              "<pre>recommendations finished on 35000/35627 queries. users per second: 1591.99</pre>"
            ],
            "text/plain": [
              "recommendations finished on 35000/35627 queries. users per second: 1591.99"
            ]
          },
          "metadata": {
            "tags": []
          }
        },
        {
          "output_type": "stream",
          "text": [
            "+---------+----------------+----------------------+------+\n",
            "| user_id | product_number |        score         | rank |\n",
            "+---------+----------------+----------------------+------+\n",
            "|   1184  |      458       |  0.2050017902975699  |  1   |\n",
            "|   1184  |       43       | 0.08939593275423278  |  2   |\n",
            "|   1184  |      636       | 0.06128431227061472  |  3   |\n",
            "|   1184  |      954       | 0.03192305612395145  |  4   |\n",
            "|   1184  |      141       | 0.03154514034413151  |  5   |\n",
            "|   1184  |      975       | 0.03025797999359212  |  6   |\n",
            "|   1184  |      530       | 0.028701085184822048 |  7   |\n",
            "|   1184  |      1166      | 0.027755091631697596 |  8   |\n",
            "|   1184  |      690       | 0.027533230684413858 |  9   |\n",
            "|   1184  |      1369      | 0.026432368531493194 |  10  |\n",
            "+---------+----------------+----------------------+------+\n",
            "[356270 rows x 4 columns]\n",
            "\n"
          ],
          "name": "stdout"
        }
      ]
    },
    {
      "cell_type": "code",
      "metadata": {
        "id": "QRu1W1pzo3R5",
        "colab": {
          "base_uri": "https://localhost:8080/",
          "height": 1000
        },
        "outputId": "fd4b8815-41b4-4fbb-e514-037841032939"
      },
      "source": [
        "name = 'cosine' \n",
        "target = 'scaled_distance_purchase_freq' \n",
        "cos_norm = model(train_data_norm, name, user_id, item_id, target, users_to_recommend, n_rec, n_display)"
      ],
      "execution_count": null,
      "outputs": [
        {
          "output_type": "display_data",
          "data": {
            "text/html": [
              "<pre>Preparing data set.</pre>"
            ],
            "text/plain": [
              "Preparing data set."
            ]
          },
          "metadata": {
            "tags": []
          }
        },
        {
          "output_type": "display_data",
          "data": {
            "text/html": [
              "<pre>    Data has 28494 observations with 25 users and 1425 items.</pre>"
            ],
            "text/plain": [
              "    Data has 28494 observations with 25 users and 1425 items."
            ]
          },
          "metadata": {
            "tags": []
          }
        },
        {
          "output_type": "display_data",
          "data": {
            "text/html": [
              "<pre>    Data prepared in: 0.037603s</pre>"
            ],
            "text/plain": [
              "    Data prepared in: 0.037603s"
            ]
          },
          "metadata": {
            "tags": []
          }
        },
        {
          "output_type": "display_data",
          "data": {
            "text/html": [
              "<pre>Training model from provided data.</pre>"
            ],
            "text/plain": [
              "Training model from provided data."
            ]
          },
          "metadata": {
            "tags": []
          }
        },
        {
          "output_type": "display_data",
          "data": {
            "text/html": [
              "<pre>Gathering per-item and per-user statistics.</pre>"
            ],
            "text/plain": [
              "Gathering per-item and per-user statistics."
            ]
          },
          "metadata": {
            "tags": []
          }
        },
        {
          "output_type": "display_data",
          "data": {
            "text/html": [
              "<pre>+--------------------------------+------------+</pre>"
            ],
            "text/plain": [
              "+--------------------------------+------------+"
            ]
          },
          "metadata": {
            "tags": []
          }
        },
        {
          "output_type": "display_data",
          "data": {
            "text/html": [
              "<pre>| Elapsed Time (Item Statistics) | % Complete |</pre>"
            ],
            "text/plain": [
              "| Elapsed Time (Item Statistics) | % Complete |"
            ]
          },
          "metadata": {
            "tags": []
          }
        },
        {
          "output_type": "display_data",
          "data": {
            "text/html": [
              "<pre>+--------------------------------+------------+</pre>"
            ],
            "text/plain": [
              "+--------------------------------+------------+"
            ]
          },
          "metadata": {
            "tags": []
          }
        },
        {
          "output_type": "display_data",
          "data": {
            "text/html": [
              "<pre>| 1.964ms                        | 100        |</pre>"
            ],
            "text/plain": [
              "| 1.964ms                        | 100        |"
            ]
          },
          "metadata": {
            "tags": []
          }
        },
        {
          "output_type": "display_data",
          "data": {
            "text/html": [
              "<pre>+--------------------------------+------------+</pre>"
            ],
            "text/plain": [
              "+--------------------------------+------------+"
            ]
          },
          "metadata": {
            "tags": []
          }
        },
        {
          "output_type": "display_data",
          "data": {
            "text/html": [
              "<pre>Setting up lookup tables.</pre>"
            ],
            "text/plain": [
              "Setting up lookup tables."
            ]
          },
          "metadata": {
            "tags": []
          }
        },
        {
          "output_type": "display_data",
          "data": {
            "text/html": [
              "<pre>Processing data in one pass using dense lookup tables.</pre>"
            ],
            "text/plain": [
              "Processing data in one pass using dense lookup tables."
            ]
          },
          "metadata": {
            "tags": []
          }
        },
        {
          "output_type": "display_data",
          "data": {
            "text/html": [
              "<pre>+-------------------------------------+------------------+-----------------+</pre>"
            ],
            "text/plain": [
              "+-------------------------------------+------------------+-----------------+"
            ]
          },
          "metadata": {
            "tags": []
          }
        },
        {
          "output_type": "display_data",
          "data": {
            "text/html": [
              "<pre>| Elapsed Time (Constructing Lookups) | Total % Complete | Items Processed |</pre>"
            ],
            "text/plain": [
              "| Elapsed Time (Constructing Lookups) | Total % Complete | Items Processed |"
            ]
          },
          "metadata": {
            "tags": []
          }
        },
        {
          "output_type": "display_data",
          "data": {
            "text/html": [
              "<pre>+-------------------------------------+------------------+-----------------+</pre>"
            ],
            "text/plain": [
              "+-------------------------------------+------------------+-----------------+"
            ]
          },
          "metadata": {
            "tags": []
          }
        },
        {
          "output_type": "display_data",
          "data": {
            "text/html": [
              "<pre>| 13.158ms                            | 3.75             | 56              |</pre>"
            ],
            "text/plain": [
              "| 13.158ms                            | 3.75             | 56              |"
            ]
          },
          "metadata": {
            "tags": []
          }
        },
        {
          "output_type": "display_data",
          "data": {
            "text/html": [
              "<pre>| 322.622ms                           | 100              | 1425            |</pre>"
            ],
            "text/plain": [
              "| 322.622ms                           | 100              | 1425            |"
            ]
          },
          "metadata": {
            "tags": []
          }
        },
        {
          "output_type": "display_data",
          "data": {
            "text/html": [
              "<pre>+-------------------------------------+------------------+-----------------+</pre>"
            ],
            "text/plain": [
              "+-------------------------------------+------------------+-----------------+"
            ]
          },
          "metadata": {
            "tags": []
          }
        },
        {
          "output_type": "display_data",
          "data": {
            "text/html": [
              "<pre>Finalizing lookup tables.</pre>"
            ],
            "text/plain": [
              "Finalizing lookup tables."
            ]
          },
          "metadata": {
            "tags": []
          }
        },
        {
          "output_type": "display_data",
          "data": {
            "text/html": [
              "<pre>Generating candidate set for working with new users.</pre>"
            ],
            "text/plain": [
              "Generating candidate set for working with new users."
            ]
          },
          "metadata": {
            "tags": []
          }
        },
        {
          "output_type": "display_data",
          "data": {
            "text/html": [
              "<pre>Finished training in 0.330837s</pre>"
            ],
            "text/plain": [
              "Finished training in 0.330837s"
            ]
          },
          "metadata": {
            "tags": []
          }
        },
        {
          "output_type": "display_data",
          "data": {
            "text/html": [
              "<pre>recommendations finished on 1000/35627 queries. users per second: 1632.34</pre>"
            ],
            "text/plain": [
              "recommendations finished on 1000/35627 queries. users per second: 1632.34"
            ]
          },
          "metadata": {
            "tags": []
          }
        },
        {
          "output_type": "display_data",
          "data": {
            "text/html": [
              "<pre>recommendations finished on 2000/35627 queries. users per second: 1636.62</pre>"
            ],
            "text/plain": [
              "recommendations finished on 2000/35627 queries. users per second: 1636.62"
            ]
          },
          "metadata": {
            "tags": []
          }
        },
        {
          "output_type": "display_data",
          "data": {
            "text/html": [
              "<pre>recommendations finished on 3000/35627 queries. users per second: 1646.42</pre>"
            ],
            "text/plain": [
              "recommendations finished on 3000/35627 queries. users per second: 1646.42"
            ]
          },
          "metadata": {
            "tags": []
          }
        },
        {
          "output_type": "display_data",
          "data": {
            "text/html": [
              "<pre>recommendations finished on 4000/35627 queries. users per second: 1645.21</pre>"
            ],
            "text/plain": [
              "recommendations finished on 4000/35627 queries. users per second: 1645.21"
            ]
          },
          "metadata": {
            "tags": []
          }
        },
        {
          "output_type": "display_data",
          "data": {
            "text/html": [
              "<pre>recommendations finished on 5000/35627 queries. users per second: 1646.53</pre>"
            ],
            "text/plain": [
              "recommendations finished on 5000/35627 queries. users per second: 1646.53"
            ]
          },
          "metadata": {
            "tags": []
          }
        },
        {
          "output_type": "display_data",
          "data": {
            "text/html": [
              "<pre>recommendations finished on 6000/35627 queries. users per second: 1647.04</pre>"
            ],
            "text/plain": [
              "recommendations finished on 6000/35627 queries. users per second: 1647.04"
            ]
          },
          "metadata": {
            "tags": []
          }
        },
        {
          "output_type": "display_data",
          "data": {
            "text/html": [
              "<pre>recommendations finished on 7000/35627 queries. users per second: 1647.11</pre>"
            ],
            "text/plain": [
              "recommendations finished on 7000/35627 queries. users per second: 1647.11"
            ]
          },
          "metadata": {
            "tags": []
          }
        },
        {
          "output_type": "display_data",
          "data": {
            "text/html": [
              "<pre>recommendations finished on 8000/35627 queries. users per second: 1646.67</pre>"
            ],
            "text/plain": [
              "recommendations finished on 8000/35627 queries. users per second: 1646.67"
            ]
          },
          "metadata": {
            "tags": []
          }
        },
        {
          "output_type": "display_data",
          "data": {
            "text/html": [
              "<pre>recommendations finished on 9000/35627 queries. users per second: 1644.31</pre>"
            ],
            "text/plain": [
              "recommendations finished on 9000/35627 queries. users per second: 1644.31"
            ]
          },
          "metadata": {
            "tags": []
          }
        },
        {
          "output_type": "display_data",
          "data": {
            "text/html": [
              "<pre>recommendations finished on 10000/35627 queries. users per second: 1642.59</pre>"
            ],
            "text/plain": [
              "recommendations finished on 10000/35627 queries. users per second: 1642.59"
            ]
          },
          "metadata": {
            "tags": []
          }
        },
        {
          "output_type": "display_data",
          "data": {
            "text/html": [
              "<pre>recommendations finished on 11000/35627 queries. users per second: 1640.89</pre>"
            ],
            "text/plain": [
              "recommendations finished on 11000/35627 queries. users per second: 1640.89"
            ]
          },
          "metadata": {
            "tags": []
          }
        },
        {
          "output_type": "display_data",
          "data": {
            "text/html": [
              "<pre>recommendations finished on 12000/35627 queries. users per second: 1640.02</pre>"
            ],
            "text/plain": [
              "recommendations finished on 12000/35627 queries. users per second: 1640.02"
            ]
          },
          "metadata": {
            "tags": []
          }
        },
        {
          "output_type": "display_data",
          "data": {
            "text/html": [
              "<pre>recommendations finished on 13000/35627 queries. users per second: 1639.96</pre>"
            ],
            "text/plain": [
              "recommendations finished on 13000/35627 queries. users per second: 1639.96"
            ]
          },
          "metadata": {
            "tags": []
          }
        },
        {
          "output_type": "display_data",
          "data": {
            "text/html": [
              "<pre>recommendations finished on 14000/35627 queries. users per second: 1638.55</pre>"
            ],
            "text/plain": [
              "recommendations finished on 14000/35627 queries. users per second: 1638.55"
            ]
          },
          "metadata": {
            "tags": []
          }
        },
        {
          "output_type": "display_data",
          "data": {
            "text/html": [
              "<pre>recommendations finished on 15000/35627 queries. users per second: 1637.46</pre>"
            ],
            "text/plain": [
              "recommendations finished on 15000/35627 queries. users per second: 1637.46"
            ]
          },
          "metadata": {
            "tags": []
          }
        },
        {
          "output_type": "display_data",
          "data": {
            "text/html": [
              "<pre>recommendations finished on 16000/35627 queries. users per second: 1635.65</pre>"
            ],
            "text/plain": [
              "recommendations finished on 16000/35627 queries. users per second: 1635.65"
            ]
          },
          "metadata": {
            "tags": []
          }
        },
        {
          "output_type": "display_data",
          "data": {
            "text/html": [
              "<pre>recommendations finished on 17000/35627 queries. users per second: 1634.33</pre>"
            ],
            "text/plain": [
              "recommendations finished on 17000/35627 queries. users per second: 1634.33"
            ]
          },
          "metadata": {
            "tags": []
          }
        },
        {
          "output_type": "display_data",
          "data": {
            "text/html": [
              "<pre>recommendations finished on 18000/35627 queries. users per second: 1633.22</pre>"
            ],
            "text/plain": [
              "recommendations finished on 18000/35627 queries. users per second: 1633.22"
            ]
          },
          "metadata": {
            "tags": []
          }
        },
        {
          "output_type": "display_data",
          "data": {
            "text/html": [
              "<pre>recommendations finished on 19000/35627 queries. users per second: 1631.32</pre>"
            ],
            "text/plain": [
              "recommendations finished on 19000/35627 queries. users per second: 1631.32"
            ]
          },
          "metadata": {
            "tags": []
          }
        },
        {
          "output_type": "display_data",
          "data": {
            "text/html": [
              "<pre>recommendations finished on 20000/35627 queries. users per second: 1629.89</pre>"
            ],
            "text/plain": [
              "recommendations finished on 20000/35627 queries. users per second: 1629.89"
            ]
          },
          "metadata": {
            "tags": []
          }
        },
        {
          "output_type": "display_data",
          "data": {
            "text/html": [
              "<pre>recommendations finished on 21000/35627 queries. users per second: 1629.98</pre>"
            ],
            "text/plain": [
              "recommendations finished on 21000/35627 queries. users per second: 1629.98"
            ]
          },
          "metadata": {
            "tags": []
          }
        },
        {
          "output_type": "display_data",
          "data": {
            "text/html": [
              "<pre>recommendations finished on 22000/35627 queries. users per second: 1629.89</pre>"
            ],
            "text/plain": [
              "recommendations finished on 22000/35627 queries. users per second: 1629.89"
            ]
          },
          "metadata": {
            "tags": []
          }
        },
        {
          "output_type": "display_data",
          "data": {
            "text/html": [
              "<pre>recommendations finished on 23000/35627 queries. users per second: 1627.34</pre>"
            ],
            "text/plain": [
              "recommendations finished on 23000/35627 queries. users per second: 1627.34"
            ]
          },
          "metadata": {
            "tags": []
          }
        },
        {
          "output_type": "display_data",
          "data": {
            "text/html": [
              "<pre>recommendations finished on 24000/35627 queries. users per second: 1606.01</pre>"
            ],
            "text/plain": [
              "recommendations finished on 24000/35627 queries. users per second: 1606.01"
            ]
          },
          "metadata": {
            "tags": []
          }
        },
        {
          "output_type": "display_data",
          "data": {
            "text/html": [
              "<pre>recommendations finished on 25000/35627 queries. users per second: 1588.35</pre>"
            ],
            "text/plain": [
              "recommendations finished on 25000/35627 queries. users per second: 1588.35"
            ]
          },
          "metadata": {
            "tags": []
          }
        },
        {
          "output_type": "display_data",
          "data": {
            "text/html": [
              "<pre>recommendations finished on 26000/35627 queries. users per second: 1570.38</pre>"
            ],
            "text/plain": [
              "recommendations finished on 26000/35627 queries. users per second: 1570.38"
            ]
          },
          "metadata": {
            "tags": []
          }
        },
        {
          "output_type": "display_data",
          "data": {
            "text/html": [
              "<pre>recommendations finished on 27000/35627 queries. users per second: 1570.67</pre>"
            ],
            "text/plain": [
              "recommendations finished on 27000/35627 queries. users per second: 1570.67"
            ]
          },
          "metadata": {
            "tags": []
          }
        },
        {
          "output_type": "display_data",
          "data": {
            "text/html": [
              "<pre>recommendations finished on 28000/35627 queries. users per second: 1568.11</pre>"
            ],
            "text/plain": [
              "recommendations finished on 28000/35627 queries. users per second: 1568.11"
            ]
          },
          "metadata": {
            "tags": []
          }
        },
        {
          "output_type": "display_data",
          "data": {
            "text/html": [
              "<pre>recommendations finished on 29000/35627 queries. users per second: 1560.88</pre>"
            ],
            "text/plain": [
              "recommendations finished on 29000/35627 queries. users per second: 1560.88"
            ]
          },
          "metadata": {
            "tags": []
          }
        },
        {
          "output_type": "display_data",
          "data": {
            "text/html": [
              "<pre>recommendations finished on 30000/35627 queries. users per second: 1549.86</pre>"
            ],
            "text/plain": [
              "recommendations finished on 30000/35627 queries. users per second: 1549.86"
            ]
          },
          "metadata": {
            "tags": []
          }
        },
        {
          "output_type": "display_data",
          "data": {
            "text/html": [
              "<pre>recommendations finished on 31000/35627 queries. users per second: 1550.1</pre>"
            ],
            "text/plain": [
              "recommendations finished on 31000/35627 queries. users per second: 1550.1"
            ]
          },
          "metadata": {
            "tags": []
          }
        },
        {
          "output_type": "display_data",
          "data": {
            "text/html": [
              "<pre>recommendations finished on 32000/35627 queries. users per second: 1551.6</pre>"
            ],
            "text/plain": [
              "recommendations finished on 32000/35627 queries. users per second: 1551.6"
            ]
          },
          "metadata": {
            "tags": []
          }
        },
        {
          "output_type": "display_data",
          "data": {
            "text/html": [
              "<pre>recommendations finished on 33000/35627 queries. users per second: 1553.78</pre>"
            ],
            "text/plain": [
              "recommendations finished on 33000/35627 queries. users per second: 1553.78"
            ]
          },
          "metadata": {
            "tags": []
          }
        },
        {
          "output_type": "display_data",
          "data": {
            "text/html": [
              "<pre>recommendations finished on 34000/35627 queries. users per second: 1556.14</pre>"
            ],
            "text/plain": [
              "recommendations finished on 34000/35627 queries. users per second: 1556.14"
            ]
          },
          "metadata": {
            "tags": []
          }
        },
        {
          "output_type": "display_data",
          "data": {
            "text/html": [
              "<pre>recommendations finished on 35000/35627 queries. users per second: 1558.25</pre>"
            ],
            "text/plain": [
              "recommendations finished on 35000/35627 queries. users per second: 1558.25"
            ]
          },
          "metadata": {
            "tags": []
          }
        },
        {
          "output_type": "stream",
          "text": [
            "+---------+----------------+----------------------+------+\n",
            "| user_id | product_number |        score         | rank |\n",
            "+---------+----------------+----------------------+------+\n",
            "|   1184  |      321       | 0.060475107825947824 |  1   |\n",
            "|   1184  |      846       | 0.05365154587289193  |  2   |\n",
            "|   1184  |      444       | 0.04351257662756163  |  3   |\n",
            "|   1184  |      875       | 0.03586526538553611  |  4   |\n",
            "|   1184  |      610       | 0.030831464403888932 |  5   |\n",
            "|   1184  |      787       | 0.029398641764481297 |  6   |\n",
            "|   1184  |      441       | 0.02789713081728097  |  7   |\n",
            "|   1184  |      1190      | 0.027877376968326092 |  8   |\n",
            "|   1184  |      686       | 0.027455795118817232 |  9   |\n",
            "|   1184  |       34       | 0.027439716818918113 |  10  |\n",
            "+---------+----------------+----------------------+------+\n",
            "[356270 rows x 4 columns]\n",
            "\n"
          ],
          "name": "stdout"
        }
      ]
    },
    {
      "cell_type": "code",
      "metadata": {
        "id": "5bYkzo5Do9fq",
        "colab": {
          "base_uri": "https://localhost:8080/",
          "height": 1000
        },
        "outputId": "42344ccf-b6d4-4ac0-ee58-ca5109e6ea69"
      },
      "source": [
        "name = 'pearson'\n",
        "target = 'summation_distance_Productcount'\n",
        "pear = model(train_data, name, user_id, item_id, target, users_to_recommend, n_rec, n_display)"
      ],
      "execution_count": null,
      "outputs": [
        {
          "output_type": "display_data",
          "data": {
            "text/html": [
              "<pre>Warning: Ignoring columns distance, product_purchase_count, multiplication_distance_Productcount, summation_distance_Productcount_demo, distance (root), root value, summation_distance_Productcount.1;</pre>"
            ],
            "text/plain": [
              "Warning: Ignoring columns distance, product_purchase_count, multiplication_distance_Productcount, summation_distance_Productcount_demo, distance (root), root value, summation_distance_Productcount.1;"
            ]
          },
          "metadata": {
            "tags": []
          }
        },
        {
          "output_type": "display_data",
          "data": {
            "text/html": [
              "<pre>    To use these columns in scoring predictions, use a model that allows the use of additional features.</pre>"
            ],
            "text/plain": [
              "    To use these columns in scoring predictions, use a model that allows the use of additional features."
            ]
          },
          "metadata": {
            "tags": []
          }
        },
        {
          "output_type": "display_data",
          "data": {
            "text/html": [
              "<pre>Preparing data set.</pre>"
            ],
            "text/plain": [
              "Preparing data set."
            ]
          },
          "metadata": {
            "tags": []
          }
        },
        {
          "output_type": "display_data",
          "data": {
            "text/html": [
              "<pre>    Data has 28501 observations with 25 users and 1434 items.</pre>"
            ],
            "text/plain": [
              "    Data has 28501 observations with 25 users and 1434 items."
            ]
          },
          "metadata": {
            "tags": []
          }
        },
        {
          "output_type": "display_data",
          "data": {
            "text/html": [
              "<pre>    Data prepared in: 0.045258s</pre>"
            ],
            "text/plain": [
              "    Data prepared in: 0.045258s"
            ]
          },
          "metadata": {
            "tags": []
          }
        },
        {
          "output_type": "display_data",
          "data": {
            "text/html": [
              "<pre>Training model from provided data.</pre>"
            ],
            "text/plain": [
              "Training model from provided data."
            ]
          },
          "metadata": {
            "tags": []
          }
        },
        {
          "output_type": "display_data",
          "data": {
            "text/html": [
              "<pre>Gathering per-item and per-user statistics.</pre>"
            ],
            "text/plain": [
              "Gathering per-item and per-user statistics."
            ]
          },
          "metadata": {
            "tags": []
          }
        },
        {
          "output_type": "display_data",
          "data": {
            "text/html": [
              "<pre>+--------------------------------+------------+</pre>"
            ],
            "text/plain": [
              "+--------------------------------+------------+"
            ]
          },
          "metadata": {
            "tags": []
          }
        },
        {
          "output_type": "display_data",
          "data": {
            "text/html": [
              "<pre>| Elapsed Time (Item Statistics) | % Complete |</pre>"
            ],
            "text/plain": [
              "| Elapsed Time (Item Statistics) | % Complete |"
            ]
          },
          "metadata": {
            "tags": []
          }
        },
        {
          "output_type": "display_data",
          "data": {
            "text/html": [
              "<pre>+--------------------------------+------------+</pre>"
            ],
            "text/plain": [
              "+--------------------------------+------------+"
            ]
          },
          "metadata": {
            "tags": []
          }
        },
        {
          "output_type": "display_data",
          "data": {
            "text/html": [
              "<pre>| 8.183ms                        | 100        |</pre>"
            ],
            "text/plain": [
              "| 8.183ms                        | 100        |"
            ]
          },
          "metadata": {
            "tags": []
          }
        },
        {
          "output_type": "display_data",
          "data": {
            "text/html": [
              "<pre>+--------------------------------+------------+</pre>"
            ],
            "text/plain": [
              "+--------------------------------+------------+"
            ]
          },
          "metadata": {
            "tags": []
          }
        },
        {
          "output_type": "display_data",
          "data": {
            "text/html": [
              "<pre>Setting up lookup tables.</pre>"
            ],
            "text/plain": [
              "Setting up lookup tables."
            ]
          },
          "metadata": {
            "tags": []
          }
        },
        {
          "output_type": "display_data",
          "data": {
            "text/html": [
              "<pre>Processing data in one pass using dense lookup tables.</pre>"
            ],
            "text/plain": [
              "Processing data in one pass using dense lookup tables."
            ]
          },
          "metadata": {
            "tags": []
          }
        },
        {
          "output_type": "display_data",
          "data": {
            "text/html": [
              "<pre>+-------------------------------------+------------------+-----------------+</pre>"
            ],
            "text/plain": [
              "+-------------------------------------+------------------+-----------------+"
            ]
          },
          "metadata": {
            "tags": []
          }
        },
        {
          "output_type": "display_data",
          "data": {
            "text/html": [
              "<pre>| Elapsed Time (Constructing Lookups) | Total % Complete | Items Processed |</pre>"
            ],
            "text/plain": [
              "| Elapsed Time (Constructing Lookups) | Total % Complete | Items Processed |"
            ]
          },
          "metadata": {
            "tags": []
          }
        },
        {
          "output_type": "display_data",
          "data": {
            "text/html": [
              "<pre>+-------------------------------------+------------------+-----------------+</pre>"
            ],
            "text/plain": [
              "+-------------------------------------+------------------+-----------------+"
            ]
          },
          "metadata": {
            "tags": []
          }
        },
        {
          "output_type": "display_data",
          "data": {
            "text/html": [
              "<pre>| 15.677ms                            | 4                | 58              |</pre>"
            ],
            "text/plain": [
              "| 15.677ms                            | 4                | 58              |"
            ]
          },
          "metadata": {
            "tags": []
          }
        },
        {
          "output_type": "display_data",
          "data": {
            "text/html": [
              "<pre>| 445.919ms                           | 100              | 1434            |</pre>"
            ],
            "text/plain": [
              "| 445.919ms                           | 100              | 1434            |"
            ]
          },
          "metadata": {
            "tags": []
          }
        },
        {
          "output_type": "display_data",
          "data": {
            "text/html": [
              "<pre>+-------------------------------------+------------------+-----------------+</pre>"
            ],
            "text/plain": [
              "+-------------------------------------+------------------+-----------------+"
            ]
          },
          "metadata": {
            "tags": []
          }
        },
        {
          "output_type": "display_data",
          "data": {
            "text/html": [
              "<pre>Finalizing lookup tables.</pre>"
            ],
            "text/plain": [
              "Finalizing lookup tables."
            ]
          },
          "metadata": {
            "tags": []
          }
        },
        {
          "output_type": "display_data",
          "data": {
            "text/html": [
              "<pre>Generating candidate set for working with new users.</pre>"
            ],
            "text/plain": [
              "Generating candidate set for working with new users."
            ]
          },
          "metadata": {
            "tags": []
          }
        },
        {
          "output_type": "display_data",
          "data": {
            "text/html": [
              "<pre>Finished training in 0.454209s</pre>"
            ],
            "text/plain": [
              "Finished training in 0.454209s"
            ]
          },
          "metadata": {
            "tags": []
          }
        },
        {
          "output_type": "display_data",
          "data": {
            "text/html": [
              "<pre>recommendations finished on 1000/35627 queries. users per second: 1213.66</pre>"
            ],
            "text/plain": [
              "recommendations finished on 1000/35627 queries. users per second: 1213.66"
            ]
          },
          "metadata": {
            "tags": []
          }
        },
        {
          "output_type": "display_data",
          "data": {
            "text/html": [
              "<pre>recommendations finished on 2000/35627 queries. users per second: 1267.87</pre>"
            ],
            "text/plain": [
              "recommendations finished on 2000/35627 queries. users per second: 1267.87"
            ]
          },
          "metadata": {
            "tags": []
          }
        },
        {
          "output_type": "display_data",
          "data": {
            "text/html": [
              "<pre>recommendations finished on 3000/35627 queries. users per second: 1302.01</pre>"
            ],
            "text/plain": [
              "recommendations finished on 3000/35627 queries. users per second: 1302.01"
            ]
          },
          "metadata": {
            "tags": []
          }
        },
        {
          "output_type": "display_data",
          "data": {
            "text/html": [
              "<pre>recommendations finished on 4000/35627 queries. users per second: 1351.89</pre>"
            ],
            "text/plain": [
              "recommendations finished on 4000/35627 queries. users per second: 1351.89"
            ]
          },
          "metadata": {
            "tags": []
          }
        },
        {
          "output_type": "display_data",
          "data": {
            "text/html": [
              "<pre>recommendations finished on 5000/35627 queries. users per second: 1395.7</pre>"
            ],
            "text/plain": [
              "recommendations finished on 5000/35627 queries. users per second: 1395.7"
            ]
          },
          "metadata": {
            "tags": []
          }
        },
        {
          "output_type": "display_data",
          "data": {
            "text/html": [
              "<pre>recommendations finished on 6000/35627 queries. users per second: 1426.65</pre>"
            ],
            "text/plain": [
              "recommendations finished on 6000/35627 queries. users per second: 1426.65"
            ]
          },
          "metadata": {
            "tags": []
          }
        },
        {
          "output_type": "display_data",
          "data": {
            "text/html": [
              "<pre>recommendations finished on 7000/35627 queries. users per second: 1452.8</pre>"
            ],
            "text/plain": [
              "recommendations finished on 7000/35627 queries. users per second: 1452.8"
            ]
          },
          "metadata": {
            "tags": []
          }
        },
        {
          "output_type": "display_data",
          "data": {
            "text/html": [
              "<pre>recommendations finished on 8000/35627 queries. users per second: 1470.83</pre>"
            ],
            "text/plain": [
              "recommendations finished on 8000/35627 queries. users per second: 1470.83"
            ]
          },
          "metadata": {
            "tags": []
          }
        },
        {
          "output_type": "display_data",
          "data": {
            "text/html": [
              "<pre>recommendations finished on 9000/35627 queries. users per second: 1486.9</pre>"
            ],
            "text/plain": [
              "recommendations finished on 9000/35627 queries. users per second: 1486.9"
            ]
          },
          "metadata": {
            "tags": []
          }
        },
        {
          "output_type": "display_data",
          "data": {
            "text/html": [
              "<pre>recommendations finished on 10000/35627 queries. users per second: 1464.98</pre>"
            ],
            "text/plain": [
              "recommendations finished on 10000/35627 queries. users per second: 1464.98"
            ]
          },
          "metadata": {
            "tags": []
          }
        },
        {
          "output_type": "display_data",
          "data": {
            "text/html": [
              "<pre>recommendations finished on 11000/35627 queries. users per second: 1448.16</pre>"
            ],
            "text/plain": [
              "recommendations finished on 11000/35627 queries. users per second: 1448.16"
            ]
          },
          "metadata": {
            "tags": []
          }
        },
        {
          "output_type": "display_data",
          "data": {
            "text/html": [
              "<pre>recommendations finished on 12000/35627 queries. users per second: 1438.23</pre>"
            ],
            "text/plain": [
              "recommendations finished on 12000/35627 queries. users per second: 1438.23"
            ]
          },
          "metadata": {
            "tags": []
          }
        },
        {
          "output_type": "display_data",
          "data": {
            "text/html": [
              "<pre>recommendations finished on 13000/35627 queries. users per second: 1439.25</pre>"
            ],
            "text/plain": [
              "recommendations finished on 13000/35627 queries. users per second: 1439.25"
            ]
          },
          "metadata": {
            "tags": []
          }
        },
        {
          "output_type": "display_data",
          "data": {
            "text/html": [
              "<pre>recommendations finished on 14000/35627 queries. users per second: 1450.04</pre>"
            ],
            "text/plain": [
              "recommendations finished on 14000/35627 queries. users per second: 1450.04"
            ]
          },
          "metadata": {
            "tags": []
          }
        },
        {
          "output_type": "display_data",
          "data": {
            "text/html": [
              "<pre>recommendations finished on 15000/35627 queries. users per second: 1459.31</pre>"
            ],
            "text/plain": [
              "recommendations finished on 15000/35627 queries. users per second: 1459.31"
            ]
          },
          "metadata": {
            "tags": []
          }
        },
        {
          "output_type": "display_data",
          "data": {
            "text/html": [
              "<pre>recommendations finished on 16000/35627 queries. users per second: 1468.57</pre>"
            ],
            "text/plain": [
              "recommendations finished on 16000/35627 queries. users per second: 1468.57"
            ]
          },
          "metadata": {
            "tags": []
          }
        },
        {
          "output_type": "display_data",
          "data": {
            "text/html": [
              "<pre>recommendations finished on 17000/35627 queries. users per second: 1472.93</pre>"
            ],
            "text/plain": [
              "recommendations finished on 17000/35627 queries. users per second: 1472.93"
            ]
          },
          "metadata": {
            "tags": []
          }
        },
        {
          "output_type": "display_data",
          "data": {
            "text/html": [
              "<pre>recommendations finished on 18000/35627 queries. users per second: 1480.37</pre>"
            ],
            "text/plain": [
              "recommendations finished on 18000/35627 queries. users per second: 1480.37"
            ]
          },
          "metadata": {
            "tags": []
          }
        },
        {
          "output_type": "display_data",
          "data": {
            "text/html": [
              "<pre>recommendations finished on 19000/35627 queries. users per second: 1486.7</pre>"
            ],
            "text/plain": [
              "recommendations finished on 19000/35627 queries. users per second: 1486.7"
            ]
          },
          "metadata": {
            "tags": []
          }
        },
        {
          "output_type": "display_data",
          "data": {
            "text/html": [
              "<pre>recommendations finished on 20000/35627 queries. users per second: 1492.09</pre>"
            ],
            "text/plain": [
              "recommendations finished on 20000/35627 queries. users per second: 1492.09"
            ]
          },
          "metadata": {
            "tags": []
          }
        },
        {
          "output_type": "display_data",
          "data": {
            "text/html": [
              "<pre>recommendations finished on 21000/35627 queries. users per second: 1496.39</pre>"
            ],
            "text/plain": [
              "recommendations finished on 21000/35627 queries. users per second: 1496.39"
            ]
          },
          "metadata": {
            "tags": []
          }
        },
        {
          "output_type": "display_data",
          "data": {
            "text/html": [
              "<pre>recommendations finished on 22000/35627 queries. users per second: 1502.18</pre>"
            ],
            "text/plain": [
              "recommendations finished on 22000/35627 queries. users per second: 1502.18"
            ]
          },
          "metadata": {
            "tags": []
          }
        },
        {
          "output_type": "display_data",
          "data": {
            "text/html": [
              "<pre>recommendations finished on 23000/35627 queries. users per second: 1508.37</pre>"
            ],
            "text/plain": [
              "recommendations finished on 23000/35627 queries. users per second: 1508.37"
            ]
          },
          "metadata": {
            "tags": []
          }
        },
        {
          "output_type": "display_data",
          "data": {
            "text/html": [
              "<pre>recommendations finished on 24000/35627 queries. users per second: 1513.6</pre>"
            ],
            "text/plain": [
              "recommendations finished on 24000/35627 queries. users per second: 1513.6"
            ]
          },
          "metadata": {
            "tags": []
          }
        },
        {
          "output_type": "display_data",
          "data": {
            "text/html": [
              "<pre>recommendations finished on 25000/35627 queries. users per second: 1518.35</pre>"
            ],
            "text/plain": [
              "recommendations finished on 25000/35627 queries. users per second: 1518.35"
            ]
          },
          "metadata": {
            "tags": []
          }
        },
        {
          "output_type": "display_data",
          "data": {
            "text/html": [
              "<pre>recommendations finished on 26000/35627 queries. users per second: 1523.42</pre>"
            ],
            "text/plain": [
              "recommendations finished on 26000/35627 queries. users per second: 1523.42"
            ]
          },
          "metadata": {
            "tags": []
          }
        },
        {
          "output_type": "display_data",
          "data": {
            "text/html": [
              "<pre>recommendations finished on 27000/35627 queries. users per second: 1526.8</pre>"
            ],
            "text/plain": [
              "recommendations finished on 27000/35627 queries. users per second: 1526.8"
            ]
          },
          "metadata": {
            "tags": []
          }
        },
        {
          "output_type": "display_data",
          "data": {
            "text/html": [
              "<pre>recommendations finished on 28000/35627 queries. users per second: 1529.66</pre>"
            ],
            "text/plain": [
              "recommendations finished on 28000/35627 queries. users per second: 1529.66"
            ]
          },
          "metadata": {
            "tags": []
          }
        },
        {
          "output_type": "display_data",
          "data": {
            "text/html": [
              "<pre>recommendations finished on 29000/35627 queries. users per second: 1532.64</pre>"
            ],
            "text/plain": [
              "recommendations finished on 29000/35627 queries. users per second: 1532.64"
            ]
          },
          "metadata": {
            "tags": []
          }
        },
        {
          "output_type": "display_data",
          "data": {
            "text/html": [
              "<pre>recommendations finished on 30000/35627 queries. users per second: 1535.29</pre>"
            ],
            "text/plain": [
              "recommendations finished on 30000/35627 queries. users per second: 1535.29"
            ]
          },
          "metadata": {
            "tags": []
          }
        },
        {
          "output_type": "display_data",
          "data": {
            "text/html": [
              "<pre>recommendations finished on 31000/35627 queries. users per second: 1538.65</pre>"
            ],
            "text/plain": [
              "recommendations finished on 31000/35627 queries. users per second: 1538.65"
            ]
          },
          "metadata": {
            "tags": []
          }
        },
        {
          "output_type": "display_data",
          "data": {
            "text/html": [
              "<pre>recommendations finished on 32000/35627 queries. users per second: 1541.51</pre>"
            ],
            "text/plain": [
              "recommendations finished on 32000/35627 queries. users per second: 1541.51"
            ]
          },
          "metadata": {
            "tags": []
          }
        },
        {
          "output_type": "display_data",
          "data": {
            "text/html": [
              "<pre>recommendations finished on 33000/35627 queries. users per second: 1545.04</pre>"
            ],
            "text/plain": [
              "recommendations finished on 33000/35627 queries. users per second: 1545.04"
            ]
          },
          "metadata": {
            "tags": []
          }
        },
        {
          "output_type": "display_data",
          "data": {
            "text/html": [
              "<pre>recommendations finished on 34000/35627 queries. users per second: 1547.88</pre>"
            ],
            "text/plain": [
              "recommendations finished on 34000/35627 queries. users per second: 1547.88"
            ]
          },
          "metadata": {
            "tags": []
          }
        },
        {
          "output_type": "display_data",
          "data": {
            "text/html": [
              "<pre>recommendations finished on 35000/35627 queries. users per second: 1537.13</pre>"
            ],
            "text/plain": [
              "recommendations finished on 35000/35627 queries. users per second: 1537.13"
            ]
          },
          "metadata": {
            "tags": []
          }
        },
        {
          "output_type": "stream",
          "text": [
            "+---------+----------------+--------------------+------+\n",
            "| user_id | product_number |       score        | rank |\n",
            "+---------+----------------+--------------------+------+\n",
            "|   1184  |      940       | 53.07105083843912  |  1   |\n",
            "|   1184  |      1079      | 37.63439927826642  |  2   |\n",
            "|   1184  |      1271      | 33.07799235203464  |  3   |\n",
            "|   1184  |      1284      |  27.4561670983355  |  4   |\n",
            "|   1184  |      1265      | 9.723800906907867  |  5   |\n",
            "|   1184  |      1428      |    8.076969219     |  6   |\n",
            "|   1184  |      301       | 7.594707648823669  |  7   |\n",
            "|   1184  |      1425      |    7.481994656     |  8   |\n",
            "|   1184  |      1051      | 7.4363335311378185 |  9   |\n",
            "|   1184  |      1430      | 7.393778212000001  |  10  |\n",
            "+---------+----------------+--------------------+------+\n",
            "[356270 rows x 4 columns]\n",
            "\n"
          ],
          "name": "stdout"
        }
      ]
    },
    {
      "cell_type": "code",
      "metadata": {
        "id": "H3dfuv8io_vi",
        "colab": {
          "base_uri": "https://localhost:8080/",
          "height": 1000
        },
        "outputId": "43e97fc7-eb38-4e50-eb7d-53bb55f5a100"
      },
      "source": [
        "name = 'pearson'\n",
        "target = 'purchase_dummy'\n",
        "pear_dummy = model(train_data_dummy, name, user_id, item_id, target, users_to_recommend, n_rec, n_display)"
      ],
      "execution_count": null,
      "outputs": [
        {
          "output_type": "display_data",
          "data": {
            "text/html": [
              "<pre>Warning: Ignoring columns distance, product_purchase_count, multiplication_distance_Productcount, summation_distance_Productcount_demo, distance (root), root value, summation_distance_Productcount, summation_distance_Productcount.1;</pre>"
            ],
            "text/plain": [
              "Warning: Ignoring columns distance, product_purchase_count, multiplication_distance_Productcount, summation_distance_Productcount_demo, distance (root), root value, summation_distance_Productcount, summation_distance_Productcount.1;"
            ]
          },
          "metadata": {
            "tags": []
          }
        },
        {
          "output_type": "display_data",
          "data": {
            "text/html": [
              "<pre>    To use these columns in scoring predictions, use a model that allows the use of additional features.</pre>"
            ],
            "text/plain": [
              "    To use these columns in scoring predictions, use a model that allows the use of additional features."
            ]
          },
          "metadata": {
            "tags": []
          }
        },
        {
          "output_type": "display_data",
          "data": {
            "text/html": [
              "<pre>Preparing data set.</pre>"
            ],
            "text/plain": [
              "Preparing data set."
            ]
          },
          "metadata": {
            "tags": []
          }
        },
        {
          "output_type": "display_data",
          "data": {
            "text/html": [
              "<pre>    Data has 28501 observations with 25 users and 1431 items.</pre>"
            ],
            "text/plain": [
              "    Data has 28501 observations with 25 users and 1431 items."
            ]
          },
          "metadata": {
            "tags": []
          }
        },
        {
          "output_type": "display_data",
          "data": {
            "text/html": [
              "<pre>    Data prepared in: 0.040515s</pre>"
            ],
            "text/plain": [
              "    Data prepared in: 0.040515s"
            ]
          },
          "metadata": {
            "tags": []
          }
        },
        {
          "output_type": "display_data",
          "data": {
            "text/html": [
              "<pre>Training model from provided data.</pre>"
            ],
            "text/plain": [
              "Training model from provided data."
            ]
          },
          "metadata": {
            "tags": []
          }
        },
        {
          "output_type": "display_data",
          "data": {
            "text/html": [
              "<pre>Gathering per-item and per-user statistics.</pre>"
            ],
            "text/plain": [
              "Gathering per-item and per-user statistics."
            ]
          },
          "metadata": {
            "tags": []
          }
        },
        {
          "output_type": "display_data",
          "data": {
            "text/html": [
              "<pre>+--------------------------------+------------+</pre>"
            ],
            "text/plain": [
              "+--------------------------------+------------+"
            ]
          },
          "metadata": {
            "tags": []
          }
        },
        {
          "output_type": "display_data",
          "data": {
            "text/html": [
              "<pre>| Elapsed Time (Item Statistics) | % Complete |</pre>"
            ],
            "text/plain": [
              "| Elapsed Time (Item Statistics) | % Complete |"
            ]
          },
          "metadata": {
            "tags": []
          }
        },
        {
          "output_type": "display_data",
          "data": {
            "text/html": [
              "<pre>+--------------------------------+------------+</pre>"
            ],
            "text/plain": [
              "+--------------------------------+------------+"
            ]
          },
          "metadata": {
            "tags": []
          }
        },
        {
          "output_type": "display_data",
          "data": {
            "text/html": [
              "<pre>| 3.376ms                        | 100        |</pre>"
            ],
            "text/plain": [
              "| 3.376ms                        | 100        |"
            ]
          },
          "metadata": {
            "tags": []
          }
        },
        {
          "output_type": "display_data",
          "data": {
            "text/html": [
              "<pre>+--------------------------------+------------+</pre>"
            ],
            "text/plain": [
              "+--------------------------------+------------+"
            ]
          },
          "metadata": {
            "tags": []
          }
        },
        {
          "output_type": "display_data",
          "data": {
            "text/html": [
              "<pre>Setting up lookup tables.</pre>"
            ],
            "text/plain": [
              "Setting up lookup tables."
            ]
          },
          "metadata": {
            "tags": []
          }
        },
        {
          "output_type": "display_data",
          "data": {
            "text/html": [
              "<pre>Processing data in one pass using dense lookup tables.</pre>"
            ],
            "text/plain": [
              "Processing data in one pass using dense lookup tables."
            ]
          },
          "metadata": {
            "tags": []
          }
        },
        {
          "output_type": "display_data",
          "data": {
            "text/html": [
              "<pre>+-------------------------------------+------------------+-----------------+</pre>"
            ],
            "text/plain": [
              "+-------------------------------------+------------------+-----------------+"
            ]
          },
          "metadata": {
            "tags": []
          }
        },
        {
          "output_type": "display_data",
          "data": {
            "text/html": [
              "<pre>| Elapsed Time (Constructing Lookups) | Total % Complete | Items Processed |</pre>"
            ],
            "text/plain": [
              "| Elapsed Time (Constructing Lookups) | Total % Complete | Items Processed |"
            ]
          },
          "metadata": {
            "tags": []
          }
        },
        {
          "output_type": "display_data",
          "data": {
            "text/html": [
              "<pre>+-------------------------------------+------------------+-----------------+</pre>"
            ],
            "text/plain": [
              "+-------------------------------------+------------------+-----------------+"
            ]
          },
          "metadata": {
            "tags": []
          }
        },
        {
          "output_type": "display_data",
          "data": {
            "text/html": [
              "<pre>| 7.371ms                             | 3.75             | 56              |</pre>"
            ],
            "text/plain": [
              "| 7.371ms                             | 3.75             | 56              |"
            ]
          },
          "metadata": {
            "tags": []
          }
        },
        {
          "output_type": "display_data",
          "data": {
            "text/html": [
              "<pre>| 447.402ms                           | 100              | 1431            |</pre>"
            ],
            "text/plain": [
              "| 447.402ms                           | 100              | 1431            |"
            ]
          },
          "metadata": {
            "tags": []
          }
        },
        {
          "output_type": "display_data",
          "data": {
            "text/html": [
              "<pre>+-------------------------------------+------------------+-----------------+</pre>"
            ],
            "text/plain": [
              "+-------------------------------------+------------------+-----------------+"
            ]
          },
          "metadata": {
            "tags": []
          }
        },
        {
          "output_type": "display_data",
          "data": {
            "text/html": [
              "<pre>Finalizing lookup tables.</pre>"
            ],
            "text/plain": [
              "Finalizing lookup tables."
            ]
          },
          "metadata": {
            "tags": []
          }
        },
        {
          "output_type": "display_data",
          "data": {
            "text/html": [
              "<pre>Generating candidate set for working with new users.</pre>"
            ],
            "text/plain": [
              "Generating candidate set for working with new users."
            ]
          },
          "metadata": {
            "tags": []
          }
        },
        {
          "output_type": "display_data",
          "data": {
            "text/html": [
              "<pre>Finished training in 0.451913s</pre>"
            ],
            "text/plain": [
              "Finished training in 0.451913s"
            ]
          },
          "metadata": {
            "tags": []
          }
        },
        {
          "output_type": "display_data",
          "data": {
            "text/html": [
              "<pre>recommendations finished on 1000/35627 queries. users per second: 48607.4</pre>"
            ],
            "text/plain": [
              "recommendations finished on 1000/35627 queries. users per second: 48607.4"
            ]
          },
          "metadata": {
            "tags": []
          }
        },
        {
          "output_type": "display_data",
          "data": {
            "text/html": [
              "<pre>recommendations finished on 2000/35627 queries. users per second: 45001.5</pre>"
            ],
            "text/plain": [
              "recommendations finished on 2000/35627 queries. users per second: 45001.5"
            ]
          },
          "metadata": {
            "tags": []
          }
        },
        {
          "output_type": "display_data",
          "data": {
            "text/html": [
              "<pre>recommendations finished on 3000/35627 queries. users per second: 44837.7</pre>"
            ],
            "text/plain": [
              "recommendations finished on 3000/35627 queries. users per second: 44837.7"
            ]
          },
          "metadata": {
            "tags": []
          }
        },
        {
          "output_type": "display_data",
          "data": {
            "text/html": [
              "<pre>recommendations finished on 4000/35627 queries. users per second: 44606</pre>"
            ],
            "text/plain": [
              "recommendations finished on 4000/35627 queries. users per second: 44606"
            ]
          },
          "metadata": {
            "tags": []
          }
        },
        {
          "output_type": "display_data",
          "data": {
            "text/html": [
              "<pre>recommendations finished on 5000/35627 queries. users per second: 44650</pre>"
            ],
            "text/plain": [
              "recommendations finished on 5000/35627 queries. users per second: 44650"
            ]
          },
          "metadata": {
            "tags": []
          }
        },
        {
          "output_type": "display_data",
          "data": {
            "text/html": [
              "<pre>recommendations finished on 6000/35627 queries. users per second: 44782.8</pre>"
            ],
            "text/plain": [
              "recommendations finished on 6000/35627 queries. users per second: 44782.8"
            ]
          },
          "metadata": {
            "tags": []
          }
        },
        {
          "output_type": "display_data",
          "data": {
            "text/html": [
              "<pre>recommendations finished on 7000/35627 queries. users per second: 44441.1</pre>"
            ],
            "text/plain": [
              "recommendations finished on 7000/35627 queries. users per second: 44441.1"
            ]
          },
          "metadata": {
            "tags": []
          }
        },
        {
          "output_type": "display_data",
          "data": {
            "text/html": [
              "<pre>recommendations finished on 8000/35627 queries. users per second: 44565</pre>"
            ],
            "text/plain": [
              "recommendations finished on 8000/35627 queries. users per second: 44565"
            ]
          },
          "metadata": {
            "tags": []
          }
        },
        {
          "output_type": "display_data",
          "data": {
            "text/html": [
              "<pre>recommendations finished on 9000/35627 queries. users per second: 42971.9</pre>"
            ],
            "text/plain": [
              "recommendations finished on 9000/35627 queries. users per second: 42971.9"
            ]
          },
          "metadata": {
            "tags": []
          }
        },
        {
          "output_type": "display_data",
          "data": {
            "text/html": [
              "<pre>recommendations finished on 10000/35627 queries. users per second: 43158.3</pre>"
            ],
            "text/plain": [
              "recommendations finished on 10000/35627 queries. users per second: 43158.3"
            ]
          },
          "metadata": {
            "tags": []
          }
        },
        {
          "output_type": "display_data",
          "data": {
            "text/html": [
              "<pre>recommendations finished on 11000/35627 queries. users per second: 43151.1</pre>"
            ],
            "text/plain": [
              "recommendations finished on 11000/35627 queries. users per second: 43151.1"
            ]
          },
          "metadata": {
            "tags": []
          }
        },
        {
          "output_type": "display_data",
          "data": {
            "text/html": [
              "<pre>recommendations finished on 12000/35627 queries. users per second: 43293</pre>"
            ],
            "text/plain": [
              "recommendations finished on 12000/35627 queries. users per second: 43293"
            ]
          },
          "metadata": {
            "tags": []
          }
        },
        {
          "output_type": "display_data",
          "data": {
            "text/html": [
              "<pre>recommendations finished on 13000/35627 queries. users per second: 43284.6</pre>"
            ],
            "text/plain": [
              "recommendations finished on 13000/35627 queries. users per second: 43284.6"
            ]
          },
          "metadata": {
            "tags": []
          }
        },
        {
          "output_type": "display_data",
          "data": {
            "text/html": [
              "<pre>recommendations finished on 14000/35627 queries. users per second: 43261.8</pre>"
            ],
            "text/plain": [
              "recommendations finished on 14000/35627 queries. users per second: 43261.8"
            ]
          },
          "metadata": {
            "tags": []
          }
        },
        {
          "output_type": "display_data",
          "data": {
            "text/html": [
              "<pre>recommendations finished on 15000/35627 queries. users per second: 43512.3</pre>"
            ],
            "text/plain": [
              "recommendations finished on 15000/35627 queries. users per second: 43512.3"
            ]
          },
          "metadata": {
            "tags": []
          }
        },
        {
          "output_type": "display_data",
          "data": {
            "text/html": [
              "<pre>recommendations finished on 16000/35627 queries. users per second: 43595.1</pre>"
            ],
            "text/plain": [
              "recommendations finished on 16000/35627 queries. users per second: 43595.1"
            ]
          },
          "metadata": {
            "tags": []
          }
        },
        {
          "output_type": "display_data",
          "data": {
            "text/html": [
              "<pre>recommendations finished on 17000/35627 queries. users per second: 42842.8</pre>"
            ],
            "text/plain": [
              "recommendations finished on 17000/35627 queries. users per second: 42842.8"
            ]
          },
          "metadata": {
            "tags": []
          }
        },
        {
          "output_type": "display_data",
          "data": {
            "text/html": [
              "<pre>recommendations finished on 18000/35627 queries. users per second: 42363.2</pre>"
            ],
            "text/plain": [
              "recommendations finished on 18000/35627 queries. users per second: 42363.2"
            ]
          },
          "metadata": {
            "tags": []
          }
        },
        {
          "output_type": "display_data",
          "data": {
            "text/html": [
              "<pre>recommendations finished on 19000/35627 queries. users per second: 40043.6</pre>"
            ],
            "text/plain": [
              "recommendations finished on 19000/35627 queries. users per second: 40043.6"
            ]
          },
          "metadata": {
            "tags": []
          }
        },
        {
          "output_type": "display_data",
          "data": {
            "text/html": [
              "<pre>recommendations finished on 20000/35627 queries. users per second: 33045.1</pre>"
            ],
            "text/plain": [
              "recommendations finished on 20000/35627 queries. users per second: 33045.1"
            ]
          },
          "metadata": {
            "tags": []
          }
        },
        {
          "output_type": "display_data",
          "data": {
            "text/html": [
              "<pre>recommendations finished on 21000/35627 queries. users per second: 26410.5</pre>"
            ],
            "text/plain": [
              "recommendations finished on 21000/35627 queries. users per second: 26410.5"
            ]
          },
          "metadata": {
            "tags": []
          }
        },
        {
          "output_type": "display_data",
          "data": {
            "text/html": [
              "<pre>recommendations finished on 22000/35627 queries. users per second: 22248.6</pre>"
            ],
            "text/plain": [
              "recommendations finished on 22000/35627 queries. users per second: 22248.6"
            ]
          },
          "metadata": {
            "tags": []
          }
        },
        {
          "output_type": "display_data",
          "data": {
            "text/html": [
              "<pre>recommendations finished on 23000/35627 queries. users per second: 22254.9</pre>"
            ],
            "text/plain": [
              "recommendations finished on 23000/35627 queries. users per second: 22254.9"
            ]
          },
          "metadata": {
            "tags": []
          }
        },
        {
          "output_type": "display_data",
          "data": {
            "text/html": [
              "<pre>recommendations finished on 24000/35627 queries. users per second: 22733.1</pre>"
            ],
            "text/plain": [
              "recommendations finished on 24000/35627 queries. users per second: 22733.1"
            ]
          },
          "metadata": {
            "tags": []
          }
        },
        {
          "output_type": "display_data",
          "data": {
            "text/html": [
              "<pre>recommendations finished on 25000/35627 queries. users per second: 23214.6</pre>"
            ],
            "text/plain": [
              "recommendations finished on 25000/35627 queries. users per second: 23214.6"
            ]
          },
          "metadata": {
            "tags": []
          }
        },
        {
          "output_type": "display_data",
          "data": {
            "text/html": [
              "<pre>recommendations finished on 26000/35627 queries. users per second: 23596.2</pre>"
            ],
            "text/plain": [
              "recommendations finished on 26000/35627 queries. users per second: 23596.2"
            ]
          },
          "metadata": {
            "tags": []
          }
        },
        {
          "output_type": "display_data",
          "data": {
            "text/html": [
              "<pre>recommendations finished on 27000/35627 queries. users per second: 23975.9</pre>"
            ],
            "text/plain": [
              "recommendations finished on 27000/35627 queries. users per second: 23975.9"
            ]
          },
          "metadata": {
            "tags": []
          }
        },
        {
          "output_type": "display_data",
          "data": {
            "text/html": [
              "<pre>recommendations finished on 28000/35627 queries. users per second: 24391.1</pre>"
            ],
            "text/plain": [
              "recommendations finished on 28000/35627 queries. users per second: 24391.1"
            ]
          },
          "metadata": {
            "tags": []
          }
        },
        {
          "output_type": "display_data",
          "data": {
            "text/html": [
              "<pre>recommendations finished on 29000/35627 queries. users per second: 24509.8</pre>"
            ],
            "text/plain": [
              "recommendations finished on 29000/35627 queries. users per second: 24509.8"
            ]
          },
          "metadata": {
            "tags": []
          }
        },
        {
          "output_type": "display_data",
          "data": {
            "text/html": [
              "<pre>recommendations finished on 30000/35627 queries. users per second: 24599</pre>"
            ],
            "text/plain": [
              "recommendations finished on 30000/35627 queries. users per second: 24599"
            ]
          },
          "metadata": {
            "tags": []
          }
        },
        {
          "output_type": "display_data",
          "data": {
            "text/html": [
              "<pre>recommendations finished on 31000/35627 queries. users per second: 24191.8</pre>"
            ],
            "text/plain": [
              "recommendations finished on 31000/35627 queries. users per second: 24191.8"
            ]
          },
          "metadata": {
            "tags": []
          }
        },
        {
          "output_type": "display_data",
          "data": {
            "text/html": [
              "<pre>recommendations finished on 32000/35627 queries. users per second: 21616.4</pre>"
            ],
            "text/plain": [
              "recommendations finished on 32000/35627 queries. users per second: 21616.4"
            ]
          },
          "metadata": {
            "tags": []
          }
        },
        {
          "output_type": "display_data",
          "data": {
            "text/html": [
              "<pre>recommendations finished on 33000/35627 queries. users per second: 19804.1</pre>"
            ],
            "text/plain": [
              "recommendations finished on 33000/35627 queries. users per second: 19804.1"
            ]
          },
          "metadata": {
            "tags": []
          }
        },
        {
          "output_type": "display_data",
          "data": {
            "text/html": [
              "<pre>recommendations finished on 34000/35627 queries. users per second: 19348.1</pre>"
            ],
            "text/plain": [
              "recommendations finished on 34000/35627 queries. users per second: 19348.1"
            ]
          },
          "metadata": {
            "tags": []
          }
        },
        {
          "output_type": "display_data",
          "data": {
            "text/html": [
              "<pre>recommendations finished on 35000/35627 queries. users per second: 19626.9</pre>"
            ],
            "text/plain": [
              "recommendations finished on 35000/35627 queries. users per second: 19626.9"
            ]
          },
          "metadata": {
            "tags": []
          }
        },
        {
          "output_type": "stream",
          "text": [
            "+---------+----------------+-------+------+\n",
            "| user_id | product_number | score | rank |\n",
            "+---------+----------------+-------+------+\n",
            "|   1184  |      1416      |  0.0  |  1   |\n",
            "|   1184  |      1342      |  0.0  |  2   |\n",
            "|   1184  |      961       |  0.0  |  3   |\n",
            "|   1184  |      1067      |  0.0  |  4   |\n",
            "|   1184  |      841       |  0.0  |  5   |\n",
            "|   1184  |       43       |  0.0  |  6   |\n",
            "|   1184  |      450       |  0.0  |  7   |\n",
            "|   1184  |      565       |  0.0  |  8   |\n",
            "|   1184  |      814       |  0.0  |  9   |\n",
            "|   1184  |      736       |  0.0  |  10  |\n",
            "+---------+----------------+-------+------+\n",
            "[356270 rows x 4 columns]\n",
            "\n"
          ],
          "name": "stdout"
        }
      ]
    },
    {
      "cell_type": "code",
      "metadata": {
        "id": "pvhycW7YpB87",
        "colab": {
          "base_uri": "https://localhost:8080/",
          "height": 1000
        },
        "outputId": "032d9a5e-5a49-4906-8cda-e03d74705b23"
      },
      "source": [
        "name = 'pearson'\n",
        "target = 'scaled_distance_purchase_freq'\n",
        "pear_norm = model(train_data_norm, name, user_id, item_id, target, users_to_recommend, n_rec, n_display)"
      ],
      "execution_count": null,
      "outputs": [
        {
          "output_type": "display_data",
          "data": {
            "text/html": [
              "<pre>Preparing data set.</pre>"
            ],
            "text/plain": [
              "Preparing data set."
            ]
          },
          "metadata": {
            "tags": []
          }
        },
        {
          "output_type": "display_data",
          "data": {
            "text/html": [
              "<pre>    Data has 28494 observations with 25 users and 1425 items.</pre>"
            ],
            "text/plain": [
              "    Data has 28494 observations with 25 users and 1425 items."
            ]
          },
          "metadata": {
            "tags": []
          }
        },
        {
          "output_type": "display_data",
          "data": {
            "text/html": [
              "<pre>    Data prepared in: 0.038579s</pre>"
            ],
            "text/plain": [
              "    Data prepared in: 0.038579s"
            ]
          },
          "metadata": {
            "tags": []
          }
        },
        {
          "output_type": "display_data",
          "data": {
            "text/html": [
              "<pre>Training model from provided data.</pre>"
            ],
            "text/plain": [
              "Training model from provided data."
            ]
          },
          "metadata": {
            "tags": []
          }
        },
        {
          "output_type": "display_data",
          "data": {
            "text/html": [
              "<pre>Gathering per-item and per-user statistics.</pre>"
            ],
            "text/plain": [
              "Gathering per-item and per-user statistics."
            ]
          },
          "metadata": {
            "tags": []
          }
        },
        {
          "output_type": "display_data",
          "data": {
            "text/html": [
              "<pre>+--------------------------------+------------+</pre>"
            ],
            "text/plain": [
              "+--------------------------------+------------+"
            ]
          },
          "metadata": {
            "tags": []
          }
        },
        {
          "output_type": "display_data",
          "data": {
            "text/html": [
              "<pre>| Elapsed Time (Item Statistics) | % Complete |</pre>"
            ],
            "text/plain": [
              "| Elapsed Time (Item Statistics) | % Complete |"
            ]
          },
          "metadata": {
            "tags": []
          }
        },
        {
          "output_type": "display_data",
          "data": {
            "text/html": [
              "<pre>+--------------------------------+------------+</pre>"
            ],
            "text/plain": [
              "+--------------------------------+------------+"
            ]
          },
          "metadata": {
            "tags": []
          }
        },
        {
          "output_type": "display_data",
          "data": {
            "text/html": [
              "<pre>| 2.577ms                        | 100        |</pre>"
            ],
            "text/plain": [
              "| 2.577ms                        | 100        |"
            ]
          },
          "metadata": {
            "tags": []
          }
        },
        {
          "output_type": "display_data",
          "data": {
            "text/html": [
              "<pre>+--------------------------------+------------+</pre>"
            ],
            "text/plain": [
              "+--------------------------------+------------+"
            ]
          },
          "metadata": {
            "tags": []
          }
        },
        {
          "output_type": "display_data",
          "data": {
            "text/html": [
              "<pre>Setting up lookup tables.</pre>"
            ],
            "text/plain": [
              "Setting up lookup tables."
            ]
          },
          "metadata": {
            "tags": []
          }
        },
        {
          "output_type": "display_data",
          "data": {
            "text/html": [
              "<pre>Processing data in one pass using dense lookup tables.</pre>"
            ],
            "text/plain": [
              "Processing data in one pass using dense lookup tables."
            ]
          },
          "metadata": {
            "tags": []
          }
        },
        {
          "output_type": "display_data",
          "data": {
            "text/html": [
              "<pre>+-------------------------------------+------------------+-----------------+</pre>"
            ],
            "text/plain": [
              "+-------------------------------------+------------------+-----------------+"
            ]
          },
          "metadata": {
            "tags": []
          }
        },
        {
          "output_type": "display_data",
          "data": {
            "text/html": [
              "<pre>| Elapsed Time (Constructing Lookups) | Total % Complete | Items Processed |</pre>"
            ],
            "text/plain": [
              "| Elapsed Time (Constructing Lookups) | Total % Complete | Items Processed |"
            ]
          },
          "metadata": {
            "tags": []
          }
        },
        {
          "output_type": "display_data",
          "data": {
            "text/html": [
              "<pre>+-------------------------------------+------------------+-----------------+</pre>"
            ],
            "text/plain": [
              "+-------------------------------------+------------------+-----------------+"
            ]
          },
          "metadata": {
            "tags": []
          }
        },
        {
          "output_type": "display_data",
          "data": {
            "text/html": [
              "<pre>| 6.098ms                             | 3.75             | 56              |</pre>"
            ],
            "text/plain": [
              "| 6.098ms                             | 3.75             | 56              |"
            ]
          },
          "metadata": {
            "tags": []
          }
        },
        {
          "output_type": "display_data",
          "data": {
            "text/html": [
              "<pre>| 451.14ms                            | 100              | 1425            |</pre>"
            ],
            "text/plain": [
              "| 451.14ms                            | 100              | 1425            |"
            ]
          },
          "metadata": {
            "tags": []
          }
        },
        {
          "output_type": "display_data",
          "data": {
            "text/html": [
              "<pre>+-------------------------------------+------------------+-----------------+</pre>"
            ],
            "text/plain": [
              "+-------------------------------------+------------------+-----------------+"
            ]
          },
          "metadata": {
            "tags": []
          }
        },
        {
          "output_type": "display_data",
          "data": {
            "text/html": [
              "<pre>Finalizing lookup tables.</pre>"
            ],
            "text/plain": [
              "Finalizing lookup tables."
            ]
          },
          "metadata": {
            "tags": []
          }
        },
        {
          "output_type": "display_data",
          "data": {
            "text/html": [
              "<pre>Generating candidate set for working with new users.</pre>"
            ],
            "text/plain": [
              "Generating candidate set for working with new users."
            ]
          },
          "metadata": {
            "tags": []
          }
        },
        {
          "output_type": "display_data",
          "data": {
            "text/html": [
              "<pre>Finished training in 0.461314s</pre>"
            ],
            "text/plain": [
              "Finished training in 0.461314s"
            ]
          },
          "metadata": {
            "tags": []
          }
        },
        {
          "output_type": "display_data",
          "data": {
            "text/html": [
              "<pre>recommendations finished on 1000/35627 queries. users per second: 1571.89</pre>"
            ],
            "text/plain": [
              "recommendations finished on 1000/35627 queries. users per second: 1571.89"
            ]
          },
          "metadata": {
            "tags": []
          }
        },
        {
          "output_type": "display_data",
          "data": {
            "text/html": [
              "<pre>recommendations finished on 2000/35627 queries. users per second: 1600.3</pre>"
            ],
            "text/plain": [
              "recommendations finished on 2000/35627 queries. users per second: 1600.3"
            ]
          },
          "metadata": {
            "tags": []
          }
        },
        {
          "output_type": "display_data",
          "data": {
            "text/html": [
              "<pre>recommendations finished on 3000/35627 queries. users per second: 1617.41</pre>"
            ],
            "text/plain": [
              "recommendations finished on 3000/35627 queries. users per second: 1617.41"
            ]
          },
          "metadata": {
            "tags": []
          }
        },
        {
          "output_type": "display_data",
          "data": {
            "text/html": [
              "<pre>recommendations finished on 4000/35627 queries. users per second: 1623.18</pre>"
            ],
            "text/plain": [
              "recommendations finished on 4000/35627 queries. users per second: 1623.18"
            ]
          },
          "metadata": {
            "tags": []
          }
        },
        {
          "output_type": "display_data",
          "data": {
            "text/html": [
              "<pre>recommendations finished on 5000/35627 queries. users per second: 1628.19</pre>"
            ],
            "text/plain": [
              "recommendations finished on 5000/35627 queries. users per second: 1628.19"
            ]
          },
          "metadata": {
            "tags": []
          }
        },
        {
          "output_type": "display_data",
          "data": {
            "text/html": [
              "<pre>recommendations finished on 6000/35627 queries. users per second: 1629.71</pre>"
            ],
            "text/plain": [
              "recommendations finished on 6000/35627 queries. users per second: 1629.71"
            ]
          },
          "metadata": {
            "tags": []
          }
        },
        {
          "output_type": "display_data",
          "data": {
            "text/html": [
              "<pre>recommendations finished on 7000/35627 queries. users per second: 1629.52</pre>"
            ],
            "text/plain": [
              "recommendations finished on 7000/35627 queries. users per second: 1629.52"
            ]
          },
          "metadata": {
            "tags": []
          }
        },
        {
          "output_type": "display_data",
          "data": {
            "text/html": [
              "<pre>recommendations finished on 8000/35627 queries. users per second: 1631.06</pre>"
            ],
            "text/plain": [
              "recommendations finished on 8000/35627 queries. users per second: 1631.06"
            ]
          },
          "metadata": {
            "tags": []
          }
        },
        {
          "output_type": "display_data",
          "data": {
            "text/html": [
              "<pre>recommendations finished on 9000/35627 queries. users per second: 1627.92</pre>"
            ],
            "text/plain": [
              "recommendations finished on 9000/35627 queries. users per second: 1627.92"
            ]
          },
          "metadata": {
            "tags": []
          }
        },
        {
          "output_type": "display_data",
          "data": {
            "text/html": [
              "<pre>recommendations finished on 10000/35627 queries. users per second: 1626.68</pre>"
            ],
            "text/plain": [
              "recommendations finished on 10000/35627 queries. users per second: 1626.68"
            ]
          },
          "metadata": {
            "tags": []
          }
        },
        {
          "output_type": "display_data",
          "data": {
            "text/html": [
              "<pre>recommendations finished on 11000/35627 queries. users per second: 1624.51</pre>"
            ],
            "text/plain": [
              "recommendations finished on 11000/35627 queries. users per second: 1624.51"
            ]
          },
          "metadata": {
            "tags": []
          }
        },
        {
          "output_type": "display_data",
          "data": {
            "text/html": [
              "<pre>recommendations finished on 12000/35627 queries. users per second: 1622.41</pre>"
            ],
            "text/plain": [
              "recommendations finished on 12000/35627 queries. users per second: 1622.41"
            ]
          },
          "metadata": {
            "tags": []
          }
        },
        {
          "output_type": "display_data",
          "data": {
            "text/html": [
              "<pre>recommendations finished on 13000/35627 queries. users per second: 1621.01</pre>"
            ],
            "text/plain": [
              "recommendations finished on 13000/35627 queries. users per second: 1621.01"
            ]
          },
          "metadata": {
            "tags": []
          }
        },
        {
          "output_type": "display_data",
          "data": {
            "text/html": [
              "<pre>recommendations finished on 14000/35627 queries. users per second: 1619.38</pre>"
            ],
            "text/plain": [
              "recommendations finished on 14000/35627 queries. users per second: 1619.38"
            ]
          },
          "metadata": {
            "tags": []
          }
        },
        {
          "output_type": "display_data",
          "data": {
            "text/html": [
              "<pre>recommendations finished on 15000/35627 queries. users per second: 1618.48</pre>"
            ],
            "text/plain": [
              "recommendations finished on 15000/35627 queries. users per second: 1618.48"
            ]
          },
          "metadata": {
            "tags": []
          }
        },
        {
          "output_type": "display_data",
          "data": {
            "text/html": [
              "<pre>recommendations finished on 16000/35627 queries. users per second: 1616.98</pre>"
            ],
            "text/plain": [
              "recommendations finished on 16000/35627 queries. users per second: 1616.98"
            ]
          },
          "metadata": {
            "tags": []
          }
        },
        {
          "output_type": "display_data",
          "data": {
            "text/html": [
              "<pre>recommendations finished on 17000/35627 queries. users per second: 1616.17</pre>"
            ],
            "text/plain": [
              "recommendations finished on 17000/35627 queries. users per second: 1616.17"
            ]
          },
          "metadata": {
            "tags": []
          }
        },
        {
          "output_type": "display_data",
          "data": {
            "text/html": [
              "<pre>recommendations finished on 18000/35627 queries. users per second: 1615.94</pre>"
            ],
            "text/plain": [
              "recommendations finished on 18000/35627 queries. users per second: 1615.94"
            ]
          },
          "metadata": {
            "tags": []
          }
        },
        {
          "output_type": "display_data",
          "data": {
            "text/html": [
              "<pre>recommendations finished on 19000/35627 queries. users per second: 1615.13</pre>"
            ],
            "text/plain": [
              "recommendations finished on 19000/35627 queries. users per second: 1615.13"
            ]
          },
          "metadata": {
            "tags": []
          }
        },
        {
          "output_type": "display_data",
          "data": {
            "text/html": [
              "<pre>recommendations finished on 20000/35627 queries. users per second: 1614.04</pre>"
            ],
            "text/plain": [
              "recommendations finished on 20000/35627 queries. users per second: 1614.04"
            ]
          },
          "metadata": {
            "tags": []
          }
        },
        {
          "output_type": "display_data",
          "data": {
            "text/html": [
              "<pre>recommendations finished on 21000/35627 queries. users per second: 1614.57</pre>"
            ],
            "text/plain": [
              "recommendations finished on 21000/35627 queries. users per second: 1614.57"
            ]
          },
          "metadata": {
            "tags": []
          }
        },
        {
          "output_type": "display_data",
          "data": {
            "text/html": [
              "<pre>recommendations finished on 22000/35627 queries. users per second: 1614.58</pre>"
            ],
            "text/plain": [
              "recommendations finished on 22000/35627 queries. users per second: 1614.58"
            ]
          },
          "metadata": {
            "tags": []
          }
        },
        {
          "output_type": "display_data",
          "data": {
            "text/html": [
              "<pre>recommendations finished on 23000/35627 queries. users per second: 1605.44</pre>"
            ],
            "text/plain": [
              "recommendations finished on 23000/35627 queries. users per second: 1605.44"
            ]
          },
          "metadata": {
            "tags": []
          }
        },
        {
          "output_type": "display_data",
          "data": {
            "text/html": [
              "<pre>recommendations finished on 24000/35627 queries. users per second: 1582.27</pre>"
            ],
            "text/plain": [
              "recommendations finished on 24000/35627 queries. users per second: 1582.27"
            ]
          },
          "metadata": {
            "tags": []
          }
        },
        {
          "output_type": "display_data",
          "data": {
            "text/html": [
              "<pre>recommendations finished on 25000/35627 queries. users per second: 1557.9</pre>"
            ],
            "text/plain": [
              "recommendations finished on 25000/35627 queries. users per second: 1557.9"
            ]
          },
          "metadata": {
            "tags": []
          }
        },
        {
          "output_type": "display_data",
          "data": {
            "text/html": [
              "<pre>recommendations finished on 26000/35627 queries. users per second: 1545.91</pre>"
            ],
            "text/plain": [
              "recommendations finished on 26000/35627 queries. users per second: 1545.91"
            ]
          },
          "metadata": {
            "tags": []
          }
        },
        {
          "output_type": "display_data",
          "data": {
            "text/html": [
              "<pre>recommendations finished on 27000/35627 queries. users per second: 1548.27</pre>"
            ],
            "text/plain": [
              "recommendations finished on 27000/35627 queries. users per second: 1548.27"
            ]
          },
          "metadata": {
            "tags": []
          }
        },
        {
          "output_type": "display_data",
          "data": {
            "text/html": [
              "<pre>recommendations finished on 28000/35627 queries. users per second: 1542.19</pre>"
            ],
            "text/plain": [
              "recommendations finished on 28000/35627 queries. users per second: 1542.19"
            ]
          },
          "metadata": {
            "tags": []
          }
        },
        {
          "output_type": "display_data",
          "data": {
            "text/html": [
              "<pre>recommendations finished on 29000/35627 queries. users per second: 1531.74</pre>"
            ],
            "text/plain": [
              "recommendations finished on 29000/35627 queries. users per second: 1531.74"
            ]
          },
          "metadata": {
            "tags": []
          }
        },
        {
          "output_type": "display_data",
          "data": {
            "text/html": [
              "<pre>recommendations finished on 30000/35627 queries. users per second: 1519.19</pre>"
            ],
            "text/plain": [
              "recommendations finished on 30000/35627 queries. users per second: 1519.19"
            ]
          },
          "metadata": {
            "tags": []
          }
        },
        {
          "output_type": "display_data",
          "data": {
            "text/html": [
              "<pre>recommendations finished on 31000/35627 queries. users per second: 1517.09</pre>"
            ],
            "text/plain": [
              "recommendations finished on 31000/35627 queries. users per second: 1517.09"
            ]
          },
          "metadata": {
            "tags": []
          }
        },
        {
          "output_type": "display_data",
          "data": {
            "text/html": [
              "<pre>recommendations finished on 32000/35627 queries. users per second: 1519.12</pre>"
            ],
            "text/plain": [
              "recommendations finished on 32000/35627 queries. users per second: 1519.12"
            ]
          },
          "metadata": {
            "tags": []
          }
        },
        {
          "output_type": "display_data",
          "data": {
            "text/html": [
              "<pre>recommendations finished on 33000/35627 queries. users per second: 1521.63</pre>"
            ],
            "text/plain": [
              "recommendations finished on 33000/35627 queries. users per second: 1521.63"
            ]
          },
          "metadata": {
            "tags": []
          }
        },
        {
          "output_type": "display_data",
          "data": {
            "text/html": [
              "<pre>recommendations finished on 34000/35627 queries. users per second: 1524.59</pre>"
            ],
            "text/plain": [
              "recommendations finished on 34000/35627 queries. users per second: 1524.59"
            ]
          },
          "metadata": {
            "tags": []
          }
        },
        {
          "output_type": "display_data",
          "data": {
            "text/html": [
              "<pre>recommendations finished on 35000/35627 queries. users per second: 1527.02</pre>"
            ],
            "text/plain": [
              "recommendations finished on 35000/35627 queries. users per second: 1527.02"
            ]
          },
          "metadata": {
            "tags": []
          }
        },
        {
          "output_type": "stream",
          "text": [
            "+---------+----------------+--------------------+------+\n",
            "| user_id | product_number |       score        | rank |\n",
            "+---------+----------------+--------------------+------+\n",
            "|   1184  |      406       | 0.707369141238804  |  1   |\n",
            "|   1184  |      1263      | 0.6943594909325241 |  2   |\n",
            "|   1184  |      303       | 0.677782584767105  |  3   |\n",
            "|   1184  |      765       | 0.6713250380123533 |  4   |\n",
            "|   1184  |      1123      | 0.6711420948680045 |  5   |\n",
            "|   1184  |      471       | 0.6707202820085305 |  6   |\n",
            "|   1184  |      355       | 0.6674925013302153 |  7   |\n",
            "|   1184  |       53       | 0.666145875606903  |  8   |\n",
            "|   1184  |      481       | 0.6642985200513741 |  9   |\n",
            "|   1184  |      321       | 0.6590330871735092 |  10  |\n",
            "+---------+----------------+--------------------+------+\n",
            "[356270 rows x 4 columns]\n",
            "\n"
          ],
          "name": "stdout"
        }
      ]
    },
    {
      "cell_type": "code",
      "metadata": {
        "id": "_mMJNck4pF0T"
      },
      "source": [
        "models_w_counts = [popularity, cos, pear]\n",
        "models_w_dummy = [pop_dummy, cos_dummy, pear_dummy]\n",
        "models_w_norm = [pop_norm, cos_norm, pear_norm]\n",
        "names_w_counts = ['Popularity Model on summation of Distance & Purchase Counts(without normalization)', 'Cosine Similarity on summation of Distance & Purchase Counts (without normalization)', 'Pearson Similarity on summation of Distance & Purchase Counts(without normalization)']\n",
        "names_w_dummy = ['Popularity Model on Purchase Dummy', 'Cosine Similarity on Purchase Dummy', 'Pearson Similarity on Purchase Dummy']\n",
        "names_w_norm = ['Popularity Model on summed distance and product purchase count(normalized)', 'Cosine Similarity on summation of Distance and Product Purchase Count(normalized)', 'Pearson Similarity on summation of Distance and Product Purchase Count (normalized)']"
      ],
      "execution_count": null,
      "outputs": []
    },
    {
      "cell_type": "code",
      "metadata": {
        "id": "p7FgCUf2pIQt",
        "colab": {
          "base_uri": "https://localhost:8080/"
        },
        "outputId": "d8d6d39f-dcd4-47bc-e988-054aa9c327b7"
      },
      "source": [
        "eval_counts = tc.recommender.util.compare_models(test_data, models_w_counts, model_names=names_w_counts)\n",
        "eval_dummy = tc.recommender.util.compare_models(test_data_dummy, models_w_dummy, model_names=names_w_dummy)\n",
        "eval_norm = tc.recommender.util.compare_models(test_data_norm, models_w_norm, model_names=names_w_norm)"
      ],
      "execution_count": null,
      "outputs": [
        {
          "output_type": "stream",
          "text": [
            "PROGRESS: Evaluate model Popularity Model on summation of Distance & Purchase Counts(without normalization)\n",
            "\n",
            "Precision and recall summary statistics by cutoff\n",
            "+--------+--------------------+-----------------------+\n",
            "| cutoff |   mean_precision   |      mean_recall      |\n",
            "+--------+--------------------+-----------------------+\n",
            "|   1    |        1.0         | 0.0035172405908920545 |\n",
            "|   2    |        1.0         |  0.007034481181784109 |\n",
            "|   3    |        1.0         |  0.010551721772676164 |\n",
            "|   4    |        1.0         |  0.014068962363568216 |\n",
            "|   5    |       0.992        |  0.017457170696395755 |\n",
            "|   6    | 0.9733333333333333 |  0.020578700510178006 |\n",
            "|   7    | 0.9485714285714286 |  0.023418930113850253 |\n",
            "|   8    |        0.93        |  0.02624491814272017  |\n",
            "|   9    | 0.8888888888888888 |  0.02822389656461467  |\n",
            "|   10   |        0.86        |  0.03034327416210688  |\n",
            "+--------+--------------------+-----------------------+\n",
            "[10 rows x 3 columns]\n",
            "\n",
            "\n",
            "Overall RMSE: 2.291232839148852\n",
            "\n",
            "Per User RMSE (best)\n",
            "+---------+--------------------+-------+\n",
            "| user_id |        rmse        | count |\n",
            "+---------+--------------------+-------+\n",
            "|   124   | 1.9922085329371593 |  293  |\n",
            "+---------+--------------------+-------+\n",
            "[1 rows x 3 columns]\n",
            "\n",
            "\n",
            "Per User RMSE (worst)\n",
            "+---------+--------------------+-------+\n",
            "| user_id |        rmse        | count |\n",
            "+---------+--------------------+-------+\n",
            "|   1486  | 2.7137905416708223 |  284  |\n",
            "+---------+--------------------+-------+\n",
            "[1 rows x 3 columns]\n",
            "\n",
            "\n",
            "Per Item RMSE (best)\n",
            "+----------------+----------------------+-------+\n",
            "| product_number |         rmse         | count |\n",
            "+----------------+----------------------+-------+\n",
            "|      1373      | 0.047648433124999556 |   1   |\n",
            "+----------------+----------------------+-------+\n",
            "[1 rows x 3 columns]\n",
            "\n",
            "\n",
            "Per Item RMSE (worst)\n",
            "+----------------+-------------------+-------+\n",
            "| product_number |        rmse       | count |\n",
            "+----------------+-------------------+-------+\n",
            "|      590       | 4.099623822917174 |   2   |\n",
            "+----------------+-------------------+-------+\n",
            "[1 rows x 3 columns]\n",
            "\n",
            "PROGRESS: Evaluate model Cosine Similarity on summation of Distance & Purchase Counts (without normalization)\n",
            "\n",
            "Precision and recall summary statistics by cutoff\n",
            "+--------+----------------+-----------------------+\n",
            "| cutoff | mean_precision |      mean_recall      |\n",
            "+--------+----------------+-----------------------+\n",
            "|   1    |      1.0       | 0.0035172405908920545 |\n",
            "|   2    |      1.0       |  0.007034481181784109 |\n",
            "|   3    |      1.0       |  0.010551721772676164 |\n",
            "|   4    |      1.0       |  0.014068962363568216 |\n",
            "|   5    |      1.0       |  0.017586202954460273 |\n",
            "|   6    |      1.0       |  0.02110344354535233  |\n",
            "|   7    |      1.0       |  0.02462068413624438  |\n",
            "|   8    |      1.0       |  0.028137924727136436 |\n",
            "|   9    |      1.0       |   0.0316551653180285  |\n",
            "|   10   |      1.0       |  0.03517240590892055  |\n",
            "+--------+----------------+-----------------------+\n",
            "[10 rows x 3 columns]\n",
            "\n",
            "\n",
            "Overall RMSE: 7.193244228953719\n",
            "\n",
            "Per User RMSE (best)\n",
            "+---------+--------------------+-------+\n",
            "| user_id |        rmse        | count |\n",
            "+---------+--------------------+-------+\n",
            "|   1141  | 5.6148415492864325 |  294  |\n",
            "+---------+--------------------+-------+\n",
            "[1 rows x 3 columns]\n",
            "\n",
            "\n",
            "Per User RMSE (worst)\n",
            "+---------+-------------------+-------+\n",
            "| user_id |        rmse       | count |\n",
            "+---------+-------------------+-------+\n",
            "|   1538  | 8.802165982863638 |  290  |\n",
            "+---------+-------------------+-------+\n",
            "[1 rows x 3 columns]\n",
            "\n",
            "\n",
            "Per Item RMSE (best)\n",
            "+----------------+---------------------+-------+\n",
            "| product_number |         rmse        | count |\n",
            "+----------------+---------------------+-------+\n",
            "|      590       | 0.44365367227000146 |   2   |\n",
            "+----------------+---------------------+-------+\n",
            "[1 rows x 3 columns]\n",
            "\n",
            "\n",
            "Per Item RMSE (worst)\n",
            "+----------------+-------------------+-------+\n",
            "| product_number |        rmse       | count |\n",
            "+----------------+-------------------+-------+\n",
            "|      1212      | 74.60257263935397 |   7   |\n",
            "+----------------+-------------------+-------+\n",
            "[1 rows x 3 columns]\n",
            "\n",
            "PROGRESS: Evaluate model Pearson Similarity on summation of Distance & Purchase Counts(without normalization)\n",
            "\n",
            "Precision and recall summary statistics by cutoff\n",
            "+--------+--------------------+-----------------------+\n",
            "| cutoff |   mean_precision   |      mean_recall      |\n",
            "+--------+--------------------+-----------------------+\n",
            "|   1    |        1.0         | 0.0035172405908920545 |\n",
            "|   2    |        1.0         |  0.007034481181784109 |\n",
            "|   3    |        1.0         |  0.010551721772676164 |\n",
            "|   4    |        1.0         |  0.014068962363568216 |\n",
            "|   5    |       0.992        |  0.017457170696395755 |\n",
            "|   6    | 0.9733333333333333 |  0.020578700510178006 |\n",
            "|   7    | 0.9485714285714286 |  0.023418930113850253 |\n",
            "|   8    |        0.93        |  0.02624491814272017  |\n",
            "|   9    | 0.8888888888888888 |  0.02822389656461467  |\n",
            "|   10   |        0.86        |  0.03034327416210688  |\n",
            "+--------+--------------------+-----------------------+\n",
            "[10 rows x 3 columns]\n",
            "\n",
            "\n",
            "Overall RMSE: 2.2808205223966302\n",
            "\n",
            "Per User RMSE (best)\n",
            "+---------+--------------------+-------+\n",
            "| user_id |        rmse        | count |\n",
            "+---------+--------------------+-------+\n",
            "|   124   | 1.9864943793648528 |  293  |\n",
            "+---------+--------------------+-------+\n",
            "[1 rows x 3 columns]\n",
            "\n",
            "\n",
            "Per User RMSE (worst)\n",
            "+---------+-------------------+-------+\n",
            "| user_id |        rmse       | count |\n",
            "+---------+-------------------+-------+\n",
            "|   1486  | 2.700993523666931 |  284  |\n",
            "+---------+-------------------+-------+\n",
            "[1 rows x 3 columns]\n",
            "\n",
            "\n",
            "Per Item RMSE (best)\n",
            "+----------------+--------------------+-------+\n",
            "| product_number |        rmse        | count |\n",
            "+----------------+--------------------+-------+\n",
            "|      1373      | 0.0553946568346495 |   1   |\n",
            "+----------------+--------------------+-------+\n",
            "[1 rows x 3 columns]\n",
            "\n",
            "\n",
            "Per Item RMSE (worst)\n",
            "+----------------+-------------------+-------+\n",
            "| product_number |        rmse       | count |\n",
            "+----------------+-------------------+-------+\n",
            "|      590       | 4.056919551908859 |   2   |\n",
            "+----------------+-------------------+-------+\n",
            "[1 rows x 3 columns]\n",
            "\n",
            "PROGRESS: Evaluate model Popularity Model on Purchase Dummy\n",
            "\n",
            "Precision and recall summary statistics by cutoff\n",
            "+--------+----------------+-----------------------+\n",
            "| cutoff | mean_precision |      mean_recall      |\n",
            "+--------+----------------+-----------------------+\n",
            "|   1    |      1.0       | 0.0035157371224675184 |\n",
            "|   2    |      1.0       |  0.007031474244935037 |\n",
            "|   3    |      1.0       |  0.010547211367402555 |\n",
            "|   4    |      1.0       |  0.014062948489870076 |\n",
            "|   5    |      1.0       |  0.017578685612337594 |\n",
            "|   6    |      1.0       |  0.02109442273480511  |\n",
            "|   7    |      1.0       |  0.02461015985727263  |\n",
            "|   8    |      1.0       |  0.02812589697974015  |\n",
            "|   9    |      1.0       |  0.03164163410220766  |\n",
            "|   10   |      1.0       |  0.03515737122467519  |\n",
            "+--------+----------------+-----------------------+\n",
            "[10 rows x 3 columns]\n",
            "\n",
            "\n",
            "Overall RMSE: 0.0\n",
            "\n",
            "Per User RMSE (best)\n",
            "+---------+------+-------+\n",
            "| user_id | rmse | count |\n",
            "+---------+------+-------+\n",
            "|   124   | 0.0  |  284  |\n",
            "+---------+------+-------+\n",
            "[1 rows x 3 columns]\n",
            "\n",
            "\n",
            "Per User RMSE (worst)\n",
            "+---------+------+-------+\n",
            "| user_id | rmse | count |\n",
            "+---------+------+-------+\n",
            "|   669   | 0.0  |  264  |\n",
            "+---------+------+-------+\n",
            "[1 rows x 3 columns]\n",
            "\n",
            "\n",
            "Per Item RMSE (best)\n",
            "+----------------+------+-------+\n",
            "| product_number | rmse | count |\n",
            "+----------------+------+-------+\n",
            "|      918       | 0.0  |   5   |\n",
            "+----------------+------+-------+\n",
            "[1 rows x 3 columns]\n",
            "\n",
            "\n",
            "Per Item RMSE (worst)\n",
            "+----------------+------+-------+\n",
            "| product_number | rmse | count |\n",
            "+----------------+------+-------+\n",
            "|      118       | 0.0  |   3   |\n",
            "+----------------+------+-------+\n",
            "[1 rows x 3 columns]\n",
            "\n",
            "PROGRESS: Evaluate model Cosine Similarity on Purchase Dummy\n",
            "\n",
            "Precision and recall summary statistics by cutoff\n",
            "+--------+--------------------+-----------------------+\n",
            "| cutoff |   mean_precision   |      mean_recall      |\n",
            "+--------+--------------------+-----------------------+\n",
            "|   1    |        1.0         | 0.0035157371224675184 |\n",
            "|   2    |        1.0         |  0.007031474244935037 |\n",
            "|   3    |        1.0         |  0.010547211367402555 |\n",
            "|   4    |        1.0         |  0.014062948489870074 |\n",
            "|   5    |       0.992        |  0.01743582846948045  |\n",
            "|   6    | 0.9933333333333333 |  0.020951565591947975 |\n",
            "|   7    | 0.9942857142857143 |  0.024467302714415485 |\n",
            "|   8    |       0.995        |  0.027983039836883005 |\n",
            "|   9    | 0.9955555555555555 |  0.03149877695935052  |\n",
            "|   10   |       0.996        |  0.03501451408181804  |\n",
            "+--------+--------------------+-----------------------+\n",
            "[10 rows x 3 columns]\n",
            "\n",
            "\n",
            "Overall RMSE: 0.9901290197361701\n",
            "\n",
            "Per User RMSE (best)\n",
            "+---------+--------------------+-------+\n",
            "| user_id |        rmse        | count |\n",
            "+---------+--------------------+-------+\n",
            "|   1587  | 0.9879799563649709 |  268  |\n",
            "+---------+--------------------+-------+\n",
            "[1 rows x 3 columns]\n",
            "\n",
            "\n",
            "Per User RMSE (worst)\n",
            "+---------+--------------------+-------+\n",
            "| user_id |        rmse        | count |\n",
            "+---------+--------------------+-------+\n",
            "|   1892  | 0.9918841337768711 |  272  |\n",
            "+---------+--------------------+-------+\n",
            "[1 rows x 3 columns]\n",
            "\n",
            "\n",
            "Per Item RMSE (best)\n",
            "+----------------+--------------------+-------+\n",
            "| product_number |        rmse        | count |\n",
            "+----------------+--------------------+-------+\n",
            "|      924       | 0.7763472263151681 |   1   |\n",
            "+----------------+--------------------+-------+\n",
            "[1 rows x 3 columns]\n",
            "\n",
            "\n",
            "Per Item RMSE (worst)\n",
            "+----------------+------+-------+\n",
            "| product_number | rmse | count |\n",
            "+----------------+------+-------+\n",
            "|      1143      | 1.0  |   10  |\n",
            "+----------------+------+-------+\n",
            "[1 rows x 3 columns]\n",
            "\n",
            "PROGRESS: Evaluate model Pearson Similarity on Purchase Dummy\n",
            "\n",
            "Precision and recall summary statistics by cutoff\n",
            "+--------+----------------+-----------------------+\n",
            "| cutoff | mean_precision |      mean_recall      |\n",
            "+--------+----------------+-----------------------+\n",
            "|   1    |      1.0       | 0.0035157371224675184 |\n",
            "|   2    |      1.0       |  0.007031474244935037 |\n",
            "|   3    |      1.0       |  0.010547211367402555 |\n",
            "|   4    |      1.0       |  0.014062948489870076 |\n",
            "|   5    |      1.0       |  0.017578685612337594 |\n",
            "|   6    |      1.0       |  0.02109442273480511  |\n",
            "|   7    |      1.0       |  0.02461015985727263  |\n",
            "|   8    |      1.0       |  0.02812589697974015  |\n",
            "|   9    |      1.0       |  0.03164163410220766  |\n",
            "|   10   |      1.0       |  0.03515737122467519  |\n",
            "+--------+----------------+-----------------------+\n",
            "[10 rows x 3 columns]\n",
            "\n",
            "\n",
            "Overall RMSE: 1.0\n",
            "\n",
            "Per User RMSE (best)\n",
            "+---------+------+-------+\n",
            "| user_id | rmse | count |\n",
            "+---------+------+-------+\n",
            "|   124   | 1.0  |  284  |\n",
            "+---------+------+-------+\n",
            "[1 rows x 3 columns]\n",
            "\n",
            "\n",
            "Per User RMSE (worst)\n",
            "+---------+------+-------+\n",
            "| user_id | rmse | count |\n",
            "+---------+------+-------+\n",
            "|   669   | 1.0  |  264  |\n",
            "+---------+------+-------+\n",
            "[1 rows x 3 columns]\n",
            "\n",
            "\n",
            "Per Item RMSE (best)\n",
            "+----------------+------+-------+\n",
            "| product_number | rmse | count |\n",
            "+----------------+------+-------+\n",
            "|      918       | 1.0  |   5   |\n",
            "+----------------+------+-------+\n",
            "[1 rows x 3 columns]\n",
            "\n",
            "\n",
            "Per Item RMSE (worst)\n",
            "+----------------+------+-------+\n",
            "| product_number | rmse | count |\n",
            "+----------------+------+-------+\n",
            "|      118       | 1.0  |   3   |\n",
            "+----------------+------+-------+\n",
            "[1 rows x 3 columns]\n",
            "\n",
            "PROGRESS: Evaluate model Popularity Model on summed distance and product purchase count(normalized)\n",
            "\n",
            "Precision and recall summary statistics by cutoff\n",
            "+--------+----------------+-----------------------+\n",
            "| cutoff | mean_precision |      mean_recall      |\n",
            "+--------+----------------+-----------------------+\n",
            "|   1    |      1.0       | 0.0035157138470585663 |\n",
            "|   2    |      1.0       | 0.0070314276941171325 |\n",
            "|   3    |      1.0       |   0.0105471415411757  |\n",
            "|   4    |      1.0       |  0.014062855388234268 |\n",
            "|   5    |      1.0       |  0.017578569235292836 |\n",
            "|   6    |      1.0       |   0.0210942830823514  |\n",
            "|   7    |      1.0       |  0.024609996929409964 |\n",
            "|   8    |      1.0       |  0.02812571077646853  |\n",
            "|   9    |      1.0       |   0.0316414246235271  |\n",
            "|   10   |      1.0       |  0.035157138470585665 |\n",
            "+--------+----------------+-----------------------+\n",
            "[10 rows x 3 columns]\n",
            "\n",
            "\n",
            "Overall RMSE: 0.3167164573090795\n",
            "\n",
            "Per User RMSE (best)\n",
            "+---------+--------------------+-------+\n",
            "| user_id |        rmse        | count |\n",
            "+---------+--------------------+-------+\n",
            "|   123   | 0.2903467525027793 |  285  |\n",
            "+---------+--------------------+-------+\n",
            "[1 rows x 3 columns]\n",
            "\n",
            "\n",
            "Per User RMSE (worst)\n",
            "+---------+-------------------+-------+\n",
            "| user_id |        rmse       | count |\n",
            "+---------+-------------------+-------+\n",
            "|   1486  | 0.350171334264101 |  295  |\n",
            "+---------+-------------------+-------+\n",
            "[1 rows x 3 columns]\n",
            "\n",
            "\n",
            "Per Item RMSE (best)\n",
            "+----------------+-----------------------+-------+\n",
            "| product_number |          rmse         | count |\n",
            "+----------------+-----------------------+-------+\n",
            "|      547       | 0.0008516439329373515 |   1   |\n",
            "+----------------+-----------------------+-------+\n",
            "[1 rows x 3 columns]\n",
            "\n",
            "\n",
            "Per Item RMSE (worst)\n",
            "+----------------+--------------------+-------+\n",
            "| product_number |        rmse        | count |\n",
            "+----------------+--------------------+-------+\n",
            "|      341       | 0.5707886482558525 |   4   |\n",
            "+----------------+--------------------+-------+\n",
            "[1 rows x 3 columns]\n",
            "\n",
            "PROGRESS: Evaluate model Cosine Similarity on summation of Distance and Product Purchase Count(normalized)\n",
            "\n",
            "Precision and recall summary statistics by cutoff\n",
            "+--------+----------------+----------------------+\n",
            "| cutoff | mean_precision |     mean_recall      |\n",
            "+--------+----------------+----------------------+\n",
            "|   1    |      1.0       | 0.003515713847058567 |\n",
            "|   2    |      1.0       | 0.007031427694117134 |\n",
            "|   3    |      1.0       |  0.0105471415411757  |\n",
            "|   4    |      1.0       | 0.014062855388234268 |\n",
            "|   5    |      1.0       | 0.017578569235292836 |\n",
            "|   6    |      1.0       |  0.0210942830823514  |\n",
            "|   7    |      1.0       | 0.024609996929409968 |\n",
            "|   8    |      1.0       | 0.028125710776468537 |\n",
            "|   9    |      1.0       |  0.0316414246235271  |\n",
            "|   10   |      1.0       | 0.035157138470585665 |\n",
            "+--------+----------------+----------------------+\n",
            "[10 rows x 3 columns]\n",
            "\n",
            "\n",
            "Overall RMSE: 0.5984425678373058\n",
            "\n",
            "Per User RMSE (best)\n",
            "+---------+--------------------+-------+\n",
            "| user_id |        rmse        | count |\n",
            "+---------+--------------------+-------+\n",
            "|   669   | 0.5079337731860685 |  295  |\n",
            "+---------+--------------------+-------+\n",
            "[1 rows x 3 columns]\n",
            "\n",
            "\n",
            "Per User RMSE (worst)\n",
            "+---------+--------------------+-------+\n",
            "| user_id |        rmse        | count |\n",
            "+---------+--------------------+-------+\n",
            "|   1486  | 0.6872288472099162 |  295  |\n",
            "+---------+--------------------+-------+\n",
            "[1 rows x 3 columns]\n",
            "\n",
            "\n",
            "Per Item RMSE (best)\n",
            "+----------------+-----------------------+-------+\n",
            "| product_number |          rmse         | count |\n",
            "+----------------+-----------------------+-------+\n",
            "|      589       | 0.0009371083296950428 |   1   |\n",
            "+----------------+-----------------------+-------+\n",
            "[1 rows x 3 columns]\n",
            "\n",
            "\n",
            "Per Item RMSE (worst)\n",
            "+----------------+--------------------+-------+\n",
            "| product_number |        rmse        | count |\n",
            "+----------------+--------------------+-------+\n",
            "|      536       | 0.9789607711622671 |   1   |\n",
            "+----------------+--------------------+-------+\n",
            "[1 rows x 3 columns]\n",
            "\n",
            "PROGRESS: Evaluate model Pearson Similarity on summation of Distance and Product Purchase Count (normalized)\n",
            "\n",
            "Precision and recall summary statistics by cutoff\n",
            "+--------+----------------+-----------------------+\n",
            "| cutoff | mean_precision |      mean_recall      |\n",
            "+--------+----------------+-----------------------+\n",
            "|   1    |      1.0       | 0.0035157138470585663 |\n",
            "|   2    |      1.0       | 0.0070314276941171325 |\n",
            "|   3    |      1.0       |   0.0105471415411757  |\n",
            "|   4    |      1.0       |  0.014062855388234268 |\n",
            "|   5    |      1.0       |  0.017578569235292836 |\n",
            "|   6    |      1.0       |   0.0210942830823514  |\n",
            "|   7    |      1.0       |  0.024609996929409964 |\n",
            "|   8    |      1.0       |  0.028125710776468537 |\n",
            "|   9    |      1.0       |   0.0316414246235271  |\n",
            "|   10   |      1.0       |  0.035157138470585665 |\n",
            "+--------+----------------+-----------------------+\n",
            "[10 rows x 3 columns]\n",
            "\n",
            "\n",
            "Overall RMSE: 0.3154319546346729\n",
            "\n",
            "Per User RMSE (best)\n",
            "+---------+---------------------+-------+\n",
            "| user_id |         rmse        | count |\n",
            "+---------+---------------------+-------+\n",
            "|   123   | 0.28947021961440694 |  285  |\n",
            "+---------+---------------------+-------+\n",
            "[1 rows x 3 columns]\n",
            "\n",
            "\n",
            "Per User RMSE (worst)\n",
            "+---------+--------------------+-------+\n",
            "| user_id |        rmse        | count |\n",
            "+---------+--------------------+-------+\n",
            "|   1486  | 0.3486289282774778 |  295  |\n",
            "+---------+--------------------+-------+\n",
            "[1 rows x 3 columns]\n",
            "\n",
            "\n",
            "Per Item RMSE (best)\n",
            "+----------------+-----------------------+-------+\n",
            "| product_number |          rmse         | count |\n",
            "+----------------+-----------------------+-------+\n",
            "|      547       | 0.0014608790711531094 |   1   |\n",
            "+----------------+-----------------------+-------+\n",
            "[1 rows x 3 columns]\n",
            "\n",
            "\n",
            "Per Item RMSE (worst)\n",
            "+----------------+--------------------+-------+\n",
            "| product_number |        rmse        | count |\n",
            "+----------------+--------------------+-------+\n",
            "|      341       | 0.5663073788447563 |   4   |\n",
            "+----------------+--------------------+-------+\n",
            "[1 rows x 3 columns]\n",
            "\n"
          ],
          "name": "stdout"
        }
      ]
    },
    {
      "cell_type": "code",
      "metadata": {
        "id": "oSAY5msyw4n7",
        "colab": {
          "base_uri": "https://localhost:8080/",
          "height": 52
        },
        "outputId": "259dc633-9724-41b7-86f8-4ad897a24333"
      },
      "source": [
        "'''metrics = models_w_norm.evaluate(test_data_norm)\n",
        "print(\"Accuracy: \", metrics[\"accuracy\"])\n",
        "print(\"Precision: \", metrics[\"precision\"])\n",
        "print(\"Recall: \", metrics[\"recall\"])\n",
        "'''"
      ],
      "execution_count": null,
      "outputs": [
        {
          "output_type": "execute_result",
          "data": {
            "application/vnd.google.colaboratory.intrinsic+json": {
              "type": "string"
            },
            "text/plain": [
              "'metrics = models_w_norm.evaluate(test_data_norm)\\nprint(\"Accuracy: \", metrics[\"accuracy\"])\\nprint(\"Precision: \", metrics[\"precision\"])\\nprint(\"Recall: \", metrics[\"recall\"])\\n'"
            ]
          },
          "metadata": {
            "tags": []
          },
          "execution_count": 39
        }
      ]
    },
    {
      "cell_type": "code",
      "metadata": {
        "id": "N1uGG8gEpMLx",
        "colab": {
          "base_uri": "https://localhost:8080/",
          "height": 1000
        },
        "outputId": "f6a1e246-0cfe-4217-f863-0c4c4f276c27"
      },
      "source": [
        "final_model = tc.item_similarity_recommender.create(tc.SFrame(data_norm), \n",
        "                                            user_id=user_id, \n",
        "                                            item_id=item_id, \n",
        "                                            target='scaled_distance_purchase_freq', similarity_type='pearson')\n",
        "recom = final_model.recommend(users=users_to_recommend, k=n_rec)\n",
        "recom.print_rows(n_display)"
      ],
      "execution_count": null,
      "outputs": [
        {
          "output_type": "display_data",
          "data": {
            "text/html": [
              "<pre>Preparing data set.</pre>"
            ],
            "text/plain": [
              "Preparing data set."
            ]
          },
          "metadata": {
            "tags": []
          }
        },
        {
          "output_type": "display_data",
          "data": {
            "text/html": [
              "<pre>    Data has 35618 observations with 25 users and 1425 items.</pre>"
            ],
            "text/plain": [
              "    Data has 35618 observations with 25 users and 1425 items."
            ]
          },
          "metadata": {
            "tags": []
          }
        },
        {
          "output_type": "display_data",
          "data": {
            "text/html": [
              "<pre>    Data prepared in: 0.036682s</pre>"
            ],
            "text/plain": [
              "    Data prepared in: 0.036682s"
            ]
          },
          "metadata": {
            "tags": []
          }
        },
        {
          "output_type": "display_data",
          "data": {
            "text/html": [
              "<pre>Training model from provided data.</pre>"
            ],
            "text/plain": [
              "Training model from provided data."
            ]
          },
          "metadata": {
            "tags": []
          }
        },
        {
          "output_type": "display_data",
          "data": {
            "text/html": [
              "<pre>Gathering per-item and per-user statistics.</pre>"
            ],
            "text/plain": [
              "Gathering per-item and per-user statistics."
            ]
          },
          "metadata": {
            "tags": []
          }
        },
        {
          "output_type": "display_data",
          "data": {
            "text/html": [
              "<pre>+--------------------------------+------------+</pre>"
            ],
            "text/plain": [
              "+--------------------------------+------------+"
            ]
          },
          "metadata": {
            "tags": []
          }
        },
        {
          "output_type": "display_data",
          "data": {
            "text/html": [
              "<pre>| Elapsed Time (Item Statistics) | % Complete |</pre>"
            ],
            "text/plain": [
              "| Elapsed Time (Item Statistics) | % Complete |"
            ]
          },
          "metadata": {
            "tags": []
          }
        },
        {
          "output_type": "display_data",
          "data": {
            "text/html": [
              "<pre>+--------------------------------+------------+</pre>"
            ],
            "text/plain": [
              "+--------------------------------+------------+"
            ]
          },
          "metadata": {
            "tags": []
          }
        },
        {
          "output_type": "display_data",
          "data": {
            "text/html": [
              "<pre>| 14.377ms                       | 100        |</pre>"
            ],
            "text/plain": [
              "| 14.377ms                       | 100        |"
            ]
          },
          "metadata": {
            "tags": []
          }
        },
        {
          "output_type": "display_data",
          "data": {
            "text/html": [
              "<pre>+--------------------------------+------------+</pre>"
            ],
            "text/plain": [
              "+--------------------------------+------------+"
            ]
          },
          "metadata": {
            "tags": []
          }
        },
        {
          "output_type": "display_data",
          "data": {
            "text/html": [
              "<pre>Setting up lookup tables.</pre>"
            ],
            "text/plain": [
              "Setting up lookup tables."
            ]
          },
          "metadata": {
            "tags": []
          }
        },
        {
          "output_type": "display_data",
          "data": {
            "text/html": [
              "<pre>Processing data in one pass using dense lookup tables.</pre>"
            ],
            "text/plain": [
              "Processing data in one pass using dense lookup tables."
            ]
          },
          "metadata": {
            "tags": []
          }
        },
        {
          "output_type": "display_data",
          "data": {
            "text/html": [
              "<pre>+-------------------------------------+------------------+-----------------+</pre>"
            ],
            "text/plain": [
              "+-------------------------------------+------------------+-----------------+"
            ]
          },
          "metadata": {
            "tags": []
          }
        },
        {
          "output_type": "display_data",
          "data": {
            "text/html": [
              "<pre>| Elapsed Time (Constructing Lookups) | Total % Complete | Items Processed |</pre>"
            ],
            "text/plain": [
              "| Elapsed Time (Constructing Lookups) | Total % Complete | Items Processed |"
            ]
          },
          "metadata": {
            "tags": []
          }
        },
        {
          "output_type": "display_data",
          "data": {
            "text/html": [
              "<pre>+-------------------------------------+------------------+-----------------+</pre>"
            ],
            "text/plain": [
              "+-------------------------------------+------------------+-----------------+"
            ]
          },
          "metadata": {
            "tags": []
          }
        },
        {
          "output_type": "display_data",
          "data": {
            "text/html": [
              "<pre>| 19.208ms                            | 4                | 57              |</pre>"
            ],
            "text/plain": [
              "| 19.208ms                            | 4                | 57              |"
            ]
          },
          "metadata": {
            "tags": []
          }
        },
        {
          "output_type": "display_data",
          "data": {
            "text/html": [
              "<pre>| 648.692ms                           | 100              | 1425            |</pre>"
            ],
            "text/plain": [
              "| 648.692ms                           | 100              | 1425            |"
            ]
          },
          "metadata": {
            "tags": []
          }
        },
        {
          "output_type": "display_data",
          "data": {
            "text/html": [
              "<pre>+-------------------------------------+------------------+-----------------+</pre>"
            ],
            "text/plain": [
              "+-------------------------------------+------------------+-----------------+"
            ]
          },
          "metadata": {
            "tags": []
          }
        },
        {
          "output_type": "display_data",
          "data": {
            "text/html": [
              "<pre>Finalizing lookup tables.</pre>"
            ],
            "text/plain": [
              "Finalizing lookup tables."
            ]
          },
          "metadata": {
            "tags": []
          }
        },
        {
          "output_type": "display_data",
          "data": {
            "text/html": [
              "<pre>Generating candidate set for working with new users.</pre>"
            ],
            "text/plain": [
              "Generating candidate set for working with new users."
            ]
          },
          "metadata": {
            "tags": []
          }
        },
        {
          "output_type": "display_data",
          "data": {
            "text/html": [
              "<pre>Finished training in 0.669629s</pre>"
            ],
            "text/plain": [
              "Finished training in 0.669629s"
            ]
          },
          "metadata": {
            "tags": []
          }
        },
        {
          "output_type": "display_data",
          "data": {
            "text/html": [
              "<pre>recommendations finished on 1000/35627 queries. users per second: 93075.2</pre>"
            ],
            "text/plain": [
              "recommendations finished on 1000/35627 queries. users per second: 93075.2"
            ]
          },
          "metadata": {
            "tags": []
          }
        },
        {
          "output_type": "display_data",
          "data": {
            "text/html": [
              "<pre>recommendations finished on 2000/35627 queries. users per second: 82111.9</pre>"
            ],
            "text/plain": [
              "recommendations finished on 2000/35627 queries. users per second: 82111.9"
            ]
          },
          "metadata": {
            "tags": []
          }
        },
        {
          "output_type": "display_data",
          "data": {
            "text/html": [
              "<pre>recommendations finished on 3000/35627 queries. users per second: 69796.7</pre>"
            ],
            "text/plain": [
              "recommendations finished on 3000/35627 queries. users per second: 69796.7"
            ]
          },
          "metadata": {
            "tags": []
          }
        },
        {
          "output_type": "display_data",
          "data": {
            "text/html": [
              "<pre>recommendations finished on 4000/35627 queries. users per second: 70972.3</pre>"
            ],
            "text/plain": [
              "recommendations finished on 4000/35627 queries. users per second: 70972.3"
            ]
          },
          "metadata": {
            "tags": []
          }
        },
        {
          "output_type": "display_data",
          "data": {
            "text/html": [
              "<pre>recommendations finished on 5000/35627 queries. users per second: 72927.8</pre>"
            ],
            "text/plain": [
              "recommendations finished on 5000/35627 queries. users per second: 72927.8"
            ]
          },
          "metadata": {
            "tags": []
          }
        },
        {
          "output_type": "display_data",
          "data": {
            "text/html": [
              "<pre>recommendations finished on 6000/35627 queries. users per second: 71392.9</pre>"
            ],
            "text/plain": [
              "recommendations finished on 6000/35627 queries. users per second: 71392.9"
            ]
          },
          "metadata": {
            "tags": []
          }
        },
        {
          "output_type": "display_data",
          "data": {
            "text/html": [
              "<pre>recommendations finished on 7000/35627 queries. users per second: 72903.8</pre>"
            ],
            "text/plain": [
              "recommendations finished on 7000/35627 queries. users per second: 72903.8"
            ]
          },
          "metadata": {
            "tags": []
          }
        },
        {
          "output_type": "display_data",
          "data": {
            "text/html": [
              "<pre>recommendations finished on 8000/35627 queries. users per second: 72920.2</pre>"
            ],
            "text/plain": [
              "recommendations finished on 8000/35627 queries. users per second: 72920.2"
            ]
          },
          "metadata": {
            "tags": []
          }
        },
        {
          "output_type": "display_data",
          "data": {
            "text/html": [
              "<pre>recommendations finished on 9000/35627 queries. users per second: 73918.9</pre>"
            ],
            "text/plain": [
              "recommendations finished on 9000/35627 queries. users per second: 73918.9"
            ]
          },
          "metadata": {
            "tags": []
          }
        },
        {
          "output_type": "display_data",
          "data": {
            "text/html": [
              "<pre>recommendations finished on 10000/35627 queries. users per second: 73822</pre>"
            ],
            "text/plain": [
              "recommendations finished on 10000/35627 queries. users per second: 73822"
            ]
          },
          "metadata": {
            "tags": []
          }
        },
        {
          "output_type": "display_data",
          "data": {
            "text/html": [
              "<pre>recommendations finished on 11000/35627 queries. users per second: 74562.6</pre>"
            ],
            "text/plain": [
              "recommendations finished on 11000/35627 queries. users per second: 74562.6"
            ]
          },
          "metadata": {
            "tags": []
          }
        },
        {
          "output_type": "display_data",
          "data": {
            "text/html": [
              "<pre>recommendations finished on 12000/35627 queries. users per second: 74478.6</pre>"
            ],
            "text/plain": [
              "recommendations finished on 12000/35627 queries. users per second: 74478.6"
            ]
          },
          "metadata": {
            "tags": []
          }
        },
        {
          "output_type": "display_data",
          "data": {
            "text/html": [
              "<pre>recommendations finished on 13000/35627 queries. users per second: 75156.7</pre>"
            ],
            "text/plain": [
              "recommendations finished on 13000/35627 queries. users per second: 75156.7"
            ]
          },
          "metadata": {
            "tags": []
          }
        },
        {
          "output_type": "display_data",
          "data": {
            "text/html": [
              "<pre>recommendations finished on 14000/35627 queries. users per second: 75148.8</pre>"
            ],
            "text/plain": [
              "recommendations finished on 14000/35627 queries. users per second: 75148.8"
            ]
          },
          "metadata": {
            "tags": []
          }
        },
        {
          "output_type": "display_data",
          "data": {
            "text/html": [
              "<pre>recommendations finished on 15000/35627 queries. users per second: 75672</pre>"
            ],
            "text/plain": [
              "recommendations finished on 15000/35627 queries. users per second: 75672"
            ]
          },
          "metadata": {
            "tags": []
          }
        },
        {
          "output_type": "display_data",
          "data": {
            "text/html": [
              "<pre>recommendations finished on 16000/35627 queries. users per second: 74061.4</pre>"
            ],
            "text/plain": [
              "recommendations finished on 16000/35627 queries. users per second: 74061.4"
            ]
          },
          "metadata": {
            "tags": []
          }
        },
        {
          "output_type": "display_data",
          "data": {
            "text/html": [
              "<pre>recommendations finished on 17000/35627 queries. users per second: 74274.7</pre>"
            ],
            "text/plain": [
              "recommendations finished on 17000/35627 queries. users per second: 74274.7"
            ]
          },
          "metadata": {
            "tags": []
          }
        },
        {
          "output_type": "display_data",
          "data": {
            "text/html": [
              "<pre>recommendations finished on 18000/35627 queries. users per second: 74123.8</pre>"
            ],
            "text/plain": [
              "recommendations finished on 18000/35627 queries. users per second: 74123.8"
            ]
          },
          "metadata": {
            "tags": []
          }
        },
        {
          "output_type": "display_data",
          "data": {
            "text/html": [
              "<pre>recommendations finished on 19000/35627 queries. users per second: 74629.2</pre>"
            ],
            "text/plain": [
              "recommendations finished on 19000/35627 queries. users per second: 74629.2"
            ]
          },
          "metadata": {
            "tags": []
          }
        },
        {
          "output_type": "display_data",
          "data": {
            "text/html": [
              "<pre>recommendations finished on 20000/35627 queries. users per second: 74649.7</pre>"
            ],
            "text/plain": [
              "recommendations finished on 20000/35627 queries. users per second: 74649.7"
            ]
          },
          "metadata": {
            "tags": []
          }
        },
        {
          "output_type": "display_data",
          "data": {
            "text/html": [
              "<pre>recommendations finished on 21000/35627 queries. users per second: 75090.6</pre>"
            ],
            "text/plain": [
              "recommendations finished on 21000/35627 queries. users per second: 75090.6"
            ]
          },
          "metadata": {
            "tags": []
          }
        },
        {
          "output_type": "display_data",
          "data": {
            "text/html": [
              "<pre>recommendations finished on 22000/35627 queries. users per second: 75049.7</pre>"
            ],
            "text/plain": [
              "recommendations finished on 22000/35627 queries. users per second: 75049.7"
            ]
          },
          "metadata": {
            "tags": []
          }
        },
        {
          "output_type": "display_data",
          "data": {
            "text/html": [
              "<pre>recommendations finished on 23000/35627 queries. users per second: 71786.6</pre>"
            ],
            "text/plain": [
              "recommendations finished on 23000/35627 queries. users per second: 71786.6"
            ]
          },
          "metadata": {
            "tags": []
          }
        },
        {
          "output_type": "display_data",
          "data": {
            "text/html": [
              "<pre>recommendations finished on 24000/35627 queries. users per second: 36105.8</pre>"
            ],
            "text/plain": [
              "recommendations finished on 24000/35627 queries. users per second: 36105.8"
            ]
          },
          "metadata": {
            "tags": []
          }
        },
        {
          "output_type": "display_data",
          "data": {
            "text/html": [
              "<pre>recommendations finished on 25000/35627 queries. users per second: 36370.9</pre>"
            ],
            "text/plain": [
              "recommendations finished on 25000/35627 queries. users per second: 36370.9"
            ]
          },
          "metadata": {
            "tags": []
          }
        },
        {
          "output_type": "display_data",
          "data": {
            "text/html": [
              "<pre>recommendations finished on 26000/35627 queries. users per second: 30230.7</pre>"
            ],
            "text/plain": [
              "recommendations finished on 26000/35627 queries. users per second: 30230.7"
            ]
          },
          "metadata": {
            "tags": []
          }
        },
        {
          "output_type": "display_data",
          "data": {
            "text/html": [
              "<pre>recommendations finished on 27000/35627 queries. users per second: 22684.3</pre>"
            ],
            "text/plain": [
              "recommendations finished on 27000/35627 queries. users per second: 22684.3"
            ]
          },
          "metadata": {
            "tags": []
          }
        },
        {
          "output_type": "display_data",
          "data": {
            "text/html": [
              "<pre>recommendations finished on 28000/35627 queries. users per second: 22076.2</pre>"
            ],
            "text/plain": [
              "recommendations finished on 28000/35627 queries. users per second: 22076.2"
            ]
          },
          "metadata": {
            "tags": []
          }
        },
        {
          "output_type": "display_data",
          "data": {
            "text/html": [
              "<pre>recommendations finished on 29000/35627 queries. users per second: 22630</pre>"
            ],
            "text/plain": [
              "recommendations finished on 29000/35627 queries. users per second: 22630"
            ]
          },
          "metadata": {
            "tags": []
          }
        },
        {
          "output_type": "display_data",
          "data": {
            "text/html": [
              "<pre>recommendations finished on 30000/35627 queries. users per second: 23134.7</pre>"
            ],
            "text/plain": [
              "recommendations finished on 30000/35627 queries. users per second: 23134.7"
            ]
          },
          "metadata": {
            "tags": []
          }
        },
        {
          "output_type": "display_data",
          "data": {
            "text/html": [
              "<pre>recommendations finished on 31000/35627 queries. users per second: 23402.3</pre>"
            ],
            "text/plain": [
              "recommendations finished on 31000/35627 queries. users per second: 23402.3"
            ]
          },
          "metadata": {
            "tags": []
          }
        },
        {
          "output_type": "display_data",
          "data": {
            "text/html": [
              "<pre>recommendations finished on 32000/35627 queries. users per second: 23687.5</pre>"
            ],
            "text/plain": [
              "recommendations finished on 32000/35627 queries. users per second: 23687.5"
            ]
          },
          "metadata": {
            "tags": []
          }
        },
        {
          "output_type": "display_data",
          "data": {
            "text/html": [
              "<pre>recommendations finished on 33000/35627 queries. users per second: 18205.7</pre>"
            ],
            "text/plain": [
              "recommendations finished on 33000/35627 queries. users per second: 18205.7"
            ]
          },
          "metadata": {
            "tags": []
          }
        },
        {
          "output_type": "display_data",
          "data": {
            "text/html": [
              "<pre>recommendations finished on 34000/35627 queries. users per second: 14527.2</pre>"
            ],
            "text/plain": [
              "recommendations finished on 34000/35627 queries. users per second: 14527.2"
            ]
          },
          "metadata": {
            "tags": []
          }
        },
        {
          "output_type": "display_data",
          "data": {
            "text/html": [
              "<pre>recommendations finished on 35000/35627 queries. users per second: 12869.7</pre>"
            ],
            "text/plain": [
              "recommendations finished on 35000/35627 queries. users per second: 12869.7"
            ]
          },
          "metadata": {
            "tags": []
          }
        },
        {
          "output_type": "stream",
          "text": [
            "+---------+----------------+---------------------+------+\n",
            "| user_id | product_number |        score        | rank |\n",
            "+---------+----------------+---------------------+------+\n",
            "|   893   |      1410      |  0.6028307071790836 |  1   |\n",
            "|   893   |      1407      |  0.5385758957693214 |  2   |\n",
            "|   893   |      1395      |  0.5258076360094764 |  3   |\n",
            "|   893   |      1421      |  0.5234198515060576 |  4   |\n",
            "|   893   |      1409      | 0.46490649357715647 |  5   |\n",
            "|   893   |      1400      |  0.4391363526769749 |  6   |\n",
            "|   893   |      1420      |  0.4051053944235263 |  7   |\n",
            "|   893   |      1410      |  0.6028307071790836 |  1   |\n",
            "|   893   |      1407      |  0.5385758957693214 |  2   |\n",
            "|   893   |      1395      |  0.5258076360094764 |  3   |\n",
            "+---------+----------------+---------------------+------+\n",
            "[9989 rows x 4 columns]\n",
            "\n"
          ],
          "name": "stdout"
        }
      ]
    },
    {
      "cell_type": "code",
      "metadata": {
        "id": "PwPwHdCCpOMR",
        "colab": {
          "base_uri": "https://localhost:8080/",
          "height": 221
        },
        "outputId": "b80dee6b-af83-4af2-8bf4-b900d7c3a715"
      },
      "source": [
        "df_rec = recom.to_dataframe()\n",
        "print(df_rec.shape)\n",
        "df_rec.head()"
      ],
      "execution_count": null,
      "outputs": [
        {
          "output_type": "stream",
          "text": [
            "(9989, 4)\n"
          ],
          "name": "stdout"
        },
        {
          "output_type": "execute_result",
          "data": {
            "text/html": [
              "<div>\n",
              "<style scoped>\n",
              "    .dataframe tbody tr th:only-of-type {\n",
              "        vertical-align: middle;\n",
              "    }\n",
              "\n",
              "    .dataframe tbody tr th {\n",
              "        vertical-align: top;\n",
              "    }\n",
              "\n",
              "    .dataframe thead th {\n",
              "        text-align: right;\n",
              "    }\n",
              "</style>\n",
              "<table border=\"1\" class=\"dataframe\">\n",
              "  <thead>\n",
              "    <tr style=\"text-align: right;\">\n",
              "      <th></th>\n",
              "      <th>user_id</th>\n",
              "      <th>product_number</th>\n",
              "      <th>score</th>\n",
              "      <th>rank</th>\n",
              "    </tr>\n",
              "  </thead>\n",
              "  <tbody>\n",
              "    <tr>\n",
              "      <th>0</th>\n",
              "      <td>893</td>\n",
              "      <td>1410</td>\n",
              "      <td>0.602831</td>\n",
              "      <td>1</td>\n",
              "    </tr>\n",
              "    <tr>\n",
              "      <th>1</th>\n",
              "      <td>893</td>\n",
              "      <td>1407</td>\n",
              "      <td>0.538576</td>\n",
              "      <td>2</td>\n",
              "    </tr>\n",
              "    <tr>\n",
              "      <th>2</th>\n",
              "      <td>893</td>\n",
              "      <td>1395</td>\n",
              "      <td>0.525808</td>\n",
              "      <td>3</td>\n",
              "    </tr>\n",
              "    <tr>\n",
              "      <th>3</th>\n",
              "      <td>893</td>\n",
              "      <td>1421</td>\n",
              "      <td>0.523420</td>\n",
              "      <td>4</td>\n",
              "    </tr>\n",
              "    <tr>\n",
              "      <th>4</th>\n",
              "      <td>893</td>\n",
              "      <td>1409</td>\n",
              "      <td>0.464906</td>\n",
              "      <td>5</td>\n",
              "    </tr>\n",
              "  </tbody>\n",
              "</table>\n",
              "</div>"
            ],
            "text/plain": [
              "   user_id  product_number     score  rank\n",
              "0      893            1410  0.602831     1\n",
              "1      893            1407  0.538576     2\n",
              "2      893            1395  0.525808     3\n",
              "3      893            1421  0.523420     4\n",
              "4      893            1409  0.464906     5"
            ]
          },
          "metadata": {
            "tags": []
          },
          "execution_count": 41
        }
      ]
    },
    {
      "cell_type": "code",
      "metadata": {
        "id": "IkuaylXSpQbJ"
      },
      "source": [
        "def create_output(model, users_to_recommend, n_rec, print_csv=True):\n",
        "    recomendation = model.recommend(users=users_to_recommend, k=n_rec)\n",
        "    df_rec = recomendation.to_dataframe()\n",
        "    df_rec['recommendedProducts'] = df_rec.groupby([user_id])[item_id] \\\n",
        "        .transform(lambda x: '|'.join(x.astype(str)))\n",
        "    df_output = df_rec[['user_id', 'recommendedProducts']].drop_duplicates() \\\n",
        "        .sort_values('user_id').set_index('user_id')\n",
        "    if print_csv:\n",
        "        df_output.to_csv('/content/option1_recommendation.csv')\n",
        "        print(\"An output file can be found in 'output' folder with name 'option1_recommendation.csv'\")\n",
        "    return df_output"
      ],
      "execution_count": null,
      "outputs": []
    },
    {
      "cell_type": "code",
      "metadata": {
        "id": "UfpSlQsIpStJ",
        "colab": {
          "base_uri": "https://localhost:8080/",
          "height": 864
        },
        "outputId": "6f01a742-c2be-43ed-8914-a46318b3e164"
      },
      "source": [
        "df_output = create_output(pear_norm, users_to_recommend, n_rec, print_csv=True)\n",
        "print(df_output.shape)\n",
        "df_output.head()"
      ],
      "execution_count": null,
      "outputs": [
        {
          "output_type": "display_data",
          "data": {
            "text/html": [
              "<pre>recommendations finished on 1000/35627 queries. users per second: 1610.88</pre>"
            ],
            "text/plain": [
              "recommendations finished on 1000/35627 queries. users per second: 1610.88"
            ]
          },
          "metadata": {
            "tags": []
          }
        },
        {
          "output_type": "display_data",
          "data": {
            "text/html": [
              "<pre>recommendations finished on 2000/35627 queries. users per second: 1604.08</pre>"
            ],
            "text/plain": [
              "recommendations finished on 2000/35627 queries. users per second: 1604.08"
            ]
          },
          "metadata": {
            "tags": []
          }
        },
        {
          "output_type": "display_data",
          "data": {
            "text/html": [
              "<pre>recommendations finished on 3000/35627 queries. users per second: 1621.78</pre>"
            ],
            "text/plain": [
              "recommendations finished on 3000/35627 queries. users per second: 1621.78"
            ]
          },
          "metadata": {
            "tags": []
          }
        },
        {
          "output_type": "display_data",
          "data": {
            "text/html": [
              "<pre>recommendations finished on 4000/35627 queries. users per second: 1620.92</pre>"
            ],
            "text/plain": [
              "recommendations finished on 4000/35627 queries. users per second: 1620.92"
            ]
          },
          "metadata": {
            "tags": []
          }
        },
        {
          "output_type": "display_data",
          "data": {
            "text/html": [
              "<pre>recommendations finished on 5000/35627 queries. users per second: 1625.1</pre>"
            ],
            "text/plain": [
              "recommendations finished on 5000/35627 queries. users per second: 1625.1"
            ]
          },
          "metadata": {
            "tags": []
          }
        },
        {
          "output_type": "display_data",
          "data": {
            "text/html": [
              "<pre>recommendations finished on 6000/35627 queries. users per second: 1625.81</pre>"
            ],
            "text/plain": [
              "recommendations finished on 6000/35627 queries. users per second: 1625.81"
            ]
          },
          "metadata": {
            "tags": []
          }
        },
        {
          "output_type": "display_data",
          "data": {
            "text/html": [
              "<pre>recommendations finished on 7000/35627 queries. users per second: 1628.11</pre>"
            ],
            "text/plain": [
              "recommendations finished on 7000/35627 queries. users per second: 1628.11"
            ]
          },
          "metadata": {
            "tags": []
          }
        },
        {
          "output_type": "display_data",
          "data": {
            "text/html": [
              "<pre>recommendations finished on 8000/35627 queries. users per second: 1630.89</pre>"
            ],
            "text/plain": [
              "recommendations finished on 8000/35627 queries. users per second: 1630.89"
            ]
          },
          "metadata": {
            "tags": []
          }
        },
        {
          "output_type": "display_data",
          "data": {
            "text/html": [
              "<pre>recommendations finished on 9000/35627 queries. users per second: 1629.39</pre>"
            ],
            "text/plain": [
              "recommendations finished on 9000/35627 queries. users per second: 1629.39"
            ]
          },
          "metadata": {
            "tags": []
          }
        },
        {
          "output_type": "display_data",
          "data": {
            "text/html": [
              "<pre>recommendations finished on 10000/35627 queries. users per second: 1618.59</pre>"
            ],
            "text/plain": [
              "recommendations finished on 10000/35627 queries. users per second: 1618.59"
            ]
          },
          "metadata": {
            "tags": []
          }
        },
        {
          "output_type": "display_data",
          "data": {
            "text/html": [
              "<pre>recommendations finished on 11000/35627 queries. users per second: 1617.84</pre>"
            ],
            "text/plain": [
              "recommendations finished on 11000/35627 queries. users per second: 1617.84"
            ]
          },
          "metadata": {
            "tags": []
          }
        },
        {
          "output_type": "display_data",
          "data": {
            "text/html": [
              "<pre>recommendations finished on 12000/35627 queries. users per second: 1617.86</pre>"
            ],
            "text/plain": [
              "recommendations finished on 12000/35627 queries. users per second: 1617.86"
            ]
          },
          "metadata": {
            "tags": []
          }
        },
        {
          "output_type": "display_data",
          "data": {
            "text/html": [
              "<pre>recommendations finished on 13000/35627 queries. users per second: 1619.31</pre>"
            ],
            "text/plain": [
              "recommendations finished on 13000/35627 queries. users per second: 1619.31"
            ]
          },
          "metadata": {
            "tags": []
          }
        },
        {
          "output_type": "display_data",
          "data": {
            "text/html": [
              "<pre>recommendations finished on 14000/35627 queries. users per second: 1617.58</pre>"
            ],
            "text/plain": [
              "recommendations finished on 14000/35627 queries. users per second: 1617.58"
            ]
          },
          "metadata": {
            "tags": []
          }
        },
        {
          "output_type": "display_data",
          "data": {
            "text/html": [
              "<pre>recommendations finished on 15000/35627 queries. users per second: 1616.94</pre>"
            ],
            "text/plain": [
              "recommendations finished on 15000/35627 queries. users per second: 1616.94"
            ]
          },
          "metadata": {
            "tags": []
          }
        },
        {
          "output_type": "display_data",
          "data": {
            "text/html": [
              "<pre>recommendations finished on 16000/35627 queries. users per second: 1615.52</pre>"
            ],
            "text/plain": [
              "recommendations finished on 16000/35627 queries. users per second: 1615.52"
            ]
          },
          "metadata": {
            "tags": []
          }
        },
        {
          "output_type": "display_data",
          "data": {
            "text/html": [
              "<pre>recommendations finished on 17000/35627 queries. users per second: 1614.09</pre>"
            ],
            "text/plain": [
              "recommendations finished on 17000/35627 queries. users per second: 1614.09"
            ]
          },
          "metadata": {
            "tags": []
          }
        },
        {
          "output_type": "display_data",
          "data": {
            "text/html": [
              "<pre>recommendations finished on 18000/35627 queries. users per second: 1614.68</pre>"
            ],
            "text/plain": [
              "recommendations finished on 18000/35627 queries. users per second: 1614.68"
            ]
          },
          "metadata": {
            "tags": []
          }
        },
        {
          "output_type": "display_data",
          "data": {
            "text/html": [
              "<pre>recommendations finished on 19000/35627 queries. users per second: 1613.1</pre>"
            ],
            "text/plain": [
              "recommendations finished on 19000/35627 queries. users per second: 1613.1"
            ]
          },
          "metadata": {
            "tags": []
          }
        },
        {
          "output_type": "display_data",
          "data": {
            "text/html": [
              "<pre>recommendations finished on 20000/35627 queries. users per second: 1611.63</pre>"
            ],
            "text/plain": [
              "recommendations finished on 20000/35627 queries. users per second: 1611.63"
            ]
          },
          "metadata": {
            "tags": []
          }
        },
        {
          "output_type": "display_data",
          "data": {
            "text/html": [
              "<pre>recommendations finished on 21000/35627 queries. users per second: 1611.08</pre>"
            ],
            "text/plain": [
              "recommendations finished on 21000/35627 queries. users per second: 1611.08"
            ]
          },
          "metadata": {
            "tags": []
          }
        },
        {
          "output_type": "display_data",
          "data": {
            "text/html": [
              "<pre>recommendations finished on 22000/35627 queries. users per second: 1609.77</pre>"
            ],
            "text/plain": [
              "recommendations finished on 22000/35627 queries. users per second: 1609.77"
            ]
          },
          "metadata": {
            "tags": []
          }
        },
        {
          "output_type": "display_data",
          "data": {
            "text/html": [
              "<pre>recommendations finished on 23000/35627 queries. users per second: 1604.82</pre>"
            ],
            "text/plain": [
              "recommendations finished on 23000/35627 queries. users per second: 1604.82"
            ]
          },
          "metadata": {
            "tags": []
          }
        },
        {
          "output_type": "display_data",
          "data": {
            "text/html": [
              "<pre>recommendations finished on 24000/35627 queries. users per second: 1586</pre>"
            ],
            "text/plain": [
              "recommendations finished on 24000/35627 queries. users per second: 1586"
            ]
          },
          "metadata": {
            "tags": []
          }
        },
        {
          "output_type": "display_data",
          "data": {
            "text/html": [
              "<pre>recommendations finished on 25000/35627 queries. users per second: 1521.61</pre>"
            ],
            "text/plain": [
              "recommendations finished on 25000/35627 queries. users per second: 1521.61"
            ]
          },
          "metadata": {
            "tags": []
          }
        },
        {
          "output_type": "display_data",
          "data": {
            "text/html": [
              "<pre>recommendations finished on 26000/35627 queries. users per second: 1436.9</pre>"
            ],
            "text/plain": [
              "recommendations finished on 26000/35627 queries. users per second: 1436.9"
            ]
          },
          "metadata": {
            "tags": []
          }
        },
        {
          "output_type": "display_data",
          "data": {
            "text/html": [
              "<pre>recommendations finished on 27000/35627 queries. users per second: 1396.81</pre>"
            ],
            "text/plain": [
              "recommendations finished on 27000/35627 queries. users per second: 1396.81"
            ]
          },
          "metadata": {
            "tags": []
          }
        },
        {
          "output_type": "display_data",
          "data": {
            "text/html": [
              "<pre>recommendations finished on 28000/35627 queries. users per second: 1346.53</pre>"
            ],
            "text/plain": [
              "recommendations finished on 28000/35627 queries. users per second: 1346.53"
            ]
          },
          "metadata": {
            "tags": []
          }
        },
        {
          "output_type": "display_data",
          "data": {
            "text/html": [
              "<pre>recommendations finished on 29000/35627 queries. users per second: 1296.73</pre>"
            ],
            "text/plain": [
              "recommendations finished on 29000/35627 queries. users per second: 1296.73"
            ]
          },
          "metadata": {
            "tags": []
          }
        },
        {
          "output_type": "display_data",
          "data": {
            "text/html": [
              "<pre>recommendations finished on 30000/35627 queries. users per second: 1258.01</pre>"
            ],
            "text/plain": [
              "recommendations finished on 30000/35627 queries. users per second: 1258.01"
            ]
          },
          "metadata": {
            "tags": []
          }
        },
        {
          "output_type": "display_data",
          "data": {
            "text/html": [
              "<pre>recommendations finished on 31000/35627 queries. users per second: 1242.66</pre>"
            ],
            "text/plain": [
              "recommendations finished on 31000/35627 queries. users per second: 1242.66"
            ]
          },
          "metadata": {
            "tags": []
          }
        },
        {
          "output_type": "display_data",
          "data": {
            "text/html": [
              "<pre>recommendations finished on 32000/35627 queries. users per second: 1228.29</pre>"
            ],
            "text/plain": [
              "recommendations finished on 32000/35627 queries. users per second: 1228.29"
            ]
          },
          "metadata": {
            "tags": []
          }
        },
        {
          "output_type": "display_data",
          "data": {
            "text/html": [
              "<pre>recommendations finished on 33000/35627 queries. users per second: 1211.49</pre>"
            ],
            "text/plain": [
              "recommendations finished on 33000/35627 queries. users per second: 1211.49"
            ]
          },
          "metadata": {
            "tags": []
          }
        },
        {
          "output_type": "display_data",
          "data": {
            "text/html": [
              "<pre>recommendations finished on 34000/35627 queries. users per second: 1201.04</pre>"
            ],
            "text/plain": [
              "recommendations finished on 34000/35627 queries. users per second: 1201.04"
            ]
          },
          "metadata": {
            "tags": []
          }
        },
        {
          "output_type": "display_data",
          "data": {
            "text/html": [
              "<pre>recommendations finished on 35000/35627 queries. users per second: 1209.02</pre>"
            ],
            "text/plain": [
              "recommendations finished on 35000/35627 queries. users per second: 1209.02"
            ]
          },
          "metadata": {
            "tags": []
          }
        },
        {
          "output_type": "stream",
          "text": [
            "An output file can be found in 'output' folder with name 'option1_recommendation.csv'\n",
            "(25, 1)\n"
          ],
          "name": "stdout"
        },
        {
          "output_type": "execute_result",
          "data": {
            "text/html": [
              "<div>\n",
              "<style scoped>\n",
              "    .dataframe tbody tr th:only-of-type {\n",
              "        vertical-align: middle;\n",
              "    }\n",
              "\n",
              "    .dataframe tbody tr th {\n",
              "        vertical-align: top;\n",
              "    }\n",
              "\n",
              "    .dataframe thead th {\n",
              "        text-align: right;\n",
              "    }\n",
              "</style>\n",
              "<table border=\"1\" class=\"dataframe\">\n",
              "  <thead>\n",
              "    <tr style=\"text-align: right;\">\n",
              "      <th></th>\n",
              "      <th>recommendedProducts</th>\n",
              "    </tr>\n",
              "    <tr>\n",
              "      <th>user_id</th>\n",
              "      <th></th>\n",
              "    </tr>\n",
              "  </thead>\n",
              "  <tbody>\n",
              "    <tr>\n",
              "      <th>123</th>\n",
              "      <td>1000|257|1405|134|506|52|1063|1066|648|449|100...</td>\n",
              "    </tr>\n",
              "    <tr>\n",
              "      <th>124</th>\n",
              "      <td>1401|608|180|1263|1314|615|303|1285|765|938|14...</td>\n",
              "    </tr>\n",
              "    <tr>\n",
              "      <th>135</th>\n",
              "      <td>1343|1062|406|303|467|506|1066|316|139|347|134...</td>\n",
              "    </tr>\n",
              "    <tr>\n",
              "      <th>355</th>\n",
              "      <td>1000|820|643|1263|1314|134|913|1246|1123|938|1...</td>\n",
              "    </tr>\n",
              "    <tr>\n",
              "      <th>428</th>\n",
              "      <td>1343|1000|870|1285|374|1225|1419|139|1120|81|1...</td>\n",
              "    </tr>\n",
              "  </tbody>\n",
              "</table>\n",
              "</div>"
            ],
            "text/plain": [
              "                                       recommendedProducts\n",
              "user_id                                                   \n",
              "123      1000|257|1405|134|506|52|1063|1066|648|449|100...\n",
              "124      1401|608|180|1263|1314|615|303|1285|765|938|14...\n",
              "135      1343|1062|406|303|467|506|1066|316|139|347|134...\n",
              "355      1000|820|643|1263|1314|134|913|1246|1123|938|1...\n",
              "428      1343|1000|870|1285|374|1225|1419|139|1120|81|1..."
            ]
          },
          "metadata": {
            "tags": []
          },
          "execution_count": 43
        }
      ]
    },
    {
      "cell_type": "code",
      "metadata": {
        "id": "kunjWSxxpUwZ"
      },
      "source": [
        "def customer_recomendation(customer_id):\n",
        "    if customer_id not in df_output.index:\n",
        "        print('Customer not found.')\n",
        "        return customer_id\n",
        "    return df_output.loc[customer_id]"
      ],
      "execution_count": null,
      "outputs": []
    }
  ]
}